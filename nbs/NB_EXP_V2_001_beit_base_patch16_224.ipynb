{
 "cells": [
  {
   "cell_type": "code",
   "execution_count": 49,
   "id": "ff212eb8",
   "metadata": {},
   "outputs": [],
   "source": [
    "from fastai.vision.all import *\n",
    "from sklearn.model_selection import StratifiedKFold\n",
    "\n",
    "from ipyexperiments.ipyexperiments import IPyExperimentsPytorch\n",
    "import timm,wandb,albumentations as A\n",
    "from albumentations.pytorch import ToTensorV2\n",
    "\n",
    "import cv2,torchvision\n",
    "from timm.loss import SoftTargetCrossEntropy\n",
    "from timm.data.mixup import Mixup\n",
    "from timm.scheduler import CosineLRScheduler\n",
    "from timm.optim.optim_factory import create_optimizer_v2\n",
    "from timm.models import safe_model_name, set_fast_norm\n",
    "from timm.models.layers import create_classifier, SelectAdaptivePool2d\n",
    "from tqdm.auto import tqdm\n",
    "\n",
    "import pytorch_pfn_extras as ppe\n",
    "import pytorch_pfn_extras.training.extensions as extensions"
   ]
  },
  {
   "cell_type": "code",
   "execution_count": 2,
   "id": "ccb21fcc",
   "metadata": {},
   "outputs": [],
   "source": [
    "set_seed(42); set_fast_norm()\n",
    "warnings.filterwarnings('ignore')"
   ]
  },
  {
   "cell_type": "markdown",
   "id": "b5b6aa53",
   "metadata": {},
   "source": [
    "## Config"
   ]
  },
  {
   "cell_type": "code",
   "execution_count": 3,
   "id": "a267b1a9",
   "metadata": {},
   "outputs": [],
   "source": [
    "DATA_PATH = Path('/data/')\n",
    "CSV_PATH = DATA_PATH/'train.csv'\n",
    "IMAGE_FOLDER = DATA_PATH/'train'\n",
    "\n",
    "LABELS = sorted(['broken', 'pure', 'discolored', 'silkcut'])\n",
    "labels_class_map = {v:k for k,v in enumerate(LABELS)}\n",
    "labels_class_map_rev = {v:k for k,v in labels_class_map.items()}\n",
    "\n",
    "VIEWS = sorted(['top', 'bottom'])\n",
    "views_class_map = {v:k for k,v in enumerate(VIEWS)}\n",
    "views_class_map_rev = {v:k for k,v in views_class_map.items()}\n",
    "\n",
    "MODEL = \"beit_base_patch16_224\"\n",
    "BS = 32\n",
    "SZ = 224\n",
    "EP = 16\n",
    "LR = 2e-5\n",
    "WD = 1e-8\n",
    "\n",
    "MODEL_FOLDER = Path(\"/runs/NB_EXP_V2_001/\")\n",
    "KERNEL_TYPE = f\"{MODEL}_{SZ}_bs{BS}_ep{EP}_lr{str(LR).replace('-','')}_wd{str(WD).replace('-','')}_mixup\""
   ]
  },
  {
   "cell_type": "code",
   "execution_count": 4,
   "id": "2a6e50fb",
   "metadata": {},
   "outputs": [
    {
     "data": {
      "text/html": [
       "<div>\n",
       "<style scoped>\n",
       "    .dataframe tbody tr th:only-of-type {\n",
       "        vertical-align: middle;\n",
       "    }\n",
       "\n",
       "    .dataframe tbody tr th {\n",
       "        vertical-align: top;\n",
       "    }\n",
       "\n",
       "    .dataframe thead th {\n",
       "        text-align: right;\n",
       "    }\n",
       "</style>\n",
       "<table border=\"1\" class=\"dataframe\">\n",
       "  <thead>\n",
       "    <tr style=\"text-align: right;\">\n",
       "      <th></th>\n",
       "      <th>seed_id</th>\n",
       "      <th>view</th>\n",
       "      <th>image</th>\n",
       "      <th>label</th>\n",
       "      <th>fold</th>\n",
       "    </tr>\n",
       "  </thead>\n",
       "  <tbody>\n",
       "    <tr>\n",
       "      <th>0</th>\n",
       "      <td>0</td>\n",
       "      <td>top</td>\n",
       "      <td>train/00000.png</td>\n",
       "      <td>broken</td>\n",
       "      <td>0</td>\n",
       "    </tr>\n",
       "    <tr>\n",
       "      <th>1</th>\n",
       "      <td>1</td>\n",
       "      <td>bottom</td>\n",
       "      <td>train/00001.png</td>\n",
       "      <td>pure</td>\n",
       "      <td>3</td>\n",
       "    </tr>\n",
       "    <tr>\n",
       "      <th>2</th>\n",
       "      <td>3</td>\n",
       "      <td>top</td>\n",
       "      <td>train/00003.png</td>\n",
       "      <td>broken</td>\n",
       "      <td>2</td>\n",
       "    </tr>\n",
       "    <tr>\n",
       "      <th>3</th>\n",
       "      <td>4</td>\n",
       "      <td>top</td>\n",
       "      <td>train/00004.png</td>\n",
       "      <td>pure</td>\n",
       "      <td>3</td>\n",
       "    </tr>\n",
       "    <tr>\n",
       "      <th>4</th>\n",
       "      <td>5</td>\n",
       "      <td>top</td>\n",
       "      <td>train/00005.png</td>\n",
       "      <td>discolored</td>\n",
       "      <td>4</td>\n",
       "    </tr>\n",
       "  </tbody>\n",
       "</table>\n",
       "</div>"
      ],
      "text/plain": [
       "   seed_id    view            image       label  fold\n",
       "0        0     top  train/00000.png      broken     0\n",
       "1        1  bottom  train/00001.png        pure     3\n",
       "2        3     top  train/00003.png      broken     2\n",
       "3        4     top  train/00004.png        pure     3\n",
       "4        5     top  train/00005.png  discolored     4"
      ]
     },
     "execution_count": 4,
     "metadata": {},
     "output_type": "execute_result"
    }
   ],
   "source": [
    "all_df = pd.read_csv(CSV_PATH)\n",
    "all_df.head()\n",
    "\n",
    "folds = all_df.copy()\n",
    "fold_splits = []\n",
    "\n",
    "Fold = StratifiedKFold(n_splits=5, shuffle=True, random_state=42)\n",
    "for n, (train_index, val_index) in enumerate(Fold.split(folds, folds[\"label\"])):\n",
    "    fold_splits.append(val_index)\n",
    "    folds.loc[val_index, 'fold'] = int(n)\n",
    "folds['fold'] = folds['fold'].astype(int)\n",
    "folds.to_csv('/data/train_folds.csv', index=False)\n",
    "folds.head()"
   ]
  },
  {
   "cell_type": "markdown",
   "id": "95464459",
   "metadata": {},
   "source": [
    "## Define Dataset"
   ]
  },
  {
   "cell_type": "code",
   "execution_count": 5,
   "id": "fbd30383",
   "metadata": {},
   "outputs": [],
   "source": [
    "class LoadImagesAndLabels(torch.utils.data.Dataset):\n",
    "    \n",
    "    def __init__(self, df, transforms, mode='train'):\n",
    "        self.df = df\n",
    "        self.transforms = transforms\n",
    "        self.mode = mode\n",
    "        \n",
    "    def __len__(self): return len(self.df)\n",
    "    \n",
    "    def __getitem__(self,index):\n",
    "        row = self.df.iloc[index]\n",
    "        img_path = str(DATA_PATH/row.image)\n",
    "        \n",
    "        img = Image.open(img_path).convert(\"RGB\")\n",
    "        img = np.array(img)\n",
    "        \n",
    "        if self.transforms is not None:\n",
    "            img = self.transforms(image=img)['image']\n",
    "        \n",
    "        if self.mode == 'test':\n",
    "            return img\n",
    "            \n",
    "        label = torch.tensor(labels_class_map[row.label]).long()\n",
    "        return img, label"
   ]
  },
  {
   "cell_type": "markdown",
   "id": "41a72a0c",
   "metadata": {},
   "source": [
    "## Augmentations"
   ]
  },
  {
   "cell_type": "code",
   "execution_count": 45,
   "id": "8ba259e1",
   "metadata": {},
   "outputs": [],
   "source": [
    "TRAIN_AUG = A.Compose([\n",
    "    A.RandomResizedCrop(SZ, SZ, scale=(0.72, 1.0), p=1.0),\n",
    "    A.Transpose(p=0.5),\n",
    "    A.HorizontalFlip(p=0.5),\n",
    "    A.VerticalFlip(p=0.5),\n",
    "    A.ShiftScaleRotate(rotate_limit=360, border_mode=0, p=0.75),\n",
    "    A.RandomBrightnessContrast(brightness_limit=0.1, contrast_limit=0.1),\n",
    "    A.Blur(p=0.5),\n",
    "    A.CoarseDropout(max_height=int(32*(SZ/512)), max_width=int(32*(SZ/512)), p=0.75),\n",
    "    A.Normalize(),\n",
    "    ToTensorV2(),\n",
    "])\n",
    "\n",
    "VALID_AUG = A.Compose([\n",
    "    A.SmallestMaxSize(max_size=SZ + 16, p=1.0),\n",
    "    A.CenterCrop(height=SZ, width=SZ, p=1.0),\n",
    "    A.Normalize(),\n",
    "    ToTensorV2(),\n",
    "])"
   ]
  },
  {
   "cell_type": "markdown",
   "id": "ae66aa36",
   "metadata": {},
   "source": [
    "## Visualization"
   ]
  },
  {
   "cell_type": "code",
   "execution_count": 7,
   "id": "4fdb5639",
   "metadata": {},
   "outputs": [
    {
     "data": {
      "image/png": "[encoded data removed]",
      "text/plain": [
       "<Figure size 720x576 with 1 Axes>"
      ]
     },
     "metadata": {
      "needs_background": "light"
     },
     "output_type": "display_data"
    }
   ],
   "source": [
    "dataset_show = LoadImagesAndLabels(folds, TRAIN_AUG, mode='train')\n",
    "loader_show = torch.utils.data.DataLoader(dataset_show, batch_size=4)\n",
    "img,target = next(iter(loader_show))\n",
    "\n",
    "grid = torchvision.utils.make_grid(img, normalize=True, padding=2)\n",
    "grid = grid.permute(1, 2, 0)\n",
    "show_image(grid, figsize=(10,8), title=[labels_class_map_rev[x] for x in target.numpy()]);"
   ]
  },
  {
   "cell_type": "markdown",
   "id": "819a2c95",
   "metadata": {},
   "source": [
    "## Model"
   ]
  },
  {
   "cell_type": "code",
   "execution_count": 8,
   "id": "87440b26",
   "metadata": {},
   "outputs": [],
   "source": [
    "def get_corn_model(model_name, pretrained=True, **kwargs):\n",
    "    model = timm.create_model(model_name, pretrained=pretrained, **kwargs)\n",
    "    model.reset_classifier(num_classes=len(LABELS))\n",
    "    return model"
   ]
  },
  {
   "cell_type": "markdown",
   "id": "35107c95",
   "metadata": {},
   "source": [
    "## LRScheduler"
   ]
  },
  {
   "cell_type": "code",
   "execution_count": 9,
   "id": "06fc04f4",
   "metadata": {},
   "outputs": [],
   "source": [
    "#!pip -q install git+https://github.com/ildoonet/pytorch-gradual-warmup-lr.git\n",
    "#from warmup_scheduler import GradualWarmupScheduler"
   ]
  },
  {
   "cell_type": "code",
   "execution_count": 10,
   "id": "140844f0",
   "metadata": {},
   "outputs": [],
   "source": [
    "# class GradualWarmupSchedulerV2(GradualWarmupScheduler):\n",
    "#     def __init__(self, optimizer, multiplier, total_epoch, after_scheduler=None):\n",
    "#         super(GradualWarmupSchedulerV2, self).__init__(optimizer, multiplier, total_epoch, after_scheduler)\n",
    "#     def get_lr(self):\n",
    "#         if self.last_epoch > self.total_epoch:\n",
    "#             if self.after_scheduler:\n",
    "#                 if not self.finished:\n",
    "#                     self.after_scheduler.base_lrs = [base_lr * self.multiplier for base_lr in self.base_lrs]\n",
    "#                     self.finished = True\n",
    "#                 return self.after_scheduler.get_lr()\n",
    "#             return [base_lr * self.multiplier for base_lr in self.base_lrs]\n",
    "#         if self.multiplier == 1.0:\n",
    "#             return [base_lr * (float(self.last_epoch) / self.total_epoch) for base_lr in self.base_lrs]\n",
    "#         else:\n",
    "#             return [base_lr * ((self.multiplier - 1.) * self.last_epoch / self.total_epoch + 1.) for base_lr in self.base_lrs]"
   ]
  },
  {
   "cell_type": "code",
   "execution_count": null,
   "id": "d2f98f56",
   "metadata": {},
   "outputs": [],
   "source": []
  },
  {
   "cell_type": "markdown",
   "id": "32378847",
   "metadata": {},
   "source": [
    "## Train & Validation Function"
   ]
  },
  {
   "cell_type": "code",
   "execution_count": 11,
   "id": "2c443649",
   "metadata": {},
   "outputs": [],
   "source": [
    "def training_loop(\n",
    "    manager:ppe.training.ExtensionsManager, model:nn.Module, loader:Iterable,\n",
    "    loss_fn: Callable, optimizer: torch.optim.Optimizer, \n",
    "    lr_scheduler:torch.optim.lr_scheduler._LRScheduler=None, mixup_fn:Callable=None, \n",
    "    grad_scaler: torch.cuda.amp.GradScaler=None):\n",
    "    \n",
    "    while not manager.stop_trigger:\n",
    "        model.train()\n",
    "        \n",
    "        for _, (input, target) in enumerate(loader):\n",
    "            with manager.run_iteration():\n",
    "                input, target = input.cuda(), target.cuda()\n",
    "                input, target = mixup_fn(input, target)\n",
    "                \n",
    "                optimizer.zero_grad()\n",
    "                with torch.cuda.amp.autocast(enabled=True):\n",
    "                    output = model(input)\n",
    "                    loss = loss_fn(output, target)\n",
    "                \n",
    "                grad_scaler.scale(loss).backward() \n",
    "                grad_scaler.step(optimizer)\n",
    "                grad_scaler.update()\n",
    "                \n",
    "                if lr_scheduler is not None:\n",
    "                    lr_scheduler.step()\n",
    "                \n",
    "                ppe.reporting.report({'train/loss': loss.item()})\n",
    "                \n",
    "                \n",
    "def validate(model:nn.Module, input:Tensor, target:Tensor, loss_fn:Callable):\n",
    "    \"\"\" \n",
    "    The extension loops over the iterator in order to drive the evaluator \n",
    "    progress bar and reporting averages\n",
    "    \"\"\"\n",
    "    model.eval()\n",
    "    input, target = input.cuda(), target.cuda()\n",
    "    output = model(input)\n",
    "    # Final result will be average of averages of the same size\n",
    "    test_loss = loss_fn(output, target).item()\n",
    "    ppe.reporting.report({'val/loss': test_loss})\n",
    "    pred = output.argmax(dim=1, keepdim=True)\n",
    "\n",
    "    correct = pred.eq(target.view_as(pred)).sum().item()\n",
    "    ppe.reporting.report({'val/acc': correct / len(input)})"
   ]
  },
  {
   "cell_type": "markdown",
   "id": "b366a834",
   "metadata": {},
   "source": [
    "## Run!"
   ]
  },
  {
   "cell_type": "code",
   "execution_count": 12,
   "id": "a385d96c",
   "metadata": {},
   "outputs": [],
   "source": [
    "def run(fold):\n",
    "    with IPyExperimentsPytorch(exp_enable=False, cl_set_seed=42, cl_compact=True):\n",
    "        print()\n",
    "        print('*' * 100)\n",
    "        print(f'Training fold {fold}')\n",
    "        print('*' * 100)\n",
    "        \n",
    "        torch.backends.cudnn.benchmark = True\n",
    "        \n",
    "        print(\"Transform = \")\n",
    "        for trans in (TRAIN_AUG, VALID_AUG):\n",
    "            print(\" - - - - - - - - - - \")\n",
    "            for t in trans.transforms:\n",
    "                print(t)\n",
    "        print(\"---------------------------\")\n",
    "        \n",
    "        dataset_train = LoadImagesAndLabels(folds.query('fold!=@fold'), transforms=TRAIN_AUG, mode=\"train\")\n",
    "        dataset_valid = LoadImagesAndLabels(folds.query('fold==@fold'), transforms=VALID_AUG, mode=\"valid\")\n",
    "\n",
    "        print(f\"TRAIN: {len(dataset_train)} | VALID: {len(dataset_valid)}\")\n",
    "        \n",
    "        loader_train = torch.utils.data.DataLoader(dataset_train, BS, num_workers=8, shuffle=True, drop_last=True)\n",
    "        loader_valid = torch.utils.data.DataLoader(dataset_valid, BS*2, num_workers=8, shuffle=False)\n",
    "\n",
    "        model = get_corn_model(MODEL, pretrained=True, drop_path_rate=0.1, attn_drop_rate=0.0)\n",
    "        model.cuda()\n",
    "\n",
    "        optimizer = create_optimizer_v2(model, \"adamw\", lr=LR, weight_decay=WD, layer_decay=0.85)\n",
    "        \n",
    "        num_train_steps = len(loader_train)*EP\n",
    "        lr_scheduler = torch.optim.lr_scheduler.CosineAnnealingLR(optimizer, num_train_steps)\n",
    "        \n",
    "        train_loss_fn = SoftTargetCrossEntropy()\n",
    "        valid_loss_fn = nn.CrossEntropyLoss()\n",
    "\n",
    "        grad_scaler = torch.cuda.amp.GradScaler()\n",
    "\n",
    "        mixup = Mixup(mixup_alpha=0.4, \n",
    "                      cutmix_alpha=0.0,\n",
    "                      prob=0.6, \n",
    "                      switch_prob=0.0, \n",
    "                      label_smoothing=0.0, \n",
    "                      num_classes=len(LABELS))\n",
    "\n",
    "        my_extensions = [\n",
    "            extensions.LRScheduler(lr_scheduler, trigger=(1, \"iteration\")),\n",
    "            extensions.Evaluator(loader_valid, model, eval_func=lambda input, target: validate(model, input, target, valid_loss_fn)),\n",
    "            extensions.observe_lr(optimizer=optimizer),\n",
    "            extensions.ProgressBar(update_interval=1),\n",
    "            extensions.LogReport(filename=f\"log_{KERNEL_TYPE}_CV_{fold}.json\", format=\"json\")\n",
    "        ]\n",
    "\n",
    "        manager = ppe.training.ExtensionsManager(\n",
    "            model, optimizer, max_epochs=EP, extensions=my_extensions,\n",
    "            iters_per_epoch=len(loader_train), out_dir=MODEL_FOLDER)\n",
    "\n",
    "        manager.extend(\n",
    "            extensions.snapshot(target=model, filename=KERNEL_TYPE + f\"_CV_{fold}.pth\"),\n",
    "            trigger=ppe.training.triggers.MaxValueTrigger(key=\"val/acc\", trigger=(1, 'epoch')))\n",
    "\n",
    "        manager.extend(\n",
    "            extensions.PrintReport(['epoch', 'iteration', 'lr', 'train/loss', 'val/loss', 'val/acc', 'elapsed_time']),\n",
    "            trigger=(1, 'epoch'))\n",
    "        \n",
    "        print(f\"Start training for {EP} epochs\")\n",
    "\n",
    "        training_loop(\n",
    "            manager, model, loader_train, loss_fn=train_loss_fn, \n",
    "            optimizer=optimizer, mixup_fn=mixup, grad_scaler=grad_scaler)"
   ]
  },
  {
   "cell_type": "code",
   "execution_count": 13,
   "id": "6edac56c",
   "metadata": {
    "scrolled": false
   },
   "outputs": [
    {
     "name": "stdout",
     "output_type": "stream",
     "text": [
      "\n",
      "*** Experiment started with the Pytorch backend\n",
      "Device: ID 0, NVIDIA GeForce RTX 3090 (24576 RAM)\n",
      "\n",
      "\n",
      "****************************************************************************************************\n",
      "Training fold 0\n",
      "****************************************************************************************************\n",
      "Transform = \n",
      " - - - - - - - - - - \n",
      "RandomResizedCrop(always_apply=False, p=1.0, height=224, width=224, scale=(0.72, 1.0), ratio=(0.75, 1.3333333333333333), interpolation=1)\n",
      "Transpose(always_apply=False, p=0.5)\n",
      "HorizontalFlip(always_apply=False, p=0.5)\n",
      "VerticalFlip(always_apply=False, p=0.5)\n",
      "ShiftScaleRotate(always_apply=False, p=0.75, shift_limit_x=(-0.0625, 0.0625), shift_limit_y=(-0.0625, 0.0625), scale_limit=(-0.09999999999999998, 0.10000000000000009), rotate_limit=(-360, 360), interpolation=1, border_mode=0, value=None, mask_value=None, rotate_method='largest_box')\n",
      "RandomBrightnessContrast(always_apply=False, p=0.5, brightness_limit=(-0.1, 0.1), contrast_limit=(-0.1, 0.1), brightness_by_max=True)\n",
      "Blur(always_apply=False, p=0.5, blur_limit=(3, 7))\n",
      "CoarseDropout(always_apply=False, p=0.75, max_holes=8, max_height=14, max_width=14, min_holes=8, min_height=14, min_width=14, fill_value=0, mask_fill_value=None)\n",
      "Normalize(always_apply=False, p=1.0, mean=(0.485, 0.456, 0.406), std=(0.229, 0.224, 0.225), max_pixel_value=255.0)\n",
      "ToTensorV2(always_apply=True, p=1.0, transpose_mask=False)\n",
      " - - - - - - - - - - \n",
      "SmallestMaxSize(always_apply=False, p=1.0, max_size=240, interpolation=1)\n",
      "CenterCrop(always_apply=False, p=1.0, height=224, width=224)\n",
      "Normalize(always_apply=False, p=1.0, mean=(0.485, 0.456, 0.406), std=(0.229, 0.224, 0.225), max_pixel_value=255.0)\n",
      "ToTensorV2(always_apply=True, p=1.0, transpose_mask=False)\n",
      "---------------------------\n",
      "TRAIN: 11457 | VALID: 2865\n",
      "Start training for 16 epochs\n"
     ]
    },
    {
     "data": {
      "application/vnd.jupyter.widget-view+json": {
       "model_id": "124b108a5e3243c581c92a55c9c92984",
       "version_major": 2,
       "version_minor": 0
      },
      "text/plain": [
       "VBox(children=(HBox(children=(FloatProgress(value=0.0, bar_style='info', description='total', max=1.0), HTML(v…"
      ]
     },
     "metadata": {},
     "output_type": "display_data"
    },
    {
     "data": {
      "application/vnd.jupyter.widget-view+json": {
       "model_id": "8edd69f75eb24baeb61f28c28bafc837",
       "version_major": 2,
       "version_minor": 0
      },
      "text/plain": [
       "HTML(value='')"
      ]
     },
     "metadata": {},
     "output_type": "display_data"
    },
    {
     "name": "stdout",
     "output_type": "stream",
     "text": [
      "CPU: 1913/197/3436 MB | GPU: 2472/3894/3558 MB | Time 0:14:27.101 | (Consumed/Peaked/Used Total)\n",
      "\n",
      "*** Experiment started with the Pytorch backend\n",
      "Device: ID 0, NVIDIA GeForce RTX 3090 (24576 RAM)\n",
      "\n",
      "\n",
      "****************************************************************************************************\n",
      "Training fold 1\n",
      "****************************************************************************************************\n",
      "Transform = \n",
      " - - - - - - - - - - \n",
      "RandomResizedCrop(always_apply=False, p=1.0, height=224, width=224, scale=(0.72, 1.0), ratio=(0.75, 1.3333333333333333), interpolation=1)\n",
      "Transpose(always_apply=False, p=0.5)\n",
      "HorizontalFlip(always_apply=False, p=0.5)\n",
      "VerticalFlip(always_apply=False, p=0.5)\n",
      "ShiftScaleRotate(always_apply=False, p=0.75, shift_limit_x=(-0.0625, 0.0625), shift_limit_y=(-0.0625, 0.0625), scale_limit=(-0.09999999999999998, 0.10000000000000009), rotate_limit=(-360, 360), interpolation=1, border_mode=0, value=None, mask_value=None, rotate_method='largest_box')\n",
      "RandomBrightnessContrast(always_apply=False, p=0.5, brightness_limit=(-0.1, 0.1), contrast_limit=(-0.1, 0.1), brightness_by_max=True)\n",
      "Blur(always_apply=False, p=0.5, blur_limit=(3, 7))\n",
      "CoarseDropout(always_apply=False, p=0.75, max_holes=8, max_height=14, max_width=14, min_holes=8, min_height=14, min_width=14, fill_value=0, mask_fill_value=None)\n",
      "Normalize(always_apply=False, p=1.0, mean=(0.485, 0.456, 0.406), std=(0.229, 0.224, 0.225), max_pixel_value=255.0)\n",
      "ToTensorV2(always_apply=True, p=1.0, transpose_mask=False)\n",
      " - - - - - - - - - - \n",
      "SmallestMaxSize(always_apply=False, p=1.0, max_size=240, interpolation=1)\n",
      "CenterCrop(always_apply=False, p=1.0, height=224, width=224)\n",
      "Normalize(always_apply=False, p=1.0, mean=(0.485, 0.456, 0.406), std=(0.229, 0.224, 0.225), max_pixel_value=255.0)\n",
      "ToTensorV2(always_apply=True, p=1.0, transpose_mask=False)\n",
      "---------------------------\n",
      "TRAIN: 11457 | VALID: 2865\n",
      "Start training for 16 epochs\n"
     ]
    },
    {
     "data": {
      "application/vnd.jupyter.widget-view+json": {
       "model_id": "d8f0b12e4c2e4d6880b8c3b904bb6789",
       "version_major": 2,
       "version_minor": 0
      },
      "text/plain": [
       "VBox(children=(HBox(children=(FloatProgress(value=0.0, bar_style='info', description='total', max=1.0), HTML(v…"
      ]
     },
     "metadata": {},
     "output_type": "display_data"
    },
    {
     "data": {
      "application/vnd.jupyter.widget-view+json": {
       "model_id": "e3acec41d7dc412e9f88e8644de8034e",
       "version_major": 2,
       "version_minor": 0
      },
      "text/plain": [
       "HTML(value='')"
      ]
     },
     "metadata": {},
     "output_type": "display_data"
    },
    {
     "name": "stdout",
     "output_type": "stream",
     "text": [
      "CPU: 328/161/3764 MB | GPU: 1794/4099/3560 MB | Time 0:14:28.647 | (Consumed/Peaked/Used Total)\n",
      "\n",
      "*** Experiment started with the Pytorch backend\n",
      "Device: ID 0, NVIDIA GeForce RTX 3090 (24576 RAM)\n",
      "\n",
      "\n",
      "****************************************************************************************************\n",
      "Training fold 2\n",
      "****************************************************************************************************\n",
      "Transform = \n",
      " - - - - - - - - - - \n",
      "RandomResizedCrop(always_apply=False, p=1.0, height=224, width=224, scale=(0.72, 1.0), ratio=(0.75, 1.3333333333333333), interpolation=1)\n",
      "Transpose(always_apply=False, p=0.5)\n",
      "HorizontalFlip(always_apply=False, p=0.5)\n",
      "VerticalFlip(always_apply=False, p=0.5)\n",
      "ShiftScaleRotate(always_apply=False, p=0.75, shift_limit_x=(-0.0625, 0.0625), shift_limit_y=(-0.0625, 0.0625), scale_limit=(-0.09999999999999998, 0.10000000000000009), rotate_limit=(-360, 360), interpolation=1, border_mode=0, value=None, mask_value=None, rotate_method='largest_box')\n",
      "RandomBrightnessContrast(always_apply=False, p=0.5, brightness_limit=(-0.1, 0.1), contrast_limit=(-0.1, 0.1), brightness_by_max=True)\n",
      "Blur(always_apply=False, p=0.5, blur_limit=(3, 7))\n",
      "CoarseDropout(always_apply=False, p=0.75, max_holes=8, max_height=14, max_width=14, min_holes=8, min_height=14, min_width=14, fill_value=0, mask_fill_value=None)\n",
      "Normalize(always_apply=False, p=1.0, mean=(0.485, 0.456, 0.406), std=(0.229, 0.224, 0.225), max_pixel_value=255.0)\n",
      "ToTensorV2(always_apply=True, p=1.0, transpose_mask=False)\n",
      " - - - - - - - - - - \n",
      "SmallestMaxSize(always_apply=False, p=1.0, max_size=240, interpolation=1)\n",
      "CenterCrop(always_apply=False, p=1.0, height=224, width=224)\n",
      "Normalize(always_apply=False, p=1.0, mean=(0.485, 0.456, 0.406), std=(0.229, 0.224, 0.225), max_pixel_value=255.0)\n",
      "ToTensorV2(always_apply=True, p=1.0, transpose_mask=False)\n",
      "---------------------------\n",
      "TRAIN: 11458 | VALID: 2864\n",
      "Start training for 16 epochs\n"
     ]
    },
    {
     "data": {
      "application/vnd.jupyter.widget-view+json": {
       "model_id": "133a5ec4d0f54ad5981d74af107786fe",
       "version_major": 2,
       "version_minor": 0
      },
      "text/plain": [
       "VBox(children=(HBox(children=(FloatProgress(value=0.0, bar_style='info', description='total', max=1.0), HTML(v…"
      ]
     },
     "metadata": {},
     "output_type": "display_data"
    },
    {
     "data": {
      "application/vnd.jupyter.widget-view+json": {
       "model_id": "3b8de7eb27d04cc0a73b201dfe8d393b",
       "version_major": 2,
       "version_minor": 0
      },
      "text/plain": [
       "HTML(value='')"
      ]
     },
     "metadata": {},
     "output_type": "display_data"
    },
    {
     "name": "stdout",
     "output_type": "stream",
     "text": [
      "CPU: 0/161/3765 MB | GPU: 1792/4096/3560 MB | Time 0:14:29.952 | (Consumed/Peaked/Used Total)\n",
      "\n",
      "*** Experiment started with the Pytorch backend\n",
      "Device: ID 0, NVIDIA GeForce RTX 3090 (24576 RAM)\n",
      "\n",
      "\n",
      "****************************************************************************************************\n",
      "Training fold 3\n",
      "****************************************************************************************************\n",
      "Transform = \n",
      " - - - - - - - - - - \n",
      "RandomResizedCrop(always_apply=False, p=1.0, height=224, width=224, scale=(0.72, 1.0), ratio=(0.75, 1.3333333333333333), interpolation=1)\n",
      "Transpose(always_apply=False, p=0.5)\n",
      "HorizontalFlip(always_apply=False, p=0.5)\n",
      "VerticalFlip(always_apply=False, p=0.5)\n",
      "ShiftScaleRotate(always_apply=False, p=0.75, shift_limit_x=(-0.0625, 0.0625), shift_limit_y=(-0.0625, 0.0625), scale_limit=(-0.09999999999999998, 0.10000000000000009), rotate_limit=(-360, 360), interpolation=1, border_mode=0, value=None, mask_value=None, rotate_method='largest_box')\n",
      "RandomBrightnessContrast(always_apply=False, p=0.5, brightness_limit=(-0.1, 0.1), contrast_limit=(-0.1, 0.1), brightness_by_max=True)\n",
      "Blur(always_apply=False, p=0.5, blur_limit=(3, 7))\n",
      "CoarseDropout(always_apply=False, p=0.75, max_holes=8, max_height=14, max_width=14, min_holes=8, min_height=14, min_width=14, fill_value=0, mask_fill_value=None)\n",
      "Normalize(always_apply=False, p=1.0, mean=(0.485, 0.456, 0.406), std=(0.229, 0.224, 0.225), max_pixel_value=255.0)\n",
      "ToTensorV2(always_apply=True, p=1.0, transpose_mask=False)\n",
      " - - - - - - - - - - \n",
      "SmallestMaxSize(always_apply=False, p=1.0, max_size=240, interpolation=1)\n",
      "CenterCrop(always_apply=False, p=1.0, height=224, width=224)\n",
      "Normalize(always_apply=False, p=1.0, mean=(0.485, 0.456, 0.406), std=(0.229, 0.224, 0.225), max_pixel_value=255.0)\n",
      "ToTensorV2(always_apply=True, p=1.0, transpose_mask=False)\n",
      "---------------------------\n",
      "TRAIN: 11458 | VALID: 2864\n",
      "Start training for 16 epochs\n"
     ]
    },
    {
     "data": {
      "application/vnd.jupyter.widget-view+json": {
       "model_id": "f00f7179cc3d46f283d14d3b988c116e",
       "version_major": 2,
       "version_minor": 0
      },
      "text/plain": [
       "VBox(children=(HBox(children=(FloatProgress(value=0.0, bar_style='info', description='total', max=1.0), HTML(v…"
      ]
     },
     "metadata": {},
     "output_type": "display_data"
    },
    {
     "data": {
      "application/vnd.jupyter.widget-view+json": {
       "model_id": "52d85797555048b09baf2c6e3918e118",
       "version_major": 2,
       "version_minor": 0
      },
      "text/plain": [
       "HTML(value='')"
      ]
     },
     "metadata": {},
     "output_type": "display_data"
    },
    {
     "name": "stdout",
     "output_type": "stream",
     "text": [
      "CPU: 3/158/3768 MB | GPU: 1792/4096/3560 MB | Time 0:14:29.539 | (Consumed/Peaked/Used Total)\n",
      "\n",
      "*** Experiment started with the Pytorch backend\n",
      "Device: ID 0, NVIDIA GeForce RTX 3090 (24576 RAM)\n",
      "\n",
      "\n",
      "****************************************************************************************************\n",
      "Training fold 4\n",
      "****************************************************************************************************\n",
      "Transform = \n",
      " - - - - - - - - - - \n",
      "RandomResizedCrop(always_apply=False, p=1.0, height=224, width=224, scale=(0.72, 1.0), ratio=(0.75, 1.3333333333333333), interpolation=1)\n",
      "Transpose(always_apply=False, p=0.5)\n",
      "HorizontalFlip(always_apply=False, p=0.5)\n",
      "VerticalFlip(always_apply=False, p=0.5)\n",
      "ShiftScaleRotate(always_apply=False, p=0.75, shift_limit_x=(-0.0625, 0.0625), shift_limit_y=(-0.0625, 0.0625), scale_limit=(-0.09999999999999998, 0.10000000000000009), rotate_limit=(-360, 360), interpolation=1, border_mode=0, value=None, mask_value=None, rotate_method='largest_box')\n",
      "RandomBrightnessContrast(always_apply=False, p=0.5, brightness_limit=(-0.1, 0.1), contrast_limit=(-0.1, 0.1), brightness_by_max=True)\n",
      "Blur(always_apply=False, p=0.5, blur_limit=(3, 7))\n",
      "CoarseDropout(always_apply=False, p=0.75, max_holes=8, max_height=14, max_width=14, min_holes=8, min_height=14, min_width=14, fill_value=0, mask_fill_value=None)\n",
      "Normalize(always_apply=False, p=1.0, mean=(0.485, 0.456, 0.406), std=(0.229, 0.224, 0.225), max_pixel_value=255.0)\n",
      "ToTensorV2(always_apply=True, p=1.0, transpose_mask=False)\n",
      " - - - - - - - - - - \n",
      "SmallestMaxSize(always_apply=False, p=1.0, max_size=240, interpolation=1)\n",
      "CenterCrop(always_apply=False, p=1.0, height=224, width=224)\n",
      "Normalize(always_apply=False, p=1.0, mean=(0.485, 0.456, 0.406), std=(0.229, 0.224, 0.225), max_pixel_value=255.0)\n",
      "ToTensorV2(always_apply=True, p=1.0, transpose_mask=False)\n",
      "---------------------------\n",
      "TRAIN: 11458 | VALID: 2864\n",
      "Start training for 16 epochs\n"
     ]
    },
    {
     "data": {
      "application/vnd.jupyter.widget-view+json": {
       "model_id": "6f4f62a226524190911e40b7be76700d",
       "version_major": 2,
       "version_minor": 0
      },
      "text/plain": [
       "VBox(children=(HBox(children=(FloatProgress(value=0.0, bar_style='info', description='total', max=1.0), HTML(v…"
      ]
     },
     "metadata": {},
     "output_type": "display_data"
    },
    {
     "data": {
      "application/vnd.jupyter.widget-view+json": {
       "model_id": "7edca366f28d4556b4e4d2a38fd8371a",
       "version_major": 2,
       "version_minor": 0
      },
      "text/plain": [
       "HTML(value='')"
      ]
     },
     "metadata": {},
     "output_type": "display_data"
    },
    {
     "name": "stdout",
     "output_type": "stream",
     "text": [
      "CPU: -9/159/3759 MB | GPU: 1792/4096/3560 MB | Time 0:14:29.338 | (Consumed/Peaked/Used Total)\n"
     ]
    }
   ],
   "source": [
    "for fold_idx in range(5): \n",
    "    run(fold_idx)"
   ]
  },
  {
   "cell_type": "code",
   "execution_count": 52,
   "id": "d36bda13",
   "metadata": {},
   "outputs": [
    {
     "name": "stdout",
     "output_type": "stream",
     "text": [
      "=> load from : /runs/NB_EXP_V2_001/beit_base_patch16_224_224_bs32_ep16_lr2e05_wd1e08_mixup_CV_0.pth\n"
     ]
    },
    {
     "data": {
      "application/json": {
       "ascii": false,
       "bar_format": null,
       "colour": null,
       "elapsed": 0.42092061042785645,
       "initial": 0,
       "n": 0,
       "ncols": 197,
       "nrows": 48,
       "postfix": null,
       "prefix": "",
       "rate": null,
       "total": 45,
       "unit": "it",
       "unit_divisor": 1000,
       "unit_scale": false
      },
      "application/vnd.jupyter.widget-view+json": {
       "model_id": "031b061cb66e48deae2c486f8a3e611e",
       "version_major": 2,
       "version_minor": 0
      },
      "text/plain": [
       "  0%|                                                                                                         …"
      ]
     },
     "metadata": {},
     "output_type": "display_data"
    },
    {
     "name": "stdout",
     "output_type": "stream",
     "text": [
      "* Accuracy : 0.8153577446937561\n",
      "\n",
      "=> load from : /runs/NB_EXP_V2_001/beit_base_patch16_224_224_bs32_ep16_lr2e05_wd1e08_mixup_CV_1.pth\n"
     ]
    },
    {
     "data": {
      "application/json": {
       "ascii": false,
       "bar_format": null,
       "colour": null,
       "elapsed": 0.41024255752563477,
       "initial": 0,
       "n": 0,
       "ncols": 197,
       "nrows": 48,
       "postfix": null,
       "prefix": "",
       "rate": null,
       "total": 45,
       "unit": "it",
       "unit_divisor": 1000,
       "unit_scale": false
      },
      "application/vnd.jupyter.widget-view+json": {
       "model_id": "422b86d9ea1f42f9a41f1a498e6c4d46",
       "version_major": 2,
       "version_minor": 0
      },
      "text/plain": [
       "  0%|                                                                                                         …"
      ]
     },
     "metadata": {},
     "output_type": "display_data"
    },
    {
     "name": "stdout",
     "output_type": "stream",
     "text": [
      "* Accuracy : 0.8174520134925842\n",
      "\n",
      "=> load from : /runs/NB_EXP_V2_001/beit_base_patch16_224_224_bs32_ep16_lr2e05_wd1e08_mixup_CV_2.pth\n"
     ]
    },
    {
     "data": {
      "application/json": {
       "ascii": false,
       "bar_format": null,
       "colour": null,
       "elapsed": 0.428804874420166,
       "initial": 0,
       "n": 0,
       "ncols": 197,
       "nrows": 48,
       "postfix": null,
       "prefix": "",
       "rate": null,
       "total": 45,
       "unit": "it",
       "unit_divisor": 1000,
       "unit_scale": false
      },
      "application/vnd.jupyter.widget-view+json": {
       "model_id": "699aca78f33945459b6c7ced1441547b",
       "version_major": 2,
       "version_minor": 0
      },
      "text/plain": [
       "  0%|                                                                                                         …"
      ]
     },
     "metadata": {},
     "output_type": "display_data"
    },
    {
     "name": "stdout",
     "output_type": "stream",
     "text": [
      "* Accuracy : 0.8041201233863831\n",
      "\n",
      "=> load from : /runs/NB_EXP_V2_001/beit_base_patch16_224_224_bs32_ep16_lr2e05_wd1e08_mixup_CV_3.pth\n"
     ]
    },
    {
     "data": {
      "application/json": {
       "ascii": false,
       "bar_format": null,
       "colour": null,
       "elapsed": 0.41896939277648926,
       "initial": 0,
       "n": 0,
       "ncols": 197,
       "nrows": 48,
       "postfix": null,
       "prefix": "",
       "rate": null,
       "total": 45,
       "unit": "it",
       "unit_divisor": 1000,
       "unit_scale": false
      },
      "application/vnd.jupyter.widget-view+json": {
       "model_id": "a2428faf72aa4989a14ac62cac5088b7",
       "version_major": 2,
       "version_minor": 0
      },
      "text/plain": [
       "  0%|                                                                                                         …"
      ]
     },
     "metadata": {},
     "output_type": "display_data"
    },
    {
     "name": "stdout",
     "output_type": "stream",
     "text": [
      "* Accuracy : 0.8226256966590881\n",
      "\n",
      "=> load from : /runs/NB_EXP_V2_001/beit_base_patch16_224_224_bs32_ep16_lr2e05_wd1e08_mixup_CV_4.pth\n"
     ]
    },
    {
     "data": {
      "application/json": {
       "ascii": false,
       "bar_format": null,
       "colour": null,
       "elapsed": 0.43650031089782715,
       "initial": 0,
       "n": 0,
       "ncols": 197,
       "nrows": 48,
       "postfix": null,
       "prefix": "",
       "rate": null,
       "total": 45,
       "unit": "it",
       "unit_divisor": 1000,
       "unit_scale": false
      },
      "application/vnd.jupyter.widget-view+json": {
       "model_id": "8e8b4c9995524b9abc955c4b0c10505c",
       "version_major": 2,
       "version_minor": 0
      },
      "text/plain": [
       "  0%|                                                                                                         …"
      ]
     },
     "metadata": {},
     "output_type": "display_data"
    },
    {
     "name": "stdout",
     "output_type": "stream",
     "text": [
      "* Accuracy : 0.8208798766136169\n",
      "\n",
      "\n",
      "****************************************************************************************************\n",
      "Run summary: \n",
      "****************************************************************************************************\n",
      "folds score:  [0.81536, 0.81745, 0.80412, 0.82263, 0.82088]\n",
      "Avg: 0.81609\n",
      "Std: 0.00650\n"
     ]
    }
   ],
   "source": [
    "folds_val_score = []\n",
    "for fold in range(5):\n",
    "    CHECKPOINT = MODEL_FOLDER/(KERNEL_TYPE + f\"_CV_{fold}.pth\")\n",
    "    \n",
    "    model = get_corn_model(MODEL, pretrained=False)\n",
    "    model.load_state_dict(torch.load(CHECKPOINT))\n",
    "    model.eval()\n",
    "    model.cuda()\n",
    "    print(f'=> load from : {CHECKPOINT}')\n",
    "    \n",
    "    dataset_valid = LoadImagesAndLabels(folds.query('fold==@fold'), transforms=VALID_AUG, mode=\"valid\")\n",
    "    loader_valid = torch.utils.data.DataLoader(dataset_valid, BS*2, num_workers=8, shuffle=False)\n",
    "    \n",
    "    preds, targs = [],[]\n",
    "    for input,target in tqdm(loader_valid, total=len(loader_valid), dynamic_ncols=True):\n",
    "        with torch.cuda.amp.autocast(), torch.no_grad():\n",
    "            input = input.cuda()\n",
    "            \n",
    "            output  = model(input)\n",
    "            output += model(torch.flip(input, dims=(3,)))\n",
    "            output += model(torch.flip(input, dims=(2,)))\n",
    "            output += model(torch.flip(input, dims=(2,3)))\n",
    "            \n",
    "        preds.append(output.data.cpu())\n",
    "        targs.append(target)\n",
    "    \n",
    "    preds = torch.cat(preds)\n",
    "    targs = torch.cat(targs)\n",
    "    \n",
    "    acc = accuracy(preds, targs).item()\n",
    "    print(f\"* Accuracy : {acc}\")\n",
    "    print()\n",
    "        \n",
    "    folds_val_score.append(acc)\n",
    "    \n",
    "    \n",
    "print()\n",
    "print('*' * 100)\n",
    "print(f'Run summary: ')\n",
    "print('*' * 100)\n",
    "print(\"folds score: \", [np.round(s, 5) for s in folds_val_score])\n",
    "print(\"Avg: {:.5f}\".format(np.mean(folds_val_score)))\n",
    "print(\"Std: {:.5f}\".format(np.std(folds_val_score)))"
   ]
  },
  {
   "cell_type": "code",
   "execution_count": null,
   "id": "815c7cf2",
   "metadata": {},
   "outputs": [],
   "source": []
  },
  {
   "cell_type": "code",
   "execution_count": null,
   "id": "22765fc5",
   "metadata": {},
   "outputs": [],
   "source": []
  }
 ],
 "metadata": {
  "kernelspec": {
   "display_name": "Python 3 (ipykernel)",
   "language": "python",
   "name": "python3"
  },
  "language_info": {
   "codemirror_mode": {
    "name": "ipython",
    "version": 3
   },
   "file_extension": ".py",
   "mimetype": "text/x-python",
   "name": "python",
   "nbconvert_exporter": "python",
   "pygments_lexer": "ipython3",
   "version": "3.8.13"
  },
  "toc": {
   "base_numbering": 1,
   "nav_menu": {},
   "number_sections": true,
   "sideBar": true,
   "skip_h1_title": false,
   "title_cell": "Table of Contents",
   "title_sidebar": "Contents",
   "toc_cell": false,
   "toc_position": {},
   "toc_section_display": true,
   "toc_window_display": false
  }
 },
 "nbformat": 4,
 "nbformat_minor": 5
}
