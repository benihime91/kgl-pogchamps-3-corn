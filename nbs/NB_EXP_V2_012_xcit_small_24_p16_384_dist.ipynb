{
 "cells": [
  {
   "cell_type": "code",
   "execution_count": 1,
   "id": "99934bce",
   "metadata": {},
   "outputs": [],
   "source": [
    "from fastai.vision.all import *\n",
    "from sklearn.model_selection import StratifiedKFold\n",
    "\n",
    "from ipyexperiments.ipyexperiments import IPyExperimentsPytorch\n",
    "import timm,wandb,albumentations as A\n",
    "from albumentations.pytorch import ToTensorV2\n",
    "\n",
    "import cv2,torchvision\n",
    "from timm.loss import SoftTargetCrossEntropy\n",
    "from timm.data.mixup import Mixup\n",
    "from timm.scheduler import CosineLRScheduler\n",
    "from timm.optim.optim_factory import create_optimizer_v2\n",
    "from timm.models import safe_model_name, set_fast_norm\n",
    "from timm.models.layers import create_classifier, SelectAdaptivePool2d\n",
    "from tqdm.auto import tqdm\n",
    "from fastprogress.fastprogress import format_time\n",
    "from ranger.ranger2020 import Ranger\n",
    "from timm import utils"
   ]
  },
  {
   "cell_type": "code",
   "execution_count": 2,
   "id": "398467ab",
   "metadata": {},
   "outputs": [],
   "source": [
    "set_seed(42); set_fast_norm()\n",
    "warnings.filterwarnings('ignore')"
   ]
  },
  {
   "cell_type": "markdown",
   "id": "d6298957",
   "metadata": {},
   "source": [
    "## Config"
   ]
  },
  {
   "cell_type": "code",
   "execution_count": 3,
   "id": "8414a79e",
   "metadata": {},
   "outputs": [
    {
     "name": "stdout",
     "output_type": "stream",
     "text": [
      "/runs/NB_EXP_V2_012\n",
      "xcit_small_24_p16_384_dist_384_bs32_ep16_lr6e05_wd5e02_mixup_cutmix\n"
     ]
    }
   ],
   "source": [
    "DATA_PATH = Path('/data/')\n",
    "CSV_PATH = DATA_PATH/'train.csv'\n",
    "FOLD_PATH = DATA_PATH/'train_folds.csv'\n",
    "IMAGE_FOLDER = DATA_PATH/'train'\n",
    "\n",
    "LABELS = sorted(['broken', 'pure', 'discolored', 'silkcut'])\n",
    "labels_class_map = {v:k for k,v in enumerate(LABELS)}\n",
    "labels_class_map_rev = {v:k for k,v in labels_class_map.items()}\n",
    "\n",
    "VIEWS = sorted(['top', 'bottom'])\n",
    "views_class_map = {v:k for k,v in enumerate(VIEWS)}\n",
    "views_class_map_rev = {v:k for k,v in views_class_map.items()}\n",
    "\n",
    "VERSION = \"NB_EXP_V2_012\"\n",
    "MODEL = \"xcit_small_24_p16_384_dist\"\n",
    "BS = 32\n",
    "SZ = 384\n",
    "EP = 16\n",
    "LR = 6e-05\n",
    "WD = 5e-02\n",
    "\n",
    "mixup_args = dict(mixup_alpha=0.4, cutmix_alpha=1.0, prob=0.6, switch_prob=0.5, label_smoothing=0.0, num_classes=len(LABELS))\n",
    "\n",
    "MODEL_FOLDER = Path(f\"/runs/{VERSION}/\")\n",
    "MODEL_FOLDER.mkdir(exist_ok=True)\n",
    "\n",
    "KERNEL_TYPE = f\"{MODEL}_{SZ}_bs{BS}_ep{EP}_lr{np.format_float_scientific(LR, trim='-').replace('-','')}_wd{np.format_float_scientific(WD, trim='-').replace('-','')}_mixup_cutmix\"\n",
    "\n",
    "print(MODEL_FOLDER)\n",
    "print(KERNEL_TYPE)"
   ]
  },
  {
   "cell_type": "code",
   "execution_count": 4,
   "id": "75207499",
   "metadata": {},
   "outputs": [
    {
     "data": {
      "text/html": [
       "<div>\n",
       "<style scoped>\n",
       "    .dataframe tbody tr th:only-of-type {\n",
       "        vertical-align: middle;\n",
       "    }\n",
       "\n",
       "    .dataframe tbody tr th {\n",
       "        vertical-align: top;\n",
       "    }\n",
       "\n",
       "    .dataframe thead th {\n",
       "        text-align: right;\n",
       "    }\n",
       "</style>\n",
       "<table border=\"1\" class=\"dataframe\">\n",
       "  <thead>\n",
       "    <tr style=\"text-align: right;\">\n",
       "      <th></th>\n",
       "      <th>seed_id</th>\n",
       "      <th>view</th>\n",
       "      <th>image</th>\n",
       "      <th>label</th>\n",
       "      <th>fold</th>\n",
       "    </tr>\n",
       "  </thead>\n",
       "  <tbody>\n",
       "    <tr>\n",
       "      <th>0</th>\n",
       "      <td>0</td>\n",
       "      <td>top</td>\n",
       "      <td>train/00000.png</td>\n",
       "      <td>broken</td>\n",
       "      <td>0</td>\n",
       "    </tr>\n",
       "    <tr>\n",
       "      <th>1</th>\n",
       "      <td>1</td>\n",
       "      <td>bottom</td>\n",
       "      <td>train/00001.png</td>\n",
       "      <td>pure</td>\n",
       "      <td>3</td>\n",
       "    </tr>\n",
       "    <tr>\n",
       "      <th>2</th>\n",
       "      <td>3</td>\n",
       "      <td>top</td>\n",
       "      <td>train/00003.png</td>\n",
       "      <td>broken</td>\n",
       "      <td>2</td>\n",
       "    </tr>\n",
       "    <tr>\n",
       "      <th>3</th>\n",
       "      <td>4</td>\n",
       "      <td>top</td>\n",
       "      <td>train/00004.png</td>\n",
       "      <td>pure</td>\n",
       "      <td>3</td>\n",
       "    </tr>\n",
       "    <tr>\n",
       "      <th>4</th>\n",
       "      <td>5</td>\n",
       "      <td>top</td>\n",
       "      <td>train/00005.png</td>\n",
       "      <td>discolored</td>\n",
       "      <td>4</td>\n",
       "    </tr>\n",
       "  </tbody>\n",
       "</table>\n",
       "</div>"
      ],
      "text/plain": [
       "   seed_id    view            image       label  fold\n",
       "0        0     top  train/00000.png      broken     0\n",
       "1        1  bottom  train/00001.png        pure     3\n",
       "2        3     top  train/00003.png      broken     2\n",
       "3        4     top  train/00004.png        pure     3\n",
       "4        5     top  train/00005.png  discolored     4"
      ]
     },
     "execution_count": 4,
     "metadata": {},
     "output_type": "execute_result"
    }
   ],
   "source": [
    "folds = pd.read_csv(FOLD_PATH)\n",
    "folds.head()"
   ]
  },
  {
   "cell_type": "code",
   "execution_count": 5,
   "id": "371add5e",
   "metadata": {},
   "outputs": [],
   "source": [
    "class LoadImagesAndLabels(torch.utils.data.Dataset):\n",
    "    \n",
    "    def __init__(self, df, transforms, mode='train'):\n",
    "        self.df = df\n",
    "        self.transforms = transforms\n",
    "        self.mode = mode\n",
    "        \n",
    "    def __len__(self): return len(self.df)\n",
    "    \n",
    "    def __getitem__(self,index):\n",
    "        row = self.df.iloc[index]\n",
    "        img_path = str(DATA_PATH/row.image)\n",
    "        \n",
    "        img = Image.open(img_path).convert(\"RGB\")\n",
    "        img = np.array(img)\n",
    "        \n",
    "        if self.transforms is not None:\n",
    "            img = self.transforms(image=img)['image']\n",
    "        \n",
    "        if self.mode == 'test':\n",
    "            return img\n",
    "            \n",
    "        label = torch.tensor(labels_class_map[row.label]).long()\n",
    "        return img, label"
   ]
  },
  {
   "cell_type": "markdown",
   "id": "0eff8e2d",
   "metadata": {},
   "source": [
    "## Augmentations"
   ]
  },
  {
   "cell_type": "code",
   "execution_count": 6,
   "id": "d4380923",
   "metadata": {},
   "outputs": [],
   "source": [
    "TRAIN_AUG = A.Compose([\n",
    "    A.RandomResizedCrop(height=SZ, width=SZ, p=1.0, scale=(0.72, 1.0)),\n",
    "    A.Transpose(p=0.5),\n",
    "    A.HorizontalFlip(p=0.5),\n",
    "    A.VerticalFlip(p=0.5),\n",
    "    A.ShiftScaleRotate(rotate_limit=360, border_mode=0, p=0.75),\n",
    "    A.RandomBrightnessContrast(brightness_limit=0.1, contrast_limit=0.1),\n",
    "    A.Blur(p=0.5),\n",
    "    A.CoarseDropout(max_height=int(32*(SZ/512)), max_width=int(32*(SZ/512)), p=0.75),\n",
    "    A.Normalize(),\n",
    "    ToTensorV2(),\n",
    "])\n",
    "\n",
    "VALID_AUG = A.Compose([\n",
    "    A.SmallestMaxSize(max_size=SZ + 16, p=1.0),\n",
    "    A.CenterCrop(height=SZ, width=SZ, p=1.0),\n",
    "    A.Normalize(),\n",
    "    ToTensorV2(),\n",
    "])"
   ]
  },
  {
   "cell_type": "markdown",
   "id": "d7c2b460",
   "metadata": {},
   "source": [
    "## Visualization"
   ]
  },
  {
   "cell_type": "code",
   "execution_count": 7,
   "id": "50285ef0",
   "metadata": {},
   "outputs": [
    {
     "data": {
      "image/png": "[encoded data removed]",
      "text/plain": [
       "<Figure size 1080x576 with 1 Axes>"
      ]
     },
     "metadata": {
      "needs_background": "light"
     },
     "output_type": "display_data"
    }
   ],
   "source": [
    "dataset_show = LoadImagesAndLabels(folds, TRAIN_AUG, mode='train')\n",
    "loader_show = torch.utils.data.DataLoader(dataset_show, batch_size=6)\n",
    "img,target = next(iter(loader_show))\n",
    "\n",
    "grid = torchvision.utils.make_grid(img, normalize=True, padding=2)\n",
    "grid = grid.permute(1, 2, 0)\n",
    "show_image(grid, figsize=(15,8), title=[labels_class_map_rev[x] for x in target.numpy()]);"
   ]
  },
  {
   "cell_type": "code",
   "execution_count": 8,
   "id": "bcafe1be-b031-46b5-9181-24518f449de6",
   "metadata": {},
   "outputs": [
    {
     "data": {
      "image/png": "[encoded data removed]",
      "text/plain": [
       "<Figure size 1080x576 with 1 Axes>"
      ]
     },
     "metadata": {
      "needs_background": "light"
     },
     "output_type": "display_data"
    }
   ],
   "source": [
    "dataset_show = LoadImagesAndLabels(folds, VALID_AUG, mode='train')\n",
    "loader_show = torch.utils.data.DataLoader(dataset_show, batch_size=6)\n",
    "img,target = next(iter(loader_show))\n",
    "\n",
    "grid = torchvision.utils.make_grid(img, normalize=True, padding=2)\n",
    "grid = grid.permute(1, 2, 0)\n",
    "show_image(grid, figsize=(15,8), title=[labels_class_map_rev[x] for x in target.numpy()]);"
   ]
  },
  {
   "cell_type": "markdown",
   "id": "dd312637",
   "metadata": {},
   "source": [
    "## Model"
   ]
  },
  {
   "cell_type": "code",
   "execution_count": 9,
   "id": "1f5cde58",
   "metadata": {},
   "outputs": [],
   "source": [
    "def get_corn_model(model_name, pretrained=True, **kwargs):\n",
    "    model = timm.create_model(model_name, pretrained=pretrained, **kwargs)\n",
    "    model = nn.Sequential(model, nn.Dropout(0.15), nn.Linear(model.num_classes, len(LABELS)))\n",
    "    return model"
   ]
  },
  {
   "cell_type": "markdown",
   "id": "72d24d4f",
   "metadata": {
    "tags": []
   },
   "source": [
    "## Train & Validation Function¶"
   ]
  },
  {
   "cell_type": "code",
   "execution_count": 10,
   "id": "9d5a1f6c",
   "metadata": {},
   "outputs": [],
   "source": [
    "def train_one_epoch(\n",
    "    model: nn.Module,\n",
    "    loader: Iterable,\n",
    "    loss_fn: Callable,\n",
    "    optimizer: torch.optim.Optimizer,\n",
    "    lr_scheduler: torch.optim.lr_scheduler._LRScheduler = None,\n",
    "    mixup_fn: Callable = None,\n",
    "    grad_scaler: torch.cuda.amp.GradScaler = None,\n",
    "    mbar: master_bar = None,\n",
    "):\n",
    "\n",
    "    model.train()\n",
    "\n",
    "    losses_m = utils.AverageMeter()\n",
    "\n",
    "    pbar = progress_bar(loader, parent=mbar, leave=False)\n",
    "    pbar.update(0)\n",
    "\n",
    "    for batch_idx, (input, target) in enumerate(loader):\n",
    "        input, target = input.cuda(), target.cuda()\n",
    "        input, target = mixup_fn(input, target)\n",
    "\n",
    "        optimizer.zero_grad()\n",
    "        with torch.cuda.amp.autocast(enabled=True):\n",
    "            output = model(input)\n",
    "            loss = loss_fn(output, target)\n",
    "\n",
    "        losses_m.update(loss.item(), input.size(0))\n",
    "\n",
    "        grad_scaler.scale(loss).backward()\n",
    "        grad_scaler.step(optimizer)\n",
    "        grad_scaler.update()\n",
    "\n",
    "        if lr_scheduler is not None:\n",
    "            lr_scheduler.step()\n",
    "\n",
    "        pbar.update(batch_idx + 1)\n",
    "        pbar.comment = f\"{losses_m.avg:.4f}\"\n",
    "\n",
    "    pbar.on_iter_end()\n",
    "    return OrderedDict([(\"loss\", losses_m.avg)])\n",
    "\n",
    "\n",
    "@torch.inference_mode()\n",
    "def validate(model: nn.Module, loader: Iterable, loss_fn: Callable, mbar: master_bar):\n",
    "    model.eval()\n",
    "\n",
    "    accs_m = utils.AverageMeter()\n",
    "    losses_m = utils.AverageMeter()\n",
    "\n",
    "    pbar = progress_bar(loader, parent=mbar, leave=False)\n",
    "    pbar.update(0)\n",
    "\n",
    "    for batch_idx, (input, target) in enumerate(loader):\n",
    "        input, target = input.cuda(), target.cuda()\n",
    "        output = model(input)\n",
    "\n",
    "        loss = loss_fn(output, target).item()\n",
    "        losses_m.update(loss, input.size(0))\n",
    "\n",
    "        acc = accuracy(output, target).item()\n",
    "        accs_m.update(acc, output.size(0))\n",
    "\n",
    "        pbar.update(batch_idx + 1)\n",
    "\n",
    "    pbar.on_iter_end()\n",
    "    return OrderedDict([(\"loss\", losses_m.avg), (\"accuracy\", accs_m.avg)])"
   ]
  },
  {
   "cell_type": "markdown",
   "id": "f70b2b1d",
   "metadata": {},
   "source": [
    "## Run!"
   ]
  },
  {
   "cell_type": "code",
   "execution_count": 11,
   "id": "dbc36f99",
   "metadata": {},
   "outputs": [],
   "source": [
    "def training_loop(fold):\n",
    "    with IPyExperimentsPytorch(exp_enable=False, cl_set_seed=42, cl_compact=True):\n",
    "        print()\n",
    "        print('*' * 100)\n",
    "        print(f'Training fold {fold}')\n",
    "        print('*' * 100)\n",
    "        \n",
    "        torch.backends.cudnn.benchmark = True\n",
    "        \n",
    "        dataset_train = LoadImagesAndLabels(folds.query('fold!=@fold'), transforms=TRAIN_AUG, mode=\"train\")\n",
    "        dataset_valid = LoadImagesAndLabels(folds.query('fold==@fold'), transforms=VALID_AUG, mode=\"valid\")\n",
    "\n",
    "        print(f\"TRAIN: {len(dataset_train)} | VALID: {len(dataset_valid)}\")\n",
    "        \n",
    "        loader_train = torch.utils.data.DataLoader(dataset_train, BS, num_workers=8, shuffle=True, drop_last=True)\n",
    "        loader_valid = torch.utils.data.DataLoader(dataset_valid, BS*2, num_workers=8, shuffle=False)\n",
    "\n",
    "        model = get_corn_model(MODEL, pretrained=True, drop_path_rate=0.3)\n",
    "        model.cuda()\n",
    "\n",
    "        optimizer = create_optimizer_v2(model,\"adamw\", lr=LR, weight_decay=WD)\n",
    "        \n",
    "        num_train_steps = len(loader_train) * EP\n",
    "        lr_scheduler = torch.optim.lr_scheduler.CosineAnnealingLR(optimizer, num_train_steps)\n",
    "        \n",
    "        mixup = Mixup(**mixup_args)\n",
    "        \n",
    "        train_loss_fn = SoftTargetCrossEntropy()\n",
    "        valid_loss_fn = nn.CrossEntropyLoss()\n",
    "\n",
    "        grad_scaler = torch.cuda.amp.GradScaler()\n",
    "        \n",
    "        print(f\"Scheduled epochs: {EP}\")\n",
    "        \n",
    "        mbar = master_bar(list(range(EP)))\n",
    "        best_epoch, best_metric = 0, 0\n",
    "        metric_names = [\"epoch\", \"train_loss\", \"valid_loss\", \"accuracy\", \"time\"]\n",
    "        mbar.write([f'{l:.6f}' if isinstance(l, float) else str(l) for l in metric_names], table=True)\n",
    "        \n",
    "        for epoch in range(EP):\n",
    "            start_time = time.time()\n",
    "            mbar.update(epoch)\n",
    "            \n",
    "            train_metrics = train_one_epoch(\n",
    "                model, loader_train, train_loss_fn, optimizer, \n",
    "                lr_scheduler=lr_scheduler, mixup_fn=mixup, grad_scaler=grad_scaler, mbar=mbar)\n",
    "            \n",
    "            valid_metrics = validate(model, loader_valid, valid_loss_fn, mbar=mbar)\n",
    "            \n",
    "            epoch_log = [epoch, train_metrics[\"loss\"], valid_metrics[\"loss\"], valid_metrics[\"accuracy\"], format_time(time.time() - start_time)]\n",
    "            mbar.write([f'{l:.6f}' if isinstance(l, float) else str(l) for l in epoch_log], table=True)\n",
    "            \n",
    "            if valid_metrics[\"accuracy\"] > best_metric:\n",
    "                best_epoch, best_metric = epoch, valid_metrics['accuracy']\n",
    "                dirpath = MODEL_FOLDER/(KERNEL_TYPE + f\"_CV_{fold}.pth\")\n",
    "                torch.save(model.state_dict(), dirpath)\n",
    "            \n",
    "        mbar.on_iter_end()\n",
    "        print('*** Best metric: {0} (epoch {1})'.format(best_metric, best_epoch))"
   ]
  },
  {
   "cell_type": "code",
   "execution_count": 14,
   "id": "148de258",
   "metadata": {},
   "outputs": [
    {
     "name": "stdout",
     "output_type": "stream",
     "text": [
      "\n",
      "*** Experiment started with the Pytorch backend\n",
      "Device: ID 0, NVIDIA GeForce RTX 3090 (24576 RAM)\n",
      "\n",
      "\n",
      "****************************************************************************************************\n",
      "Training fold 0\n",
      "****************************************************************************************************\n",
      "TRAIN: 11457 | VALID: 2865\n"
     ]
    },
    {
     "name": "stderr",
     "output_type": "stream",
     "text": [
      "Downloading: \"https://dl.fbaipublicfiles.com/xcit/xcit_small_24_p16_384_dist.pth\" to /root/.cache/torch/hub/checkpoints/xcit_small_24_p16_384_dist.pth\n"
     ]
    },
    {
     "name": "stdout",
     "output_type": "stream",
     "text": [
      "Scheduled epochs: 16\n"
     ]
    },
    {
     "data": {
      "text/html": [
       "\n",
       "<style>\n",
       "    /* Turns off some styling */\n",
       "    progress {\n",
       "        /* gets rid of default border in Firefox and Opera. */\n",
       "        border: none;\n",
       "        /* Needs to be in here for Safari polyfill so background images work as expected. */\n",
       "        background-size: auto;\n",
       "    }\n",
       "    progress:not([value]), progress:not([value])::-webkit-progress-bar {\n",
       "        background: repeating-linear-gradient(45deg, #7e7e7e, #7e7e7e 10px, #5c5c5c 10px, #5c5c5c 20px);\n",
       "    }\n",
       "    .progress-bar-interrupted, .progress-bar-interrupted::-webkit-progress-bar {\n",
       "        background: #F44336;\n",
       "    }\n",
       "</style>\n"
      ],
      "text/plain": [
       "<IPython.core.display.HTML object>"
      ]
     },
     "metadata": {},
     "output_type": "display_data"
    },
    {
     "data": {
      "text/html": [
       "<table border=\"1\" class=\"dataframe\">\n",
       "  <thead>\n",
       "    <tr style=\"text-align: left;\">\n",
       "      <th>epoch</th>\n",
       "      <th>train_loss</th>\n",
       "      <th>valid_loss</th>\n",
       "      <th>accuracy</th>\n",
       "      <th>time</th>\n",
       "    </tr>\n",
       "  </thead>\n",
       "  <tbody>\n",
       "    <tr>\n",
       "      <td>0</td>\n",
       "      <td>1.074698</td>\n",
       "      <td>0.738822</td>\n",
       "      <td>0.702967</td>\n",
       "      <td>02:47</td>\n",
       "    </tr>\n",
       "    <tr>\n",
       "      <td>1</td>\n",
       "      <td>0.909138</td>\n",
       "      <td>0.624361</td>\n",
       "      <td>0.748342</td>\n",
       "      <td>02:46</td>\n",
       "    </tr>\n",
       "    <tr>\n",
       "      <td>2</td>\n",
       "      <td>0.844663</td>\n",
       "      <td>0.604104</td>\n",
       "      <td>0.751483</td>\n",
       "      <td>02:46</td>\n",
       "    </tr>\n",
       "    <tr>\n",
       "      <td>3</td>\n",
       "      <td>0.811120</td>\n",
       "      <td>0.590854</td>\n",
       "      <td>0.765794</td>\n",
       "      <td>02:46</td>\n",
       "    </tr>\n",
       "    <tr>\n",
       "      <td>4</td>\n",
       "      <td>0.792000</td>\n",
       "      <td>0.602953</td>\n",
       "      <td>0.766841</td>\n",
       "      <td>02:46</td>\n",
       "    </tr>\n",
       "    <tr>\n",
       "      <td>5</td>\n",
       "      <td>0.750616</td>\n",
       "      <td>0.561915</td>\n",
       "      <td>0.774869</td>\n",
       "      <td>02:46</td>\n",
       "    </tr>\n",
       "    <tr>\n",
       "      <td>6</td>\n",
       "      <td>0.742504</td>\n",
       "      <td>0.537005</td>\n",
       "      <td>0.780454</td>\n",
       "      <td>02:46</td>\n",
       "    </tr>\n",
       "    <tr>\n",
       "      <td>7</td>\n",
       "      <td>0.733372</td>\n",
       "      <td>0.529044</td>\n",
       "      <td>0.780105</td>\n",
       "      <td>02:46</td>\n",
       "    </tr>\n",
       "    <tr>\n",
       "      <td>8</td>\n",
       "      <td>0.700988</td>\n",
       "      <td>0.530591</td>\n",
       "      <td>0.782897</td>\n",
       "      <td>02:46</td>\n",
       "    </tr>\n",
       "    <tr>\n",
       "      <td>9</td>\n",
       "      <td>0.720515</td>\n",
       "      <td>0.522632</td>\n",
       "      <td>0.788831</td>\n",
       "      <td>02:46</td>\n",
       "    </tr>\n",
       "    <tr>\n",
       "      <td>10</td>\n",
       "      <td>0.682122</td>\n",
       "      <td>0.509130</td>\n",
       "      <td>0.793019</td>\n",
       "      <td>02:46</td>\n",
       "    </tr>\n",
       "    <tr>\n",
       "      <td>11</td>\n",
       "      <td>0.688032</td>\n",
       "      <td>0.520360</td>\n",
       "      <td>0.788482</td>\n",
       "      <td>02:46</td>\n",
       "    </tr>\n",
       "    <tr>\n",
       "      <td>12</td>\n",
       "      <td>0.667338</td>\n",
       "      <td>0.503813</td>\n",
       "      <td>0.797208</td>\n",
       "      <td>02:46</td>\n",
       "    </tr>\n",
       "    <tr>\n",
       "      <td>13</td>\n",
       "      <td>0.687728</td>\n",
       "      <td>0.510035</td>\n",
       "      <td>0.797906</td>\n",
       "      <td>02:46</td>\n",
       "    </tr>\n",
       "    <tr>\n",
       "      <td>14</td>\n",
       "      <td>0.671298</td>\n",
       "      <td>0.508003</td>\n",
       "      <td>0.797208</td>\n",
       "      <td>02:46</td>\n",
       "    </tr>\n",
       "    <tr>\n",
       "      <td>15</td>\n",
       "      <td>0.658668</td>\n",
       "      <td>0.505776</td>\n",
       "      <td>0.799302</td>\n",
       "      <td>02:46</td>\n",
       "    </tr>\n",
       "  </tbody>\n",
       "</table>"
      ],
      "text/plain": [
       "<IPython.core.display.HTML object>"
      ]
     },
     "metadata": {},
     "output_type": "display_data"
    },
    {
     "name": "stdout",
     "output_type": "stream",
     "text": [
      "*** Best metric: 0.7993019196791591 (epoch 15)\n",
      "CPU: 2012/108/3440 MB | GPU: 1816/12560/2949 MB | Time 0:45:52.582 | (Consumed/Peaked/Used Total)\n",
      "\n",
      "*** Experiment started with the Pytorch backend\n",
      "Device: ID 0, NVIDIA GeForce RTX 3090 (24576 RAM)\n",
      "\n",
      "\n",
      "****************************************************************************************************\n",
      "Training fold 1\n",
      "****************************************************************************************************\n",
      "TRAIN: 11457 | VALID: 2865\n",
      "Scheduled epochs: 16\n"
     ]
    },
    {
     "data": {
      "text/html": [
       "\n",
       "<style>\n",
       "    /* Turns off some styling */\n",
       "    progress {\n",
       "        /* gets rid of default border in Firefox and Opera. */\n",
       "        border: none;\n",
       "        /* Needs to be in here for Safari polyfill so background images work as expected. */\n",
       "        background-size: auto;\n",
       "    }\n",
       "    progress:not([value]), progress:not([value])::-webkit-progress-bar {\n",
       "        background: repeating-linear-gradient(45deg, #7e7e7e, #7e7e7e 10px, #5c5c5c 10px, #5c5c5c 20px);\n",
       "    }\n",
       "    .progress-bar-interrupted, .progress-bar-interrupted::-webkit-progress-bar {\n",
       "        background: #F44336;\n",
       "    }\n",
       "</style>\n"
      ],
      "text/plain": [
       "<IPython.core.display.HTML object>"
      ]
     },
     "metadata": {},
     "output_type": "display_data"
    },
    {
     "data": {
      "text/html": [
       "<table border=\"1\" class=\"dataframe\">\n",
       "  <thead>\n",
       "    <tr style=\"text-align: left;\">\n",
       "      <th>epoch</th>\n",
       "      <th>train_loss</th>\n",
       "      <th>valid_loss</th>\n",
       "      <th>accuracy</th>\n",
       "      <th>time</th>\n",
       "    </tr>\n",
       "  </thead>\n",
       "  <tbody>\n",
       "    <tr>\n",
       "      <td>0</td>\n",
       "      <td>1.079455</td>\n",
       "      <td>0.767573</td>\n",
       "      <td>0.679930</td>\n",
       "      <td>02:46</td>\n",
       "    </tr>\n",
       "    <tr>\n",
       "      <td>1</td>\n",
       "      <td>0.902750</td>\n",
       "      <td>0.664814</td>\n",
       "      <td>0.730890</td>\n",
       "      <td>02:47</td>\n",
       "    </tr>\n",
       "    <tr>\n",
       "      <td>2</td>\n",
       "      <td>0.840748</td>\n",
       "      <td>0.612516</td>\n",
       "      <td>0.754625</td>\n",
       "      <td>02:46</td>\n",
       "    </tr>\n",
       "    <tr>\n",
       "      <td>3</td>\n",
       "      <td>0.801968</td>\n",
       "      <td>0.586655</td>\n",
       "      <td>0.755672</td>\n",
       "      <td>02:47</td>\n",
       "    </tr>\n",
       "    <tr>\n",
       "      <td>4</td>\n",
       "      <td>0.799876</td>\n",
       "      <td>0.573610</td>\n",
       "      <td>0.763002</td>\n",
       "      <td>02:47</td>\n",
       "    </tr>\n",
       "    <tr>\n",
       "      <td>5</td>\n",
       "      <td>0.746448</td>\n",
       "      <td>0.560878</td>\n",
       "      <td>0.774171</td>\n",
       "      <td>02:46</td>\n",
       "    </tr>\n",
       "    <tr>\n",
       "      <td>6</td>\n",
       "      <td>0.760506</td>\n",
       "      <td>0.554766</td>\n",
       "      <td>0.776614</td>\n",
       "      <td>02:47</td>\n",
       "    </tr>\n",
       "    <tr>\n",
       "      <td>7</td>\n",
       "      <td>0.740242</td>\n",
       "      <td>0.535110</td>\n",
       "      <td>0.782199</td>\n",
       "      <td>02:46</td>\n",
       "    </tr>\n",
       "    <tr>\n",
       "      <td>8</td>\n",
       "      <td>0.712870</td>\n",
       "      <td>0.511139</td>\n",
       "      <td>0.790576</td>\n",
       "      <td>02:47</td>\n",
       "    </tr>\n",
       "    <tr>\n",
       "      <td>9</td>\n",
       "      <td>0.723115</td>\n",
       "      <td>0.504693</td>\n",
       "      <td>0.796161</td>\n",
       "      <td>02:47</td>\n",
       "    </tr>\n",
       "    <tr>\n",
       "      <td>10</td>\n",
       "      <td>0.689171</td>\n",
       "      <td>0.503741</td>\n",
       "      <td>0.797906</td>\n",
       "      <td>02:47</td>\n",
       "    </tr>\n",
       "    <tr>\n",
       "      <td>11</td>\n",
       "      <td>0.688837</td>\n",
       "      <td>0.494851</td>\n",
       "      <td>0.799651</td>\n",
       "      <td>02:47</td>\n",
       "    </tr>\n",
       "    <tr>\n",
       "      <td>12</td>\n",
       "      <td>0.679778</td>\n",
       "      <td>0.493981</td>\n",
       "      <td>0.798255</td>\n",
       "      <td>02:46</td>\n",
       "    </tr>\n",
       "    <tr>\n",
       "      <td>13</td>\n",
       "      <td>0.689670</td>\n",
       "      <td>0.496649</td>\n",
       "      <td>0.799651</td>\n",
       "      <td>02:47</td>\n",
       "    </tr>\n",
       "    <tr>\n",
       "      <td>14</td>\n",
       "      <td>0.668729</td>\n",
       "      <td>0.495395</td>\n",
       "      <td>0.798953</td>\n",
       "      <td>02:47</td>\n",
       "    </tr>\n",
       "    <tr>\n",
       "      <td>15</td>\n",
       "      <td>0.657588</td>\n",
       "      <td>0.495381</td>\n",
       "      <td>0.802443</td>\n",
       "      <td>02:47</td>\n",
       "    </tr>\n",
       "  </tbody>\n",
       "</table>"
      ],
      "text/plain": [
       "<IPython.core.display.HTML object>"
      ]
     },
     "metadata": {},
     "output_type": "display_data"
    },
    {
     "name": "stdout",
     "output_type": "stream",
     "text": [
      "*** Best metric: 0.802443280602833 (epoch 15)\n",
      "CPU: 557/419/3997 MB | GPU: 1064/12292/2903 MB | Time 0:44:52.523 | (Consumed/Peaked/Used Total)\n",
      "\n",
      "*** Experiment started with the Pytorch backend\n",
      "Device: ID 0, NVIDIA GeForce RTX 3090 (24576 RAM)\n",
      "\n",
      "\n",
      "****************************************************************************************************\n",
      "Training fold 2\n",
      "****************************************************************************************************\n",
      "TRAIN: 11458 | VALID: 2864\n",
      "Scheduled epochs: 16\n"
     ]
    },
    {
     "data": {
      "text/html": [
       "\n",
       "<style>\n",
       "    /* Turns off some styling */\n",
       "    progress {\n",
       "        /* gets rid of default border in Firefox and Opera. */\n",
       "        border: none;\n",
       "        /* Needs to be in here for Safari polyfill so background images work as expected. */\n",
       "        background-size: auto;\n",
       "    }\n",
       "    progress:not([value]), progress:not([value])::-webkit-progress-bar {\n",
       "        background: repeating-linear-gradient(45deg, #7e7e7e, #7e7e7e 10px, #5c5c5c 10px, #5c5c5c 20px);\n",
       "    }\n",
       "    .progress-bar-interrupted, .progress-bar-interrupted::-webkit-progress-bar {\n",
       "        background: #F44336;\n",
       "    }\n",
       "</style>\n"
      ],
      "text/plain": [
       "<IPython.core.display.HTML object>"
      ]
     },
     "metadata": {},
     "output_type": "display_data"
    },
    {
     "data": {
      "text/html": [
       "<table border=\"1\" class=\"dataframe\">\n",
       "  <thead>\n",
       "    <tr style=\"text-align: left;\">\n",
       "      <th>epoch</th>\n",
       "      <th>train_loss</th>\n",
       "      <th>valid_loss</th>\n",
       "      <th>accuracy</th>\n",
       "      <th>time</th>\n",
       "    </tr>\n",
       "  </thead>\n",
       "  <tbody>\n",
       "    <tr>\n",
       "      <td>0</td>\n",
       "      <td>1.077159</td>\n",
       "      <td>0.724853</td>\n",
       "      <td>0.717528</td>\n",
       "      <td>02:47</td>\n",
       "    </tr>\n",
       "    <tr>\n",
       "      <td>1</td>\n",
       "      <td>0.906944</td>\n",
       "      <td>0.638748</td>\n",
       "      <td>0.744763</td>\n",
       "      <td>02:47</td>\n",
       "    </tr>\n",
       "    <tr>\n",
       "      <td>2</td>\n",
       "      <td>0.847791</td>\n",
       "      <td>0.636889</td>\n",
       "      <td>0.747905</td>\n",
       "      <td>02:47</td>\n",
       "    </tr>\n",
       "    <tr>\n",
       "      <td>3</td>\n",
       "      <td>0.817182</td>\n",
       "      <td>0.583421</td>\n",
       "      <td>0.762221</td>\n",
       "      <td>02:46</td>\n",
       "    </tr>\n",
       "    <tr>\n",
       "      <td>4</td>\n",
       "      <td>0.802009</td>\n",
       "      <td>0.561192</td>\n",
       "      <td>0.782123</td>\n",
       "      <td>02:47</td>\n",
       "    </tr>\n",
       "    <tr>\n",
       "      <td>5</td>\n",
       "      <td>0.751816</td>\n",
       "      <td>0.601492</td>\n",
       "      <td>0.764316</td>\n",
       "      <td>02:46</td>\n",
       "    </tr>\n",
       "    <tr>\n",
       "      <td>6</td>\n",
       "      <td>0.757020</td>\n",
       "      <td>0.546430</td>\n",
       "      <td>0.783170</td>\n",
       "      <td>02:46</td>\n",
       "    </tr>\n",
       "    <tr>\n",
       "      <td>7</td>\n",
       "      <td>0.740217</td>\n",
       "      <td>0.525544</td>\n",
       "      <td>0.790503</td>\n",
       "      <td>02:47</td>\n",
       "    </tr>\n",
       "    <tr>\n",
       "      <td>8</td>\n",
       "      <td>0.713499</td>\n",
       "      <td>0.553898</td>\n",
       "      <td>0.781425</td>\n",
       "      <td>02:47</td>\n",
       "    </tr>\n",
       "    <tr>\n",
       "      <td>9</td>\n",
       "      <td>0.727299</td>\n",
       "      <td>0.543492</td>\n",
       "      <td>0.779330</td>\n",
       "      <td>02:47</td>\n",
       "    </tr>\n",
       "    <tr>\n",
       "      <td>10</td>\n",
       "      <td>0.692930</td>\n",
       "      <td>0.522923</td>\n",
       "      <td>0.790852</td>\n",
       "      <td>02:47</td>\n",
       "    </tr>\n",
       "    <tr>\n",
       "      <td>11</td>\n",
       "      <td>0.690691</td>\n",
       "      <td>0.531022</td>\n",
       "      <td>0.788408</td>\n",
       "      <td>02:47</td>\n",
       "    </tr>\n",
       "    <tr>\n",
       "      <td>12</td>\n",
       "      <td>0.674838</td>\n",
       "      <td>0.515132</td>\n",
       "      <td>0.797137</td>\n",
       "      <td>02:47</td>\n",
       "    </tr>\n",
       "    <tr>\n",
       "      <td>13</td>\n",
       "      <td>0.689554</td>\n",
       "      <td>0.526899</td>\n",
       "      <td>0.790503</td>\n",
       "      <td>02:46</td>\n",
       "    </tr>\n",
       "    <tr>\n",
       "      <td>14</td>\n",
       "      <td>0.677492</td>\n",
       "      <td>0.518293</td>\n",
       "      <td>0.792598</td>\n",
       "      <td>02:47</td>\n",
       "    </tr>\n",
       "    <tr>\n",
       "      <td>15</td>\n",
       "      <td>0.653125</td>\n",
       "      <td>0.518255</td>\n",
       "      <td>0.795042</td>\n",
       "      <td>02:47</td>\n",
       "    </tr>\n",
       "  </tbody>\n",
       "</table>"
      ],
      "text/plain": [
       "<IPython.core.display.HTML object>"
      ]
     },
     "metadata": {},
     "output_type": "display_data"
    },
    {
     "name": "stdout",
     "output_type": "stream",
     "text": [
      "*** Best metric: 0.7971368718413667 (epoch 12)\n",
      "CPU: 6/789/3262 MB | GPU: 1064/12592/2903 MB | Time 0:44:44.564 | (Consumed/Peaked/Used Total)\n",
      "\n",
      "*** Experiment started with the Pytorch backend\n",
      "Device: ID 0, NVIDIA GeForce RTX 3090 (24576 RAM)\n",
      "\n",
      "\n",
      "****************************************************************************************************\n",
      "Training fold 3\n",
      "****************************************************************************************************\n",
      "TRAIN: 11458 | VALID: 2864\n",
      "Scheduled epochs: 16\n"
     ]
    },
    {
     "data": {
      "text/html": [
       "\n",
       "<style>\n",
       "    /* Turns off some styling */\n",
       "    progress {\n",
       "        /* gets rid of default border in Firefox and Opera. */\n",
       "        border: none;\n",
       "        /* Needs to be in here for Safari polyfill so background images work as expected. */\n",
       "        background-size: auto;\n",
       "    }\n",
       "    progress:not([value]), progress:not([value])::-webkit-progress-bar {\n",
       "        background: repeating-linear-gradient(45deg, #7e7e7e, #7e7e7e 10px, #5c5c5c 10px, #5c5c5c 20px);\n",
       "    }\n",
       "    .progress-bar-interrupted, .progress-bar-interrupted::-webkit-progress-bar {\n",
       "        background: #F44336;\n",
       "    }\n",
       "</style>\n"
      ],
      "text/plain": [
       "<IPython.core.display.HTML object>"
      ]
     },
     "metadata": {},
     "output_type": "display_data"
    },
    {
     "data": {
      "text/html": [
       "<table border=\"1\" class=\"dataframe\">\n",
       "  <thead>\n",
       "    <tr style=\"text-align: left;\">\n",
       "      <th>epoch</th>\n",
       "      <th>train_loss</th>\n",
       "      <th>valid_loss</th>\n",
       "      <th>accuracy</th>\n",
       "      <th>time</th>\n",
       "    </tr>\n",
       "  </thead>\n",
       "  <tbody>\n",
       "    <tr>\n",
       "      <td>0</td>\n",
       "      <td>1.053148</td>\n",
       "      <td>0.737644</td>\n",
       "      <td>0.705307</td>\n",
       "      <td>02:46</td>\n",
       "    </tr>\n",
       "    <tr>\n",
       "      <td>1</td>\n",
       "      <td>0.900083</td>\n",
       "      <td>0.607441</td>\n",
       "      <td>0.762221</td>\n",
       "      <td>02:46</td>\n",
       "    </tr>\n",
       "    <tr>\n",
       "      <td>2</td>\n",
       "      <td>0.839179</td>\n",
       "      <td>0.583838</td>\n",
       "      <td>0.770251</td>\n",
       "      <td>02:47</td>\n",
       "    </tr>\n",
       "    <tr>\n",
       "      <td>3</td>\n",
       "      <td>0.800103</td>\n",
       "      <td>0.532312</td>\n",
       "      <td>0.789106</td>\n",
       "      <td>02:46</td>\n",
       "    </tr>\n",
       "    <tr>\n",
       "      <td>4</td>\n",
       "      <td>0.790964</td>\n",
       "      <td>0.543938</td>\n",
       "      <td>0.774791</td>\n",
       "      <td>02:46</td>\n",
       "    </tr>\n",
       "    <tr>\n",
       "      <td>5</td>\n",
       "      <td>0.745076</td>\n",
       "      <td>0.550984</td>\n",
       "      <td>0.774441</td>\n",
       "      <td>02:46</td>\n",
       "    </tr>\n",
       "    <tr>\n",
       "      <td>6</td>\n",
       "      <td>0.744758</td>\n",
       "      <td>0.520198</td>\n",
       "      <td>0.798534</td>\n",
       "      <td>02:46</td>\n",
       "    </tr>\n",
       "    <tr>\n",
       "      <td>7</td>\n",
       "      <td>0.740152</td>\n",
       "      <td>0.525459</td>\n",
       "      <td>0.788059</td>\n",
       "      <td>02:46</td>\n",
       "    </tr>\n",
       "    <tr>\n",
       "      <td>8</td>\n",
       "      <td>0.709114</td>\n",
       "      <td>0.492673</td>\n",
       "      <td>0.799581</td>\n",
       "      <td>02:47</td>\n",
       "    </tr>\n",
       "    <tr>\n",
       "      <td>9</td>\n",
       "      <td>0.722362</td>\n",
       "      <td>0.499563</td>\n",
       "      <td>0.799232</td>\n",
       "      <td>02:46</td>\n",
       "    </tr>\n",
       "    <tr>\n",
       "      <td>10</td>\n",
       "      <td>0.687899</td>\n",
       "      <td>0.497041</td>\n",
       "      <td>0.800978</td>\n",
       "      <td>02:46</td>\n",
       "    </tr>\n",
       "    <tr>\n",
       "      <td>11</td>\n",
       "      <td>0.690855</td>\n",
       "      <td>0.492567</td>\n",
       "      <td>0.801327</td>\n",
       "      <td>02:47</td>\n",
       "    </tr>\n",
       "    <tr>\n",
       "      <td>12</td>\n",
       "      <td>0.674896</td>\n",
       "      <td>0.494153</td>\n",
       "      <td>0.802723</td>\n",
       "      <td>02:46</td>\n",
       "    </tr>\n",
       "    <tr>\n",
       "      <td>13</td>\n",
       "      <td>0.683472</td>\n",
       "      <td>0.488741</td>\n",
       "      <td>0.800279</td>\n",
       "      <td>02:47</td>\n",
       "    </tr>\n",
       "    <tr>\n",
       "      <td>14</td>\n",
       "      <td>0.665845</td>\n",
       "      <td>0.487881</td>\n",
       "      <td>0.801676</td>\n",
       "      <td>02:47</td>\n",
       "    </tr>\n",
       "    <tr>\n",
       "      <td>15</td>\n",
       "      <td>0.656190</td>\n",
       "      <td>0.487270</td>\n",
       "      <td>0.800978</td>\n",
       "      <td>02:46</td>\n",
       "    </tr>\n",
       "  </tbody>\n",
       "</table>"
      ],
      "text/plain": [
       "<IPython.core.display.HTML object>"
      ]
     },
     "metadata": {},
     "output_type": "display_data"
    },
    {
     "name": "stdout",
     "output_type": "stream",
     "text": [
      "*** Best metric: 0.8027234636871509 (epoch 12)\n",
      "CPU: 75/831/3264 MB | GPU: 1064/12292/2903 MB | Time 0:44:41.930 | (Consumed/Peaked/Used Total)\n",
      "\n",
      "*** Experiment started with the Pytorch backend\n",
      "Device: ID 0, NVIDIA GeForce RTX 3090 (24576 RAM)\n",
      "\n",
      "\n",
      "****************************************************************************************************\n",
      "Training fold 4\n",
      "****************************************************************************************************\n",
      "TRAIN: 11458 | VALID: 2864\n",
      "Scheduled epochs: 16\n"
     ]
    },
    {
     "data": {
      "text/html": [
       "\n",
       "<style>\n",
       "    /* Turns off some styling */\n",
       "    progress {\n",
       "        /* gets rid of default border in Firefox and Opera. */\n",
       "        border: none;\n",
       "        /* Needs to be in here for Safari polyfill so background images work as expected. */\n",
       "        background-size: auto;\n",
       "    }\n",
       "    progress:not([value]), progress:not([value])::-webkit-progress-bar {\n",
       "        background: repeating-linear-gradient(45deg, #7e7e7e, #7e7e7e 10px, #5c5c5c 10px, #5c5c5c 20px);\n",
       "    }\n",
       "    .progress-bar-interrupted, .progress-bar-interrupted::-webkit-progress-bar {\n",
       "        background: #F44336;\n",
       "    }\n",
       "</style>\n"
      ],
      "text/plain": [
       "<IPython.core.display.HTML object>"
      ]
     },
     "metadata": {},
     "output_type": "display_data"
    },
    {
     "data": {
      "text/html": [
       "<table border=\"1\" class=\"dataframe\">\n",
       "  <thead>\n",
       "    <tr style=\"text-align: left;\">\n",
       "      <th>epoch</th>\n",
       "      <th>train_loss</th>\n",
       "      <th>valid_loss</th>\n",
       "      <th>accuracy</th>\n",
       "      <th>time</th>\n",
       "    </tr>\n",
       "  </thead>\n",
       "  <tbody>\n",
       "    <tr>\n",
       "      <td>0</td>\n",
       "      <td>1.048206</td>\n",
       "      <td>0.701399</td>\n",
       "      <td>0.728003</td>\n",
       "      <td>02:47</td>\n",
       "    </tr>\n",
       "    <tr>\n",
       "      <td>1</td>\n",
       "      <td>0.889844</td>\n",
       "      <td>0.696973</td>\n",
       "      <td>0.715433</td>\n",
       "      <td>02:47</td>\n",
       "    </tr>\n",
       "    <tr>\n",
       "      <td>2</td>\n",
       "      <td>0.845074</td>\n",
       "      <td>0.558077</td>\n",
       "      <td>0.778631</td>\n",
       "      <td>02:47</td>\n",
       "    </tr>\n",
       "    <tr>\n",
       "      <td>3</td>\n",
       "      <td>0.805240</td>\n",
       "      <td>0.545544</td>\n",
       "      <td>0.786313</td>\n",
       "      <td>02:46</td>\n",
       "    </tr>\n",
       "    <tr>\n",
       "      <td>4</td>\n",
       "      <td>0.797257</td>\n",
       "      <td>0.520332</td>\n",
       "      <td>0.793296</td>\n",
       "      <td>02:46</td>\n",
       "    </tr>\n",
       "    <tr>\n",
       "      <td>5</td>\n",
       "      <td>0.760788</td>\n",
       "      <td>0.517308</td>\n",
       "      <td>0.790154</td>\n",
       "      <td>02:46</td>\n",
       "    </tr>\n",
       "    <tr>\n",
       "      <td>6</td>\n",
       "      <td>0.753765</td>\n",
       "      <td>0.534575</td>\n",
       "      <td>0.789106</td>\n",
       "      <td>02:46</td>\n",
       "    </tr>\n",
       "    <tr>\n",
       "      <td>7</td>\n",
       "      <td>0.735826</td>\n",
       "      <td>0.514101</td>\n",
       "      <td>0.795391</td>\n",
       "      <td>02:46</td>\n",
       "    </tr>\n",
       "    <tr>\n",
       "      <td>8</td>\n",
       "      <td>0.710972</td>\n",
       "      <td>0.485058</td>\n",
       "      <td>0.802025</td>\n",
       "      <td>02:46</td>\n",
       "    </tr>\n",
       "    <tr>\n",
       "      <td>9</td>\n",
       "      <td>0.733059</td>\n",
       "      <td>0.473058</td>\n",
       "      <td>0.803771</td>\n",
       "      <td>02:46</td>\n",
       "    </tr>\n",
       "    <tr>\n",
       "      <td>10</td>\n",
       "      <td>0.685131</td>\n",
       "      <td>0.480954</td>\n",
       "      <td>0.805866</td>\n",
       "      <td>02:46</td>\n",
       "    </tr>\n",
       "    <tr>\n",
       "      <td>11</td>\n",
       "      <td>0.689810</td>\n",
       "      <td>0.478631</td>\n",
       "      <td>0.812849</td>\n",
       "      <td>02:46</td>\n",
       "    </tr>\n",
       "    <tr>\n",
       "      <td>12</td>\n",
       "      <td>0.673855</td>\n",
       "      <td>0.472467</td>\n",
       "      <td>0.813897</td>\n",
       "      <td>02:46</td>\n",
       "    </tr>\n",
       "    <tr>\n",
       "      <td>13</td>\n",
       "      <td>0.683190</td>\n",
       "      <td>0.476416</td>\n",
       "      <td>0.809008</td>\n",
       "      <td>02:46</td>\n",
       "    </tr>\n",
       "    <tr>\n",
       "      <td>14</td>\n",
       "      <td>0.672995</td>\n",
       "      <td>0.471461</td>\n",
       "      <td>0.812151</td>\n",
       "      <td>02:46</td>\n",
       "    </tr>\n",
       "    <tr>\n",
       "      <td>15</td>\n",
       "      <td>0.658317</td>\n",
       "      <td>0.470978</td>\n",
       "      <td>0.810754</td>\n",
       "      <td>02:46</td>\n",
       "    </tr>\n",
       "  </tbody>\n",
       "</table>"
      ],
      "text/plain": [
       "<IPython.core.display.HTML object>"
      ]
     },
     "metadata": {},
     "output_type": "display_data"
    },
    {
     "name": "stdout",
     "output_type": "stream",
     "text": [
      "*** Best metric: 0.8138966487106665 (epoch 12)\n",
      "CPU: 34/831/3224 MB | GPU: 1064/12292/2903 MB | Time 0:44:41.761 | (Consumed/Peaked/Used Total)\n"
     ]
    }
   ],
   "source": [
    "for fold_idx in range(5):\n",
    "    training_loop(fold_idx)"
   ]
  },
  {
   "cell_type": "code",
   "execution_count": 12,
   "id": "dcbeee17-2f2e-4639-beea-a2a9ecd08711",
   "metadata": {},
   "outputs": [
    {
     "data": {
      "text/plain": [
       "(#5) [Path('/runs/NB_EXP_V2_012/xcit_small_24_p16_384_dist_384_bs32_ep16_lr6e05_wd5e02_mixup_cutmix_CV_2.pth'),Path('/runs/NB_EXP_V2_012/xcit_small_24_p16_384_dist_384_bs32_ep16_lr6e05_wd5e02_mixup_cutmix_CV_0.pth'),Path('/runs/NB_EXP_V2_012/xcit_small_24_p16_384_dist_384_bs32_ep16_lr6e05_wd5e02_mixup_cutmix_CV_3.pth'),Path('/runs/NB_EXP_V2_012/xcit_small_24_p16_384_dist_384_bs32_ep16_lr6e05_wd5e02_mixup_cutmix_CV_1.pth'),Path('/runs/NB_EXP_V2_012/xcit_small_24_p16_384_dist_384_bs32_ep16_lr6e05_wd5e02_mixup_cutmix_CV_4.pth')]"
      ]
     },
     "execution_count": 12,
     "metadata": {},
     "output_type": "execute_result"
    }
   ],
   "source": [
    "MODEL_FOLDER.ls()"
   ]
  },
  {
   "cell_type": "code",
   "execution_count": 13,
   "id": "fe36f8c6",
   "metadata": {},
   "outputs": [
    {
     "name": "stdout",
     "output_type": "stream",
     "text": [
      "=> load from : /runs/NB_EXP_V2_012/xcit_small_24_p16_384_dist_384_bs32_ep16_lr6e05_wd5e02_mixup_cutmix_CV_0.pth\n"
     ]
    },
    {
     "data": {
      "application/json": {
       "ascii": false,
       "bar_format": null,
       "colour": null,
       "elapsed": 0.2618231773376465,
       "initial": 0,
       "n": 0,
       "ncols": 197,
       "nrows": 48,
       "postfix": null,
       "prefix": "",
       "rate": null,
       "total": 45,
       "unit": "it",
       "unit_divisor": 1000,
       "unit_scale": false
      },
      "application/vnd.jupyter.widget-view+json": {
       "model_id": "491237ec41524d7b9902ddf29ec46e38",
       "version_major": 2,
       "version_minor": 0
      },
      "text/plain": [
       "  0%|                                                                                                         …"
      ]
     },
     "metadata": {},
     "output_type": "display_data"
    },
    {
     "name": "stdout",
     "output_type": "stream",
     "text": [
      "* Accuracy : 0.8031413555145264\n",
      "\n",
      "=> load from : /runs/NB_EXP_V2_012/xcit_small_24_p16_384_dist_384_bs32_ep16_lr6e05_wd5e02_mixup_cutmix_CV_1.pth\n"
     ]
    },
    {
     "data": {
      "application/json": {
       "ascii": false,
       "bar_format": null,
       "colour": null,
       "elapsed": 0.39309144020080566,
       "initial": 0,
       "n": 0,
       "ncols": 197,
       "nrows": 48,
       "postfix": null,
       "prefix": "",
       "rate": null,
       "total": 45,
       "unit": "it",
       "unit_divisor": 1000,
       "unit_scale": false
      },
      "application/vnd.jupyter.widget-view+json": {
       "model_id": "539d8174cba74101977d23a590db3ecb",
       "version_major": 2,
       "version_minor": 0
      },
      "text/plain": [
       "  0%|                                                                                                         …"
      ]
     },
     "metadata": {},
     "output_type": "display_data"
    },
    {
     "name": "stdout",
     "output_type": "stream",
     "text": [
      "* Accuracy : 0.8059336543083191\n",
      "\n",
      "=> load from : /runs/NB_EXP_V2_012/xcit_small_24_p16_384_dist_384_bs32_ep16_lr6e05_wd5e02_mixup_cutmix_CV_2.pth\n"
     ]
    },
    {
     "data": {
      "application/json": {
       "ascii": false,
       "bar_format": null,
       "colour": null,
       "elapsed": 0.3921630382537842,
       "initial": 0,
       "n": 0,
       "ncols": 197,
       "nrows": 48,
       "postfix": null,
       "prefix": "",
       "rate": null,
       "total": 45,
       "unit": "it",
       "unit_divisor": 1000,
       "unit_scale": false
      },
      "application/vnd.jupyter.widget-view+json": {
       "model_id": "c1199e85a1b74e0d8a548813ef9b94f5",
       "version_major": 2,
       "version_minor": 0
      },
      "text/plain": [
       "  0%|                                                                                                         …"
      ]
     },
     "metadata": {},
     "output_type": "display_data"
    },
    {
     "name": "stdout",
     "output_type": "stream",
     "text": [
      "* Accuracy : 0.8016759753227234\n",
      "\n",
      "=> load from : /runs/NB_EXP_V2_012/xcit_small_24_p16_384_dist_384_bs32_ep16_lr6e05_wd5e02_mixup_cutmix_CV_3.pth\n"
     ]
    },
    {
     "data": {
      "application/json": {
       "ascii": false,
       "bar_format": null,
       "colour": null,
       "elapsed": 0.4483628273010254,
       "initial": 0,
       "n": 0,
       "ncols": 197,
       "nrows": 48,
       "postfix": null,
       "prefix": "",
       "rate": null,
       "total": 45,
       "unit": "it",
       "unit_divisor": 1000,
       "unit_scale": false
      },
      "application/vnd.jupyter.widget-view+json": {
       "model_id": "9ef3b12ff881456bac107abcb9a4cd06",
       "version_major": 2,
       "version_minor": 0
      },
      "text/plain": [
       "  0%|                                                                                                         …"
      ]
     },
     "metadata": {},
     "output_type": "display_data"
    },
    {
     "name": "stdout",
     "output_type": "stream",
     "text": [
      "* Accuracy : 0.806913435459137\n",
      "\n",
      "=> load from : /runs/NB_EXP_V2_012/xcit_small_24_p16_384_dist_384_bs32_ep16_lr6e05_wd5e02_mixup_cutmix_CV_4.pth\n"
     ]
    },
    {
     "data": {
      "application/json": {
       "ascii": false,
       "bar_format": null,
       "colour": null,
       "elapsed": 0.38649535179138184,
       "initial": 0,
       "n": 0,
       "ncols": 197,
       "nrows": 48,
       "postfix": null,
       "prefix": "",
       "rate": null,
       "total": 45,
       "unit": "it",
       "unit_divisor": 1000,
       "unit_scale": false
      },
      "application/vnd.jupyter.widget-view+json": {
       "model_id": "ea97c771f4b9448fb048bd61d0f6ec79",
       "version_major": 2,
       "version_minor": 0
      },
      "text/plain": [
       "  0%|                                                                                                         …"
      ]
     },
     "metadata": {},
     "output_type": "display_data"
    },
    {
     "name": "stdout",
     "output_type": "stream",
     "text": [
      "* Accuracy : 0.8156424760818481\n",
      "\n",
      "\n",
      "****************************************************************************************************\n",
      "Run summary: \n",
      "****************************************************************************************************\n",
      "folds score:  [0.80314, 0.80593, 0.80168, 0.80691, 0.81564]\n",
      "Avg: 0.80666\n",
      "Std: 0.00487\n"
     ]
    }
   ],
   "source": [
    "folds_val_score = []\n",
    "for fold in range(5):\n",
    "    CHECKPOINT = MODEL_FOLDER/(KERNEL_TYPE + f\"_CV_{fold}.pth\")\n",
    "    print(f'=> load from : {CHECKPOINT}')\n",
    "    \n",
    "    model = get_corn_model(MODEL, pretrained=False)\n",
    "    model.load_state_dict(torch.load(CHECKPOINT))\n",
    "    model.eval()\n",
    "    model.cuda()\n",
    "    \n",
    "    dataset_valid = LoadImagesAndLabels(folds.query('fold==@fold'), transforms=VALID_AUG, mode=\"valid\")\n",
    "    loader_valid = torch.utils.data.DataLoader(dataset_valid, BS*2, num_workers=8, shuffle=False)\n",
    "    \n",
    "    preds, targs = [],[]\n",
    "    for input,target in tqdm(loader_valid, total=len(loader_valid), dynamic_ncols=True):\n",
    "        with torch.cuda.amp.autocast(), torch.no_grad():\n",
    "            input = input.cuda()\n",
    "            \n",
    "            output  = model(input)\n",
    "            output += model(torch.flip(input, dims=(3,)))\n",
    "            output += model(torch.flip(input, dims=(2,)))\n",
    "            output += model(torch.flip(input, dims=(2,3)))\n",
    "            \n",
    "        preds.append(output.data.cpu())\n",
    "        targs.append(target)\n",
    "    \n",
    "    preds = torch.cat(preds)\n",
    "    targs = torch.cat(targs)\n",
    "    \n",
    "    acc = accuracy(preds, targs).item()\n",
    "    print(f\"* Accuracy : {acc}\")\n",
    "    print()\n",
    "        \n",
    "    folds_val_score.append(acc)\n",
    "    \n",
    "    \n",
    "print()\n",
    "print('*' * 100)\n",
    "print(f'Run summary: ')\n",
    "print('*' * 100)\n",
    "print(\"folds score: \", [np.round(s, 5) for s in folds_val_score])\n",
    "print(\"Avg: {:.5f}\".format(np.mean(folds_val_score)))\n",
    "print(\"Std: {:.5f}\".format(np.std(folds_val_score)))"
   ]
  },
  {
   "cell_type": "code",
   "execution_count": null,
   "id": "7d0a4387-1dc1-48a2-b103-d97ba178ac07",
   "metadata": {},
   "outputs": [],
   "source": []
  },
  {
   "cell_type": "code",
   "execution_count": null,
   "id": "4b6556fe-7a4c-4f34-8c18-eb97b8d525b4",
   "metadata": {},
   "outputs": [],
   "source": []
  }
 ],
 "metadata": {
  "kernelspec": {
   "display_name": "Python 3 (ipykernel)",
   "language": "python",
   "name": "python3"
  },
  "language_info": {
   "codemirror_mode": {
    "name": "ipython",
    "version": 3
   },
   "file_extension": ".py",
   "mimetype": "text/x-python",
   "name": "python",
   "nbconvert_exporter": "python",
   "pygments_lexer": "ipython3",
   "version": "3.8.13"
  },
  "toc": {
   "base_numbering": 1,
   "nav_menu": {},
   "number_sections": true,
   "sideBar": true,
   "skip_h1_title": false,
   "title_cell": "Table of Contents",
   "title_sidebar": "Contents",
   "toc_cell": false,
   "toc_position": {},
   "toc_section_display": true,
   "toc_window_display": false
  },
  "toc-autonumbering": false,
  "toc-showcode": false,
  "toc-showmarkdowntxt": false,
  "toc-showtags": false,
  "widgets": {
   "application/vnd.jupyter.widget-state+json": {
    "state": {
     "08e7bd8d1ff14e998087a6dd19c594ef": {
      "model_module": "@jupyter-widgets/controls",
      "model_module_version": "2.0.0",
      "model_name": "ProgressStyleModel",
      "state": {
       "description_width": ""
      }
     },
     "0bf12a088ad64b2c916b5bf00e0b784b": {
      "model_module": "@jupyter-widgets/controls",
      "model_module_version": "2.0.0",
      "model_name": "HTMLStyleModel",
      "state": {
       "description_width": "",
       "font_size": null,
       "text_color": null
      }
     },
     "10456c5ef6a04244bc74e1bda3481567": {
      "model_module": "@jupyter-widgets/controls",
      "model_module_version": "2.0.0",
      "model_name": "HTMLStyleModel",
      "state": {
       "description_width": "",
       "font_size": null,
       "text_color": null
      }
     },
     "14dcbb522de243a6836381cdc96bc82f": {
      "model_module": "@jupyter-widgets/controls",
      "model_module_version": "2.0.0",
      "model_name": "HTMLModel",
      "state": {
       "layout": "IPY_MODEL_7f31201e86bc442db725243192d82fb7",
       "style": "IPY_MODEL_24f346fef79c47f39104859e217a864b",
       "value": " 45/45 [00:35&lt;00:00,  1.43it/s]"
      }
     },
     "16bcd441924643eaa6c0e9e874fe475c": {
      "model_module": "@jupyter-widgets/controls",
      "model_module_version": "2.0.0",
      "model_name": "HTMLModel",
      "state": {
       "layout": "IPY_MODEL_2164f6789993409b81d5adba466e35fe",
       "style": "IPY_MODEL_37a5f4e466fc4fd2af05529fbbed7db8",
       "value": "100%"
      }
     },
     "1c9814d5463c4f4a841f026feb77ce7b": {
      "model_module": "@jupyter-widgets/controls",
      "model_module_version": "2.0.0",
      "model_name": "ProgressStyleModel",
      "state": {
       "description_width": ""
      }
     },
     "1d3df3d392bd44b6ac43eb93503e22af": {
      "model_module": "@jupyter-widgets/base",
      "model_module_version": "2.0.0",
      "model_name": "LayoutModel",
      "state": {
       "flex": "2"
      }
     },
     "2164f6789993409b81d5adba466e35fe": {
      "model_module": "@jupyter-widgets/base",
      "model_module_version": "2.0.0",
      "model_name": "LayoutModel",
      "state": {}
     },
     "24f346fef79c47f39104859e217a864b": {
      "model_module": "@jupyter-widgets/controls",
      "model_module_version": "2.0.0",
      "model_name": "HTMLStyleModel",
      "state": {
       "description_width": "",
       "font_size": null,
       "text_color": null
      }
     },
     "2ba994d7978b42f5ad13b040434a4ba8": {
      "model_module": "@jupyter-widgets/base",
      "model_module_version": "2.0.0",
      "model_name": "LayoutModel",
      "state": {
       "display": "inline-flex",
       "flex_flow": "row wrap",
       "width": "100%"
      }
     },
     "2e7148cb122c4ae184cd15dac97e9580": {
      "model_module": "@jupyter-widgets/controls",
      "model_module_version": "2.0.0",
      "model_name": "FloatProgressModel",
      "state": {
       "bar_style": "success",
       "layout": "IPY_MODEL_4504367ca65f48369aa35f7872b9b632",
       "max": 45,
       "style": "IPY_MODEL_b7ce37310d704fb195027b1205eaa010",
       "value": 45
      }
     },
     "327baf28bea64836b4f72bbf6c45bb72": {
      "model_module": "@jupyter-widgets/base",
      "model_module_version": "2.0.0",
      "model_name": "LayoutModel",
      "state": {}
     },
     "373e53df0fd342958d3fc39e4391b8cd": {
      "model_module": "@jupyter-widgets/controls",
      "model_module_version": "2.0.0",
      "model_name": "FloatProgressModel",
      "state": {
       "bar_style": "success",
       "layout": "IPY_MODEL_576fd012c1dc4f08a6c4e71457bc1046",
       "max": 45,
       "style": "IPY_MODEL_58556975777e47a097542566f86df8bd",
       "value": 45
      }
     },
     "37a5f4e466fc4fd2af05529fbbed7db8": {
      "model_module": "@jupyter-widgets/controls",
      "model_module_version": "2.0.0",
      "model_name": "HTMLStyleModel",
      "state": {
       "description_width": "",
       "font_size": null,
       "text_color": null
      }
     },
     "3b3f3ea66a0146e49d1513718b5b28b6": {
      "model_module": "@jupyter-widgets/controls",
      "model_module_version": "2.0.0",
      "model_name": "HTMLModel",
      "state": {
       "layout": "IPY_MODEL_c4951a2c62df49b7b15a1414f321b1ec",
       "style": "IPY_MODEL_dfd150a283394e948e3fabae181f1db8",
       "value": "100%"
      }
     },
     "427bdd0680914248942b9c29d4707730": {
      "model_module": "@jupyter-widgets/base",
      "model_module_version": "2.0.0",
      "model_name": "LayoutModel",
      "state": {}
     },
     "4504367ca65f48369aa35f7872b9b632": {
      "model_module": "@jupyter-widgets/base",
      "model_module_version": "2.0.0",
      "model_name": "LayoutModel",
      "state": {
       "flex": "2"
      }
     },
     "4520c135320842189751a020a08a17a1": {
      "model_module": "@jupyter-widgets/base",
      "model_module_version": "2.0.0",
      "model_name": "LayoutModel",
      "state": {}
     },
     "461266c5973d4c409f4013854e48b721": {
      "model_module": "@jupyter-widgets/controls",
      "model_module_version": "2.0.0",
      "model_name": "HTMLStyleModel",
      "state": {
       "description_width": "",
       "font_size": null,
       "text_color": null
      }
     },
     "4737f5786d9345d7bb69969cd7143d86": {
      "model_module": "@jupyter-widgets/controls",
      "model_module_version": "2.0.0",
      "model_name": "HTMLModel",
      "state": {
       "layout": "IPY_MODEL_68c59e8e262046eaa7657a401b3dd0b1",
       "style": "IPY_MODEL_cce2f370ceb643078199f909b959a27a",
       "value": " 45/45 [00:36&lt;00:00,  1.43it/s]"
      }
     },
     "491237ec41524d7b9902ddf29ec46e38": {
      "model_module": "@jupyter-widgets/controls",
      "model_module_version": "2.0.0",
      "model_name": "HBoxModel",
      "state": {
       "children": [
        "IPY_MODEL_5b6a10b776c1492d8931fe33bffeafc5",
        "IPY_MODEL_da7e89f51e554b4985140e3692b71b4a",
        "IPY_MODEL_4737f5786d9345d7bb69969cd7143d86"
       ],
       "layout": "IPY_MODEL_2ba994d7978b42f5ad13b040434a4ba8"
      }
     },
     "492d9446776b4ffc86b2cdf3d7520f61": {
      "model_module": "@jupyter-widgets/base",
      "model_module_version": "2.0.0",
      "model_name": "LayoutModel",
      "state": {}
     },
     "4ae8f36c3e344e2f9261d13edd75c988": {
      "model_module": "@jupyter-widgets/controls",
      "model_module_version": "2.0.0",
      "model_name": "HTMLModel",
      "state": {
       "layout": "IPY_MODEL_492d9446776b4ffc86b2cdf3d7520f61",
       "style": "IPY_MODEL_461266c5973d4c409f4013854e48b721",
       "value": " 45/45 [00:35&lt;00:00,  1.44it/s]"
      }
     },
     "539d8174cba74101977d23a590db3ecb": {
      "model_module": "@jupyter-widgets/controls",
      "model_module_version": "2.0.0",
      "model_name": "HBoxModel",
      "state": {
       "children": [
        "IPY_MODEL_9a1e0c4b16d544198770cc0ff4c96eaf",
        "IPY_MODEL_e57886a651b548fa8a6a793c28e2e943",
        "IPY_MODEL_14dcbb522de243a6836381cdc96bc82f"
       ],
       "layout": "IPY_MODEL_b7592f75a0c148b68526d37d48e2bb08"
      }
     },
     "576fd012c1dc4f08a6c4e71457bc1046": {
      "model_module": "@jupyter-widgets/base",
      "model_module_version": "2.0.0",
      "model_name": "LayoutModel",
      "state": {
       "flex": "2"
      }
     },
     "58556975777e47a097542566f86df8bd": {
      "model_module": "@jupyter-widgets/controls",
      "model_module_version": "2.0.0",
      "model_name": "ProgressStyleModel",
      "state": {
       "description_width": ""
      }
     },
     "5a4a00116df14237b812d25913248a38": {
      "model_module": "@jupyter-widgets/base",
      "model_module_version": "2.0.0",
      "model_name": "LayoutModel",
      "state": {
       "display": "inline-flex",
       "flex_flow": "row wrap",
       "width": "100%"
      }
     },
     "5ab4d7f4ea9b43a59ea5e15d13852733": {
      "model_module": "@jupyter-widgets/controls",
      "model_module_version": "2.0.0",
      "model_name": "HBoxModel",
      "state": {
       "children": [
        "IPY_MODEL_741efd524d8a4b7cab13d8f1d09146e7",
        "IPY_MODEL_aba7b9b8de3d4165b397887ccefda360",
        "IPY_MODEL_d3b417b9a90f4a61b90b18463c651d74"
       ],
       "layout": "IPY_MODEL_8c0e8080a9334b87a15364ecfab01c77"
      }
     },
     "5b6a10b776c1492d8931fe33bffeafc5": {
      "model_module": "@jupyter-widgets/controls",
      "model_module_version": "2.0.0",
      "model_name": "HTMLModel",
      "state": {
       "layout": "IPY_MODEL_4520c135320842189751a020a08a17a1",
       "style": "IPY_MODEL_72784cb434a24fb380f07e71276040ed",
       "value": "100%"
      }
     },
     "68c59e8e262046eaa7657a401b3dd0b1": {
      "model_module": "@jupyter-widgets/base",
      "model_module_version": "2.0.0",
      "model_name": "LayoutModel",
      "state": {}
     },
     "69cd65d073824f068c33439d8dba29c1": {
      "model_module": "@jupyter-widgets/base",
      "model_module_version": "2.0.0",
      "model_name": "LayoutModel",
      "state": {
       "flex": "2"
      }
     },
     "72784cb434a24fb380f07e71276040ed": {
      "model_module": "@jupyter-widgets/controls",
      "model_module_version": "2.0.0",
      "model_name": "HTMLStyleModel",
      "state": {
       "description_width": "",
       "font_size": null,
       "text_color": null
      }
     },
     "741efd524d8a4b7cab13d8f1d09146e7": {
      "model_module": "@jupyter-widgets/controls",
      "model_module_version": "2.0.0",
      "model_name": "HTMLModel",
      "state": {
       "layout": "IPY_MODEL_cd08aa37bbaa4d30bbbac42273077dae",
       "style": "IPY_MODEL_10456c5ef6a04244bc74e1bda3481567",
       "value": "  0%"
      }
     },
     "766ed7ee5dab4067962de82ed4e6b3ed": {
      "model_module": "@jupyter-widgets/controls",
      "model_module_version": "2.0.0",
      "model_name": "HTMLStyleModel",
      "state": {
       "description_width": "",
       "font_size": null,
       "text_color": null
      }
     },
     "7b9921493c1e40dfaf51d2852ec461e9": {
      "model_module": "@jupyter-widgets/base",
      "model_module_version": "2.0.0",
      "model_name": "LayoutModel",
      "state": {}
     },
     "7ea46330363e4a0f88af129372c9b1db": {
      "model_module": "@jupyter-widgets/base",
      "model_module_version": "2.0.0",
      "model_name": "LayoutModel",
      "state": {
       "flex": "2"
      }
     },
     "7f31201e86bc442db725243192d82fb7": {
      "model_module": "@jupyter-widgets/base",
      "model_module_version": "2.0.0",
      "model_name": "LayoutModel",
      "state": {}
     },
     "88ae4848a14d4bf7afc4331278432f1c": {
      "model_module": "@jupyter-widgets/controls",
      "model_module_version": "2.0.0",
      "model_name": "ProgressStyleModel",
      "state": {
       "description_width": ""
      }
     },
     "8c0e8080a9334b87a15364ecfab01c77": {
      "model_module": "@jupyter-widgets/base",
      "model_module_version": "2.0.0",
      "model_name": "LayoutModel",
      "state": {
       "display": "inline-flex",
       "flex_flow": "row wrap",
       "width": "100%"
      }
     },
     "8d5797454e374dd4aaacde5d0e11ab20": {
      "model_module": "@jupyter-widgets/controls",
      "model_module_version": "2.0.0",
      "model_name": "HTMLModel",
      "state": {
       "layout": "IPY_MODEL_7b9921493c1e40dfaf51d2852ec461e9",
       "style": "IPY_MODEL_fb8862b93e3c4770a9d675296da7e694",
       "value": "100%"
      }
     },
     "932e3be51d5045eebd818db97de868c4": {
      "model_module": "@jupyter-widgets/controls",
      "model_module_version": "2.0.0",
      "model_name": "HTMLStyleModel",
      "state": {
       "description_width": "",
       "font_size": null,
       "text_color": null
      }
     },
     "9a1e0c4b16d544198770cc0ff4c96eaf": {
      "model_module": "@jupyter-widgets/controls",
      "model_module_version": "2.0.0",
      "model_name": "HTMLModel",
      "state": {
       "layout": "IPY_MODEL_427bdd0680914248942b9c29d4707730",
       "style": "IPY_MODEL_0bf12a088ad64b2c916b5bf00e0b784b",
       "value": "100%"
      }
     },
     "9ef3b12ff881456bac107abcb9a4cd06": {
      "model_module": "@jupyter-widgets/controls",
      "model_module_version": "2.0.0",
      "model_name": "HBoxModel",
      "state": {
       "children": [
        "IPY_MODEL_16bcd441924643eaa6c0e9e874fe475c",
        "IPY_MODEL_ebacc76a6f1b4020a75cc4d72ccf5eb8",
        "IPY_MODEL_4ae8f36c3e344e2f9261d13edd75c988"
       ],
       "layout": "IPY_MODEL_5a4a00116df14237b812d25913248a38"
      }
     },
     "aba7b9b8de3d4165b397887ccefda360": {
      "model_module": "@jupyter-widgets/controls",
      "model_module_version": "2.0.0",
      "model_name": "FloatProgressModel",
      "state": {
       "layout": "IPY_MODEL_7ea46330363e4a0f88af129372c9b1db",
       "max": 45,
       "style": "IPY_MODEL_ba97d9d836df4a518fba72b794212afd"
      }
     },
     "ac305d495fc746f28fd498c66f2668cb": {
      "model_module": "@jupyter-widgets/controls",
      "model_module_version": "2.0.0",
      "model_name": "HTMLStyleModel",
      "state": {
       "description_width": "",
       "font_size": null,
       "text_color": null
      }
     },
     "aef87f6292744fb291c817168855a45e": {
      "model_module": "@jupyter-widgets/base",
      "model_module_version": "2.0.0",
      "model_name": "LayoutModel",
      "state": {
       "display": "inline-flex",
       "flex_flow": "row wrap",
       "width": "100%"
      }
     },
     "b7592f75a0c148b68526d37d48e2bb08": {
      "model_module": "@jupyter-widgets/base",
      "model_module_version": "2.0.0",
      "model_name": "LayoutModel",
      "state": {
       "display": "inline-flex",
       "flex_flow": "row wrap",
       "width": "100%"
      }
     },
     "b7ce37310d704fb195027b1205eaa010": {
      "model_module": "@jupyter-widgets/controls",
      "model_module_version": "2.0.0",
      "model_name": "ProgressStyleModel",
      "state": {
       "description_width": ""
      }
     },
     "b838800bd68d4a808d3561050a3e98bb": {
      "model_module": "@jupyter-widgets/controls",
      "model_module_version": "2.0.0",
      "model_name": "HTMLModel",
      "state": {
       "layout": "IPY_MODEL_327baf28bea64836b4f72bbf6c45bb72",
       "style": "IPY_MODEL_ac305d495fc746f28fd498c66f2668cb",
       "value": " 45/45 [00:35&lt;00:00,  1.44it/s]"
      }
     },
     "ba4c671136b94c1fab1abc30c3a08ba6": {
      "model_module": "@jupyter-widgets/base",
      "model_module_version": "2.0.0",
      "model_name": "LayoutModel",
      "state": {
       "display": "inline-flex",
       "flex_flow": "row wrap",
       "width": "100%"
      }
     },
     "ba97d9d836df4a518fba72b794212afd": {
      "model_module": "@jupyter-widgets/controls",
      "model_module_version": "2.0.0",
      "model_name": "ProgressStyleModel",
      "state": {
       "description_width": ""
      }
     },
     "bcfb3497e413499b990167d4bec08759": {
      "model_module": "@jupyter-widgets/base",
      "model_module_version": "2.0.0",
      "model_name": "LayoutModel",
      "state": {
       "flex": "2"
      }
     },
     "c1199e85a1b74e0d8a548813ef9b94f5": {
      "model_module": "@jupyter-widgets/controls",
      "model_module_version": "2.0.0",
      "model_name": "HBoxModel",
      "state": {
       "children": [
        "IPY_MODEL_3b3f3ea66a0146e49d1513718b5b28b6",
        "IPY_MODEL_373e53df0fd342958d3fc39e4391b8cd",
        "IPY_MODEL_cb5501d5a9fe409a8de48ebd5648d155"
       ],
       "layout": "IPY_MODEL_aef87f6292744fb291c817168855a45e"
      }
     },
     "c4951a2c62df49b7b15a1414f321b1ec": {
      "model_module": "@jupyter-widgets/base",
      "model_module_version": "2.0.0",
      "model_name": "LayoutModel",
      "state": {}
     },
     "cb5501d5a9fe409a8de48ebd5648d155": {
      "model_module": "@jupyter-widgets/controls",
      "model_module_version": "2.0.0",
      "model_name": "HTMLModel",
      "state": {
       "layout": "IPY_MODEL_f613f90cfc5e4cdb836ef45cf6d66eb6",
       "style": "IPY_MODEL_766ed7ee5dab4067962de82ed4e6b3ed",
       "value": " 45/45 [00:35&lt;00:00,  1.44it/s]"
      }
     },
     "cce2f370ceb643078199f909b959a27a": {
      "model_module": "@jupyter-widgets/controls",
      "model_module_version": "2.0.0",
      "model_name": "HTMLStyleModel",
      "state": {
       "description_width": "",
       "font_size": null,
       "text_color": null
      }
     },
     "cd08aa37bbaa4d30bbbac42273077dae": {
      "model_module": "@jupyter-widgets/base",
      "model_module_version": "2.0.0",
      "model_name": "LayoutModel",
      "state": {}
     },
     "d3b417b9a90f4a61b90b18463c651d74": {
      "model_module": "@jupyter-widgets/controls",
      "model_module_version": "2.0.0",
      "model_name": "HTMLModel",
      "state": {
       "layout": "IPY_MODEL_f0af36358388448e8c5bf37ab2710f5c",
       "style": "IPY_MODEL_932e3be51d5045eebd818db97de868c4",
       "value": " 0/45 [00:00&lt;?, ?it/s]"
      }
     },
     "da7e89f51e554b4985140e3692b71b4a": {
      "model_module": "@jupyter-widgets/controls",
      "model_module_version": "2.0.0",
      "model_name": "FloatProgressModel",
      "state": {
       "bar_style": "success",
       "layout": "IPY_MODEL_1d3df3d392bd44b6ac43eb93503e22af",
       "max": 45,
       "style": "IPY_MODEL_88ae4848a14d4bf7afc4331278432f1c",
       "value": 45
      }
     },
     "dfd150a283394e948e3fabae181f1db8": {
      "model_module": "@jupyter-widgets/controls",
      "model_module_version": "2.0.0",
      "model_name": "HTMLStyleModel",
      "state": {
       "description_width": "",
       "font_size": null,
       "text_color": null
      }
     },
     "e57886a651b548fa8a6a793c28e2e943": {
      "model_module": "@jupyter-widgets/controls",
      "model_module_version": "2.0.0",
      "model_name": "FloatProgressModel",
      "state": {
       "bar_style": "success",
       "layout": "IPY_MODEL_69cd65d073824f068c33439d8dba29c1",
       "max": 45,
       "style": "IPY_MODEL_08e7bd8d1ff14e998087a6dd19c594ef",
       "value": 45
      }
     },
     "ea97c771f4b9448fb048bd61d0f6ec79": {
      "model_module": "@jupyter-widgets/controls",
      "model_module_version": "2.0.0",
      "model_name": "HBoxModel",
      "state": {
       "children": [
        "IPY_MODEL_8d5797454e374dd4aaacde5d0e11ab20",
        "IPY_MODEL_2e7148cb122c4ae184cd15dac97e9580",
        "IPY_MODEL_b838800bd68d4a808d3561050a3e98bb"
       ],
       "layout": "IPY_MODEL_ba4c671136b94c1fab1abc30c3a08ba6"
      }
     },
     "ebacc76a6f1b4020a75cc4d72ccf5eb8": {
      "model_module": "@jupyter-widgets/controls",
      "model_module_version": "2.0.0",
      "model_name": "FloatProgressModel",
      "state": {
       "bar_style": "success",
       "layout": "IPY_MODEL_bcfb3497e413499b990167d4bec08759",
       "max": 45,
       "style": "IPY_MODEL_1c9814d5463c4f4a841f026feb77ce7b",
       "value": 45
      }
     },
     "f0af36358388448e8c5bf37ab2710f5c": {
      "model_module": "@jupyter-widgets/base",
      "model_module_version": "2.0.0",
      "model_name": "LayoutModel",
      "state": {}
     },
     "f613f90cfc5e4cdb836ef45cf6d66eb6": {
      "model_module": "@jupyter-widgets/base",
      "model_module_version": "2.0.0",
      "model_name": "LayoutModel",
      "state": {}
     },
     "fb8862b93e3c4770a9d675296da7e694": {
      "model_module": "@jupyter-widgets/controls",
      "model_module_version": "2.0.0",
      "model_name": "HTMLStyleModel",
      "state": {
       "description_width": "",
       "font_size": null,
       "text_color": null
      }
     }
    },
    "version_major": 2,
    "version_minor": 0
   }
  }
 },
 "nbformat": 4,
 "nbformat_minor": 5
}
