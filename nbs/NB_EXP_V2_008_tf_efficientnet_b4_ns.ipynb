{
 "cells": [
  {
   "cell_type": "code",
   "execution_count": 1,
   "id": "99934bce",
   "metadata": {},
   "outputs": [],
   "source": [
    "from fastai.vision.all import *\n",
    "from sklearn.model_selection import StratifiedKFold\n",
    "\n",
    "from ipyexperiments.ipyexperiments import IPyExperimentsPytorch\n",
    "import timm,wandb,albumentations as A\n",
    "from albumentations.pytorch import ToTensorV2\n",
    "\n",
    "import cv2,torchvision\n",
    "from timm.loss import SoftTargetCrossEntropy\n",
    "from timm.data.mixup import Mixup\n",
    "from timm.scheduler import CosineLRScheduler\n",
    "from timm.optim.optim_factory import create_optimizer_v2\n",
    "from timm.models import safe_model_name, set_fast_norm\n",
    "from timm.models.layers import create_classifier, SelectAdaptivePool2d\n",
    "from tqdm.auto import tqdm\n",
    "from fastprogress.fastprogress import format_time\n",
    "from ranger.ranger2020 import Ranger\n",
    "from timm import utils"
   ]
  },
  {
   "cell_type": "code",
   "execution_count": 2,
   "id": "398467ab",
   "metadata": {},
   "outputs": [],
   "source": [
    "set_seed(42); set_fast_norm()\n",
    "warnings.filterwarnings('ignore')"
   ]
  },
  {
   "cell_type": "markdown",
   "id": "d6298957",
   "metadata": {},
   "source": [
    "## Config"
   ]
  },
  {
   "cell_type": "code",
   "execution_count": 19,
   "id": "8414a79e",
   "metadata": {},
   "outputs": [
    {
     "name": "stdout",
     "output_type": "stream",
     "text": [
      "/runs/NB_EXP_V2_008\n",
      "tf_efficientnet_b4_ns_448_bs32_ep15_lr0.0003_wd0.01_mixup_cutmix\n"
     ]
    }
   ],
   "source": [
    "DATA_PATH = Path('/data/')\n",
    "CSV_PATH = DATA_PATH/'train.csv'\n",
    "FOLD_PATH = DATA_PATH/'train_folds.csv'\n",
    "IMAGE_FOLDER = DATA_PATH/'train'\n",
    "\n",
    "LABELS = sorted(['broken', 'pure', 'discolored', 'silkcut'])\n",
    "labels_class_map = {v:k for k,v in enumerate(LABELS)}\n",
    "labels_class_map_rev = {v:k for k,v in labels_class_map.items()}\n",
    "\n",
    "VIEWS = sorted(['top', 'bottom'])\n",
    "views_class_map = {v:k for k,v in enumerate(VIEWS)}\n",
    "views_class_map_rev = {v:k for k,v in views_class_map.items()}\n",
    "\n",
    "VERSION = \"NB_EXP_V2_008\"\n",
    "MODEL = \"tf_efficientnet_b4_ns\"\n",
    "BS = 32\n",
    "SZ = 448\n",
    "EP = 15\n",
    "LR = 3e-04\n",
    "WD = 0.01\n",
    "\n",
    "mixup_args = dict(mixup_alpha=0.5, cutmix_alpha=1.0, prob=0.6, switch_prob=0.5, label_smoothing=0.01, num_classes=len(LABELS))\n",
    "\n",
    "MODEL_FOLDER = Path(f\"/runs/{VERSION}/\")\n",
    "MODEL_FOLDER.mkdir(exist_ok=True)\n",
    "\n",
    "KERNEL_TYPE = f\"{MODEL}_{SZ}_bs{BS}_ep{EP}_lr{str(LR).replace('-','')}_wd{str(WD).replace('-','')}_mixup_cutmix\"\n",
    "\n",
    "print(MODEL_FOLDER)\n",
    "print(KERNEL_TYPE)"
   ]
  },
  {
   "cell_type": "code",
   "execution_count": 20,
   "id": "75207499",
   "metadata": {},
   "outputs": [
    {
     "data": {
      "text/html": [
       "<div>\n",
       "<style scoped>\n",
       "    .dataframe tbody tr th:only-of-type {\n",
       "        vertical-align: middle;\n",
       "    }\n",
       "\n",
       "    .dataframe tbody tr th {\n",
       "        vertical-align: top;\n",
       "    }\n",
       "\n",
       "    .dataframe thead th {\n",
       "        text-align: right;\n",
       "    }\n",
       "</style>\n",
       "<table border=\"1\" class=\"dataframe\">\n",
       "  <thead>\n",
       "    <tr style=\"text-align: right;\">\n",
       "      <th></th>\n",
       "      <th>seed_id</th>\n",
       "      <th>view</th>\n",
       "      <th>image</th>\n",
       "      <th>label</th>\n",
       "      <th>fold</th>\n",
       "    </tr>\n",
       "  </thead>\n",
       "  <tbody>\n",
       "    <tr>\n",
       "      <th>0</th>\n",
       "      <td>0</td>\n",
       "      <td>top</td>\n",
       "      <td>train/00000.png</td>\n",
       "      <td>broken</td>\n",
       "      <td>0</td>\n",
       "    </tr>\n",
       "    <tr>\n",
       "      <th>1</th>\n",
       "      <td>1</td>\n",
       "      <td>bottom</td>\n",
       "      <td>train/00001.png</td>\n",
       "      <td>pure</td>\n",
       "      <td>3</td>\n",
       "    </tr>\n",
       "    <tr>\n",
       "      <th>2</th>\n",
       "      <td>3</td>\n",
       "      <td>top</td>\n",
       "      <td>train/00003.png</td>\n",
       "      <td>broken</td>\n",
       "      <td>2</td>\n",
       "    </tr>\n",
       "    <tr>\n",
       "      <th>3</th>\n",
       "      <td>4</td>\n",
       "      <td>top</td>\n",
       "      <td>train/00004.png</td>\n",
       "      <td>pure</td>\n",
       "      <td>3</td>\n",
       "    </tr>\n",
       "    <tr>\n",
       "      <th>4</th>\n",
       "      <td>5</td>\n",
       "      <td>top</td>\n",
       "      <td>train/00005.png</td>\n",
       "      <td>discolored</td>\n",
       "      <td>4</td>\n",
       "    </tr>\n",
       "  </tbody>\n",
       "</table>\n",
       "</div>"
      ],
      "text/plain": [
       "   seed_id    view            image       label  fold\n",
       "0        0     top  train/00000.png      broken     0\n",
       "1        1  bottom  train/00001.png        pure     3\n",
       "2        3     top  train/00003.png      broken     2\n",
       "3        4     top  train/00004.png        pure     3\n",
       "4        5     top  train/00005.png  discolored     4"
      ]
     },
     "execution_count": 20,
     "metadata": {},
     "output_type": "execute_result"
    }
   ],
   "source": [
    "folds = pd.read_csv(FOLD_PATH)\n",
    "folds.head()"
   ]
  },
  {
   "cell_type": "code",
   "execution_count": 21,
   "id": "371add5e",
   "metadata": {},
   "outputs": [],
   "source": [
    "class LoadImagesAndLabels(torch.utils.data.Dataset):\n",
    "    \n",
    "    def __init__(self, df, transforms, mode='train'):\n",
    "        self.df = df\n",
    "        self.transforms = transforms\n",
    "        self.mode = mode\n",
    "        \n",
    "    def __len__(self): return len(self.df)\n",
    "    \n",
    "    def __getitem__(self,index):\n",
    "        row = self.df.iloc[index]\n",
    "        img_path = str(DATA_PATH/row.image)\n",
    "        \n",
    "        img = Image.open(img_path).convert(\"RGB\")\n",
    "        img = np.array(img)\n",
    "        \n",
    "        if self.transforms is not None:\n",
    "            img = self.transforms(image=img)['image']\n",
    "        \n",
    "        if self.mode == 'test':\n",
    "            return img\n",
    "            \n",
    "        label = torch.tensor(labels_class_map[row.label]).long()\n",
    "        return img, label"
   ]
  },
  {
   "cell_type": "markdown",
   "id": "0eff8e2d",
   "metadata": {},
   "source": [
    "## Augmentations"
   ]
  },
  {
   "cell_type": "code",
   "execution_count": 22,
   "id": "d4380923",
   "metadata": {},
   "outputs": [],
   "source": [
    "TRAIN_AUG = A.Compose([\n",
    "    A.RandomResizedCrop(height=SZ, width=SZ, p=1.0, scale=(0.72, 1.0)),\n",
    "    A.Transpose(p=0.5),\n",
    "    A.HorizontalFlip(p=0.5),\n",
    "    A.VerticalFlip(p=0.5),\n",
    "    A.ShiftScaleRotate(rotate_limit=360, border_mode=0, p=0.75),\n",
    "    A.RandomBrightnessContrast(brightness_limit=0.1, contrast_limit=0.1),\n",
    "    A.Blur(p=0.5),\n",
    "    A.CoarseDropout(max_height=int(32*(SZ/512)), max_width=int(32*(SZ/512)), p=0.75),\n",
    "    A.Normalize(),\n",
    "    ToTensorV2(),\n",
    "])\n",
    "\n",
    "VALID_AUG = A.Compose([\n",
    "    A.SmallestMaxSize(max_size=SZ + 16, p=1.0),\n",
    "    A.CenterCrop(height=SZ, width=SZ, p=1.0),\n",
    "    A.Normalize(),\n",
    "    ToTensorV2(),\n",
    "])"
   ]
  },
  {
   "cell_type": "markdown",
   "id": "d7c2b460",
   "metadata": {},
   "source": [
    "## Visualization"
   ]
  },
  {
   "cell_type": "code",
   "execution_count": 23,
   "id": "50285ef0",
   "metadata": {},
   "outputs": [
    {
     "data": {
      "image/png": "[encoded data removed]",
      "text/plain": [
       "<Figure size 1080x576 with 1 Axes>"
      ]
     },
     "metadata": {
      "needs_background": "light"
     },
     "output_type": "display_data"
    }
   ],
   "source": [
    "dataset_show = LoadImagesAndLabels(folds, TRAIN_AUG, mode='train')\n",
    "loader_show = torch.utils.data.DataLoader(dataset_show, batch_size=6)\n",
    "img,target = next(iter(loader_show))\n",
    "\n",
    "grid = torchvision.utils.make_grid(img, normalize=True, padding=2)\n",
    "grid = grid.permute(1, 2, 0)\n",
    "show_image(grid, figsize=(15,8), title=[labels_class_map_rev[x] for x in target.numpy()]);"
   ]
  },
  {
   "cell_type": "code",
   "execution_count": 24,
   "id": "bcafe1be-b031-46b5-9181-24518f449de6",
   "metadata": {},
   "outputs": [
    {
     "data": {
      "image/png": "[encoded data removed]",
      "text/plain": [
       "<Figure size 1080x576 with 1 Axes>"
      ]
     },
     "metadata": {
      "needs_background": "light"
     },
     "output_type": "display_data"
    }
   ],
   "source": [
    "dataset_show = LoadImagesAndLabels(folds, VALID_AUG, mode='train')\n",
    "loader_show = torch.utils.data.DataLoader(dataset_show, batch_size=6)\n",
    "img,target = next(iter(loader_show))\n",
    "\n",
    "grid = torchvision.utils.make_grid(img, normalize=True, padding=2)\n",
    "grid = grid.permute(1, 2, 0)\n",
    "show_image(grid, figsize=(15,8), title=[labels_class_map_rev[x] for x in target.numpy()]);"
   ]
  },
  {
   "cell_type": "markdown",
   "id": "dd312637",
   "metadata": {},
   "source": [
    "## Model"
   ]
  },
  {
   "cell_type": "code",
   "execution_count": 25,
   "id": "1f5cde58",
   "metadata": {},
   "outputs": [],
   "source": [
    "def get_corn_model(model_name, pretrained=True, **kwargs):\n",
    "    model = timm.create_model(model_name, pretrained=pretrained, **kwargs)\n",
    "    model = nn.Sequential(model, nn.Dropout(0.15), nn.Linear(model.num_classes, len(LABELS)))\n",
    "    return model"
   ]
  },
  {
   "cell_type": "markdown",
   "id": "72d24d4f",
   "metadata": {
    "tags": []
   },
   "source": [
    "## Train & Validation Function¶"
   ]
  },
  {
   "cell_type": "code",
   "execution_count": 26,
   "id": "9d5a1f6c",
   "metadata": {},
   "outputs": [],
   "source": [
    "def train_one_epoch(\n",
    "    model: nn.Module,\n",
    "    loader: Iterable,\n",
    "    loss_fn: Callable,\n",
    "    optimizer: torch.optim.Optimizer,\n",
    "    lr_scheduler: torch.optim.lr_scheduler._LRScheduler = None,\n",
    "    mixup_fn: Callable = None,\n",
    "    grad_scaler: torch.cuda.amp.GradScaler = None,\n",
    "    mbar: master_bar = None,\n",
    "):\n",
    "\n",
    "    model.train()\n",
    "\n",
    "    losses_m = utils.AverageMeter()\n",
    "\n",
    "    pbar = progress_bar(loader, parent=mbar, leave=False)\n",
    "    pbar.update(0)\n",
    "\n",
    "    for batch_idx, (input, target) in enumerate(loader):\n",
    "        input, target = input.cuda(), target.cuda()\n",
    "        input, target = mixup_fn(input, target)\n",
    "\n",
    "        optimizer.zero_grad()\n",
    "        with torch.cuda.amp.autocast(enabled=True):\n",
    "            output = model(input)\n",
    "            loss = loss_fn(output, target)\n",
    "\n",
    "        losses_m.update(loss.item(), input.size(0))\n",
    "\n",
    "        grad_scaler.scale(loss).backward()\n",
    "        grad_scaler.step(optimizer)\n",
    "        grad_scaler.update()\n",
    "\n",
    "        if lr_scheduler is not None:\n",
    "            lr_scheduler.step()\n",
    "\n",
    "        pbar.update(batch_idx + 1)\n",
    "        pbar.comment = f\"{losses_m.avg:.4f}\"\n",
    "\n",
    "    pbar.on_iter_end()\n",
    "    return OrderedDict([(\"loss\", losses_m.avg)])\n",
    "\n",
    "\n",
    "@torch.inference_mode()\n",
    "def validate(model: nn.Module, loader: Iterable, loss_fn: Callable, mbar: master_bar):\n",
    "    model.eval()\n",
    "\n",
    "    accs_m = utils.AverageMeter()\n",
    "    losses_m = utils.AverageMeter()\n",
    "\n",
    "    pbar = progress_bar(loader, parent=mbar, leave=False)\n",
    "    pbar.update(0)\n",
    "\n",
    "    for batch_idx, (input, target) in enumerate(loader):\n",
    "        input, target = input.cuda(), target.cuda()\n",
    "        output = model(input)\n",
    "\n",
    "        loss = loss_fn(output, target).item()\n",
    "        losses_m.update(loss, input.size(0))\n",
    "\n",
    "        acc = accuracy(output, target).item()\n",
    "        accs_m.update(acc, output.size(0))\n",
    "\n",
    "        pbar.update(batch_idx + 1)\n",
    "\n",
    "    pbar.on_iter_end()\n",
    "    return OrderedDict([(\"loss\", losses_m.avg), (\"accuracy\", accs_m.avg)])"
   ]
  },
  {
   "cell_type": "markdown",
   "id": "f70b2b1d",
   "metadata": {},
   "source": [
    "## Run!"
   ]
  },
  {
   "cell_type": "code",
   "execution_count": 27,
   "id": "dbc36f99",
   "metadata": {},
   "outputs": [],
   "source": [
    "def training_loop(fold):\n",
    "    with IPyExperimentsPytorch(cl_set_seed=42):\n",
    "        print()\n",
    "        print(\"*\" * 100)\n",
    "        print(f\"Training fold {fold}\")\n",
    "        print(\"*\" * 100)\n",
    "\n",
    "        torch.backends.cudnn.benchmark = True\n",
    "\n",
    "        dataset_train = LoadImagesAndLabels(folds.query(\"fold!=@fold\"), transforms=TRAIN_AUG, mode=\"train\")\n",
    "        dataset_valid = LoadImagesAndLabels(folds.query(\"fold==@fold\"), transforms=VALID_AUG, mode=\"valid\")\n",
    "\n",
    "        print(f\"TRAIN: {len(dataset_train)} | VALID: {len(dataset_valid)}\")\n",
    "\n",
    "        loader_train = torch.utils.data.DataLoader(dataset_train, BS, num_workers=8, shuffle=True, drop_last=True)\n",
    "        loader_valid = torch.utils.data.DataLoader(dataset_valid, BS * 2, num_workers=8, shuffle=False)\n",
    "\n",
    "        model = get_corn_model(MODEL, pretrained=True, drop_path_rate=0.3)\n",
    "        model.cuda()\n",
    "\n",
    "        optimizer = create_optimizer_v2(model, \"adamw\", lr=LR, weight_decay=WD)\n",
    "\n",
    "        num_train_steps = len(loader_train) * EP\n",
    "        lr_scheduler = torch.optim.lr_scheduler.CosineAnnealingLR(optimizer, num_train_steps)\n",
    "\n",
    "        mixup = Mixup(**mixup_args)\n",
    "\n",
    "        train_loss_fn = SoftTargetCrossEntropy()\n",
    "        valid_loss_fn = nn.CrossEntropyLoss()\n",
    "\n",
    "        grad_scaler = torch.cuda.amp.GradScaler()\n",
    "\n",
    "        print(f\"Scheduled epochs: {EP}\")\n",
    "\n",
    "        mbar = master_bar(list(range(EP)))\n",
    "        best_epoch, best_metric = 0, 0\n",
    "        metric_names = [\"epoch\", \"train_loss\", \"valid_loss\", \"accuracy\", \"time\"]\n",
    "        mbar.write([f\"{l:.6f}\" if isinstance(l, float) else str(l) for l in metric_names], table=True)\n",
    "\n",
    "        for epoch in range(EP):\n",
    "            start_time = time.time()\n",
    "            mbar.update(epoch)\n",
    "\n",
    "            train_metrics = train_one_epoch(\n",
    "                model, loader_train, train_loss_fn, optimizer,\n",
    "                lr_scheduler=lr_scheduler, mixup_fn=mixup, grad_scaler=grad_scaler, mbar=mbar)\n",
    "\n",
    "            valid_metrics = validate(model, loader_valid, valid_loss_fn, mbar=mbar)\n",
    "            \n",
    "            elapsed = format_time(time.time() - start_time)\n",
    "            epoch_log = [epoch,train_metrics[\"loss\"], valid_metrics[\"loss\"], valid_metrics[\"accuracy\"], elapsed]\n",
    "            mbar.write([f\"{l:.6f}\" if isinstance(l, float) else str(l) for l in epoch_log], table=True)\n",
    "\n",
    "            if valid_metrics[\"accuracy\"] > best_metric:\n",
    "                best_epoch, best_metric = epoch, valid_metrics[\"accuracy\"]\n",
    "                dirpath = MODEL_FOLDER / (KERNEL_TYPE + f\"_CV_{fold}.pth\")\n",
    "                torch.save(model.state_dict(), dirpath)\n",
    "\n",
    "        mbar.on_iter_end()\n",
    "        print(\"*** Best metric: {0} (epoch {1})\".format(best_metric, best_epoch))"
   ]
  },
  {
   "cell_type": "code",
   "execution_count": 28,
   "id": "148de258",
   "metadata": {},
   "outputs": [
    {
     "name": "stdout",
     "output_type": "stream",
     "text": [
      "\n",
      "*** Experiment started with the Pytorch backend\n",
      "Device: ID 0, NVIDIA GeForce RTX 3090 (24576 RAM)\n",
      "\n",
      "\n",
      "*** Current state:\n",
      "RAM:    Used    Free   Total       Util\n",
      "CPU:   1,681  11,273  15,897 MB  10.58% \n",
      "GPU:   1,133  23,442  24,576 MB   4.61% \n",
      "\n",
      "\n",
      "\n",
      "****************************************************************************************************\n",
      "Training fold 0\n",
      "****************************************************************************************************\n",
      "TRAIN: 11457 | VALID: 2865\n",
      "Scheduled epochs: 15\n"
     ]
    },
    {
     "data": {
      "text/html": [
       "\n",
       "<style>\n",
       "    /* Turns off some styling */\n",
       "    progress {\n",
       "        /* gets rid of default border in Firefox and Opera. */\n",
       "        border: none;\n",
       "        /* Needs to be in here for Safari polyfill so background images work as expected. */\n",
       "        background-size: auto;\n",
       "    }\n",
       "    progress:not([value]), progress:not([value])::-webkit-progress-bar {\n",
       "        background: repeating-linear-gradient(45deg, #7e7e7e, #7e7e7e 10px, #5c5c5c 10px, #5c5c5c 20px);\n",
       "    }\n",
       "    .progress-bar-interrupted, .progress-bar-interrupted::-webkit-progress-bar {\n",
       "        background: #F44336;\n",
       "    }\n",
       "</style>\n"
      ],
      "text/plain": [
       "<IPython.core.display.HTML object>"
      ]
     },
     "metadata": {},
     "output_type": "display_data"
    },
    {
     "data": {
      "text/html": [
       "<table border=\"1\" class=\"dataframe\">\n",
       "  <thead>\n",
       "    <tr style=\"text-align: left;\">\n",
       "      <th>epoch</th>\n",
       "      <th>train_loss</th>\n",
       "      <th>valid_loss</th>\n",
       "      <th>accuracy</th>\n",
       "      <th>time</th>\n",
       "    </tr>\n",
       "  </thead>\n",
       "  <tbody>\n",
       "    <tr>\n",
       "      <td>0</td>\n",
       "      <td>0.986624</td>\n",
       "      <td>0.683153</td>\n",
       "      <td>0.736824</td>\n",
       "      <td>02:04</td>\n",
       "    </tr>\n",
       "    <tr>\n",
       "      <td>1</td>\n",
       "      <td>0.867105</td>\n",
       "      <td>0.636112</td>\n",
       "      <td>0.750785</td>\n",
       "      <td>01:57</td>\n",
       "    </tr>\n",
       "    <tr>\n",
       "      <td>2</td>\n",
       "      <td>0.831992</td>\n",
       "      <td>0.569702</td>\n",
       "      <td>0.771030</td>\n",
       "      <td>01:57</td>\n",
       "    </tr>\n",
       "    <tr>\n",
       "      <td>3</td>\n",
       "      <td>0.803514</td>\n",
       "      <td>0.580398</td>\n",
       "      <td>0.776963</td>\n",
       "      <td>01:57</td>\n",
       "    </tr>\n",
       "    <tr>\n",
       "      <td>4</td>\n",
       "      <td>0.795693</td>\n",
       "      <td>0.544977</td>\n",
       "      <td>0.786736</td>\n",
       "      <td>01:57</td>\n",
       "    </tr>\n",
       "    <tr>\n",
       "      <td>5</td>\n",
       "      <td>0.748368</td>\n",
       "      <td>0.568547</td>\n",
       "      <td>0.771030</td>\n",
       "      <td>01:57</td>\n",
       "    </tr>\n",
       "    <tr>\n",
       "      <td>6</td>\n",
       "      <td>0.752867</td>\n",
       "      <td>0.530357</td>\n",
       "      <td>0.784642</td>\n",
       "      <td>01:57</td>\n",
       "    </tr>\n",
       "    <tr>\n",
       "      <td>7</td>\n",
       "      <td>0.710669</td>\n",
       "      <td>0.526119</td>\n",
       "      <td>0.785689</td>\n",
       "      <td>01:58</td>\n",
       "    </tr>\n",
       "    <tr>\n",
       "      <td>8</td>\n",
       "      <td>0.718503</td>\n",
       "      <td>0.535284</td>\n",
       "      <td>0.798255</td>\n",
       "      <td>01:58</td>\n",
       "    </tr>\n",
       "    <tr>\n",
       "      <td>9</td>\n",
       "      <td>0.695672</td>\n",
       "      <td>0.515994</td>\n",
       "      <td>0.787784</td>\n",
       "      <td>01:58</td>\n",
       "    </tr>\n",
       "    <tr>\n",
       "      <td>10</td>\n",
       "      <td>0.653131</td>\n",
       "      <td>0.497987</td>\n",
       "      <td>0.796859</td>\n",
       "      <td>01:58</td>\n",
       "    </tr>\n",
       "    <tr>\n",
       "      <td>11</td>\n",
       "      <td>0.667704</td>\n",
       "      <td>0.512820</td>\n",
       "      <td>0.797208</td>\n",
       "      <td>01:58</td>\n",
       "    </tr>\n",
       "    <tr>\n",
       "      <td>12</td>\n",
       "      <td>0.662905</td>\n",
       "      <td>0.506140</td>\n",
       "      <td>0.802094</td>\n",
       "      <td>01:58</td>\n",
       "    </tr>\n",
       "    <tr>\n",
       "      <td>13</td>\n",
       "      <td>0.636247</td>\n",
       "      <td>0.503673</td>\n",
       "      <td>0.803839</td>\n",
       "      <td>01:58</td>\n",
       "    </tr>\n",
       "    <tr>\n",
       "      <td>14</td>\n",
       "      <td>0.656385</td>\n",
       "      <td>0.501920</td>\n",
       "      <td>0.802443</td>\n",
       "      <td>01:58</td>\n",
       "    </tr>\n",
       "  </tbody>\n",
       "</table>"
      ],
      "text/plain": [
       "<IPython.core.display.HTML object>"
      ]
     },
     "metadata": {},
     "output_type": "display_data"
    },
    {
     "name": "stdout",
     "output_type": "stream",
     "text": [
      "*** Best metric: 0.8038394413277324 (epoch 13)\n",
      "･ RAM:  △Consumed    △Peaked    Used Total | Exec time 0:29:40.324\n",
      "･ CPU:      1,934        147      3,616 MB |\n",
      "･ GPU:     12,226      7,520     13,359 MB |\n",
      "\n",
      "IPyExperimentsPytorch: Finishing\n",
      "\n",
      "*** Experiment finished in 00:29:41 (elapsed wallclock time)\n",
      "\n",
      "*** Experiment memory:\n",
      "RAM: Consumed       Reclaimed\n",
      "CPU:    1,934        0 MB (  0.00%)\n",
      "GPU:   12,226        0 MB (  0.00%)\n",
      "\n",
      "*** Current state:\n",
      "RAM:    Used    Free   Total       Util\n",
      "CPU:   3,616   9,709  15,897 MB  22.75% \n",
      "GPU:  13,359  11,216  24,576 MB  54.36% \n",
      "\n",
      "\n",
      "\n",
      "*** Experiment started with the Pytorch backend\n",
      "Device: ID 0, NVIDIA GeForce RTX 3090 (24576 RAM)\n",
      "\n",
      "\n",
      "*** Current state:\n",
      "RAM:    Used    Free   Total       Util\n",
      "CPU:   3,616   9,709  15,897 MB  22.75% \n",
      "GPU:   1,839  22,736  24,576 MB   7.49% \n",
      "\n",
      "\n",
      "\n",
      "****************************************************************************************************\n",
      "Training fold 1\n",
      "****************************************************************************************************\n",
      "TRAIN: 11457 | VALID: 2865\n",
      "Scheduled epochs: 15\n"
     ]
    },
    {
     "data": {
      "text/html": [
       "\n",
       "<style>\n",
       "    /* Turns off some styling */\n",
       "    progress {\n",
       "        /* gets rid of default border in Firefox and Opera. */\n",
       "        border: none;\n",
       "        /* Needs to be in here for Safari polyfill so background images work as expected. */\n",
       "        background-size: auto;\n",
       "    }\n",
       "    progress:not([value]), progress:not([value])::-webkit-progress-bar {\n",
       "        background: repeating-linear-gradient(45deg, #7e7e7e, #7e7e7e 10px, #5c5c5c 10px, #5c5c5c 20px);\n",
       "    }\n",
       "    .progress-bar-interrupted, .progress-bar-interrupted::-webkit-progress-bar {\n",
       "        background: #F44336;\n",
       "    }\n",
       "</style>\n"
      ],
      "text/plain": [
       "<IPython.core.display.HTML object>"
      ]
     },
     "metadata": {},
     "output_type": "display_data"
    },
    {
     "data": {
      "text/html": [
       "<table border=\"1\" class=\"dataframe\">\n",
       "  <thead>\n",
       "    <tr style=\"text-align: left;\">\n",
       "      <th>epoch</th>\n",
       "      <th>train_loss</th>\n",
       "      <th>valid_loss</th>\n",
       "      <th>accuracy</th>\n",
       "      <th>time</th>\n",
       "    </tr>\n",
       "  </thead>\n",
       "  <tbody>\n",
       "    <tr>\n",
       "      <td>0</td>\n",
       "      <td>0.995433</td>\n",
       "      <td>0.658987</td>\n",
       "      <td>0.743805</td>\n",
       "      <td>01:58</td>\n",
       "    </tr>\n",
       "    <tr>\n",
       "      <td>1</td>\n",
       "      <td>0.859591</td>\n",
       "      <td>0.598532</td>\n",
       "      <td>0.756021</td>\n",
       "      <td>01:58</td>\n",
       "    </tr>\n",
       "    <tr>\n",
       "      <td>2</td>\n",
       "      <td>0.825866</td>\n",
       "      <td>0.600853</td>\n",
       "      <td>0.754276</td>\n",
       "      <td>01:58</td>\n",
       "    </tr>\n",
       "    <tr>\n",
       "      <td>3</td>\n",
       "      <td>0.800346</td>\n",
       "      <td>0.569172</td>\n",
       "      <td>0.769284</td>\n",
       "      <td>01:58</td>\n",
       "    </tr>\n",
       "    <tr>\n",
       "      <td>4</td>\n",
       "      <td>0.795255</td>\n",
       "      <td>0.554115</td>\n",
       "      <td>0.774869</td>\n",
       "      <td>01:58</td>\n",
       "    </tr>\n",
       "    <tr>\n",
       "      <td>5</td>\n",
       "      <td>0.752634</td>\n",
       "      <td>0.543715</td>\n",
       "      <td>0.776963</td>\n",
       "      <td>01:58</td>\n",
       "    </tr>\n",
       "    <tr>\n",
       "      <td>6</td>\n",
       "      <td>0.758018</td>\n",
       "      <td>0.535218</td>\n",
       "      <td>0.787086</td>\n",
       "      <td>01:58</td>\n",
       "    </tr>\n",
       "    <tr>\n",
       "      <td>7</td>\n",
       "      <td>0.702726</td>\n",
       "      <td>0.525459</td>\n",
       "      <td>0.790925</td>\n",
       "      <td>01:58</td>\n",
       "    </tr>\n",
       "    <tr>\n",
       "      <td>8</td>\n",
       "      <td>0.713441</td>\n",
       "      <td>0.525996</td>\n",
       "      <td>0.791274</td>\n",
       "      <td>01:58</td>\n",
       "    </tr>\n",
       "    <tr>\n",
       "      <td>9</td>\n",
       "      <td>0.691484</td>\n",
       "      <td>0.498207</td>\n",
       "      <td>0.798953</td>\n",
       "      <td>01:58</td>\n",
       "    </tr>\n",
       "    <tr>\n",
       "      <td>10</td>\n",
       "      <td>0.667052</td>\n",
       "      <td>0.490223</td>\n",
       "      <td>0.800349</td>\n",
       "      <td>01:58</td>\n",
       "    </tr>\n",
       "    <tr>\n",
       "      <td>11</td>\n",
       "      <td>0.674568</td>\n",
       "      <td>0.499670</td>\n",
       "      <td>0.798604</td>\n",
       "      <td>01:58</td>\n",
       "    </tr>\n",
       "    <tr>\n",
       "      <td>12</td>\n",
       "      <td>0.652722</td>\n",
       "      <td>0.490365</td>\n",
       "      <td>0.799302</td>\n",
       "      <td>01:58</td>\n",
       "    </tr>\n",
       "    <tr>\n",
       "      <td>13</td>\n",
       "      <td>0.640229</td>\n",
       "      <td>0.490929</td>\n",
       "      <td>0.802792</td>\n",
       "      <td>01:58</td>\n",
       "    </tr>\n",
       "    <tr>\n",
       "      <td>14</td>\n",
       "      <td>0.648488</td>\n",
       "      <td>0.492014</td>\n",
       "      <td>0.798953</td>\n",
       "      <td>01:58</td>\n",
       "    </tr>\n",
       "  </tbody>\n",
       "</table>"
      ],
      "text/plain": [
       "<IPython.core.display.HTML object>"
      ]
     },
     "metadata": {},
     "output_type": "display_data"
    },
    {
     "name": "stdout",
     "output_type": "stream",
     "text": [
      "*** Best metric: 0.802792320742449 (epoch 13)\n",
      "･ RAM:  △Consumed    △Peaked    Used Total | Exec time 0:29:40.016\n",
      "･ CPU:         65        147      3,682 MB |\n",
      "･ GPU:      1,580     21,058      3,419 MB |\n",
      "\n",
      "IPyExperimentsPytorch: Finishing\n",
      "\n",
      "*** Experiment finished in 00:29:40 (elapsed wallclock time)\n",
      "\n",
      "*** Experiment memory:\n",
      "RAM: Consumed       Reclaimed\n",
      "CPU:       65        0 MB (  0.00%)\n",
      "GPU:    1,580        0 MB (  0.00%)\n",
      "\n",
      "*** Current state:\n",
      "RAM:    Used    Free   Total       Util\n",
      "CPU:   3,682   9,642  15,897 MB  23.16% \n",
      "GPU:   3,419  21,156  24,576 MB  13.91% \n",
      "\n",
      "\n",
      "\n",
      "*** Experiment started with the Pytorch backend\n",
      "Device: ID 0, NVIDIA GeForce RTX 3090 (24576 RAM)\n",
      "\n",
      "\n",
      "*** Current state:\n",
      "RAM:    Used    Free   Total       Util\n",
      "CPU:   3,681   9,642  15,897 MB  23.16% \n",
      "GPU:   1,839  22,736  24,576 MB   7.49% \n",
      "\n",
      "\n",
      "\n",
      "****************************************************************************************************\n",
      "Training fold 2\n",
      "****************************************************************************************************\n",
      "TRAIN: 11458 | VALID: 2864\n",
      "Scheduled epochs: 15\n"
     ]
    },
    {
     "data": {
      "text/html": [
       "\n",
       "<style>\n",
       "    /* Turns off some styling */\n",
       "    progress {\n",
       "        /* gets rid of default border in Firefox and Opera. */\n",
       "        border: none;\n",
       "        /* Needs to be in here for Safari polyfill so background images work as expected. */\n",
       "        background-size: auto;\n",
       "    }\n",
       "    progress:not([value]), progress:not([value])::-webkit-progress-bar {\n",
       "        background: repeating-linear-gradient(45deg, #7e7e7e, #7e7e7e 10px, #5c5c5c 10px, #5c5c5c 20px);\n",
       "    }\n",
       "    .progress-bar-interrupted, .progress-bar-interrupted::-webkit-progress-bar {\n",
       "        background: #F44336;\n",
       "    }\n",
       "</style>\n"
      ],
      "text/plain": [
       "<IPython.core.display.HTML object>"
      ]
     },
     "metadata": {},
     "output_type": "display_data"
    },
    {
     "data": {
      "text/html": [
       "<table border=\"1\" class=\"dataframe\">\n",
       "  <thead>\n",
       "    <tr style=\"text-align: left;\">\n",
       "      <th>epoch</th>\n",
       "      <th>train_loss</th>\n",
       "      <th>valid_loss</th>\n",
       "      <th>accuracy</th>\n",
       "      <th>time</th>\n",
       "    </tr>\n",
       "  </thead>\n",
       "  <tbody>\n",
       "    <tr>\n",
       "      <td>0</td>\n",
       "      <td>1.008831</td>\n",
       "      <td>0.669344</td>\n",
       "      <td>0.743715</td>\n",
       "      <td>01:59</td>\n",
       "    </tr>\n",
       "    <tr>\n",
       "      <td>1</td>\n",
       "      <td>0.862096</td>\n",
       "      <td>0.619142</td>\n",
       "      <td>0.757332</td>\n",
       "      <td>01:58</td>\n",
       "    </tr>\n",
       "    <tr>\n",
       "      <td>2</td>\n",
       "      <td>0.823610</td>\n",
       "      <td>0.598946</td>\n",
       "      <td>0.766411</td>\n",
       "      <td>01:58</td>\n",
       "    </tr>\n",
       "    <tr>\n",
       "      <td>3</td>\n",
       "      <td>0.787396</td>\n",
       "      <td>0.571545</td>\n",
       "      <td>0.771648</td>\n",
       "      <td>01:58</td>\n",
       "    </tr>\n",
       "    <tr>\n",
       "      <td>4</td>\n",
       "      <td>0.789253</td>\n",
       "      <td>0.589216</td>\n",
       "      <td>0.771299</td>\n",
       "      <td>01:58</td>\n",
       "    </tr>\n",
       "    <tr>\n",
       "      <td>5</td>\n",
       "      <td>0.753361</td>\n",
       "      <td>0.582125</td>\n",
       "      <td>0.775838</td>\n",
       "      <td>01:58</td>\n",
       "    </tr>\n",
       "    <tr>\n",
       "      <td>6</td>\n",
       "      <td>0.761457</td>\n",
       "      <td>0.561424</td>\n",
       "      <td>0.782123</td>\n",
       "      <td>01:58</td>\n",
       "    </tr>\n",
       "    <tr>\n",
       "      <td>7</td>\n",
       "      <td>0.696026</td>\n",
       "      <td>0.542808</td>\n",
       "      <td>0.780726</td>\n",
       "      <td>01:58</td>\n",
       "    </tr>\n",
       "    <tr>\n",
       "      <td>8</td>\n",
       "      <td>0.714918</td>\n",
       "      <td>0.546409</td>\n",
       "      <td>0.792947</td>\n",
       "      <td>01:58</td>\n",
       "    </tr>\n",
       "    <tr>\n",
       "      <td>9</td>\n",
       "      <td>0.688364</td>\n",
       "      <td>0.525250</td>\n",
       "      <td>0.796089</td>\n",
       "      <td>01:58</td>\n",
       "    </tr>\n",
       "    <tr>\n",
       "      <td>10</td>\n",
       "      <td>0.650983</td>\n",
       "      <td>0.528303</td>\n",
       "      <td>0.792598</td>\n",
       "      <td>01:58</td>\n",
       "    </tr>\n",
       "    <tr>\n",
       "      <td>11</td>\n",
       "      <td>0.672776</td>\n",
       "      <td>0.521545</td>\n",
       "      <td>0.795391</td>\n",
       "      <td>01:58</td>\n",
       "    </tr>\n",
       "    <tr>\n",
       "      <td>12</td>\n",
       "      <td>0.653218</td>\n",
       "      <td>0.512413</td>\n",
       "      <td>0.794693</td>\n",
       "      <td>01:58</td>\n",
       "    </tr>\n",
       "    <tr>\n",
       "      <td>13</td>\n",
       "      <td>0.639956</td>\n",
       "      <td>0.509804</td>\n",
       "      <td>0.797486</td>\n",
       "      <td>01:58</td>\n",
       "    </tr>\n",
       "    <tr>\n",
       "      <td>14</td>\n",
       "      <td>0.655649</td>\n",
       "      <td>0.510079</td>\n",
       "      <td>0.796788</td>\n",
       "      <td>01:58</td>\n",
       "    </tr>\n",
       "  </tbody>\n",
       "</table>"
      ],
      "text/plain": [
       "<IPython.core.display.HTML object>"
      ]
     },
     "metadata": {},
     "output_type": "display_data"
    },
    {
     "name": "stdout",
     "output_type": "stream",
     "text": [
      "*** Best metric: 0.797486033519553 (epoch 13)\n",
      "･ RAM:  △Consumed    △Peaked    Used Total | Exec time 0:29:39.950\n",
      "･ CPU:          1        147      3,683 MB |\n",
      "･ GPU:      1,582     21,032      3,421 MB |\n",
      "\n",
      "IPyExperimentsPytorch: Finishing\n",
      "\n",
      "*** Experiment finished in 00:29:40 (elapsed wallclock time)\n",
      "\n",
      "*** Experiment memory:\n",
      "RAM: Consumed       Reclaimed\n",
      "CPU:        1        0 MB (  0.00%)\n",
      "GPU:    1,582        0 MB (  0.00%)\n",
      "\n",
      "*** Current state:\n",
      "RAM:    Used    Free   Total       Util\n",
      "CPU:   3,682   9,640  15,897 MB  23.17% \n",
      "GPU:   3,421  21,154  24,576 MB  13.92% \n",
      "\n",
      "\n",
      "\n",
      "*** Experiment started with the Pytorch backend\n",
      "Device: ID 0, NVIDIA GeForce RTX 3090 (24576 RAM)\n",
      "\n",
      "\n",
      "*** Current state:\n",
      "RAM:    Used    Free   Total       Util\n",
      "CPU:   3,682   9,640  15,897 MB  23.17% \n",
      "GPU:   1,839  22,736  24,576 MB   7.49% \n",
      "\n",
      "\n",
      "\n",
      "****************************************************************************************************\n",
      "Training fold 3\n",
      "****************************************************************************************************\n",
      "TRAIN: 11458 | VALID: 2864\n",
      "Scheduled epochs: 15\n"
     ]
    },
    {
     "data": {
      "text/html": [
       "\n",
       "<style>\n",
       "    /* Turns off some styling */\n",
       "    progress {\n",
       "        /* gets rid of default border in Firefox and Opera. */\n",
       "        border: none;\n",
       "        /* Needs to be in here for Safari polyfill so background images work as expected. */\n",
       "        background-size: auto;\n",
       "    }\n",
       "    progress:not([value]), progress:not([value])::-webkit-progress-bar {\n",
       "        background: repeating-linear-gradient(45deg, #7e7e7e, #7e7e7e 10px, #5c5c5c 10px, #5c5c5c 20px);\n",
       "    }\n",
       "    .progress-bar-interrupted, .progress-bar-interrupted::-webkit-progress-bar {\n",
       "        background: #F44336;\n",
       "    }\n",
       "</style>\n"
      ],
      "text/plain": [
       "<IPython.core.display.HTML object>"
      ]
     },
     "metadata": {},
     "output_type": "display_data"
    },
    {
     "data": {
      "text/html": [
       "<table border=\"1\" class=\"dataframe\">\n",
       "  <thead>\n",
       "    <tr style=\"text-align: left;\">\n",
       "      <th>epoch</th>\n",
       "      <th>train_loss</th>\n",
       "      <th>valid_loss</th>\n",
       "      <th>accuracy</th>\n",
       "      <th>time</th>\n",
       "    </tr>\n",
       "  </thead>\n",
       "  <tbody>\n",
       "    <tr>\n",
       "      <td>0</td>\n",
       "      <td>0.993111</td>\n",
       "      <td>0.684040</td>\n",
       "      <td>0.723115</td>\n",
       "      <td>01:58</td>\n",
       "    </tr>\n",
       "    <tr>\n",
       "      <td>1</td>\n",
       "      <td>0.867774</td>\n",
       "      <td>0.598984</td>\n",
       "      <td>0.752444</td>\n",
       "      <td>01:58</td>\n",
       "    </tr>\n",
       "    <tr>\n",
       "      <td>2</td>\n",
       "      <td>0.828503</td>\n",
       "      <td>0.575619</td>\n",
       "      <td>0.778282</td>\n",
       "      <td>01:58</td>\n",
       "    </tr>\n",
       "    <tr>\n",
       "      <td>3</td>\n",
       "      <td>0.802330</td>\n",
       "      <td>0.542653</td>\n",
       "      <td>0.785615</td>\n",
       "      <td>01:58</td>\n",
       "    </tr>\n",
       "    <tr>\n",
       "      <td>4</td>\n",
       "      <td>0.796638</td>\n",
       "      <td>0.544675</td>\n",
       "      <td>0.783170</td>\n",
       "      <td>01:58</td>\n",
       "    </tr>\n",
       "    <tr>\n",
       "      <td>5</td>\n",
       "      <td>0.756406</td>\n",
       "      <td>0.540216</td>\n",
       "      <td>0.791201</td>\n",
       "      <td>01:58</td>\n",
       "    </tr>\n",
       "    <tr>\n",
       "      <td>6</td>\n",
       "      <td>0.770621</td>\n",
       "      <td>0.526944</td>\n",
       "      <td>0.797137</td>\n",
       "      <td>01:58</td>\n",
       "    </tr>\n",
       "    <tr>\n",
       "      <td>7</td>\n",
       "      <td>0.706943</td>\n",
       "      <td>0.525302</td>\n",
       "      <td>0.797137</td>\n",
       "      <td>01:58</td>\n",
       "    </tr>\n",
       "    <tr>\n",
       "      <td>8</td>\n",
       "      <td>0.721347</td>\n",
       "      <td>0.521433</td>\n",
       "      <td>0.798534</td>\n",
       "      <td>01:58</td>\n",
       "    </tr>\n",
       "    <tr>\n",
       "      <td>9</td>\n",
       "      <td>0.696352</td>\n",
       "      <td>0.484332</td>\n",
       "      <td>0.810754</td>\n",
       "      <td>01:58</td>\n",
       "    </tr>\n",
       "    <tr>\n",
       "      <td>10</td>\n",
       "      <td>0.660518</td>\n",
       "      <td>0.483116</td>\n",
       "      <td>0.809707</td>\n",
       "      <td>01:58</td>\n",
       "    </tr>\n",
       "    <tr>\n",
       "      <td>11</td>\n",
       "      <td>0.671247</td>\n",
       "      <td>0.491321</td>\n",
       "      <td>0.811802</td>\n",
       "      <td>01:58</td>\n",
       "    </tr>\n",
       "    <tr>\n",
       "      <td>12</td>\n",
       "      <td>0.661861</td>\n",
       "      <td>0.480448</td>\n",
       "      <td>0.810754</td>\n",
       "      <td>01:58</td>\n",
       "    </tr>\n",
       "    <tr>\n",
       "      <td>13</td>\n",
       "      <td>0.641572</td>\n",
       "      <td>0.482745</td>\n",
       "      <td>0.810405</td>\n",
       "      <td>01:58</td>\n",
       "    </tr>\n",
       "    <tr>\n",
       "      <td>14</td>\n",
       "      <td>0.652915</td>\n",
       "      <td>0.476054</td>\n",
       "      <td>0.811103</td>\n",
       "      <td>01:58</td>\n",
       "    </tr>\n",
       "  </tbody>\n",
       "</table>"
      ],
      "text/plain": [
       "<IPython.core.display.HTML object>"
      ]
     },
     "metadata": {},
     "output_type": "display_data"
    },
    {
     "name": "stdout",
     "output_type": "stream",
     "text": [
      "*** Best metric: 0.8118016759776536 (epoch 11)\n",
      "･ RAM:  △Consumed    △Peaked    Used Total | Exec time 0:29:39.695\n",
      "･ CPU:          0        147      3,683 MB |\n",
      "･ GPU:      1,580     21,058      3,419 MB |\n",
      "\n",
      "IPyExperimentsPytorch: Finishing\n",
      "\n",
      "*** Experiment finished in 00:29:40 (elapsed wallclock time)\n",
      "\n",
      "*** Experiment memory:\n",
      "RAM: Consumed       Reclaimed\n",
      "CPU:        0        0 MB (  0.00%)\n",
      "GPU:    1,580        0 MB (  0.00%)\n",
      "\n",
      "*** Current state:\n",
      "RAM:    Used    Free   Total       Util\n",
      "CPU:   3,683   9,655  15,897 MB  23.17% \n",
      "GPU:   3,419  21,156  24,576 MB  13.91% \n",
      "\n",
      "\n",
      "\n",
      "*** Experiment started with the Pytorch backend\n",
      "Device: ID 0, NVIDIA GeForce RTX 3090 (24576 RAM)\n",
      "\n",
      "\n",
      "*** Current state:\n",
      "RAM:    Used    Free   Total       Util\n",
      "CPU:   3,683   9,655  15,897 MB  23.17% \n",
      "GPU:   1,839  22,736  24,576 MB   7.49% \n",
      "\n",
      "\n",
      "\n",
      "****************************************************************************************************\n",
      "Training fold 4\n",
      "****************************************************************************************************\n",
      "TRAIN: 11458 | VALID: 2864\n",
      "Scheduled epochs: 15\n"
     ]
    },
    {
     "data": {
      "text/html": [
       "\n",
       "<style>\n",
       "    /* Turns off some styling */\n",
       "    progress {\n",
       "        /* gets rid of default border in Firefox and Opera. */\n",
       "        border: none;\n",
       "        /* Needs to be in here for Safari polyfill so background images work as expected. */\n",
       "        background-size: auto;\n",
       "    }\n",
       "    progress:not([value]), progress:not([value])::-webkit-progress-bar {\n",
       "        background: repeating-linear-gradient(45deg, #7e7e7e, #7e7e7e 10px, #5c5c5c 10px, #5c5c5c 20px);\n",
       "    }\n",
       "    .progress-bar-interrupted, .progress-bar-interrupted::-webkit-progress-bar {\n",
       "        background: #F44336;\n",
       "    }\n",
       "</style>\n"
      ],
      "text/plain": [
       "<IPython.core.display.HTML object>"
      ]
     },
     "metadata": {},
     "output_type": "display_data"
    },
    {
     "data": {
      "text/html": [
       "<table border=\"1\" class=\"dataframe\">\n",
       "  <thead>\n",
       "    <tr style=\"text-align: left;\">\n",
       "      <th>epoch</th>\n",
       "      <th>train_loss</th>\n",
       "      <th>valid_loss</th>\n",
       "      <th>accuracy</th>\n",
       "      <th>time</th>\n",
       "    </tr>\n",
       "  </thead>\n",
       "  <tbody>\n",
       "    <tr>\n",
       "      <td>0</td>\n",
       "      <td>0.995029</td>\n",
       "      <td>0.663394</td>\n",
       "      <td>0.748603</td>\n",
       "      <td>01:58</td>\n",
       "    </tr>\n",
       "    <tr>\n",
       "      <td>1</td>\n",
       "      <td>0.862650</td>\n",
       "      <td>0.627562</td>\n",
       "      <td>0.750698</td>\n",
       "      <td>01:58</td>\n",
       "    </tr>\n",
       "    <tr>\n",
       "      <td>2</td>\n",
       "      <td>0.828846</td>\n",
       "      <td>0.579412</td>\n",
       "      <td>0.772696</td>\n",
       "      <td>01:58</td>\n",
       "    </tr>\n",
       "    <tr>\n",
       "      <td>3</td>\n",
       "      <td>0.808107</td>\n",
       "      <td>0.547318</td>\n",
       "      <td>0.789804</td>\n",
       "      <td>01:58</td>\n",
       "    </tr>\n",
       "    <tr>\n",
       "      <td>4</td>\n",
       "      <td>0.799471</td>\n",
       "      <td>0.575565</td>\n",
       "      <td>0.778980</td>\n",
       "      <td>01:58</td>\n",
       "    </tr>\n",
       "    <tr>\n",
       "      <td>5</td>\n",
       "      <td>0.768120</td>\n",
       "      <td>0.556144</td>\n",
       "      <td>0.787709</td>\n",
       "      <td>01:58</td>\n",
       "    </tr>\n",
       "    <tr>\n",
       "      <td>6</td>\n",
       "      <td>0.768536</td>\n",
       "      <td>0.513312</td>\n",
       "      <td>0.806913</td>\n",
       "      <td>01:58</td>\n",
       "    </tr>\n",
       "    <tr>\n",
       "      <td>7</td>\n",
       "      <td>0.715822</td>\n",
       "      <td>0.520985</td>\n",
       "      <td>0.803073</td>\n",
       "      <td>01:58</td>\n",
       "    </tr>\n",
       "    <tr>\n",
       "      <td>8</td>\n",
       "      <td>0.719254</td>\n",
       "      <td>0.514905</td>\n",
       "      <td>0.803771</td>\n",
       "      <td>01:58</td>\n",
       "    </tr>\n",
       "    <tr>\n",
       "      <td>9</td>\n",
       "      <td>0.696491</td>\n",
       "      <td>0.482834</td>\n",
       "      <td>0.812500</td>\n",
       "      <td>01:58</td>\n",
       "    </tr>\n",
       "    <tr>\n",
       "      <td>10</td>\n",
       "      <td>0.658967</td>\n",
       "      <td>0.479195</td>\n",
       "      <td>0.814246</td>\n",
       "      <td>01:58</td>\n",
       "    </tr>\n",
       "    <tr>\n",
       "      <td>11</td>\n",
       "      <td>0.676912</td>\n",
       "      <td>0.480659</td>\n",
       "      <td>0.818785</td>\n",
       "      <td>01:58</td>\n",
       "    </tr>\n",
       "    <tr>\n",
       "      <td>12</td>\n",
       "      <td>0.661787</td>\n",
       "      <td>0.465440</td>\n",
       "      <td>0.817388</td>\n",
       "      <td>01:58</td>\n",
       "    </tr>\n",
       "    <tr>\n",
       "      <td>13</td>\n",
       "      <td>0.640468</td>\n",
       "      <td>0.464725</td>\n",
       "      <td>0.817039</td>\n",
       "      <td>01:58</td>\n",
       "    </tr>\n",
       "    <tr>\n",
       "      <td>14</td>\n",
       "      <td>0.653327</td>\n",
       "      <td>0.466854</td>\n",
       "      <td>0.818087</td>\n",
       "      <td>01:58</td>\n",
       "    </tr>\n",
       "  </tbody>\n",
       "</table>"
      ],
      "text/plain": [
       "<IPython.core.display.HTML object>"
      ]
     },
     "metadata": {},
     "output_type": "display_data"
    },
    {
     "name": "stdout",
     "output_type": "stream",
     "text": [
      "*** Best metric: 0.8187849165341041 (epoch 11)\n",
      "･ RAM:  △Consumed    △Peaked    Used Total | Exec time 0:29:37.669\n",
      "･ CPU:          0        146      3,682 MB |\n",
      "･ GPU:      1,580     21,034      3,419 MB |\n",
      "\n",
      "IPyExperimentsPytorch: Finishing\n",
      "\n",
      "*** Experiment finished in 00:29:38 (elapsed wallclock time)\n",
      "\n",
      "*** Experiment memory:\n",
      "RAM: Consumed       Reclaimed\n",
      "CPU:        0        0 MB ( -0.00%)\n",
      "GPU:    1,580        0 MB (  0.00%)\n",
      "\n",
      "*** Current state:\n",
      "RAM:    Used    Free   Total       Util\n",
      "CPU:   3,682   9,631  15,897 MB  23.17% \n",
      "GPU:   3,419  21,156  24,576 MB  13.91% \n",
      "\n",
      "\n"
     ]
    }
   ],
   "source": [
    "for fold_idx in range(5):\n",
    "    training_loop(fold_idx)"
   ]
  },
  {
   "cell_type": "code",
   "execution_count": 29,
   "id": "dcbeee17-2f2e-4639-beea-a2a9ecd08711",
   "metadata": {},
   "outputs": [
    {
     "data": {
      "text/plain": [
       "(#5) [Path('/runs/NB_EXP_V2_008/tf_efficientnet_b4_ns_448_bs32_ep15_lr0.0003_wd0.01_mixup_cutmix_CV_4.pth'),Path('/runs/NB_EXP_V2_008/tf_efficientnet_b4_ns_448_bs32_ep15_lr0.0003_wd0.01_mixup_cutmix_CV_0.pth'),Path('/runs/NB_EXP_V2_008/tf_efficientnet_b4_ns_448_bs32_ep15_lr0.0003_wd0.01_mixup_cutmix_CV_2.pth'),Path('/runs/NB_EXP_V2_008/tf_efficientnet_b4_ns_448_bs32_ep15_lr0.0003_wd0.01_mixup_cutmix_CV_3.pth'),Path('/runs/NB_EXP_V2_008/tf_efficientnet_b4_ns_448_bs32_ep15_lr0.0003_wd0.01_mixup_cutmix_CV_1.pth')]"
      ]
     },
     "execution_count": 29,
     "metadata": {},
     "output_type": "execute_result"
    }
   ],
   "source": [
    "MODEL_FOLDER.ls()"
   ]
  },
  {
   "cell_type": "code",
   "execution_count": 30,
   "id": "fe36f8c6",
   "metadata": {},
   "outputs": [
    {
     "name": "stdout",
     "output_type": "stream",
     "text": [
      "=> load from : /runs/NB_EXP_V2_008/tf_efficientnet_b4_ns_448_bs32_ep15_lr0.0003_wd0.01_mixup_cutmix_CV_0.pth\n"
     ]
    },
    {
     "data": {
      "application/json": {
       "ascii": false,
       "bar_format": null,
       "colour": null,
       "elapsed": 0.37465357780456543,
       "initial": 0,
       "n": 0,
       "ncols": 197,
       "nrows": 48,
       "postfix": null,
       "prefix": "",
       "rate": null,
       "total": 45,
       "unit": "it",
       "unit_divisor": 1000,
       "unit_scale": false
      },
      "application/vnd.jupyter.widget-view+json": {
       "model_id": "c69bafd9ec1d49039419d34c739dabd2",
       "version_major": 2,
       "version_minor": 0
      },
      "text/plain": [
       "  0%|                                                                                                         …"
      ]
     },
     "metadata": {},
     "output_type": "display_data"
    },
    {
     "name": "stdout",
     "output_type": "stream",
     "text": [
      "* Accuracy : 0.8076788783073425\n",
      "\n",
      "=> load from : /runs/NB_EXP_V2_008/tf_efficientnet_b4_ns_448_bs32_ep15_lr0.0003_wd0.01_mixup_cutmix_CV_1.pth\n"
     ]
    },
    {
     "data": {
      "application/json": {
       "ascii": false,
       "bar_format": null,
       "colour": null,
       "elapsed": 0.437000036239624,
       "initial": 0,
       "n": 0,
       "ncols": 197,
       "nrows": 48,
       "postfix": null,
       "prefix": "",
       "rate": null,
       "total": 45,
       "unit": "it",
       "unit_divisor": 1000,
       "unit_scale": false
      },
      "application/vnd.jupyter.widget-view+json": {
       "model_id": "4a3b9811b39c40448854481671c96a49",
       "version_major": 2,
       "version_minor": 0
      },
      "text/plain": [
       "  0%|                                                                                                         …"
      ]
     },
     "metadata": {},
     "output_type": "display_data"
    },
    {
     "name": "stdout",
     "output_type": "stream",
     "text": [
      "* Accuracy : 0.802443265914917\n",
      "\n",
      "=> load from : /runs/NB_EXP_V2_008/tf_efficientnet_b4_ns_448_bs32_ep15_lr0.0003_wd0.01_mixup_cutmix_CV_2.pth\n"
     ]
    },
    {
     "data": {
      "application/json": {
       "ascii": false,
       "bar_format": null,
       "colour": null,
       "elapsed": 0.3741018772125244,
       "initial": 0,
       "n": 0,
       "ncols": 197,
       "nrows": 48,
       "postfix": null,
       "prefix": "",
       "rate": null,
       "total": 45,
       "unit": "it",
       "unit_divisor": 1000,
       "unit_scale": false
      },
      "application/vnd.jupyter.widget-view+json": {
       "model_id": "d595f48eb5e94330af294297436859cf",
       "version_major": 2,
       "version_minor": 0
      },
      "text/plain": [
       "  0%|                                                                                                         …"
      ]
     },
     "metadata": {},
     "output_type": "display_data"
    },
    {
     "name": "stdout",
     "output_type": "stream",
     "text": [
      "* Accuracy : 0.8093575239181519\n",
      "\n",
      "=> load from : /runs/NB_EXP_V2_008/tf_efficientnet_b4_ns_448_bs32_ep15_lr0.0003_wd0.01_mixup_cutmix_CV_3.pth\n"
     ]
    },
    {
     "data": {
      "application/json": {
       "ascii": false,
       "bar_format": null,
       "colour": null,
       "elapsed": 0.3547372817993164,
       "initial": 0,
       "n": 0,
       "ncols": 197,
       "nrows": 48,
       "postfix": null,
       "prefix": "",
       "rate": null,
       "total": 45,
       "unit": "it",
       "unit_divisor": 1000,
       "unit_scale": false
      },
      "application/vnd.jupyter.widget-view+json": {
       "model_id": "021c12ba586f4a90b16d334a9e78e11a",
       "version_major": 2,
       "version_minor": 0
      },
      "text/plain": [
       "  0%|                                                                                                         …"
      ]
     },
     "metadata": {},
     "output_type": "display_data"
    },
    {
     "name": "stdout",
     "output_type": "stream",
     "text": [
      "* Accuracy : 0.8114525079727173\n",
      "\n",
      "=> load from : /runs/NB_EXP_V2_008/tf_efficientnet_b4_ns_448_bs32_ep15_lr0.0003_wd0.01_mixup_cutmix_CV_4.pth\n"
     ]
    },
    {
     "data": {
      "application/json": {
       "ascii": false,
       "bar_format": null,
       "colour": null,
       "elapsed": 0.36116552352905273,
       "initial": 0,
       "n": 0,
       "ncols": 197,
       "nrows": 48,
       "postfix": null,
       "prefix": "",
       "rate": null,
       "total": 45,
       "unit": "it",
       "unit_divisor": 1000,
       "unit_scale": false
      },
      "application/vnd.jupyter.widget-view+json": {
       "model_id": "be3dd01fd5024ec78c6d5ab81c82283b",
       "version_major": 2,
       "version_minor": 0
      },
      "text/plain": [
       "  0%|                                                                                                         …"
      ]
     },
     "metadata": {},
     "output_type": "display_data"
    },
    {
     "name": "stdout",
     "output_type": "stream",
     "text": [
      "* Accuracy : 0.8219273686408997\n",
      "\n",
      "\n",
      "****************************************************************************************************\n",
      "Run summary: \n",
      "****************************************************************************************************\n",
      "folds score:  [0.80768, 0.80244, 0.80936, 0.81145, 0.82193]\n",
      "Avg: 0.81057\n",
      "Std: 0.00641\n"
     ]
    }
   ],
   "source": [
    "folds_val_score = []\n",
    "for fold in range(5):\n",
    "    CHECKPOINT = MODEL_FOLDER/(KERNEL_TYPE + f\"_CV_{fold}.pth\")\n",
    "    print(f'=> load from : {CHECKPOINT}')\n",
    "    \n",
    "    model = get_corn_model(MODEL, pretrained=False)\n",
    "    model.load_state_dict(torch.load(CHECKPOINT))\n",
    "    model.eval()\n",
    "    model.cuda()\n",
    "    \n",
    "    dataset_valid = LoadImagesAndLabels(folds.query('fold==@fold'), transforms=VALID_AUG, mode=\"valid\")\n",
    "    loader_valid = torch.utils.data.DataLoader(dataset_valid, BS*2, num_workers=8, shuffle=False)\n",
    "    \n",
    "    preds, targs = [],[]\n",
    "    for input,target in tqdm(loader_valid, total=len(loader_valid), dynamic_ncols=True):\n",
    "        with torch.cuda.amp.autocast(), torch.no_grad():\n",
    "            input = input.cuda()\n",
    "            \n",
    "            output  = model(input)\n",
    "            output += model(torch.flip(input, dims=(3,)))\n",
    "            output += model(torch.flip(input, dims=(2,)))\n",
    "            output += model(torch.flip(input, dims=(2,3)))\n",
    "            \n",
    "        preds.append(output.data.cpu())\n",
    "        targs.append(target)\n",
    "    \n",
    "    preds = torch.cat(preds)\n",
    "    targs = torch.cat(targs)\n",
    "    \n",
    "    acc = accuracy(preds, targs).item()\n",
    "    print(f\"* Accuracy : {acc}\")\n",
    "    print()\n",
    "        \n",
    "    folds_val_score.append(acc)\n",
    "    \n",
    "    \n",
    "print()\n",
    "print('*' * 100)\n",
    "print(f'Run summary: ')\n",
    "print('*' * 100)\n",
    "print(\"folds score: \", [np.round(s, 5) for s in folds_val_score])\n",
    "print(\"Avg: {:.5f}\".format(np.mean(folds_val_score)))\n",
    "print(\"Std: {:.5f}\".format(np.std(folds_val_score)))"
   ]
  },
  {
   "cell_type": "code",
   "execution_count": null,
   "id": "7d0a4387-1dc1-48a2-b103-d97ba178ac07",
   "metadata": {},
   "outputs": [],
   "source": []
  }
 ],
 "metadata": {
  "kernelspec": {
   "display_name": "Python 3 (ipykernel)",
   "language": "python",
   "name": "python3"
  },
  "language_info": {
   "codemirror_mode": {
    "name": "ipython",
    "version": 3
   },
   "file_extension": ".py",
   "mimetype": "text/x-python",
   "name": "python",
   "nbconvert_exporter": "python",
   "pygments_lexer": "ipython3",
   "version": "3.8.13"
  },
  "toc": {
   "base_numbering": 1,
   "nav_menu": {},
   "number_sections": true,
   "sideBar": true,
   "skip_h1_title": false,
   "title_cell": "Table of Contents",
   "title_sidebar": "Contents",
   "toc_cell": false,
   "toc_position": {},
   "toc_section_display": true,
   "toc_window_display": false
  },
  "toc-autonumbering": false,
  "toc-showcode": false,
  "toc-showmarkdowntxt": false,
  "toc-showtags": false,
  "widgets": {
   "application/vnd.jupyter.widget-state+json": {
    "state": {
     "021c12ba586f4a90b16d334a9e78e11a": {
      "model_module": "@jupyter-widgets/controls",
      "model_module_version": "2.0.0",
      "model_name": "HBoxModel",
      "state": {
       "children": [
        "IPY_MODEL_b2fc856f507b496e998fa5a0f2eee163",
        "IPY_MODEL_f85a3bc40d9e435b999dfe12dc26d140",
        "IPY_MODEL_f6f2f9d77f034e9fb8338fa8b679aefd"
       ],
       "layout": "IPY_MODEL_ac080acbccd14598a01d465c06a1157a"
      }
     },
     "0991fe10333d4784b17fcfeb1b20d247": {
      "model_module": "@jupyter-widgets/controls",
      "model_module_version": "2.0.0",
      "model_name": "HTMLModel",
      "state": {
       "layout": "IPY_MODEL_e2d0391eb51e4540a09bd695cbc30726",
       "style": "IPY_MODEL_b2af8291dde14affb914d0a55a56d285",
       "value": "100%"
      }
     },
     "0e6a85e3a6a64e83a70105886c8396a3": {
      "model_module": "@jupyter-widgets/base",
      "model_module_version": "2.0.0",
      "model_name": "LayoutModel",
      "state": {}
     },
     "12c61792b8044685b267ec57961b374a": {
      "model_module": "@jupyter-widgets/base",
      "model_module_version": "2.0.0",
      "model_name": "LayoutModel",
      "state": {
       "flex": "2"
      }
     },
     "1a97f962459341b3ae1e005888ad0527": {
      "model_module": "@jupyter-widgets/controls",
      "model_module_version": "2.0.0",
      "model_name": "HTMLModel",
      "state": {
       "layout": "IPY_MODEL_5228c29f975b4d52b2761053a31b0a2e",
       "style": "IPY_MODEL_56af7b1f29d14d66899ec7bd921505a4",
       "value": " 45/45 [00:28&lt;00:00,  1.12s/it]"
      }
     },
     "1bdfe47cc6c049c2b8f74f6e319a4679": {
      "model_module": "@jupyter-widgets/controls",
      "model_module_version": "2.0.0",
      "model_name": "HTMLModel",
      "state": {
       "layout": "IPY_MODEL_dc813f2febed4b838b310f7c1344ef3d",
       "style": "IPY_MODEL_b2e920ecc81d4781bb3839b325141cf8",
       "value": "100%"
      }
     },
     "1defad8df4074d92a66e24cfb9eb5a20": {
      "model_module": "@jupyter-widgets/base",
      "model_module_version": "2.0.0",
      "model_name": "LayoutModel",
      "state": {
       "display": "inline-flex",
       "flex_flow": "row wrap",
       "width": "100%"
      }
     },
     "282ded51026d4b5084de7172c14f5708": {
      "model_module": "@jupyter-widgets/controls",
      "model_module_version": "2.0.0",
      "model_name": "ProgressStyleModel",
      "state": {
       "description_width": ""
      }
     },
     "2ea600f108794e0a83e3cd3dfa065d0a": {
      "model_module": "@jupyter-widgets/controls",
      "model_module_version": "2.0.0",
      "model_name": "HTMLStyleModel",
      "state": {
       "description_width": "",
       "font_size": null,
       "text_color": null
      }
     },
     "2f4e683bd1f74e1f8bb1e18ad929af2a": {
      "model_module": "@jupyter-widgets/controls",
      "model_module_version": "2.0.0",
      "model_name": "ProgressStyleModel",
      "state": {
       "description_width": ""
      }
     },
     "3c9c207baacc45c085a664124b21c1de": {
      "model_module": "@jupyter-widgets/controls",
      "model_module_version": "2.0.0",
      "model_name": "HTMLModel",
      "state": {
       "layout": "IPY_MODEL_b1f7b233b1c846958a7665045f4dca9f",
       "style": "IPY_MODEL_81029efac90746f1bb8115de8e595449",
       "value": " 45/45 [00:23&lt;00:00,  2.27it/s]"
      }
     },
     "437c8d37a8a741d69f931ad748fab85c": {
      "model_module": "@jupyter-widgets/controls",
      "model_module_version": "2.0.0",
      "model_name": "FloatProgressModel",
      "state": {
       "bar_style": "success",
       "layout": "IPY_MODEL_12c61792b8044685b267ec57961b374a",
       "max": 45,
       "style": "IPY_MODEL_2f4e683bd1f74e1f8bb1e18ad929af2a",
       "value": 45
      }
     },
     "476dba96bde34993a2242ffa8bd32e77": {
      "model_module": "@jupyter-widgets/base",
      "model_module_version": "2.0.0",
      "model_name": "LayoutModel",
      "state": {}
     },
     "483a66fd0e254157aebbcea5a8e43187": {
      "model_module": "@jupyter-widgets/controls",
      "model_module_version": "2.0.0",
      "model_name": "HTMLStyleModel",
      "state": {
       "description_width": "",
       "font_size": null,
       "text_color": null
      }
     },
     "4a3b9811b39c40448854481671c96a49": {
      "model_module": "@jupyter-widgets/controls",
      "model_module_version": "2.0.0",
      "model_name": "HBoxModel",
      "state": {
       "children": [
        "IPY_MODEL_c6dd191f635f456582ffde7d7ca7839f",
        "IPY_MODEL_4da4c367b8a54a31906609fe2c3126f8",
        "IPY_MODEL_8ca621985edd4862a4c3d09016ab4e84"
       ],
       "layout": "IPY_MODEL_1defad8df4074d92a66e24cfb9eb5a20"
      }
     },
     "4da4c367b8a54a31906609fe2c3126f8": {
      "model_module": "@jupyter-widgets/controls",
      "model_module_version": "2.0.0",
      "model_name": "FloatProgressModel",
      "state": {
       "bar_style": "success",
       "layout": "IPY_MODEL_500fa9340848418ea9e1d96d2da2c7f4",
       "max": 45,
       "style": "IPY_MODEL_a2cecc4382464bc8a6512029814d3a24",
       "value": 45
      }
     },
     "4fb1d269fa2f48d2a584d8229d29d1a9": {
      "model_module": "@jupyter-widgets/controls",
      "model_module_version": "2.0.0",
      "model_name": "HTMLStyleModel",
      "state": {
       "description_width": "",
       "font_size": null,
       "text_color": null
      }
     },
     "500fa9340848418ea9e1d96d2da2c7f4": {
      "model_module": "@jupyter-widgets/base",
      "model_module_version": "2.0.0",
      "model_name": "LayoutModel",
      "state": {
       "flex": "2"
      }
     },
     "5228c29f975b4d52b2761053a31b0a2e": {
      "model_module": "@jupyter-widgets/base",
      "model_module_version": "2.0.0",
      "model_name": "LayoutModel",
      "state": {}
     },
     "56af7b1f29d14d66899ec7bd921505a4": {
      "model_module": "@jupyter-widgets/controls",
      "model_module_version": "2.0.0",
      "model_name": "HTMLStyleModel",
      "state": {
       "description_width": "",
       "font_size": null,
       "text_color": null
      }
     },
     "69c622aee42b49488ff7bd12e42c03c6": {
      "model_module": "@jupyter-widgets/base",
      "model_module_version": "2.0.0",
      "model_name": "LayoutModel",
      "state": {}
     },
     "6d4c00fbdcca491d960bdeb4a21e50ea": {
      "model_module": "@jupyter-widgets/base",
      "model_module_version": "2.0.0",
      "model_name": "LayoutModel",
      "state": {}
     },
     "7470c14122164a13931e944e48f32f61": {
      "model_module": "@jupyter-widgets/controls",
      "model_module_version": "2.0.0",
      "model_name": "HTMLModel",
      "state": {
       "layout": "IPY_MODEL_476dba96bde34993a2242ffa8bd32e77",
       "style": "IPY_MODEL_483a66fd0e254157aebbcea5a8e43187",
       "value": "100%"
      }
     },
     "7f648c5bcdd647a491cbe9b677f4ed8f": {
      "model_module": "@jupyter-widgets/controls",
      "model_module_version": "2.0.0",
      "model_name": "FloatProgressModel",
      "state": {
       "bar_style": "success",
       "layout": "IPY_MODEL_d43347c34ed141e990154b4e27525315",
       "max": 45,
       "style": "IPY_MODEL_282ded51026d4b5084de7172c14f5708",
       "value": 45
      }
     },
     "81029efac90746f1bb8115de8e595449": {
      "model_module": "@jupyter-widgets/controls",
      "model_module_version": "2.0.0",
      "model_name": "HTMLStyleModel",
      "state": {
       "description_width": "",
       "font_size": null,
       "text_color": null
      }
     },
     "81250e40a59244d6ad6c3dfb682048c5": {
      "model_module": "@jupyter-widgets/base",
      "model_module_version": "2.0.0",
      "model_name": "LayoutModel",
      "state": {}
     },
     "84a909e0fc394234b9b1f640f6bdb8c1": {
      "model_module": "@jupyter-widgets/base",
      "model_module_version": "2.0.0",
      "model_name": "LayoutModel",
      "state": {
       "flex": "2"
      }
     },
     "8ca621985edd4862a4c3d09016ab4e84": {
      "model_module": "@jupyter-widgets/controls",
      "model_module_version": "2.0.0",
      "model_name": "HTMLModel",
      "state": {
       "layout": "IPY_MODEL_81250e40a59244d6ad6c3dfb682048c5",
       "style": "IPY_MODEL_d766fc8e406149fcb3880ff01388b0b3",
       "value": " 45/45 [00:23&lt;00:00,  2.23it/s]"
      }
     },
     "a2cecc4382464bc8a6512029814d3a24": {
      "model_module": "@jupyter-widgets/controls",
      "model_module_version": "2.0.0",
      "model_name": "ProgressStyleModel",
      "state": {
       "description_width": ""
      }
     },
     "ac080acbccd14598a01d465c06a1157a": {
      "model_module": "@jupyter-widgets/base",
      "model_module_version": "2.0.0",
      "model_name": "LayoutModel",
      "state": {
       "display": "inline-flex",
       "flex_flow": "row wrap",
       "width": "100%"
      }
     },
     "b1f7b233b1c846958a7665045f4dca9f": {
      "model_module": "@jupyter-widgets/base",
      "model_module_version": "2.0.0",
      "model_name": "LayoutModel",
      "state": {}
     },
     "b2af8291dde14affb914d0a55a56d285": {
      "model_module": "@jupyter-widgets/controls",
      "model_module_version": "2.0.0",
      "model_name": "HTMLStyleModel",
      "state": {
       "description_width": "",
       "font_size": null,
       "text_color": null
      }
     },
     "b2e920ecc81d4781bb3839b325141cf8": {
      "model_module": "@jupyter-widgets/controls",
      "model_module_version": "2.0.0",
      "model_name": "HTMLStyleModel",
      "state": {
       "description_width": "",
       "font_size": null,
       "text_color": null
      }
     },
     "b2fc856f507b496e998fa5a0f2eee163": {
      "model_module": "@jupyter-widgets/controls",
      "model_module_version": "2.0.0",
      "model_name": "HTMLModel",
      "state": {
       "layout": "IPY_MODEL_d7e041a3ce4e4caa9b14b5396a6fc49e",
       "style": "IPY_MODEL_b4a7326e0eba43a4904324428c6cb50b",
       "value": "100%"
      }
     },
     "b332a86c2e46453fa0d75afa073d2016": {
      "model_module": "@jupyter-widgets/controls",
      "model_module_version": "2.0.0",
      "model_name": "HTMLStyleModel",
      "state": {
       "description_width": "",
       "font_size": null,
       "text_color": null
      }
     },
     "b4a7326e0eba43a4904324428c6cb50b": {
      "model_module": "@jupyter-widgets/controls",
      "model_module_version": "2.0.0",
      "model_name": "HTMLStyleModel",
      "state": {
       "description_width": "",
       "font_size": null,
       "text_color": null
      }
     },
     "be3dd01fd5024ec78c6d5ab81c82283b": {
      "model_module": "@jupyter-widgets/controls",
      "model_module_version": "2.0.0",
      "model_name": "HBoxModel",
      "state": {
       "children": [
        "IPY_MODEL_1bdfe47cc6c049c2b8f74f6e319a4679",
        "IPY_MODEL_7f648c5bcdd647a491cbe9b677f4ed8f",
        "IPY_MODEL_3c9c207baacc45c085a664124b21c1de"
       ],
       "layout": "IPY_MODEL_fa830008a56a4d0e86af160aaed77c70"
      }
     },
     "be9b620a9f5642cdb29a46e62cdf767e": {
      "model_module": "@jupyter-widgets/controls",
      "model_module_version": "2.0.0",
      "model_name": "ProgressStyleModel",
      "state": {
       "description_width": ""
      }
     },
     "c69bafd9ec1d49039419d34c739dabd2": {
      "model_module": "@jupyter-widgets/controls",
      "model_module_version": "2.0.0",
      "model_name": "HBoxModel",
      "state": {
       "children": [
        "IPY_MODEL_0991fe10333d4784b17fcfeb1b20d247",
        "IPY_MODEL_437c8d37a8a741d69f931ad748fab85c",
        "IPY_MODEL_1a97f962459341b3ae1e005888ad0527"
       ],
       "layout": "IPY_MODEL_ce29419553ef4e90975323b178af0e3f"
      }
     },
     "c6b7f839306a49e9ae303bb3131bc043": {
      "model_module": "@jupyter-widgets/controls",
      "model_module_version": "2.0.0",
      "model_name": "ProgressStyleModel",
      "state": {
       "description_width": ""
      }
     },
     "c6dd191f635f456582ffde7d7ca7839f": {
      "model_module": "@jupyter-widgets/controls",
      "model_module_version": "2.0.0",
      "model_name": "HTMLModel",
      "state": {
       "layout": "IPY_MODEL_6d4c00fbdcca491d960bdeb4a21e50ea",
       "style": "IPY_MODEL_2ea600f108794e0a83e3cd3dfa065d0a",
       "value": "100%"
      }
     },
     "ce29419553ef4e90975323b178af0e3f": {
      "model_module": "@jupyter-widgets/base",
      "model_module_version": "2.0.0",
      "model_name": "LayoutModel",
      "state": {
       "display": "inline-flex",
       "flex_flow": "row wrap",
       "width": "100%"
      }
     },
     "d08fa458d1194ff88af27cd64082018d": {
      "model_module": "@jupyter-widgets/controls",
      "model_module_version": "2.0.0",
      "model_name": "FloatProgressModel",
      "state": {
       "bar_style": "success",
       "layout": "IPY_MODEL_fdfbef04cf3a405aaf02af12c019ce0f",
       "max": 45,
       "style": "IPY_MODEL_be9b620a9f5642cdb29a46e62cdf767e",
       "value": 45
      }
     },
     "d43347c34ed141e990154b4e27525315": {
      "model_module": "@jupyter-widgets/base",
      "model_module_version": "2.0.0",
      "model_name": "LayoutModel",
      "state": {
       "flex": "2"
      }
     },
     "d595f48eb5e94330af294297436859cf": {
      "model_module": "@jupyter-widgets/controls",
      "model_module_version": "2.0.0",
      "model_name": "HBoxModel",
      "state": {
       "children": [
        "IPY_MODEL_7470c14122164a13931e944e48f32f61",
        "IPY_MODEL_d08fa458d1194ff88af27cd64082018d",
        "IPY_MODEL_dce961b84cfb4215b8d9d0fb92cebd81"
       ],
       "layout": "IPY_MODEL_d9c211967e07448c94a9dbd82459ae15"
      }
     },
     "d766fc8e406149fcb3880ff01388b0b3": {
      "model_module": "@jupyter-widgets/controls",
      "model_module_version": "2.0.0",
      "model_name": "HTMLStyleModel",
      "state": {
       "description_width": "",
       "font_size": null,
       "text_color": null
      }
     },
     "d7e041a3ce4e4caa9b14b5396a6fc49e": {
      "model_module": "@jupyter-widgets/base",
      "model_module_version": "2.0.0",
      "model_name": "LayoutModel",
      "state": {}
     },
     "d9c211967e07448c94a9dbd82459ae15": {
      "model_module": "@jupyter-widgets/base",
      "model_module_version": "2.0.0",
      "model_name": "LayoutModel",
      "state": {
       "display": "inline-flex",
       "flex_flow": "row wrap",
       "width": "100%"
      }
     },
     "dc813f2febed4b838b310f7c1344ef3d": {
      "model_module": "@jupyter-widgets/base",
      "model_module_version": "2.0.0",
      "model_name": "LayoutModel",
      "state": {}
     },
     "dce961b84cfb4215b8d9d0fb92cebd81": {
      "model_module": "@jupyter-widgets/controls",
      "model_module_version": "2.0.0",
      "model_name": "HTMLModel",
      "state": {
       "layout": "IPY_MODEL_69c622aee42b49488ff7bd12e42c03c6",
       "style": "IPY_MODEL_4fb1d269fa2f48d2a584d8229d29d1a9",
       "value": " 45/45 [00:25&lt;00:00,  1.08s/it]"
      }
     },
     "e2d0391eb51e4540a09bd695cbc30726": {
      "model_module": "@jupyter-widgets/base",
      "model_module_version": "2.0.0",
      "model_name": "LayoutModel",
      "state": {}
     },
     "f6f2f9d77f034e9fb8338fa8b679aefd": {
      "model_module": "@jupyter-widgets/controls",
      "model_module_version": "2.0.0",
      "model_name": "HTMLModel",
      "state": {
       "layout": "IPY_MODEL_0e6a85e3a6a64e83a70105886c8396a3",
       "style": "IPY_MODEL_b332a86c2e46453fa0d75afa073d2016",
       "value": " 45/45 [00:23&lt;00:00,  2.27it/s]"
      }
     },
     "f85a3bc40d9e435b999dfe12dc26d140": {
      "model_module": "@jupyter-widgets/controls",
      "model_module_version": "2.0.0",
      "model_name": "FloatProgressModel",
      "state": {
       "bar_style": "success",
       "layout": "IPY_MODEL_84a909e0fc394234b9b1f640f6bdb8c1",
       "max": 45,
       "style": "IPY_MODEL_c6b7f839306a49e9ae303bb3131bc043",
       "value": 45
      }
     },
     "fa830008a56a4d0e86af160aaed77c70": {
      "model_module": "@jupyter-widgets/base",
      "model_module_version": "2.0.0",
      "model_name": "LayoutModel",
      "state": {
       "display": "inline-flex",
       "flex_flow": "row wrap",
       "width": "100%"
      }
     },
     "fdfbef04cf3a405aaf02af12c019ce0f": {
      "model_module": "@jupyter-widgets/base",
      "model_module_version": "2.0.0",
      "model_name": "LayoutModel",
      "state": {
       "flex": "2"
      }
     }
    },
    "version_major": 2,
    "version_minor": 0
   }
  }
 },
 "nbformat": 4,
 "nbformat_minor": 5
}
