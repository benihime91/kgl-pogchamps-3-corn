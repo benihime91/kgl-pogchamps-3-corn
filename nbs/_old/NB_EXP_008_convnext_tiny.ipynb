{
 "cells": [
  {
   "cell_type": "code",
   "execution_count": 1,
   "id": "42b734cc",
   "metadata": {},
   "outputs": [],
   "source": [
    "from fastai.vision.all import *\n",
    "from fastai.callback.wandb import WandbCallback\n",
    "from sklearn.model_selection import StratifiedKFold\n",
    "\n",
    "from ipyexperiments.ipyexperiments import IPyExperimentsPytorch\n",
    "import timm,wandb\n",
    "\n",
    "import IPython.display as disp\n",
    "from timm.models import safe_model_name, set_fast_norm\n",
    "from timm.models.layers import create_classifier, SelectAdaptivePool2d"
   ]
  },
  {
   "cell_type": "code",
   "execution_count": 2,
   "id": "8d7de7f0",
   "metadata": {},
   "outputs": [
    {
     "name": "stdout",
     "output_type": "stream",
     "text": [
      "env: WANDB_SILENT=true\n"
     ]
    }
   ],
   "source": [
    "%env WANDB_SILENT=true\n",
    "warnings.filterwarnings('ignore')"
   ]
  },
  {
   "cell_type": "code",
   "execution_count": 3,
   "id": "5a5e11dd",
   "metadata": {},
   "outputs": [],
   "source": [
    "VERSION  = \"NB_EXP_008\"\n",
    "EXP_NAME = f\"{VERSION}_convnext_tiny\"\n",
    "\n",
    "CSV_PATH     = Path('/data/train.csv')\n",
    "DATA_PATH    = Path('/data/')\n",
    "IMAGE_FOLDER = Path('/data/train/')\n",
    "MODEL_FOLDER = Path(f'/runs/{VERSION}')\n",
    "\n",
    "os.makedirs(MODEL_FOLDER, exist_ok=True)\n",
    "\n",
    "LABELS = sorted(['broken', 'pure', 'discolored', 'silkcut'])\n",
    "labels_class_map = {v:k for k,v in enumerate(LABELS)}\n",
    "labels_class_map_rev = {v:k for k,v in labels_class_map.items()}\n",
    "\n",
    "VIEWS = sorted(['top', 'bottom'])\n",
    "views_class_map = {v:k for k,v in enumerate(VIEWS)}\n",
    "views_class_map_rev = {v:k for k,v in views_class_map.items()}\n",
    "\n",
    "\n",
    "TIMM_MODEL  = \"convnext_tiny_in22ft1k\"\n",
    "\n",
    "NFOLDS = 5\n",
    "BS = 32\n",
    "SZ = 256\n",
    "RE = True"
   ]
  },
  {
   "cell_type": "code",
   "execution_count": 4,
   "id": "58a41270",
   "metadata": {},
   "outputs": [
    {
     "data": {
      "text/html": [
       "<div>\n",
       "<style scoped>\n",
       "    .dataframe tbody tr th:only-of-type {\n",
       "        vertical-align: middle;\n",
       "    }\n",
       "\n",
       "    .dataframe tbody tr th {\n",
       "        vertical-align: top;\n",
       "    }\n",
       "\n",
       "    .dataframe thead th {\n",
       "        text-align: right;\n",
       "    }\n",
       "</style>\n",
       "<table border=\"1\" class=\"dataframe\">\n",
       "  <thead>\n",
       "    <tr style=\"text-align: right;\">\n",
       "      <th></th>\n",
       "      <th>seed_id</th>\n",
       "      <th>view</th>\n",
       "      <th>image</th>\n",
       "      <th>label</th>\n",
       "    </tr>\n",
       "  </thead>\n",
       "  <tbody>\n",
       "    <tr>\n",
       "      <th>0</th>\n",
       "      <td>0</td>\n",
       "      <td>top</td>\n",
       "      <td>train/00000.png</td>\n",
       "      <td>broken</td>\n",
       "    </tr>\n",
       "    <tr>\n",
       "      <th>1</th>\n",
       "      <td>1</td>\n",
       "      <td>bottom</td>\n",
       "      <td>train/00001.png</td>\n",
       "      <td>pure</td>\n",
       "    </tr>\n",
       "    <tr>\n",
       "      <th>2</th>\n",
       "      <td>3</td>\n",
       "      <td>top</td>\n",
       "      <td>train/00003.png</td>\n",
       "      <td>broken</td>\n",
       "    </tr>\n",
       "    <tr>\n",
       "      <th>3</th>\n",
       "      <td>4</td>\n",
       "      <td>top</td>\n",
       "      <td>train/00004.png</td>\n",
       "      <td>pure</td>\n",
       "    </tr>\n",
       "    <tr>\n",
       "      <th>4</th>\n",
       "      <td>5</td>\n",
       "      <td>top</td>\n",
       "      <td>train/00005.png</td>\n",
       "      <td>discolored</td>\n",
       "    </tr>\n",
       "  </tbody>\n",
       "</table>\n",
       "</div>"
      ],
      "text/plain": [
       "   seed_id    view            image       label\n",
       "0        0     top  train/00000.png      broken\n",
       "1        1  bottom  train/00001.png        pure\n",
       "2        3     top  train/00003.png      broken\n",
       "3        4     top  train/00004.png        pure\n",
       "4        5     top  train/00005.png  discolored"
      ]
     },
     "execution_count": 4,
     "metadata": {},
     "output_type": "execute_result"
    }
   ],
   "source": [
    "all_df = pd.read_csv(CSV_PATH)\n",
    "all_df.head()"
   ]
  },
  {
   "cell_type": "code",
   "execution_count": 5,
   "id": "aed71943",
   "metadata": {},
   "outputs": [],
   "source": [
    "folds = all_df.copy()\n",
    "fold_splits = []\n",
    "\n",
    "Fold = StratifiedKFold(n_splits=NFOLDS, shuffle=True, random_state=42)\n",
    "for n, (train_index, val_index) in enumerate(Fold.split(folds, folds[\"label\"])):\n",
    "    fold_splits.append(val_index)\n",
    "    folds.loc[val_index, 'fold'] = int(n)\n",
    "folds['fold'] = folds['fold'].astype(int)"
   ]
  },
  {
   "cell_type": "code",
   "execution_count": 6,
   "id": "55add806",
   "metadata": {},
   "outputs": [],
   "source": [
    "@Transform\n",
    "def hflip(x: TensorTypes): return x.flip(3)\n",
    "\n",
    "@Transform\n",
    "def vflip(x: TensorTypes): return x.flip(2)"
   ]
  },
  {
   "cell_type": "code",
   "execution_count": 7,
   "id": "51048d0e",
   "metadata": {},
   "outputs": [],
   "source": [
    "def get_dls(fold:int, size:int, bs:int, re:bool = False):\n",
    "    \n",
    "    item_tfms = [ToTensor, Resize(size, method=ResizeMethod.Squish)]\n",
    "    aug_tfm = aug_transforms(flip_vert=True, \n",
    "                             max_rotate=360, \n",
    "                             max_zoom=1.3, \n",
    "                             max_lighting=0.1, \n",
    "                             p_lighting=0.5, \n",
    "                             pad_mode=PadMode.Zeros)\n",
    "    batch_tfms = [IntToFloatTensor, *aug_tfm, Normalize.from_stats(*imagenet_stats)]\n",
    "    if re: batch_tfms.append(RandomErasing(p=0.75))\n",
    "    \n",
    "    dblock = DataBlock(\n",
    "        blocks     = (ImageBlock, CategoryBlock(vocab=LABELS)),\n",
    "        splitter   = IndexSplitter(fold_splits[fold]),\n",
    "        get_x      = ColReader('image', pref=DATA_PATH),\n",
    "        get_y      = [ColReader('label')],\n",
    "        item_tfms  = item_tfms,\n",
    "        batch_tfms = batch_tfms )\n",
    "    \n",
    "    dls = dblock.dataloaders(folds, bs=bs)\n",
    "    return dls"
   ]
  },
  {
   "cell_type": "code",
   "execution_count": 8,
   "id": "283b7b1a",
   "metadata": {},
   "outputs": [
    {
     "data": {
      "image/png": "[encoded data removed]",
      "text/plain": [
       "<Figure size 648x432 with 6 Axes>"
      ]
     },
     "metadata": {
      "needs_background": "light"
     },
     "output_type": "display_data"
    }
   ],
   "source": [
    "dls = get_dls(0, size=SZ, bs=BS, re=RE)\n",
    "dls.show_batch(max_n=6)"
   ]
  },
  {
   "cell_type": "code",
   "execution_count": 9,
   "id": "b53b65a9",
   "metadata": {},
   "outputs": [],
   "source": [
    "from timm.models.helpers import group_modules, group_parameters\n",
    "\n",
    "def timm_get_module_names(m):\n",
    "    modules_names = group_modules(m, m.group_matcher(coarse=True))\n",
    "    return L(modules_names.values())[:-1] #cut timm head\n",
    "\n",
    "def timm_get_param_names(m):\n",
    "    param_names = group_parameters(m, m.group_matcher(coarse=True))\n",
    "    return L(param_names.values())[:-1] #cut timm head\n",
    "\n",
    "def timm_body_params(timm_model, cut=-1):\n",
    "    param_names = timm_get_param_names(timm_model)\n",
    "    return L(param_names[:cut].concat(), param_names[cut:].concat())\n",
    "\n",
    "def timm_split(m, cut=-1):\n",
    "    \"Splitter function for timm models\"\n",
    "    timm_model, head = m[0].model, m[1]\n",
    "    body_groups = [g.map(timm_model.get_parameter) for g in timm_body_params(timm_model, cut)]\n",
    "    return body_groups + [params(head)]"
   ]
  },
  {
   "cell_type": "code",
   "execution_count": 11,
   "id": "e692ef76",
   "metadata": {},
   "outputs": [
    {
     "name": "stdout",
     "output_type": "stream",
     "text": [
      "\n",
      "*** Experiment started with the Pytorch backend\n",
      "Device: ID 0, NVIDIA GeForce RTX 3090 (24576 RAM)\n",
      "\n"
     ]
    },
    {
     "data": {
      "text/html": [
       "\n",
       "<style>\n",
       "    /* Turns off some styling */\n",
       "    progress {\n",
       "        /* gets rid of default border in Firefox and Opera. */\n",
       "        border: none;\n",
       "        /* Needs to be in here for Safari polyfill so background images work as expected. */\n",
       "        background-size: auto;\n",
       "    }\n",
       "    progress:not([value]), progress:not([value])::-webkit-progress-bar {\n",
       "        background: repeating-linear-gradient(45deg, #7e7e7e, #7e7e7e 10px, #5c5c5c 10px, #5c5c5c 20px);\n",
       "    }\n",
       "    .progress-bar-interrupted, .progress-bar-interrupted::-webkit-progress-bar {\n",
       "        background: #F44336;\n",
       "    }\n",
       "</style>\n"
      ],
      "text/plain": [
       "<IPython.core.display.HTML object>"
      ]
     },
     "metadata": {},
     "output_type": "display_data"
    },
    {
     "data": {
      "text/html": [],
      "text/plain": [
       "<IPython.core.display.HTML object>"
      ]
     },
     "metadata": {},
     "output_type": "display_data"
    },
    {
     "name": "stdout",
     "output_type": "stream",
     "text": [
      "SuggestedLRs(valley=0.0006918309954926372, slide=0.0014454397605732083)\n",
      "CPU: 194/5/3742 MB | GPU: 44/1342/6551 MB | Time 0:00:09.070 | (Consumed/Peaked/Used Total)\n"
     ]
    },
    {
     "data": {
      "image/png": "[encoded data removed]",
      "text/plain": [
       "<Figure size 432x288 with 1 Axes>"
      ]
     },
     "metadata": {
      "needs_background": "light"
     },
     "output_type": "display_data"
    }
   ],
   "source": [
    "set_seed(42);set_fast_norm()\n",
    "\n",
    "with IPyExperimentsPytorch(exp_enable=False, cl_set_seed=42, cl_compact=True):\n",
    "                           \n",
    "    dls = get_dls(0, size=SZ, bs=BS, re=RE)\n",
    "    \n",
    "    learn = vision_learner(dls, TIMM_MODEL, n_out=dls.c, pretrained=True,\n",
    "                           loss_func=CrossEntropyLossFlat(), metrics=[accuracy], \n",
    "                           splitter=partial(timm_split, cut=-3)).to_fp16()\n",
    "    \n",
    "    print(learn.lr_find(suggest_funcs=(valley, slide)))"
   ]
  },
  {
   "cell_type": "code",
   "execution_count": 13,
   "id": "f7ff77a3",
   "metadata": {},
   "outputs": [
    {
     "name": "stdout",
     "output_type": "stream",
     "text": [
      "NB_EXP_008_convnext_tiny_256_bs32_epo10_augsV2_ft\n"
     ]
    }
   ],
   "source": [
    "n_epo = 10; base_lr = 2e-03; \n",
    "SUFFIX = f\"{SZ}_bs{BS}_epo{n_epo}_augsV2_ft\"\n",
    "print(EXP_NAME+'_'+SUFFIX)\n",
    "set_seed(42); set_fast_norm()"
   ]
  },
  {
   "cell_type": "code",
   "execution_count": 14,
   "id": "b21fab4a",
   "metadata": {
    "scrolled": false
   },
   "outputs": [
    {
     "name": "stdout",
     "output_type": "stream",
     "text": [
      "\n",
      "*** Experiment started with the Pytorch backend\n",
      "Device: ID 0, NVIDIA GeForce RTX 3090 (24576 RAM)\n",
      "\n"
     ]
    },
    {
     "data": {
      "text/html": [
       "\n",
       "<style>\n",
       "    /* Turns off some styling */\n",
       "    progress {\n",
       "        /* gets rid of default border in Firefox and Opera. */\n",
       "        border: none;\n",
       "        /* Needs to be in here for Safari polyfill so background images work as expected. */\n",
       "        background-size: auto;\n",
       "    }\n",
       "    progress:not([value]), progress:not([value])::-webkit-progress-bar {\n",
       "        background: repeating-linear-gradient(45deg, #7e7e7e, #7e7e7e 10px, #5c5c5c 10px, #5c5c5c 20px);\n",
       "    }\n",
       "    .progress-bar-interrupted, .progress-bar-interrupted::-webkit-progress-bar {\n",
       "        background: #F44336;\n",
       "    }\n",
       "</style>\n"
      ],
      "text/plain": [
       "<IPython.core.display.HTML object>"
      ]
     },
     "metadata": {},
     "output_type": "display_data"
    },
    {
     "data": {
      "text/html": [
       "<table border=\"1\" class=\"dataframe\">\n",
       "  <thead>\n",
       "    <tr style=\"text-align: left;\">\n",
       "      <th>epoch</th>\n",
       "      <th>train_loss</th>\n",
       "      <th>valid_loss</th>\n",
       "      <th>accuracy</th>\n",
       "      <th>time</th>\n",
       "    </tr>\n",
       "  </thead>\n",
       "  <tbody>\n",
       "    <tr>\n",
       "      <td>0</td>\n",
       "      <td>1.191581</td>\n",
       "      <td>0.815763</td>\n",
       "      <td>0.683072</td>\n",
       "      <td>00:33</td>\n",
       "    </tr>\n",
       "  </tbody>\n",
       "</table>"
      ],
      "text/plain": [
       "<IPython.core.display.HTML object>"
      ]
     },
     "metadata": {},
     "output_type": "display_data"
    },
    {
     "name": "stdout",
     "output_type": "stream",
     "text": [
      "Better model found at epoch 0 with accuracy value: 0.6830715537071228.\n"
     ]
    },
    {
     "data": {
      "text/html": [
       "\n",
       "<style>\n",
       "    /* Turns off some styling */\n",
       "    progress {\n",
       "        /* gets rid of default border in Firefox and Opera. */\n",
       "        border: none;\n",
       "        /* Needs to be in here for Safari polyfill so background images work as expected. */\n",
       "        background-size: auto;\n",
       "    }\n",
       "    progress:not([value]), progress:not([value])::-webkit-progress-bar {\n",
       "        background: repeating-linear-gradient(45deg, #7e7e7e, #7e7e7e 10px, #5c5c5c 10px, #5c5c5c 20px);\n",
       "    }\n",
       "    .progress-bar-interrupted, .progress-bar-interrupted::-webkit-progress-bar {\n",
       "        background: #F44336;\n",
       "    }\n",
       "</style>\n"
      ],
      "text/plain": [
       "<IPython.core.display.HTML object>"
      ]
     },
     "metadata": {},
     "output_type": "display_data"
    },
    {
     "data": {
      "text/html": [
       "<table border=\"1\" class=\"dataframe\">\n",
       "  <thead>\n",
       "    <tr style=\"text-align: left;\">\n",
       "      <th>epoch</th>\n",
       "      <th>train_loss</th>\n",
       "      <th>valid_loss</th>\n",
       "      <th>accuracy</th>\n",
       "      <th>time</th>\n",
       "    </tr>\n",
       "  </thead>\n",
       "  <tbody>\n",
       "    <tr>\n",
       "      <td>0</td>\n",
       "      <td>0.843285</td>\n",
       "      <td>0.655681</td>\n",
       "      <td>0.750785</td>\n",
       "      <td>00:44</td>\n",
       "    </tr>\n",
       "    <tr>\n",
       "      <td>1</td>\n",
       "      <td>0.748966</td>\n",
       "      <td>0.660969</td>\n",
       "      <td>0.734729</td>\n",
       "      <td>00:44</td>\n",
       "    </tr>\n",
       "    <tr>\n",
       "      <td>2</td>\n",
       "      <td>0.687372</td>\n",
       "      <td>0.662579</td>\n",
       "      <td>0.746597</td>\n",
       "      <td>00:44</td>\n",
       "    </tr>\n",
       "    <tr>\n",
       "      <td>3</td>\n",
       "      <td>0.679447</td>\n",
       "      <td>0.624606</td>\n",
       "      <td>0.746597</td>\n",
       "      <td>00:44</td>\n",
       "    </tr>\n",
       "    <tr>\n",
       "      <td>4</td>\n",
       "      <td>0.605051</td>\n",
       "      <td>0.557259</td>\n",
       "      <td>0.777312</td>\n",
       "      <td>00:44</td>\n",
       "    </tr>\n",
       "    <tr>\n",
       "      <td>5</td>\n",
       "      <td>0.575857</td>\n",
       "      <td>0.506109</td>\n",
       "      <td>0.796510</td>\n",
       "      <td>00:44</td>\n",
       "    </tr>\n",
       "    <tr>\n",
       "      <td>6</td>\n",
       "      <td>0.549798</td>\n",
       "      <td>0.486465</td>\n",
       "      <td>0.801047</td>\n",
       "      <td>00:44</td>\n",
       "    </tr>\n",
       "    <tr>\n",
       "      <td>7</td>\n",
       "      <td>0.491135</td>\n",
       "      <td>0.498351</td>\n",
       "      <td>0.806981</td>\n",
       "      <td>00:44</td>\n",
       "    </tr>\n",
       "    <tr>\n",
       "      <td>8</td>\n",
       "      <td>0.460934</td>\n",
       "      <td>0.482590</td>\n",
       "      <td>0.803141</td>\n",
       "      <td>00:44</td>\n",
       "    </tr>\n",
       "    <tr>\n",
       "      <td>9</td>\n",
       "      <td>0.454844</td>\n",
       "      <td>0.479315</td>\n",
       "      <td>0.801047</td>\n",
       "      <td>00:44</td>\n",
       "    </tr>\n",
       "  </tbody>\n",
       "</table>"
      ],
      "text/plain": [
       "<IPython.core.display.HTML object>"
      ]
     },
     "metadata": {},
     "output_type": "display_data"
    },
    {
     "name": "stdout",
     "output_type": "stream",
     "text": [
      "Better model found at epoch 0 with accuracy value: 0.7507853507995605.\n",
      "Better model found at epoch 4 with accuracy value: 0.7773123979568481.\n",
      "Better model found at epoch 5 with accuracy value: 0.7965096235275269.\n",
      "Better model found at epoch 6 with accuracy value: 0.801047146320343.\n",
      "Better model found at epoch 7 with accuracy value: 0.8069807887077332.\n",
      "CPU: 99/107/3842 MB | GPU: 426/2448/6977 MB | Time 0:08:14.711 | (Consumed/Peaked/Used Total)\n",
      "\n",
      "*** Experiment started with the Pytorch backend\n",
      "Device: ID 0, NVIDIA GeForce RTX 3090 (24576 RAM)\n",
      "\n"
     ]
    },
    {
     "data": {
      "application/vnd.jupyter.widget-view+json": {
       "model_id": "3423e0edaca0419396b37d6e2cf2a0a3",
       "version_major": 2,
       "version_minor": 0
      },
      "text/plain": [
       "VBox(children=(Label(value='Waiting for wandb.init()...\\r'), FloatProgress(value=0.03333624998728434, max=1.0)…"
      ]
     },
     "metadata": {},
     "output_type": "display_data"
    },
    {
     "data": {
      "text/html": [
       "\n",
       "<style>\n",
       "    /* Turns off some styling */\n",
       "    progress {\n",
       "        /* gets rid of default border in Firefox and Opera. */\n",
       "        border: none;\n",
       "        /* Needs to be in here for Safari polyfill so background images work as expected. */\n",
       "        background-size: auto;\n",
       "    }\n",
       "    progress:not([value]), progress:not([value])::-webkit-progress-bar {\n",
       "        background: repeating-linear-gradient(45deg, #7e7e7e, #7e7e7e 10px, #5c5c5c 10px, #5c5c5c 20px);\n",
       "    }\n",
       "    .progress-bar-interrupted, .progress-bar-interrupted::-webkit-progress-bar {\n",
       "        background: #F44336;\n",
       "    }\n",
       "</style>\n"
      ],
      "text/plain": [
       "<IPython.core.display.HTML object>"
      ]
     },
     "metadata": {},
     "output_type": "display_data"
    },
    {
     "data": {
      "text/html": [
       "<table border=\"1\" class=\"dataframe\">\n",
       "  <thead>\n",
       "    <tr style=\"text-align: left;\">\n",
       "      <th>epoch</th>\n",
       "      <th>train_loss</th>\n",
       "      <th>valid_loss</th>\n",
       "      <th>accuracy</th>\n",
       "      <th>time</th>\n",
       "    </tr>\n",
       "  </thead>\n",
       "  <tbody>\n",
       "    <tr>\n",
       "      <td>0</td>\n",
       "      <td>1.176602</td>\n",
       "      <td>0.850092</td>\n",
       "      <td>0.678534</td>\n",
       "      <td>00:33</td>\n",
       "    </tr>\n",
       "  </tbody>\n",
       "</table>"
      ],
      "text/plain": [
       "<IPython.core.display.HTML object>"
      ]
     },
     "metadata": {},
     "output_type": "display_data"
    },
    {
     "name": "stdout",
     "output_type": "stream",
     "text": [
      "Better model found at epoch 0 with accuracy value: 0.6785340309143066.\n"
     ]
    },
    {
     "data": {
      "text/html": [
       "\n",
       "<style>\n",
       "    /* Turns off some styling */\n",
       "    progress {\n",
       "        /* gets rid of default border in Firefox and Opera. */\n",
       "        border: none;\n",
       "        /* Needs to be in here for Safari polyfill so background images work as expected. */\n",
       "        background-size: auto;\n",
       "    }\n",
       "    progress:not([value]), progress:not([value])::-webkit-progress-bar {\n",
       "        background: repeating-linear-gradient(45deg, #7e7e7e, #7e7e7e 10px, #5c5c5c 10px, #5c5c5c 20px);\n",
       "    }\n",
       "    .progress-bar-interrupted, .progress-bar-interrupted::-webkit-progress-bar {\n",
       "        background: #F44336;\n",
       "    }\n",
       "</style>\n"
      ],
      "text/plain": [
       "<IPython.core.display.HTML object>"
      ]
     },
     "metadata": {},
     "output_type": "display_data"
    },
    {
     "data": {
      "text/html": [
       "<table border=\"1\" class=\"dataframe\">\n",
       "  <thead>\n",
       "    <tr style=\"text-align: left;\">\n",
       "      <th>epoch</th>\n",
       "      <th>train_loss</th>\n",
       "      <th>valid_loss</th>\n",
       "      <th>accuracy</th>\n",
       "      <th>time</th>\n",
       "    </tr>\n",
       "  </thead>\n",
       "  <tbody>\n",
       "    <tr>\n",
       "      <td>0</td>\n",
       "      <td>0.838898</td>\n",
       "      <td>0.642658</td>\n",
       "      <td>0.746248</td>\n",
       "      <td>00:44</td>\n",
       "    </tr>\n",
       "    <tr>\n",
       "      <td>1</td>\n",
       "      <td>0.743195</td>\n",
       "      <td>0.615523</td>\n",
       "      <td>0.756021</td>\n",
       "      <td>00:44</td>\n",
       "    </tr>\n",
       "    <tr>\n",
       "      <td>2</td>\n",
       "      <td>0.702288</td>\n",
       "      <td>0.572825</td>\n",
       "      <td>0.766841</td>\n",
       "      <td>00:44</td>\n",
       "    </tr>\n",
       "    <tr>\n",
       "      <td>3</td>\n",
       "      <td>0.645369</td>\n",
       "      <td>0.596932</td>\n",
       "      <td>0.757417</td>\n",
       "      <td>00:44</td>\n",
       "    </tr>\n",
       "    <tr>\n",
       "      <td>4</td>\n",
       "      <td>0.606334</td>\n",
       "      <td>0.564369</td>\n",
       "      <td>0.772077</td>\n",
       "      <td>00:44</td>\n",
       "    </tr>\n",
       "    <tr>\n",
       "      <td>5</td>\n",
       "      <td>0.576474</td>\n",
       "      <td>0.507939</td>\n",
       "      <td>0.794066</td>\n",
       "      <td>00:44</td>\n",
       "    </tr>\n",
       "    <tr>\n",
       "      <td>6</td>\n",
       "      <td>0.549668</td>\n",
       "      <td>0.488111</td>\n",
       "      <td>0.810122</td>\n",
       "      <td>00:44</td>\n",
       "    </tr>\n",
       "    <tr>\n",
       "      <td>7</td>\n",
       "      <td>0.505941</td>\n",
       "      <td>0.480029</td>\n",
       "      <td>0.808377</td>\n",
       "      <td>00:44</td>\n",
       "    </tr>\n",
       "    <tr>\n",
       "      <td>8</td>\n",
       "      <td>0.486310</td>\n",
       "      <td>0.468810</td>\n",
       "      <td>0.813613</td>\n",
       "      <td>00:44</td>\n",
       "    </tr>\n",
       "    <tr>\n",
       "      <td>9</td>\n",
       "      <td>0.476513</td>\n",
       "      <td>0.468409</td>\n",
       "      <td>0.808377</td>\n",
       "      <td>00:44</td>\n",
       "    </tr>\n",
       "  </tbody>\n",
       "</table>"
      ],
      "text/plain": [
       "<IPython.core.display.HTML object>"
      ]
     },
     "metadata": {},
     "output_type": "display_data"
    },
    {
     "name": "stdout",
     "output_type": "stream",
     "text": [
      "Better model found at epoch 0 with accuracy value: 0.7462478280067444.\n",
      "Better model found at epoch 1 with accuracy value: 0.7560209631919861.\n",
      "Better model found at epoch 2 with accuracy value: 0.7668411731719971.\n",
      "Better model found at epoch 4 with accuracy value: 0.7720767855644226.\n",
      "Better model found at epoch 5 with accuracy value: 0.794066309928894.\n",
      "Better model found at epoch 6 with accuracy value: 0.8101221919059753.\n",
      "Better model found at epoch 8 with accuracy value: 0.8136125802993774.\n",
      "CPU: 18/87/3860 MB | GPU: 204/2586/7181 MB | Time 0:08:15.489 | (Consumed/Peaked/Used Total)\n",
      "\n",
      "*** Experiment started with the Pytorch backend\n",
      "Device: ID 0, NVIDIA GeForce RTX 3090 (24576 RAM)\n",
      "\n"
     ]
    },
    {
     "data": {
      "application/vnd.jupyter.widget-view+json": {
       "model_id": "862f422f4d044a9ea4c507260f4909b3",
       "version_major": 2,
       "version_minor": 0
      },
      "text/plain": [
       "VBox(children=(Label(value='Waiting for wandb.init()...\\r'), FloatProgress(value=0.033336305618286134, max=1.0…"
      ]
     },
     "metadata": {},
     "output_type": "display_data"
    },
    {
     "data": {
      "text/html": [
       "\n",
       "<style>\n",
       "    /* Turns off some styling */\n",
       "    progress {\n",
       "        /* gets rid of default border in Firefox and Opera. */\n",
       "        border: none;\n",
       "        /* Needs to be in here for Safari polyfill so background images work as expected. */\n",
       "        background-size: auto;\n",
       "    }\n",
       "    progress:not([value]), progress:not([value])::-webkit-progress-bar {\n",
       "        background: repeating-linear-gradient(45deg, #7e7e7e, #7e7e7e 10px, #5c5c5c 10px, #5c5c5c 20px);\n",
       "    }\n",
       "    .progress-bar-interrupted, .progress-bar-interrupted::-webkit-progress-bar {\n",
       "        background: #F44336;\n",
       "    }\n",
       "</style>\n"
      ],
      "text/plain": [
       "<IPython.core.display.HTML object>"
      ]
     },
     "metadata": {},
     "output_type": "display_data"
    },
    {
     "data": {
      "text/html": [
       "<table border=\"1\" class=\"dataframe\">\n",
       "  <thead>\n",
       "    <tr style=\"text-align: left;\">\n",
       "      <th>epoch</th>\n",
       "      <th>train_loss</th>\n",
       "      <th>valid_loss</th>\n",
       "      <th>accuracy</th>\n",
       "      <th>time</th>\n",
       "    </tr>\n",
       "  </thead>\n",
       "  <tbody>\n",
       "    <tr>\n",
       "      <td>0</td>\n",
       "      <td>1.177263</td>\n",
       "      <td>0.876601</td>\n",
       "      <td>0.664455</td>\n",
       "      <td>00:33</td>\n",
       "    </tr>\n",
       "  </tbody>\n",
       "</table>"
      ],
      "text/plain": [
       "<IPython.core.display.HTML object>"
      ]
     },
     "metadata": {},
     "output_type": "display_data"
    },
    {
     "name": "stdout",
     "output_type": "stream",
     "text": [
      "Better model found at epoch 0 with accuracy value: 0.6644552946090698.\n"
     ]
    },
    {
     "data": {
      "text/html": [
       "\n",
       "<style>\n",
       "    /* Turns off some styling */\n",
       "    progress {\n",
       "        /* gets rid of default border in Firefox and Opera. */\n",
       "        border: none;\n",
       "        /* Needs to be in here for Safari polyfill so background images work as expected. */\n",
       "        background-size: auto;\n",
       "    }\n",
       "    progress:not([value]), progress:not([value])::-webkit-progress-bar {\n",
       "        background: repeating-linear-gradient(45deg, #7e7e7e, #7e7e7e 10px, #5c5c5c 10px, #5c5c5c 20px);\n",
       "    }\n",
       "    .progress-bar-interrupted, .progress-bar-interrupted::-webkit-progress-bar {\n",
       "        background: #F44336;\n",
       "    }\n",
       "</style>\n"
      ],
      "text/plain": [
       "<IPython.core.display.HTML object>"
      ]
     },
     "metadata": {},
     "output_type": "display_data"
    },
    {
     "data": {
      "text/html": [
       "<table border=\"1\" class=\"dataframe\">\n",
       "  <thead>\n",
       "    <tr style=\"text-align: left;\">\n",
       "      <th>epoch</th>\n",
       "      <th>train_loss</th>\n",
       "      <th>valid_loss</th>\n",
       "      <th>accuracy</th>\n",
       "      <th>time</th>\n",
       "    </tr>\n",
       "  </thead>\n",
       "  <tbody>\n",
       "    <tr>\n",
       "      <td>0</td>\n",
       "      <td>0.812437</td>\n",
       "      <td>0.662715</td>\n",
       "      <td>0.744064</td>\n",
       "      <td>00:44</td>\n",
       "    </tr>\n",
       "    <tr>\n",
       "      <td>1</td>\n",
       "      <td>0.753416</td>\n",
       "      <td>0.654726</td>\n",
       "      <td>0.742318</td>\n",
       "      <td>00:44</td>\n",
       "    </tr>\n",
       "    <tr>\n",
       "      <td>2</td>\n",
       "      <td>0.681806</td>\n",
       "      <td>0.630783</td>\n",
       "      <td>0.751746</td>\n",
       "      <td>00:44</td>\n",
       "    </tr>\n",
       "    <tr>\n",
       "      <td>3</td>\n",
       "      <td>0.634078</td>\n",
       "      <td>0.581239</td>\n",
       "      <td>0.766760</td>\n",
       "      <td>00:44</td>\n",
       "    </tr>\n",
       "    <tr>\n",
       "      <td>4</td>\n",
       "      <td>0.592034</td>\n",
       "      <td>0.577699</td>\n",
       "      <td>0.774441</td>\n",
       "      <td>00:44</td>\n",
       "    </tr>\n",
       "    <tr>\n",
       "      <td>5</td>\n",
       "      <td>0.569676</td>\n",
       "      <td>0.559653</td>\n",
       "      <td>0.779330</td>\n",
       "      <td>00:44</td>\n",
       "    </tr>\n",
       "    <tr>\n",
       "      <td>6</td>\n",
       "      <td>0.551101</td>\n",
       "      <td>0.524620</td>\n",
       "      <td>0.795042</td>\n",
       "      <td>00:44</td>\n",
       "    </tr>\n",
       "    <tr>\n",
       "      <td>7</td>\n",
       "      <td>0.529194</td>\n",
       "      <td>0.502721</td>\n",
       "      <td>0.794693</td>\n",
       "      <td>00:44</td>\n",
       "    </tr>\n",
       "    <tr>\n",
       "      <td>8</td>\n",
       "      <td>0.488922</td>\n",
       "      <td>0.489591</td>\n",
       "      <td>0.810754</td>\n",
       "      <td>00:44</td>\n",
       "    </tr>\n",
       "    <tr>\n",
       "      <td>9</td>\n",
       "      <td>0.469182</td>\n",
       "      <td>0.491513</td>\n",
       "      <td>0.812849</td>\n",
       "      <td>00:44</td>\n",
       "    </tr>\n",
       "  </tbody>\n",
       "</table>"
      ],
      "text/plain": [
       "<IPython.core.display.HTML object>"
      ]
     },
     "metadata": {},
     "output_type": "display_data"
    },
    {
     "name": "stdout",
     "output_type": "stream",
     "text": [
      "Better model found at epoch 0 with accuracy value: 0.7440642714500427.\n",
      "Better model found at epoch 2 with accuracy value: 0.7517458200454712.\n",
      "Better model found at epoch 3 with accuracy value: 0.7667597532272339.\n",
      "Better model found at epoch 4 with accuracy value: 0.7744413614273071.\n",
      "Better model found at epoch 5 with accuracy value: 0.7793295979499817.\n",
      "Better model found at epoch 6 with accuracy value: 0.7950419187545776.\n",
      "Better model found at epoch 8 with accuracy value: 0.8107541799545288.\n",
      "Better model found at epoch 9 with accuracy value: 0.8128491640090942.\n",
      "CPU: 84/47/3944 MB | GPU: 36/2530/7217 MB | Time 0:08:15.592 | (Consumed/Peaked/Used Total)\n",
      "\n",
      "*** Experiment started with the Pytorch backend\n",
      "Device: ID 0, NVIDIA GeForce RTX 3090 (24576 RAM)\n",
      "\n"
     ]
    },
    {
     "data": {
      "application/vnd.jupyter.widget-view+json": {
       "model_id": "28000c170bd84d57bf6e393f4c6cae2c",
       "version_major": 2,
       "version_minor": 0
      },
      "text/plain": [
       "VBox(children=(Label(value='Waiting for wandb.init()...\\r'), FloatProgress(value=0.03333624998728434, max=1.0)…"
      ]
     },
     "metadata": {},
     "output_type": "display_data"
    },
    {
     "data": {
      "text/html": [
       "\n",
       "<style>\n",
       "    /* Turns off some styling */\n",
       "    progress {\n",
       "        /* gets rid of default border in Firefox and Opera. */\n",
       "        border: none;\n",
       "        /* Needs to be in here for Safari polyfill so background images work as expected. */\n",
       "        background-size: auto;\n",
       "    }\n",
       "    progress:not([value]), progress:not([value])::-webkit-progress-bar {\n",
       "        background: repeating-linear-gradient(45deg, #7e7e7e, #7e7e7e 10px, #5c5c5c 10px, #5c5c5c 20px);\n",
       "    }\n",
       "    .progress-bar-interrupted, .progress-bar-interrupted::-webkit-progress-bar {\n",
       "        background: #F44336;\n",
       "    }\n",
       "</style>\n"
      ],
      "text/plain": [
       "<IPython.core.display.HTML object>"
      ]
     },
     "metadata": {},
     "output_type": "display_data"
    },
    {
     "data": {
      "text/html": [
       "<table border=\"1\" class=\"dataframe\">\n",
       "  <thead>\n",
       "    <tr style=\"text-align: left;\">\n",
       "      <th>epoch</th>\n",
       "      <th>train_loss</th>\n",
       "      <th>valid_loss</th>\n",
       "      <th>accuracy</th>\n",
       "      <th>time</th>\n",
       "    </tr>\n",
       "  </thead>\n",
       "  <tbody>\n",
       "    <tr>\n",
       "      <td>0</td>\n",
       "      <td>1.173716</td>\n",
       "      <td>0.909851</td>\n",
       "      <td>0.656425</td>\n",
       "      <td>00:34</td>\n",
       "    </tr>\n",
       "  </tbody>\n",
       "</table>"
      ],
      "text/plain": [
       "<IPython.core.display.HTML object>"
      ]
     },
     "metadata": {},
     "output_type": "display_data"
    },
    {
     "name": "stdout",
     "output_type": "stream",
     "text": [
      "Better model found at epoch 0 with accuracy value: 0.6564245820045471.\n"
     ]
    },
    {
     "data": {
      "text/html": [
       "\n",
       "<style>\n",
       "    /* Turns off some styling */\n",
       "    progress {\n",
       "        /* gets rid of default border in Firefox and Opera. */\n",
       "        border: none;\n",
       "        /* Needs to be in here for Safari polyfill so background images work as expected. */\n",
       "        background-size: auto;\n",
       "    }\n",
       "    progress:not([value]), progress:not([value])::-webkit-progress-bar {\n",
       "        background: repeating-linear-gradient(45deg, #7e7e7e, #7e7e7e 10px, #5c5c5c 10px, #5c5c5c 20px);\n",
       "    }\n",
       "    .progress-bar-interrupted, .progress-bar-interrupted::-webkit-progress-bar {\n",
       "        background: #F44336;\n",
       "    }\n",
       "</style>\n"
      ],
      "text/plain": [
       "<IPython.core.display.HTML object>"
      ]
     },
     "metadata": {},
     "output_type": "display_data"
    },
    {
     "data": {
      "text/html": [
       "<table border=\"1\" class=\"dataframe\">\n",
       "  <thead>\n",
       "    <tr style=\"text-align: left;\">\n",
       "      <th>epoch</th>\n",
       "      <th>train_loss</th>\n",
       "      <th>valid_loss</th>\n",
       "      <th>accuracy</th>\n",
       "      <th>time</th>\n",
       "    </tr>\n",
       "  </thead>\n",
       "  <tbody>\n",
       "    <tr>\n",
       "      <td>0</td>\n",
       "      <td>0.814606</td>\n",
       "      <td>0.665076</td>\n",
       "      <td>0.739874</td>\n",
       "      <td>00:44</td>\n",
       "    </tr>\n",
       "    <tr>\n",
       "      <td>1</td>\n",
       "      <td>0.754525</td>\n",
       "      <td>0.603184</td>\n",
       "      <td>0.763268</td>\n",
       "      <td>00:44</td>\n",
       "    </tr>\n",
       "    <tr>\n",
       "      <td>2</td>\n",
       "      <td>0.707560</td>\n",
       "      <td>0.555524</td>\n",
       "      <td>0.778631</td>\n",
       "      <td>00:44</td>\n",
       "    </tr>\n",
       "    <tr>\n",
       "      <td>3</td>\n",
       "      <td>0.662054</td>\n",
       "      <td>0.514565</td>\n",
       "      <td>0.796089</td>\n",
       "      <td>00:44</td>\n",
       "    </tr>\n",
       "    <tr>\n",
       "      <td>4</td>\n",
       "      <td>0.605400</td>\n",
       "      <td>0.498212</td>\n",
       "      <td>0.792598</td>\n",
       "      <td>00:44</td>\n",
       "    </tr>\n",
       "    <tr>\n",
       "      <td>5</td>\n",
       "      <td>0.607719</td>\n",
       "      <td>0.499400</td>\n",
       "      <td>0.790852</td>\n",
       "      <td>00:44</td>\n",
       "    </tr>\n",
       "    <tr>\n",
       "      <td>6</td>\n",
       "      <td>0.557191</td>\n",
       "      <td>0.466214</td>\n",
       "      <td>0.808310</td>\n",
       "      <td>00:44</td>\n",
       "    </tr>\n",
       "    <tr>\n",
       "      <td>7</td>\n",
       "      <td>0.527538</td>\n",
       "      <td>0.463825</td>\n",
       "      <td>0.810056</td>\n",
       "      <td>00:44</td>\n",
       "    </tr>\n",
       "    <tr>\n",
       "      <td>8</td>\n",
       "      <td>0.464629</td>\n",
       "      <td>0.444411</td>\n",
       "      <td>0.817388</td>\n",
       "      <td>00:44</td>\n",
       "    </tr>\n",
       "    <tr>\n",
       "      <td>9</td>\n",
       "      <td>0.487239</td>\n",
       "      <td>0.446000</td>\n",
       "      <td>0.823673</td>\n",
       "      <td>00:44</td>\n",
       "    </tr>\n",
       "  </tbody>\n",
       "</table>"
      ],
      "text/plain": [
       "<IPython.core.display.HTML object>"
      ]
     },
     "metadata": {},
     "output_type": "display_data"
    },
    {
     "name": "stdout",
     "output_type": "stream",
     "text": [
      "Better model found at epoch 0 with accuracy value: 0.7398743033409119.\n",
      "Better model found at epoch 1 with accuracy value: 0.7632681727409363.\n",
      "Better model found at epoch 2 with accuracy value: 0.7786312699317932.\n",
      "Better model found at epoch 3 with accuracy value: 0.7960894107818604.\n",
      "Better model found at epoch 6 with accuracy value: 0.8083100318908691.\n",
      "Better model found at epoch 7 with accuracy value: 0.8100558519363403.\n",
      "Better model found at epoch 8 with accuracy value: 0.8173882961273193.\n",
      "Better model found at epoch 9 with accuracy value: 0.8236731886863708.\n",
      "CPU: 0/47/3945 MB | GPU: 98/2448/7315 MB | Time 0:08:15.523 | (Consumed/Peaked/Used Total)\n",
      "\n",
      "*** Experiment started with the Pytorch backend\n",
      "Device: ID 0, NVIDIA GeForce RTX 3090 (24576 RAM)\n",
      "\n"
     ]
    },
    {
     "data": {
      "application/vnd.jupyter.widget-view+json": {
       "model_id": "d5bbe5b48dfd4a308ba46c309ed671ba",
       "version_major": 2,
       "version_minor": 0
      },
      "text/plain": [
       "VBox(children=(Label(value='Waiting for wandb.init()...\\r'), FloatProgress(value=0.03333738644917806, max=1.0)…"
      ]
     },
     "metadata": {},
     "output_type": "display_data"
    },
    {
     "data": {
      "text/html": [
       "\n",
       "<style>\n",
       "    /* Turns off some styling */\n",
       "    progress {\n",
       "        /* gets rid of default border in Firefox and Opera. */\n",
       "        border: none;\n",
       "        /* Needs to be in here for Safari polyfill so background images work as expected. */\n",
       "        background-size: auto;\n",
       "    }\n",
       "    progress:not([value]), progress:not([value])::-webkit-progress-bar {\n",
       "        background: repeating-linear-gradient(45deg, #7e7e7e, #7e7e7e 10px, #5c5c5c 10px, #5c5c5c 20px);\n",
       "    }\n",
       "    .progress-bar-interrupted, .progress-bar-interrupted::-webkit-progress-bar {\n",
       "        background: #F44336;\n",
       "    }\n",
       "</style>\n"
      ],
      "text/plain": [
       "<IPython.core.display.HTML object>"
      ]
     },
     "metadata": {},
     "output_type": "display_data"
    },
    {
     "data": {
      "text/html": [
       "<table border=\"1\" class=\"dataframe\">\n",
       "  <thead>\n",
       "    <tr style=\"text-align: left;\">\n",
       "      <th>epoch</th>\n",
       "      <th>train_loss</th>\n",
       "      <th>valid_loss</th>\n",
       "      <th>accuracy</th>\n",
       "      <th>time</th>\n",
       "    </tr>\n",
       "  </thead>\n",
       "  <tbody>\n",
       "    <tr>\n",
       "      <td>0</td>\n",
       "      <td>1.136516</td>\n",
       "      <td>0.894495</td>\n",
       "      <td>0.654679</td>\n",
       "      <td>00:33</td>\n",
       "    </tr>\n",
       "  </tbody>\n",
       "</table>"
      ],
      "text/plain": [
       "<IPython.core.display.HTML object>"
      ]
     },
     "metadata": {},
     "output_type": "display_data"
    },
    {
     "name": "stdout",
     "output_type": "stream",
     "text": [
      "Better model found at epoch 0 with accuracy value: 0.6546787619590759.\n"
     ]
    },
    {
     "data": {
      "text/html": [
       "\n",
       "<style>\n",
       "    /* Turns off some styling */\n",
       "    progress {\n",
       "        /* gets rid of default border in Firefox and Opera. */\n",
       "        border: none;\n",
       "        /* Needs to be in here for Safari polyfill so background images work as expected. */\n",
       "        background-size: auto;\n",
       "    }\n",
       "    progress:not([value]), progress:not([value])::-webkit-progress-bar {\n",
       "        background: repeating-linear-gradient(45deg, #7e7e7e, #7e7e7e 10px, #5c5c5c 10px, #5c5c5c 20px);\n",
       "    }\n",
       "    .progress-bar-interrupted, .progress-bar-interrupted::-webkit-progress-bar {\n",
       "        background: #F44336;\n",
       "    }\n",
       "</style>\n"
      ],
      "text/plain": [
       "<IPython.core.display.HTML object>"
      ]
     },
     "metadata": {},
     "output_type": "display_data"
    },
    {
     "data": {
      "text/html": [
       "<table border=\"1\" class=\"dataframe\">\n",
       "  <thead>\n",
       "    <tr style=\"text-align: left;\">\n",
       "      <th>epoch</th>\n",
       "      <th>train_loss</th>\n",
       "      <th>valid_loss</th>\n",
       "      <th>accuracy</th>\n",
       "      <th>time</th>\n",
       "    </tr>\n",
       "  </thead>\n",
       "  <tbody>\n",
       "    <tr>\n",
       "      <td>0</td>\n",
       "      <td>0.840673</td>\n",
       "      <td>0.628424</td>\n",
       "      <td>0.750698</td>\n",
       "      <td>00:44</td>\n",
       "    </tr>\n",
       "    <tr>\n",
       "      <td>1</td>\n",
       "      <td>0.734176</td>\n",
       "      <td>0.674148</td>\n",
       "      <td>0.728352</td>\n",
       "      <td>00:44</td>\n",
       "    </tr>\n",
       "    <tr>\n",
       "      <td>2</td>\n",
       "      <td>0.697946</td>\n",
       "      <td>0.627338</td>\n",
       "      <td>0.757332</td>\n",
       "      <td>00:44</td>\n",
       "    </tr>\n",
       "    <tr>\n",
       "      <td>3</td>\n",
       "      <td>0.644183</td>\n",
       "      <td>0.522189</td>\n",
       "      <td>0.790154</td>\n",
       "      <td>00:44</td>\n",
       "    </tr>\n",
       "    <tr>\n",
       "      <td>4</td>\n",
       "      <td>0.612317</td>\n",
       "      <td>0.497233</td>\n",
       "      <td>0.801676</td>\n",
       "      <td>00:44</td>\n",
       "    </tr>\n",
       "    <tr>\n",
       "      <td>5</td>\n",
       "      <td>0.592965</td>\n",
       "      <td>0.526536</td>\n",
       "      <td>0.788408</td>\n",
       "      <td>00:44</td>\n",
       "    </tr>\n",
       "    <tr>\n",
       "      <td>6</td>\n",
       "      <td>0.555121</td>\n",
       "      <td>0.504128</td>\n",
       "      <td>0.795042</td>\n",
       "      <td>00:44</td>\n",
       "    </tr>\n",
       "    <tr>\n",
       "      <td>7</td>\n",
       "      <td>0.539547</td>\n",
       "      <td>0.483613</td>\n",
       "      <td>0.806913</td>\n",
       "      <td>00:44</td>\n",
       "    </tr>\n",
       "    <tr>\n",
       "      <td>8</td>\n",
       "      <td>0.500311</td>\n",
       "      <td>0.458238</td>\n",
       "      <td>0.815293</td>\n",
       "      <td>00:44</td>\n",
       "    </tr>\n",
       "    <tr>\n",
       "      <td>9</td>\n",
       "      <td>0.477825</td>\n",
       "      <td>0.459478</td>\n",
       "      <td>0.814944</td>\n",
       "      <td>00:44</td>\n",
       "    </tr>\n",
       "  </tbody>\n",
       "</table>"
      ],
      "text/plain": [
       "<IPython.core.display.HTML object>"
      ]
     },
     "metadata": {},
     "output_type": "display_data"
    },
    {
     "name": "stdout",
     "output_type": "stream",
     "text": [
      "Better model found at epoch 0 with accuracy value: 0.7506983280181885.\n",
      "Better model found at epoch 2 with accuracy value: 0.7573323845863342.\n",
      "Better model found at epoch 3 with accuracy value: 0.7901536226272583.\n",
      "Better model found at epoch 4 with accuracy value: 0.8016759753227234.\n",
      "Better model found at epoch 7 with accuracy value: 0.806913435459137.\n",
      "Better model found at epoch 8 with accuracy value: 0.8152933120727539.\n",
      "CPU: 1/45/3946 MB | GPU: 15/2404/7330 MB | Time 0:08:15.799 | (Consumed/Peaked/Used Total)\n"
     ]
    }
   ],
   "source": [
    "for fold_idx in range(NFOLDS):\n",
    "    with IPyExperimentsPytorch(exp_enable=False, cl_set_seed=42, cl_compact=True):\n",
    "        \n",
    "        with wandb.init(project='pog3_corn',\n",
    "                        group=EXP_NAME, save_code=True,\n",
    "                        name=f'{EXP_NAME}_{SUFFIX}_CV_{fold_idx:02d}'):\n",
    "            \n",
    "            #wandb.define_metric('accuracy', hidden=False, summary=\"max\")\n",
    "        \n",
    "            dls = get_dls(fold_idx, size=SZ, bs=BS, re=RE)\n",
    "\n",
    "            learn = vision_learner(dls, TIMM_MODEL, n_out=dls.c, pretrained=True,\n",
    "                                   loss_func=CrossEntropyLossFlat(), metrics=[accuracy], \n",
    "                                   splitter=partial(timm_split, cut=-3)).to_fp16()\n",
    "\n",
    "            cbs = [SaveModelCallback(monitor=\"accuracy\", comp=np.greater),WandbCallback(log_preds=None)]\n",
    "            learn.fine_tune(n_epo, base_lr, cbs=cbs)\n",
    "\n",
    "            learn = learn.load(\"model\")\n",
    "            learn = learn.to_fp32()\n",
    "\n",
    "            dirpath = MODEL_FOLDER/f'{EXP_NAME}_{SUFFIX}_CV_{fold_idx:02d}'\n",
    "            learn.save(dirpath, with_opt=False)"
   ]
  },
  {
   "cell_type": "code",
   "execution_count": 16,
   "id": "7da06a12",
   "metadata": {},
   "outputs": [
    {
     "name": "stdout",
     "output_type": "stream",
     "text": [
      "============ Run summary (hflip+vflip TTA) ============\n",
      "folds score:  [0.80558, 0.81431, 0.81634, 0.82332, 0.81599]\n",
      "Avg: 0.81511\n",
      "Std: 0.00568\n"
     ]
    }
   ],
   "source": [
    "pattern = f'{EXP_NAME}_{SUFFIX}_CV_' + '{fold:02d}'\n",
    "folds_val_score = []\n",
    "\n",
    "with IPyExperimentsPytorch(exp_enable=False, cl_set_seed=42, cl_compact=True):\n",
    "    \n",
    "    for fold_index in range(NFOLDS):\n",
    "        dls = get_dls(fold_index, size=SZ, bs=BS, re=RE)\n",
    "\n",
    "        learn = vision_learner(dls, TIMM_MODEL, n_out=dls.c, pretrained=True,\n",
    "                               loss_func=CrossEntropyLossFlat(), metrics=[accuracy], \n",
    "                               splitter=timm_split, model_dir=MODEL_FOLDER).to_fp16()\n",
    "        \n",
    "        checkpoint = pattern.format(fold=fold_index)\n",
    "        print(f\"Load from : {checkpoint!r} ({fold_index:02d})\")\n",
    "        \n",
    "        learn.load(checkpoint)\n",
    "        \n",
    "        # original dl with validation tfms\n",
    "        tst_dl = dls.valid.new()\n",
    "        with tst_dl.dataset.set_split_idx(1), learn.no_mbar():\n",
    "            preds0, targs = learn.get_preds(dl=tst_dl)\n",
    "        \n",
    "        # dl with hflip\n",
    "        tst_dl_1 = dls.valid.new()\n",
    "        tst_dl_1.after_batch.add(hflip)\n",
    "        with tst_dl_1.dataset.set_split_idx(1), learn.no_mbar():\n",
    "            preds1, _ = learn.get_preds(dl=tst_dl_1)\n",
    "        \n",
    "        # dl with vflip tfms\n",
    "        tst_dl_2 = dls.valid.new()\n",
    "        tst_dl_2.after_batch.add(vflip)\n",
    "        with tst_dl_2.dataset.set_split_idx(1), learn.no_mbar():\n",
    "            preds2, _ = learn.get_preds(dl=tst_dl_2)\n",
    "        \n",
    "        preds = (preds0+preds1+preds2)/3\n",
    "        acc = accuracy(preds, targs).item()\n",
    "        \n",
    "        folds_val_score.append(acc)\n",
    "\n",
    "disp.clear_output()    \n",
    "print(\"============ Run summary (hflip+vflip TTA) ============\")\n",
    "print(\"folds score: \", [np.round(s, 5) for s in folds_val_score])\n",
    "print(\"Avg: {:.5f}\".format(np.mean(folds_val_score)))\n",
    "print(\"Std: {:.5f}\".format(np.std(folds_val_score)))"
   ]
  },
  {
   "cell_type": "code",
   "execution_count": null,
   "id": "8ceff0ed",
   "metadata": {},
   "outputs": [],
   "source": []
  },
  {
   "cell_type": "code",
   "execution_count": null,
   "id": "afb47c0c",
   "metadata": {},
   "outputs": [],
   "source": []
  }
 ],
 "metadata": {
  "kernelspec": {
   "display_name": "Python 3 (ipykernel)",
   "language": "python",
   "name": "python3"
  },
  "language_info": {
   "codemirror_mode": {
    "name": "ipython",
    "version": 3
   },
   "file_extension": ".py",
   "mimetype": "text/x-python",
   "name": "python",
   "nbconvert_exporter": "python",
   "pygments_lexer": "ipython3",
   "version": "3.8.13"
  },
  "toc": {
   "base_numbering": 1,
   "nav_menu": {},
   "number_sections": true,
   "sideBar": true,
   "skip_h1_title": false,
   "title_cell": "Table of Contents",
   "title_sidebar": "Contents",
   "toc_cell": false,
   "toc_position": {},
   "toc_section_display": true,
   "toc_window_display": false
  },
  "widgets": {
   "application/vnd.jupyter.widget-state+json": {
    "state": {
     "00154aad1f1b4832a2b4d994eafe1572": {
      "model_module": "@jupyter-widgets/controls",
      "model_module_version": "2.0.0",
      "model_name": "HTMLStyleModel",
      "state": {
       "description_width": "",
       "font_size": null,
       "text_color": null
      }
     },
     "004320feca77436994f12154abe86681": {
      "model_module": "@jupyter-widgets/controls",
      "model_module_version": "2.0.0",
      "model_name": "FloatProgressModel",
      "state": {
       "layout": "IPY_MODEL_309959e7d5ee4f1f99ab5e657a9c6fa8",
       "max": 90,
       "style": "IPY_MODEL_fdd9831607324b0bb9abc6f454697f9f",
       "value": 90
      }
     },
     "0047d5ab4c2f44a6b650f57f14589c2b": {
      "model_module": "@jupyter-widgets/base",
      "model_module_version": "2.0.0",
      "model_name": "LayoutModel",
      "state": {}
     },
     "00f9a4a2d8fc47778e4ee43b9af53f90": {
      "model_module": "@jupyter-widgets/controls",
      "model_module_version": "2.0.0",
      "model_name": "FloatProgressModel",
      "state": {
       "layout": "IPY_MODEL_3f820e112951425391002c4707134792",
       "max": 90,
       "style": "IPY_MODEL_7c0bf81bcb71405eafb64baa3239984e",
       "value": 90
      }
     },
     "01410fe523034c7eb259afb1836e4f02": {
      "model_module": "@jupyter-widgets/controls",
      "model_module_version": "2.0.0",
      "model_name": "HTMLStyleModel",
      "state": {
       "description_width": "",
       "font_size": null,
       "text_color": null
      }
     },
     "01a1fa6b75834d5d88fbc33569ee38de": {
      "model_module": "@jupyter-widgets/controls",
      "model_module_version": "2.0.0",
      "model_name": "HTMLStyleModel",
      "state": {
       "description_width": "",
       "font_size": null,
       "text_color": null
      }
     },
     "01b0e00a38d649acb06c568b02301e49": {
      "model_module": "@jupyter-widgets/controls",
      "model_module_version": "2.0.0",
      "model_name": "HTMLModel",
      "state": {
       "layout": "IPY_MODEL_d6531bae11d7417d986be03d28c7736b",
       "style": "IPY_MODEL_f8bb2327d5ec474faf3567bc2217a9e1",
       "value": " 90/90 [00:02&lt;00:00, 39.94it/s, loss=0.342, acc=80.4]"
      }
     },
     "01c1cd1d53fc4c0e968ad29e7def3d27": {
      "model_module": "@jupyter-widgets/base",
      "model_module_version": "2.0.0",
      "model_name": "LayoutModel",
      "state": {}
     },
     "01cb3a16a8bb4951b8eb19d25d95433b": {
      "model_module": "@jupyter-widgets/controls",
      "model_module_version": "2.0.0",
      "model_name": "HTMLModel",
      "state": {
       "layout": "IPY_MODEL_850c5dc337c14f1fb7797e57582891b8",
       "style": "IPY_MODEL_8d3a0433eaff4d1db5d72373fefe127d",
       "value": "Validating: 100%"
      }
     },
     "0225cbf00fbb4022a119f2e7193bad1b": {
      "model_module": "@jupyter-widgets/base",
      "model_module_version": "2.0.0",
      "model_name": "LayoutModel",
      "state": {
       "flex": "2"
      }
     },
     "02367b3379f74174b5d8262249d5d3bf": {
      "model_module": "@jupyter-widgets/base",
      "model_module_version": "2.0.0",
      "model_name": "LayoutModel",
      "state": {
       "flex": "2"
      }
     },
     "023f778f6092482bb4acd9ea2be6899f": {
      "model_module": "@jupyter-widgets/base",
      "model_module_version": "2.0.0",
      "model_name": "LayoutModel",
      "state": {}
     },
     "02427868a31149ccb84ec0fe7defa3d7": {
      "model_module": "@jupyter-widgets/base",
      "model_module_version": "2.0.0",
      "model_name": "LayoutModel",
      "state": {
       "display": "inline-flex",
       "flex_flow": "row wrap",
       "width": "100%"
      }
     },
     "027099e0d5914af398216f4856eda60e": {
      "model_module": "@jupyter-widgets/controls",
      "model_module_version": "2.0.0",
      "model_name": "HTMLStyleModel",
      "state": {
       "description_width": "",
       "font_size": null,
       "text_color": null
      }
     },
     "027bf52800884557b5c64247109a6b18": {
      "model_module": "@jupyter-widgets/base",
      "model_module_version": "2.0.0",
      "model_name": "LayoutModel",
      "state": {}
     },
     "02ad2a6cda0c403aa856ac2d74681516": {
      "model_module": "@jupyter-widgets/controls",
      "model_module_version": "2.0.0",
      "model_name": "HTMLModel",
      "state": {
       "layout": "IPY_MODEL_e5ea1900cafd4718873eb4b944ed8951",
       "style": "IPY_MODEL_3c2686aa0c5743ecb7693bcf5ddebc1e",
       "value": "Validating: 100%"
      }
     },
     "02d9a08b54924462a065f8c52736dc77": {
      "model_module": "@jupyter-widgets/controls",
      "model_module_version": "2.0.0",
      "model_name": "HTMLModel",
      "state": {
       "layout": "IPY_MODEL_90cb81f1146b48fd842f4cb3e8386220",
       "style": "IPY_MODEL_cf657eeeef94460dba51f5b810ec39b9",
       "value": " 90/90 [00:02&lt;00:00, 43.17it/s, loss=0.331, acc=69.2]"
      }
     },
     "0346a241c2dd41c5aaeb191cbab94d91": {
      "model_module": "@jupyter-widgets/controls",
      "model_module_version": "2.0.0",
      "model_name": "HTMLStyleModel",
      "state": {
       "description_width": "",
       "font_size": null,
       "text_color": null
      }
     },
     "034beb4a7ccb4589b57ac82a6c1a7989": {
      "model_module": "@jupyter-widgets/base",
      "model_module_version": "2.0.0",
      "model_name": "LayoutModel",
      "state": {}
     },
     "035557e4ad384a9ea7edbd07292b9ddd": {
      "model_module": "@jupyter-widgets/controls",
      "model_module_version": "2.0.0",
      "model_name": "HTMLModel",
      "state": {
       "layout": "IPY_MODEL_077b760f112f455391eef5dfe9c6e25e",
       "style": "IPY_MODEL_9ef082bef5ab4e12b29142f7642d442d",
       "value": " 90/90 [00:05&lt;00:00, 18.31it/s]"
      }
     },
     "03995138f15342bdadd1c50eb4163709": {
      "model_module": "@jupyter-widgets/base",
      "model_module_version": "2.0.0",
      "model_name": "LayoutModel",
      "state": {}
     },
     "0442f4b877d94193b0a615124635486f": {
      "model_module": "@jupyter-widgets/controls",
      "model_module_version": "2.0.0",
      "model_name": "HTMLModel",
      "state": {
       "layout": "IPY_MODEL_d8fa2e81f2764a40a6a68a5720253168",
       "style": "IPY_MODEL_c6acdd144610453ba9994d2241b9e75e",
       "value": " 90/90 [00:02&lt;00:00, 43.25it/s, loss=0.273, acc=80.2]"
      }
     },
     "048efe083d134df6b022d7a6363650d0": {
      "model_module": "@jupyter-widgets/controls",
      "model_module_version": "2.0.0",
      "model_name": "HTMLModel",
      "state": {
       "layout": "IPY_MODEL_4e278a98d0574ce2940c48f0b6253266",
       "style": "IPY_MODEL_3b7fe3ed26794117bba706ecdd40070e",
       "value": "Validating: 100%"
      }
     },
     "04ae738e77b0436ba95d21626217e0ed": {
      "model_module": "@jupyter-widgets/controls",
      "model_module_version": "2.0.0",
      "model_name": "HTMLModel",
      "state": {
       "layout": "IPY_MODEL_8750b57d74c74cefa4d08d71fd54d689",
       "style": "IPY_MODEL_66d70ac0e8a04c938cc412583458e1f1",
       "value": " 3580/3580 [09:09&lt;00:00, 15.23it/s, loss=0.26, lr=0]"
      }
     },
     "04c51d36554645e5b3600f670f6d2770": {
      "model_module": "@jupyter-widgets/base",
      "model_module_version": "2.0.0",
      "model_name": "LayoutModel",
      "state": {
       "display": "inline-flex",
       "flex_flow": "row wrap",
       "width": "100%"
      }
     },
     "0527845adc0a4ce2a50c027ba381fc55": {
      "model_module": "@jupyter-widgets/controls",
      "model_module_version": "2.0.0",
      "model_name": "HTMLStyleModel",
      "state": {
       "description_width": "",
       "font_size": null,
       "text_color": null
      }
     },
     "052c64cc90bb47dbb068e57224178aeb": {
      "model_module": "@jupyter-widgets/controls",
      "model_module_version": "2.0.0",
      "model_name": "HTMLModel",
      "state": {
       "layout": "IPY_MODEL_84ef9d83f2f14946bf18ecb06e4e85db",
       "style": "IPY_MODEL_0527845adc0a4ce2a50c027ba381fc55",
       "value": " 90/90 [00:19&lt;00:00, 43.22it/s, loss=0.271, acc=80.7]"
      }
     },
     "05b0805d468345bba5aedc4ea4e00525": {
      "model_module": "@jupyter-widgets/controls",
      "model_module_version": "2.0.0",
      "model_name": "ProgressStyleModel",
      "state": {
       "description_width": ""
      }
     },
     "06229ae69479439182813f7b515c84c7": {
      "model_module": "@jupyter-widgets/controls",
      "model_module_version": "2.0.0",
      "model_name": "HTMLModel",
      "state": {
       "layout": "IPY_MODEL_d120e1c08fb543df8cefb4a305b6f2f7",
       "style": "IPY_MODEL_330167409c3a4cb5975506217a3577e1",
       "value": " 90/90 [00:30&lt;00:00, 43.04it/s, loss=0.275, acc=81]"
      }
     },
     "0691ffdeb3574de6ac80241426c7973f": {
      "model_module": "@jupyter-widgets/controls",
      "model_module_version": "2.0.0",
      "model_name": "HTMLStyleModel",
      "state": {
       "description_width": "",
       "font_size": null,
       "text_color": null
      }
     },
     "06bac3f1af034b4c8977229ca8f640d9": {
      "model_module": "@jupyter-widgets/controls",
      "model_module_version": "2.0.0",
      "model_name": "HTMLStyleModel",
      "state": {
       "description_width": "",
       "font_size": null,
       "text_color": null
      }
     },
     "06c58ced32f14d3cb57878b5f9ace397": {
      "model_module": "@jupyter-widgets/controls",
      "model_module_version": "2.0.0",
      "model_name": "ProgressStyleModel",
      "state": {
       "description_width": ""
      }
     },
     "070e97ed22064e6cab8ed07b45e40df3": {
      "model_module": "@jupyter-widgets/controls",
      "model_module_version": "2.0.0",
      "model_name": "HTMLModel",
      "state": {
       "layout": "IPY_MODEL_49b9b7a7bda542d2b738e51e57bcd6a1",
       "style": "IPY_MODEL_e1e8962bf93d43398b6a274f1f30a483",
       "value": "Validating: 100%"
      }
     },
     "07295906d26e4ac1b1ba5abd6127638e": {
      "model_module": "@jupyter-widgets/base",
      "model_module_version": "2.0.0",
      "model_name": "LayoutModel",
      "state": {}
     },
     "074d7693a6484fa082d89e95c9187e94": {
      "model_module": "@jupyter-widgets/controls",
      "model_module_version": "2.0.0",
      "model_name": "HTMLStyleModel",
      "state": {
       "description_width": "",
       "font_size": null,
       "text_color": null
      }
     },
     "075602bc7af442a6abfd7c1668fe9c80": {
      "model_module": "@jupyter-widgets/base",
      "model_module_version": "2.0.0",
      "model_name": "LayoutModel",
      "state": {
       "display": "inline-flex",
       "flex_flow": "row wrap",
       "width": "100%"
      }
     },
     "077b760f112f455391eef5dfe9c6e25e": {
      "model_module": "@jupyter-widgets/base",
      "model_module_version": "2.0.0",
      "model_name": "LayoutModel",
      "state": {}
     },
     "07a37208b5fe449096b6daefd6f7db69": {
      "model_module": "@jupyter-widgets/controls",
      "model_module_version": "2.0.0",
      "model_name": "HTMLStyleModel",
      "state": {
       "description_width": "",
       "font_size": null,
       "text_color": null
      }
     },
     "07a3bf9513df48f3bace383a31d43e0d": {
      "model_module": "@jupyter-widgets/base",
      "model_module_version": "2.0.0",
      "model_name": "LayoutModel",
      "state": {
       "display": "inline-flex",
       "flex_flow": "row wrap",
       "width": "100%"
      }
     },
     "084264e6f30e405ea9afd3f7b6b5a645": {
      "model_module": "@jupyter-widgets/base",
      "model_module_version": "2.0.0",
      "model_name": "LayoutModel",
      "state": {}
     },
     "086c44a41dbb4859bb9e58b72f372019": {
      "model_module": "@jupyter-widgets/base",
      "model_module_version": "2.0.0",
      "model_name": "LayoutModel",
      "state": {}
     },
     "08db9492bf77463e9bc8e2c0fcd2730f": {
      "model_module": "@jupyter-widgets/base",
      "model_module_version": "2.0.0",
      "model_name": "LayoutModel",
      "state": {
       "flex": "2"
      }
     },
     "08eed12d02ef42cabdd7445154e218e6": {
      "model_module": "@jupyter-widgets/controls",
      "model_module_version": "2.0.0",
      "model_name": "HTMLModel",
      "state": {
       "layout": "IPY_MODEL_119aa971250344da9b1a6c790c96ebc3",
       "style": "IPY_MODEL_3f2fc8cb457c4ae192f3e15c3e059b8e",
       "value": " 90/90 [00:02&lt;00:00, 43.52it/s, loss=0.463, acc=74.5]"
      }
     },
     "091b8fad14c840d78868332d1f5c5378": {
      "model_module": "@jupyter-widgets/base",
      "model_module_version": "2.0.0",
      "model_name": "LayoutModel",
      "state": {}
     },
     "0921e1f1594645dfbe603e867d65c714": {
      "model_module": "@jupyter-widgets/controls",
      "model_module_version": "2.0.0",
      "model_name": "HTMLModel",
      "state": {
       "layout": "IPY_MODEL_1e169b09f15e45c59a0cf01293ef54a5",
       "style": "IPY_MODEL_47cee63b2b5c4faabc64ee695089cb29",
       "value": " 90/90 [00:02&lt;00:00, 43.08it/s, loss=0.298, acc=75.9]"
      }
     },
     "092a587da5124f9ebb68774eab4ca129": {
      "model_module": "@jupyter-widgets/controls",
      "model_module_version": "2.0.0",
      "model_name": "HTMLModel",
      "state": {
       "layout": "IPY_MODEL_e132f4d5b73641d8a1a1c0506b90acc3",
       "style": "IPY_MODEL_ad5e7d35c6b6485aa6e6bf798764ac30",
       "value": "Fold: 1  Epoch: 10/10: 100%"
      }
     },
     "093da05900d44cf1b9f18c71ae45029c": {
      "model_module": "@jupyter-widgets/base",
      "model_module_version": "2.0.0",
      "model_name": "LayoutModel",
      "state": {
       "display": "inline-flex",
       "flex_flow": "row wrap",
       "width": "100%"
      }
     },
     "09d5bb197f794e43a534b556452af1d9": {
      "model_module": "@jupyter-widgets/base",
      "model_module_version": "2.0.0",
      "model_name": "LayoutModel",
      "state": {
       "flex": "2"
      }
     },
     "0a659db57d5a41778c43b26511c31a55": {
      "model_module": "@jupyter-widgets/base",
      "model_module_version": "2.0.0",
      "model_name": "LayoutModel",
      "state": {
       "display": "inline-flex",
       "flex_flow": "row wrap",
       "width": "100%"
      }
     },
     "0a9387fc35cd4dc194196f877f8f5deb": {
      "model_module": "@jupyter-widgets/base",
      "model_module_version": "2.0.0",
      "model_name": "LayoutModel",
      "state": {
       "flex": "2"
      }
     },
     "0a9e80fbf75749adbd86ca6041513434": {
      "model_module": "@jupyter-widgets/controls",
      "model_module_version": "2.0.0",
      "model_name": "HTMLModel",
      "state": {
       "layout": "IPY_MODEL_883e406d65a7498ca629b3ea57263563",
       "style": "IPY_MODEL_ec9a63bfe5a04a3a90036d61bddc4527",
       "value": " 90/90 [00:30&lt;00:00, 43.26it/s, loss=0.267, acc=81.2]"
      }
     },
     "0a9f2da19f5d47c895cc21d0464e37b8": {
      "model_module": "@jupyter-widgets/controls",
      "model_module_version": "2.0.0",
      "model_name": "FloatProgressModel",
      "state": {
       "layout": "IPY_MODEL_c79852d102cb40aa8b0dbcd3021e6dcd",
       "max": 90,
       "style": "IPY_MODEL_726b203c2e42437b8842c2314fb5eead",
       "value": 90
      }
     },
     "0ab54be52f5d42339034164e72455d78": {
      "model_module": "@jupyter-widgets/base",
      "model_module_version": "2.0.0",
      "model_name": "LayoutModel",
      "state": {
       "flex": "2"
      }
     },
     "0b105e22865347fcbdd23d60c3904834": {
      "model_module": "@jupyter-widgets/controls",
      "model_module_version": "2.0.0",
      "model_name": "FloatProgressModel",
      "state": {
       "layout": "IPY_MODEL_3e437aa9cb5d4933987a1e640a0fcaed",
       "max": 90,
       "style": "IPY_MODEL_9dbbb6ebe8a947a6b95f44f42402881d",
       "value": 90
      }
     },
     "0b5c6d0d506f408bb2284262b8c778a8": {
      "model_module": "@jupyter-widgets/base",
      "model_module_version": "2.0.0",
      "model_name": "LayoutModel",
      "state": {}
     },
     "0b7548c22ea642f89de6f9c2012f4a0b": {
      "model_module": "@jupyter-widgets/base",
      "model_module_version": "2.0.0",
      "model_name": "LayoutModel",
      "state": {
       "display": "inline-flex",
       "flex_flow": "row wrap",
       "width": "100%"
      }
     },
     "0bc576d7be184d4ba95c99f46f556390": {
      "model_module": "@jupyter-widgets/controls",
      "model_module_version": "2.0.0",
      "model_name": "FloatProgressModel",
      "state": {
       "layout": "IPY_MODEL_a36690d4b5cd4928bbbf90c8272f23e5",
       "max": 90,
       "style": "IPY_MODEL_e86d1132192b492bb7b4945e1d6221ea",
       "value": 90
      }
     },
     "0bf3198d336f4aa4b26986f0e62dcc7e": {
      "model_module": "@jupyter-widgets/controls",
      "model_module_version": "2.0.0",
      "model_name": "HBoxModel",
      "state": {
       "children": [
        "IPY_MODEL_dac9265b84bb485bb9b7a11730308f62",
        "IPY_MODEL_2eed795c19c2477f84710aa42c9fe9d3",
        "IPY_MODEL_d79295a9dc98424b8d1bd14bfb516fc1"
       ],
       "layout": "IPY_MODEL_71f0f0ba3a0b4f4aa123f8c17450db7a"
      }
     },
     "0c57ca797fc842629307e0148c0da417": {
      "model_module": "@jupyter-widgets/controls",
      "model_module_version": "2.0.0",
      "model_name": "HTMLStyleModel",
      "state": {
       "description_width": "",
       "font_size": null,
       "text_color": null
      }
     },
     "0c93caea38b04264a27ababc4d355c2a": {
      "model_module": "@jupyter-widgets/controls",
      "model_module_version": "2.0.0",
      "model_name": "HTMLStyleModel",
      "state": {
       "description_width": "",
       "font_size": null,
       "text_color": null
      }
     },
     "0c96593b042544798c7b41afe88e1532": {
      "model_module": "@jupyter-widgets/controls",
      "model_module_version": "2.0.0",
      "model_name": "FloatProgressModel",
      "state": {
       "layout": "IPY_MODEL_625d54cc4a2a4b92a64c9addd31e9027",
       "max": 90,
       "style": "IPY_MODEL_ed48e0d6366a4571adec0d167ea7baa5",
       "value": 90
      }
     },
     "0ca24984472446d6b66ff57caad5720b": {
      "model_module": "@jupyter-widgets/controls",
      "model_module_version": "2.0.0",
      "model_name": "ProgressStyleModel",
      "state": {
       "description_width": ""
      }
     },
     "0ca76fd7533c4f8f9780724307bbd9a8": {
      "model_module": "@jupyter-widgets/base",
      "model_module_version": "2.0.0",
      "model_name": "LayoutModel",
      "state": {}
     },
     "0cc24313ca5044b5b99aeacbde7562a1": {
      "model_module": "@jupyter-widgets/controls",
      "model_module_version": "2.0.0",
      "model_name": "ProgressStyleModel",
      "state": {
       "description_width": ""
      }
     },
     "0ce7bb3c43764a49b2173db91bb2aa7e": {
      "model_module": "@jupyter-widgets/controls",
      "model_module_version": "2.0.0",
      "model_name": "HTMLModel",
      "state": {
       "layout": "IPY_MODEL_61f29953fd774c488b3f726d5629bf0a",
       "style": "IPY_MODEL_a843156fc06248819c1e06166b0f55e9",
       "value": "Validating: 100%"
      }
     },
     "0d212473e7054539836f858159ff9d1d": {
      "model_module": "@jupyter-widgets/base",
      "model_module_version": "2.0.0",
      "model_name": "LayoutModel",
      "state": {
       "display": "inline-flex",
       "flex_flow": "row wrap",
       "width": "100%"
      }
     },
     "0dd7a9d756bc438e816779e23f95656b": {
      "model_module": "@jupyter-widgets/base",
      "model_module_version": "2.0.0",
      "model_name": "LayoutModel",
      "state": {}
     },
     "0dda5e7dc3f148d0ba6d974324193c67": {
      "model_module": "@jupyter-widgets/base",
      "model_module_version": "2.0.0",
      "model_name": "LayoutModel",
      "state": {}
     },
     "0e201f5fdb89459e8a9cf4a3b4655e57": {
      "model_module": "@jupyter-widgets/controls",
      "model_module_version": "2.0.0",
      "model_name": "HTMLStyleModel",
      "state": {
       "description_width": "",
       "font_size": null,
       "text_color": null
      }
     },
     "0e31f5d6d74c486ebecc8264a640fb59": {
      "model_module": "@jupyter-widgets/base",
      "model_module_version": "2.0.0",
      "model_name": "LayoutModel",
      "state": {
       "flex": "2"
      }
     },
     "0e569dddde1146619fe660848dbc8777": {
      "model_module": "@jupyter-widgets/base",
      "model_module_version": "2.0.0",
      "model_name": "LayoutModel",
      "state": {
       "flex": "2"
      }
     },
     "0ef45166085e4761a0af7403155e11ec": {
      "model_module": "@jupyter-widgets/controls",
      "model_module_version": "2.0.0",
      "model_name": "HTMLStyleModel",
      "state": {
       "description_width": "",
       "font_size": null,
       "text_color": null
      }
     },
     "0f191f7eb77847b893f639f53933ca0d": {
      "model_module": "@jupyter-widgets/base",
      "model_module_version": "2.0.0",
      "model_name": "LayoutModel",
      "state": {}
     },
     "0f27f4e7ce87409e8e7837d9efa8aa6c": {
      "model_module": "@jupyter-widgets/base",
      "model_module_version": "2.0.0",
      "model_name": "LayoutModel",
      "state": {
       "flex": "2"
      }
     },
     "0fbf8ec05cd34df3b209331c0ed3f116": {
      "model_module": "@jupyter-widgets/base",
      "model_module_version": "2.0.0",
      "model_name": "LayoutModel",
      "state": {
       "display": "inline-flex",
       "flex_flow": "row wrap",
       "width": "100%"
      }
     },
     "0fe9babefe1b4af6b6610c80448d99b5": {
      "model_module": "@jupyter-widgets/controls",
      "model_module_version": "2.0.0",
      "model_name": "FloatProgressModel",
      "state": {
       "layout": "IPY_MODEL_d3801706846749abae88a23d69fc6cdd",
       "max": 90,
       "style": "IPY_MODEL_bd037326c67a471bab0b41c97cc624c3",
       "value": 90
      }
     },
     "10528b86658b431fb36b82f4469bfb57": {
      "model_module": "@jupyter-widgets/controls",
      "model_module_version": "2.0.0",
      "model_name": "HTMLModel",
      "state": {
       "layout": "IPY_MODEL_c7b6daa36ede4f50bc1af4e0a22ae38b",
       "style": "IPY_MODEL_73ccfcf5045a4cafae08d98fd7bf68e6",
       "value": "Validating: 100%"
      }
     },
     "107238d7f8c5426c9490be86cfbef0f8": {
      "model_module": "@jupyter-widgets/base",
      "model_module_version": "2.0.0",
      "model_name": "LayoutModel",
      "state": {}
     },
     "1092d932c5f24800a242fef604f01f66": {
      "model_module": "@jupyter-widgets/base",
      "model_module_version": "2.0.0",
      "model_name": "LayoutModel",
      "state": {}
     },
     "109808baeb9a4bbb8d0053f2634ab809": {
      "model_module": "@jupyter-widgets/controls",
      "model_module_version": "2.0.0",
      "model_name": "FloatProgressModel",
      "state": {
       "layout": "IPY_MODEL_43d4512df5714899853ada622e935ce4",
       "max": 90,
       "style": "IPY_MODEL_6afef8e2e827494f8e20031ab4679f86",
       "value": 90
      }
     },
     "118ed8c8fe8d42f78eb10dd53e65686f": {
      "model_module": "@jupyter-widgets/controls",
      "model_module_version": "2.0.0",
      "model_name": "HTMLStyleModel",
      "state": {
       "description_width": "",
       "font_size": null,
       "text_color": null
      }
     },
     "119aa971250344da9b1a6c790c96ebc3": {
      "model_module": "@jupyter-widgets/base",
      "model_module_version": "2.0.0",
      "model_name": "LayoutModel",
      "state": {}
     },
     "11f522797d874d35ad449ecd055aa9bc": {
      "model_module": "@jupyter-widgets/base",
      "model_module_version": "2.0.0",
      "model_name": "LayoutModel",
      "state": {}
     },
     "1262f11423e9463dbba60602bc218a8f": {
      "model_module": "@jupyter-widgets/base",
      "model_module_version": "2.0.0",
      "model_name": "LayoutModel",
      "state": {
       "flex": "2"
      }
     },
     "126e07b6618c4832907acc6b3ed02d81": {
      "model_module": "@jupyter-widgets/controls",
      "model_module_version": "2.0.0",
      "model_name": "HTMLModel",
      "state": {
       "layout": "IPY_MODEL_d2cf4ac7dacb48f2a3a97fa0eaeadde1",
       "style": "IPY_MODEL_e13189cb35f64100921c6d7d6a379ae3",
       "value": "Validating: 100%"
      }
     },
     "129c530be81c40b0ac372f5962afbeb5": {
      "model_module": "@jupyter-widgets/controls",
      "model_module_version": "2.0.0",
      "model_name": "HTMLModel",
      "state": {
       "layout": "IPY_MODEL_e4ffc4eb5ff6413e84a3dd6a59593248",
       "style": "IPY_MODEL_e6a71b60f1c146cbb0439f0b96377911",
       "value": " 90/90 [00:02&lt;00:00, 43.17it/s, loss=0.275, acc=78.9]"
      }
     },
     "12a3d844fdf34acc81038a5e1c466a80": {
      "model_module": "@jupyter-widgets/base",
      "model_module_version": "2.0.0",
      "model_name": "LayoutModel",
      "state": {}
     },
     "12f2ac1f5ea84ae7b89c8a55bb369694": {
      "model_module": "@jupyter-widgets/controls",
      "model_module_version": "2.0.0",
      "model_name": "HTMLStyleModel",
      "state": {
       "description_width": "",
       "font_size": null,
       "text_color": null
      }
     },
     "1325915d56ea4fe8a0a26537077cfa92": {
      "model_module": "@jupyter-widgets/controls",
      "model_module_version": "2.0.0",
      "model_name": "HTMLStyleModel",
      "state": {
       "description_width": "",
       "font_size": null,
       "text_color": null
      }
     },
     "132c3a6a208e4837b88ca3ed683eb975": {
      "model_module": "@jupyter-widgets/controls",
      "model_module_version": "2.0.0",
      "model_name": "FloatProgressModel",
      "state": {
       "layout": "IPY_MODEL_ea2bc4f257a74ca7b0f8b8382308337e",
       "max": 90,
       "style": "IPY_MODEL_42164e9c42114ad78730808ab59c3e8b",
       "value": 90
      }
     },
     "13b67f263cc944b6a43ce731c761f0d2": {
      "model_module": "@jupyter-widgets/controls",
      "model_module_version": "2.0.0",
      "model_name": "HTMLStyleModel",
      "state": {
       "description_width": "",
       "font_size": null,
       "text_color": null
      }
     },
     "140f3dcb98b5496f8d7d7b6be5c67e02": {
      "model_module": "@jupyter-widgets/controls",
      "model_module_version": "2.0.0",
      "model_name": "HTMLModel",
      "state": {
       "layout": "IPY_MODEL_4582823531a441c6bdd335d039f182ff",
       "style": "IPY_MODEL_298be97b5f3448b585150f06e2af6317",
       "value": "Validating: 100%"
      }
     },
     "1410079e9fe14779ad909d0e3b628410": {
      "model_module": "@jupyter-widgets/controls",
      "model_module_version": "2.0.0",
      "model_name": "ProgressStyleModel",
      "state": {
       "description_width": ""
      }
     },
     "142127c1f0364f0fae79c0df89051a44": {
      "model_module": "@jupyter-widgets/controls",
      "model_module_version": "2.0.0",
      "model_name": "HTMLStyleModel",
      "state": {
       "description_width": "",
       "font_size": null,
       "text_color": null
      }
     },
     "1432cbf59f4f4c65818bc542d4ba6fa8": {
      "model_module": "@jupyter-widgets/base",
      "model_module_version": "2.0.0",
      "model_name": "LayoutModel",
      "state": {}
     },
     "144d5dcb383f4683bdf727b267f00d02": {
      "model_module": "@jupyter-widgets/controls",
      "model_module_version": "2.0.0",
      "model_name": "ProgressStyleModel",
      "state": {
       "description_width": ""
      }
     },
     "149545fd5ef242eeaf755a82117bb88e": {
      "model_module": "@jupyter-widgets/base",
      "model_module_version": "2.0.0",
      "model_name": "LayoutModel",
      "state": {
       "display": "inline-flex",
       "flex_flow": "row wrap",
       "width": "100%"
      }
     },
     "14b04278e60d4903b5398fa08c98cc7d": {
      "model_module": "@jupyter-widgets/controls",
      "model_module_version": "2.0.0",
      "model_name": "HTMLModel",
      "state": {
       "layout": "IPY_MODEL_5ed76f8bbe784915b2af5fd08f908b5f",
       "style": "IPY_MODEL_2f0ed3156af4456389448e04649503e3",
       "value": "Validating: 100%"
      }
     },
     "14b66c563b71444ea3b710217c2b204b": {
      "model_module": "@jupyter-widgets/controls",
      "model_module_version": "2.0.0",
      "model_name": "HTMLStyleModel",
      "state": {
       "description_width": "",
       "font_size": null,
       "text_color": null
      }
     },
     "14c647bd0c8f449692147fc69db29c80": {
      "model_module": "@jupyter-widgets/controls",
      "model_module_version": "2.0.0",
      "model_name": "ProgressStyleModel",
      "state": {
       "description_width": ""
      }
     },
     "14cfbef1df8348388ec04adb10779475": {
      "model_module": "@jupyter-widgets/controls",
      "model_module_version": "2.0.0",
      "model_name": "HTMLModel",
      "state": {
       "layout": "IPY_MODEL_214320e116fc48748b130fa5a916bbae",
       "style": "IPY_MODEL_0e201f5fdb89459e8a9cf4a3b4655e57",
       "value": "Predicting: 100%"
      }
     },
     "15d662dde7cb4b48983791ace1541fb3": {
      "model_module": "@jupyter-widgets/controls",
      "model_module_version": "2.0.0",
      "model_name": "FloatProgressModel",
      "state": {
       "layout": "IPY_MODEL_d6f7ecc64fbf433894d0a26a4b591c92",
       "max": 90,
       "style": "IPY_MODEL_7b88901f89d7427094d0d73826209fc4",
       "value": 90
      }
     },
     "15e1ac0c060347048eccbe4e39f20ae1": {
      "model_module": "@jupyter-widgets/base",
      "model_module_version": "2.0.0",
      "model_name": "LayoutModel",
      "state": {
       "display": "inline-flex",
       "flex_flow": "row wrap",
       "width": "100%"
      }
     },
     "15eb8ad2979444069a798d6c591c8256": {
      "model_module": "@jupyter-widgets/controls",
      "model_module_version": "2.0.0",
      "model_name": "HTMLModel",
      "state": {
       "layout": "IPY_MODEL_a62e295dc1c14c85acdc9c56c522e388",
       "style": "IPY_MODEL_a18b0e116c224b839825987d46ac5aed",
       "value": "Validating: 100%"
      }
     },
     "1660e3eeffdd4f24b1b0813a2668e0f6": {
      "model_module": "@jupyter-widgets/controls",
      "model_module_version": "2.0.0",
      "model_name": "HTMLStyleModel",
      "state": {
       "description_width": "",
       "font_size": null,
       "text_color": null
      }
     },
     "16cd002efbb045b8988cf9653cd57b02": {
      "model_module": "@jupyter-widgets/controls",
      "model_module_version": "2.0.0",
      "model_name": "HTMLModel",
      "state": {
       "layout": "IPY_MODEL_091b8fad14c840d78868332d1f5c5378",
       "style": "IPY_MODEL_6af3cc7849214005981e29ff49711084",
       "value": "Validating: 100%"
      }
     },
     "16d37452cacd4a01b050e02743b99ca6": {
      "model_module": "@jupyter-widgets/controls",
      "model_module_version": "2.0.0",
      "model_name": "HTMLModel",
      "state": {
       "layout": "IPY_MODEL_023f778f6092482bb4acd9ea2be6899f",
       "style": "IPY_MODEL_df087fa843e64502b96b02e4239ea62c",
       "value": " 90/90 [00:02&lt;00:00, 43.58it/s, loss=0.378, acc=78]"
      }
     },
     "16d61f4ab7cb4d208236e96656efffe2": {
      "model_module": "@jupyter-widgets/controls",
      "model_module_version": "2.0.0",
      "model_name": "HTMLStyleModel",
      "state": {
       "description_width": "",
       "font_size": null,
       "text_color": null
      }
     },
     "1761f8c338e5450296d36f49a074f08e": {
      "model_module": "@jupyter-widgets/controls",
      "model_module_version": "2.0.0",
      "model_name": "HTMLStyleModel",
      "state": {
       "description_width": "",
       "font_size": null,
       "text_color": null
      }
     },
     "17e74a18edb04bf0b4b0fb574095f0ef": {
      "model_module": "@jupyter-widgets/base",
      "model_module_version": "2.0.0",
      "model_name": "LayoutModel",
      "state": {}
     },
     "187a2627cae24daa84772cb2be5ea1ae": {
      "model_module": "@jupyter-widgets/base",
      "model_module_version": "2.0.0",
      "model_name": "LayoutModel",
      "state": {
       "display": "inline-flex",
       "flex_flow": "row wrap",
       "width": "100%"
      }
     },
     "18825ee0970748dcb76d3c311249a7d7": {
      "model_module": "@jupyter-widgets/base",
      "model_module_version": "2.0.0",
      "model_name": "LayoutModel",
      "state": {
       "display": "inline-flex",
       "flex_flow": "row wrap",
       "width": "100%"
      }
     },
     "188e094420bb4315b2518ed0847fc4f8": {
      "model_module": "@jupyter-widgets/controls",
      "model_module_version": "2.0.0",
      "model_name": "ProgressStyleModel",
      "state": {
       "description_width": ""
      }
     },
     "189729b7b0f2416d80e48e0392f6fe62": {
      "model_module": "@jupyter-widgets/base",
      "model_module_version": "2.0.0",
      "model_name": "LayoutModel",
      "state": {}
     },
     "18ace77ea2b445768f9a6866cd15ef31": {
      "model_module": "@jupyter-widgets/controls",
      "model_module_version": "2.0.0",
      "model_name": "ProgressStyleModel",
      "state": {
       "description_width": ""
      }
     },
     "18cc1df94df84614b23ed2db2488b8c6": {
      "model_module": "@jupyter-widgets/controls",
      "model_module_version": "2.0.0",
      "model_name": "HTMLStyleModel",
      "state": {
       "description_width": "",
       "font_size": null,
       "text_color": null
      }
     },
     "1950c68e6e7f4da1923002f87abce798": {
      "model_module": "@jupyter-widgets/controls",
      "model_module_version": "2.0.0",
      "model_name": "HTMLStyleModel",
      "state": {
       "description_width": "",
       "font_size": null,
       "text_color": null
      }
     },
     "196044a589004d93b1c75b618e0485c4": {
      "model_module": "@jupyter-widgets/controls",
      "model_module_version": "2.0.0",
      "model_name": "HTMLModel",
      "state": {
       "layout": "IPY_MODEL_bada3d3af0bd4f848ae2d8f532a026f3",
       "style": "IPY_MODEL_a2797427fb9b464fbf34d9e347af7676",
       "value": "Validating: 100%"
      }
     },
     "19f9fe196a11413880a63b5d2c742a4e": {
      "model_module": "@jupyter-widgets/controls",
      "model_module_version": "2.0.0",
      "model_name": "FloatProgressModel",
      "state": {
       "layout": "IPY_MODEL_f6c49b0440194edf977fb6bc26e5251b",
       "max": 90,
       "style": "IPY_MODEL_f87a6c6d901f49e1a379ebc7ceb34af8",
       "value": 90
      }
     },
     "1a35c7b229904ab1a0199df2ca293a1a": {
      "model_module": "@jupyter-widgets/base",
      "model_module_version": "2.0.0",
      "model_name": "LayoutModel",
      "state": {}
     },
     "1a84a606f83f49a18d10dc9d1fa4f52c": {
      "model_module": "@jupyter-widgets/controls",
      "model_module_version": "2.0.0",
      "model_name": "HTMLStyleModel",
      "state": {
       "description_width": "",
       "font_size": null,
       "text_color": null
      }
     },
     "1a90528c3322468890ea492bb6db13c6": {
      "model_module": "@jupyter-widgets/base",
      "model_module_version": "2.0.0",
      "model_name": "LayoutModel",
      "state": {
       "display": "inline-flex",
       "flex_flow": "row wrap",
       "width": "100%"
      }
     },
     "1add6c39e34d4f0f99be80a420657975": {
      "model_module": "@jupyter-widgets/controls",
      "model_module_version": "2.0.0",
      "model_name": "HTMLStyleModel",
      "state": {
       "description_width": "",
       "font_size": null,
       "text_color": null
      }
     },
     "1aedd876be5045dab4fb10614f8d8007": {
      "model_module": "@jupyter-widgets/controls",
      "model_module_version": "2.0.0",
      "model_name": "FloatProgressModel",
      "state": {
       "layout": "IPY_MODEL_1ff7ab4ff89945f88dfa19d776be8918",
       "max": 90,
       "style": "IPY_MODEL_c690bb20ed704370b1aa18ed4074aed5",
       "value": 90
      }
     },
     "1af14144be924866be1e92d7a5bc2e2a": {
      "model_module": "@jupyter-widgets/controls",
      "model_module_version": "2.0.0",
      "model_name": "HTMLModel",
      "state": {
       "layout": "IPY_MODEL_8aa3437acccd4c14ae762c4f56099937",
       "style": "IPY_MODEL_2a3050e7183946ca9afa27a7a06232b8",
       "value": " 90/90 [00:02&lt;00:00, 43.21it/s, loss=0.439, acc=74.1]"
      }
     },
     "1b1b0c8c9bc1472db83fc4dd59d6f8e9": {
      "model_module": "@jupyter-widgets/base",
      "model_module_version": "2.0.0",
      "model_name": "LayoutModel",
      "state": {}
     },
     "1b38a7d054284a6a9ffd0fb9dba0a713": {
      "model_module": "@jupyter-widgets/controls",
      "model_module_version": "2.0.0",
      "model_name": "HTMLStyleModel",
      "state": {
       "description_width": "",
       "font_size": null,
       "text_color": null
      }
     },
     "1b4eb4f272da423c9103fa647a58bf34": {
      "model_module": "@jupyter-widgets/controls",
      "model_module_version": "2.0.0",
      "model_name": "HTMLStyleModel",
      "state": {
       "description_width": "",
       "font_size": null,
       "text_color": null
      }
     },
     "1bba24c2e8d541a6a24cc8b684f952c2": {
      "model_module": "@jupyter-widgets/base",
      "model_module_version": "2.0.0",
      "model_name": "LayoutModel",
      "state": {}
     },
     "1bc94aafd64a48e8893c79bc7cf0adf8": {
      "model_module": "@jupyter-widgets/controls",
      "model_module_version": "2.0.0",
      "model_name": "ProgressStyleModel",
      "state": {
       "description_width": ""
      }
     },
     "1c0a76a9c3014dc88edc131791168285": {
      "model_module": "@jupyter-widgets/controls",
      "model_module_version": "2.0.0",
      "model_name": "HTMLModel",
      "state": {
       "layout": "IPY_MODEL_233632bbf0a34ba2a1d205dbedb1c0cd",
       "style": "IPY_MODEL_8cf773a146ed4ab1bfe30c69125c785a",
       "value": "Validating: 100%"
      }
     },
     "1cf4e724923040caaa712bbb4d595ee5": {
      "model_module": "@jupyter-widgets/base",
      "model_module_version": "2.0.0",
      "model_name": "LayoutModel",
      "state": {
       "flex": "2"
      }
     },
     "1d3b8d0bd52c461a86c459d405066098": {
      "model_module": "@jupyter-widgets/controls",
      "model_module_version": "2.0.0",
      "model_name": "HTMLStyleModel",
      "state": {
       "description_width": "",
       "font_size": null,
       "text_color": null
      }
     },
     "1d95787642e54f20ab3a9a963e7197d2": {
      "model_module": "@jupyter-widgets/base",
      "model_module_version": "2.0.0",
      "model_name": "LayoutModel",
      "state": {
       "flex": "2"
      }
     },
     "1da74cf279734d9ca2119cc08bec3751": {
      "model_module": "@jupyter-widgets/controls",
      "model_module_version": "2.0.0",
      "model_name": "ProgressStyleModel",
      "state": {
       "description_width": ""
      }
     },
     "1dacd69d028e48b3891895ec319883dd": {
      "model_module": "@jupyter-widgets/base",
      "model_module_version": "2.0.0",
      "model_name": "LayoutModel",
      "state": {
       "flex": "2"
      }
     },
     "1ddc0bb1422547c393acb72dfc2bee53": {
      "model_module": "@jupyter-widgets/controls",
      "model_module_version": "2.0.0",
      "model_name": "HTMLModel",
      "state": {
       "layout": "IPY_MODEL_368cc76d3d4044fe8ecdb64d723fefd6",
       "style": "IPY_MODEL_bd505c50ae6c4998b08651a2d73d49b7",
       "value": " 90/90 [00:02&lt;00:00, 43.08it/s, loss=0.402, acc=77.5]"
      }
     },
     "1deb728029b34611b5f75e835761139f": {
      "model_module": "@jupyter-widgets/controls",
      "model_module_version": "2.0.0",
      "model_name": "HTMLModel",
      "state": {
       "layout": "IPY_MODEL_3bec2ef97cc14eeea2373a832a27faf9",
       "style": "IPY_MODEL_b77625bc838e49a1b8ae80a022645406",
       "value": "Fold: 0  Epoch: 6/10:  58%"
      }
     },
     "1df9e960337342b6bf75a483bb6b8538": {
      "model_module": "@jupyter-widgets/base",
      "model_module_version": "2.0.0",
      "model_name": "LayoutModel",
      "state": {
       "flex": "2"
      }
     },
     "1e169b09f15e45c59a0cf01293ef54a5": {
      "model_module": "@jupyter-widgets/base",
      "model_module_version": "2.0.0",
      "model_name": "LayoutModel",
      "state": {}
     },
     "1e34b12f14a24294984501a116495c3a": {
      "model_module": "@jupyter-widgets/controls",
      "model_module_version": "2.0.0",
      "model_name": "ProgressStyleModel",
      "state": {
       "description_width": ""
      }
     },
     "1e44fa9bd59b4f1b9e3a5dbeccb95561": {
      "model_module": "@jupyter-widgets/controls",
      "model_module_version": "2.0.0",
      "model_name": "ProgressStyleModel",
      "state": {
       "description_width": ""
      }
     },
     "1e8d9db886f44634b16f02ebfdb53895": {
      "model_module": "@jupyter-widgets/controls",
      "model_module_version": "2.0.0",
      "model_name": "HTMLStyleModel",
      "state": {
       "description_width": "",
       "font_size": null,
       "text_color": null
      }
     },
     "1e954c5a84a54e8ea7fb5f2f376fd917": {
      "model_module": "@jupyter-widgets/controls",
      "model_module_version": "2.0.0",
      "model_name": "ProgressStyleModel",
      "state": {
       "description_width": ""
      }
     },
     "1eb8ea0dec4e4f5c882b35a9fea097f3": {
      "model_module": "@jupyter-widgets/controls",
      "model_module_version": "2.0.0",
      "model_name": "HTMLModel",
      "state": {
       "layout": "IPY_MODEL_03995138f15342bdadd1c50eb4163709",
       "style": "IPY_MODEL_6cb1eb38abdd4546ab1260b0031876df",
       "value": "Validating: 100%"
      }
     },
     "1eec01a9befe41328690a830a714adab": {
      "model_module": "@jupyter-widgets/controls",
      "model_module_version": "2.0.0",
      "model_name": "ProgressStyleModel",
      "state": {
       "description_width": ""
      }
     },
     "1ef22ab5ecc8464ab3651831a4070e89": {
      "model_module": "@jupyter-widgets/base",
      "model_module_version": "2.0.0",
      "model_name": "LayoutModel",
      "state": {}
     },
     "1f489de6c0884c5085c642edf009e543": {
      "model_module": "@jupyter-widgets/controls",
      "model_module_version": "2.0.0",
      "model_name": "HTMLModel",
      "state": {
       "layout": "IPY_MODEL_963d3dcbd7144265b751612dcc467987",
       "style": "IPY_MODEL_621b957cad5e4a2db75045d977de2893",
       "value": "Predicting: 100%"
      }
     },
     "1f4a404ff8af42819f3e0eb6ae155fd6": {
      "model_module": "@jupyter-widgets/controls",
      "model_module_version": "2.0.0",
      "model_name": "HTMLStyleModel",
      "state": {
       "description_width": "",
       "font_size": null,
       "text_color": null
      }
     },
     "1f64f581da924302bb9c86f995ee5f76": {
      "model_module": "@jupyter-widgets/controls",
      "model_module_version": "2.0.0",
      "model_name": "HTMLModel",
      "state": {
       "layout": "IPY_MODEL_3ae7a703aeee40129afe0da360a4331a",
       "style": "IPY_MODEL_d6bccd53b2614c2aa0904b51cee67926",
       "value": "Validating: 100%"
      }
     },
     "1fd7d49302724533bbb5ef391ac12e53": {
      "model_module": "@jupyter-widgets/base",
      "model_module_version": "2.0.0",
      "model_name": "LayoutModel",
      "state": {
       "display": "inline-flex",
       "flex_flow": "row wrap",
       "width": "100%"
      }
     },
     "1ff7ab4ff89945f88dfa19d776be8918": {
      "model_module": "@jupyter-widgets/base",
      "model_module_version": "2.0.0",
      "model_name": "LayoutModel",
      "state": {
       "flex": "2"
      }
     },
     "2005d1e9feec47aea0ab4a1a1cdb257c": {
      "model_module": "@jupyter-widgets/controls",
      "model_module_version": "2.0.0",
      "model_name": "HBoxModel",
      "state": {
       "children": [
        "IPY_MODEL_b579bd45b088456a804c3310357fb8da",
        "IPY_MODEL_4adb61fa9fd640f3bce237845cf0e59b",
        "IPY_MODEL_321660c22d664ced8188f6c0a710f62b"
       ],
       "layout": "IPY_MODEL_9b3f35b594574e239278cc79fc3d2c6b"
      }
     },
     "2057c2870220434a947e03dd5aa3f040": {
      "model_module": "@jupyter-widgets/controls",
      "model_module_version": "2.0.0",
      "model_name": "HTMLModel",
      "state": {
       "layout": "IPY_MODEL_77d0c3e5a802429a9f81a6582b8860b3",
       "style": "IPY_MODEL_669eebd2a50f43f9b5845a468e5bf668",
       "value": "Validating: 100%"
      }
     },
     "205cef05ed244568b9444453f91d18e7": {
      "model_module": "@jupyter-widgets/controls",
      "model_module_version": "2.0.0",
      "model_name": "HTMLModel",
      "state": {
       "layout": "IPY_MODEL_8ff371e3f8b046dbacc51f0a3d881e65",
       "style": "IPY_MODEL_2cb4de04387d4c809d7fe1336a5d4656",
       "value": " 90/90 [00:02&lt;00:00, 40.07it/s, loss=0.433, acc=75.6]"
      }
     },
     "20ae5a518d2644abb602481275798f71": {
      "model_module": "@jupyter-widgets/base",
      "model_module_version": "2.0.0",
      "model_name": "LayoutModel",
      "state": {
       "display": "inline-flex",
       "flex_flow": "row wrap",
       "width": "100%"
      }
     },
     "20b296bb037b40489746daf08dea7192": {
      "model_module": "@jupyter-widgets/base",
      "model_module_version": "2.0.0",
      "model_name": "LayoutModel",
      "state": {}
     },
     "20cafce0dda54712b0a7f36c90cf3e40": {
      "model_module": "@jupyter-widgets/base",
      "model_module_version": "2.0.0",
      "model_name": "LayoutModel",
      "state": {
       "flex": "2"
      }
     },
     "20d9deeec71244edbac0290a6eb3a445": {
      "model_module": "@jupyter-widgets/controls",
      "model_module_version": "2.0.0",
      "model_name": "HTMLModel",
      "state": {
       "layout": "IPY_MODEL_73743a1a68e540a5bc28a40d792ceb73",
       "style": "IPY_MODEL_e2ba0de6300246128b318da9c908ca7e",
       "value": "Validating: 100%"
      }
     },
     "20e15c365b434cf7a23a42bbb8b7adbb": {
      "model_module": "@jupyter-widgets/controls",
      "model_module_version": "2.0.0",
      "model_name": "HTMLStyleModel",
      "state": {
       "description_width": "",
       "font_size": null,
       "text_color": null
      }
     },
     "2100da79895b4ce98b882d648e1a3378": {
      "model_module": "@jupyter-widgets/base",
      "model_module_version": "2.0.0",
      "model_name": "LayoutModel",
      "state": {
       "flex": "2"
      }
     },
     "211639f0fb204ad5b80e9ed4c7e9630b": {
      "model_module": "@jupyter-widgets/base",
      "model_module_version": "2.0.0",
      "model_name": "LayoutModel",
      "state": {
       "flex": "2"
      }
     },
     "214320e116fc48748b130fa5a916bbae": {
      "model_module": "@jupyter-widgets/base",
      "model_module_version": "2.0.0",
      "model_name": "LayoutModel",
      "state": {}
     },
     "21611e46bea041e28a1aaeef0c0f7c9d": {
      "model_module": "@jupyter-widgets/base",
      "model_module_version": "2.0.0",
      "model_name": "LayoutModel",
      "state": {}
     },
     "2173751a12fa47e7acd5899ed6a3316b": {
      "model_module": "@jupyter-widgets/base",
      "model_module_version": "2.0.0",
      "model_name": "LayoutModel",
      "state": {
       "flex": "2"
      }
     },
     "21eb0dc309124f6d8f9b7cf2a20c85ac": {
      "model_module": "@jupyter-widgets/controls",
      "model_module_version": "2.0.0",
      "model_name": "ProgressStyleModel",
      "state": {
       "description_width": ""
      }
     },
     "21f7177cba3f4859af2abb23176ea990": {
      "model_module": "@jupyter-widgets/controls",
      "model_module_version": "2.0.0",
      "model_name": "HTMLStyleModel",
      "state": {
       "description_width": "",
       "font_size": null,
       "text_color": null
      }
     },
     "220518b002604b07ab0c1de1107d7fda": {
      "model_module": "@jupyter-widgets/controls",
      "model_module_version": "2.0.0",
      "model_name": "ProgressStyleModel",
      "state": {
       "description_width": ""
      }
     },
     "220f5b3f297e4867b61ca588846745c8": {
      "model_module": "@jupyter-widgets/controls",
      "model_module_version": "2.0.0",
      "model_name": "FloatProgressModel",
      "state": {
       "layout": "IPY_MODEL_592569ea520c441d93486ced47f85cbe",
       "max": 90,
       "style": "IPY_MODEL_f780e3b9efe246658032bd689601b55b",
       "value": 90
      }
     },
     "225c3b0c5c41488faccc7abd352568ca": {
      "model_module": "@jupyter-widgets/controls",
      "model_module_version": "2.0.0",
      "model_name": "ProgressStyleModel",
      "state": {
       "description_width": ""
      }
     },
     "225c6aa8cd6b4a4982ef396b22af89ba": {
      "model_module": "@jupyter-widgets/controls",
      "model_module_version": "2.0.0",
      "model_name": "HTMLStyleModel",
      "state": {
       "description_width": "",
       "font_size": null,
       "text_color": null
      }
     },
     "22b6f233a0c24cfd88729473c48b5fe3": {
      "model_module": "@jupyter-widgets/base",
      "model_module_version": "2.0.0",
      "model_name": "LayoutModel",
      "state": {}
     },
     "22bc319ccebb49e7ab46d74feaa18904": {
      "model_module": "@jupyter-widgets/controls",
      "model_module_version": "2.0.0",
      "model_name": "HTMLModel",
      "state": {
       "layout": "IPY_MODEL_9e054172c8484b63985f638b6321b6af",
       "style": "IPY_MODEL_14b66c563b71444ea3b710217c2b204b",
       "value": "Validating: 100%"
      }
     },
     "22f257a3afbd46f2b60ec0be0f15d141": {
      "model_module": "@jupyter-widgets/controls",
      "model_module_version": "2.0.0",
      "model_name": "HBoxModel",
      "state": {
       "children": [
        "IPY_MODEL_1deb728029b34611b5f75e835761139f",
        "IPY_MODEL_4bdfa61a09834f87ba6c4b35ca627f6f",
        "IPY_MODEL_5d6ee6b2591740158d7f20bf1b5d1de7"
       ],
       "layout": "IPY_MODEL_15e1ac0c060347048eccbe4e39f20ae1"
      }
     },
     "23018d6fd2d948a38aa1b98ef1496ec5": {
      "model_module": "@jupyter-widgets/base",
      "model_module_version": "2.0.0",
      "model_name": "LayoutModel",
      "state": {}
     },
     "233632bbf0a34ba2a1d205dbedb1c0cd": {
      "model_module": "@jupyter-widgets/base",
      "model_module_version": "2.0.0",
      "model_name": "LayoutModel",
      "state": {}
     },
     "234d2c9217194f03b1c43892375c2817": {
      "model_module": "@jupyter-widgets/base",
      "model_module_version": "2.0.0",
      "model_name": "LayoutModel",
      "state": {
       "display": "inline-flex",
       "flex_flow": "row wrap",
       "width": "100%"
      }
     },
     "23d2f5b81e644c2698aec465e6495c8f": {
      "model_module": "@jupyter-widgets/controls",
      "model_module_version": "2.0.0",
      "model_name": "HTMLStyleModel",
      "state": {
       "description_width": "",
       "font_size": null,
       "text_color": null
      }
     },
     "24b26a3fbb234204a7b6ba62bd7c8dc9": {
      "model_module": "@jupyter-widgets/controls",
      "model_module_version": "2.0.0",
      "model_name": "FloatProgressModel",
      "state": {
       "layout": "IPY_MODEL_0e569dddde1146619fe660848dbc8777",
       "max": 90,
       "style": "IPY_MODEL_c6f17f56f0f54c87a26ea50413c24bb5",
       "value": 90
      }
     },
     "24ba94c1ecb34b0b93a2123cfa04496e": {
      "model_module": "@jupyter-widgets/controls",
      "model_module_version": "2.0.0",
      "model_name": "ProgressStyleModel",
      "state": {
       "description_width": ""
      }
     },
     "24bd666abc9c48b5970e446d88d0e204": {
      "model_module": "@jupyter-widgets/controls",
      "model_module_version": "2.0.0",
      "model_name": "HTMLModel",
      "state": {
       "layout": "IPY_MODEL_b0ea1d15ff774e22a166715773400857",
       "style": "IPY_MODEL_9b1fad3447bd462a881fbb9a78db545b",
       "value": "Validating: 100%"
      }
     },
     "24d8388a4e144d2ea2a71474490ec8bd": {
      "model_module": "@jupyter-widgets/controls",
      "model_module_version": "2.0.0",
      "model_name": "HTMLStyleModel",
      "state": {
       "description_width": "",
       "font_size": null,
       "text_color": null
      }
     },
     "25182f16156e4c6ab51344bd76e41996": {
      "model_module": "@jupyter-widgets/base",
      "model_module_version": "2.0.0",
      "model_name": "LayoutModel",
      "state": {}
     },
     "25355fb00a524012925996479c67f17b": {
      "model_module": "@jupyter-widgets/base",
      "model_module_version": "2.0.0",
      "model_name": "LayoutModel",
      "state": {}
     },
     "258c078941754e29b39a3681deb41552": {
      "model_module": "@jupyter-widgets/controls",
      "model_module_version": "2.0.0",
      "model_name": "ProgressStyleModel",
      "state": {
       "description_width": ""
      }
     },
     "25a45c2a52364da09334f5f74f084933": {
      "model_module": "@jupyter-widgets/base",
      "model_module_version": "2.0.0",
      "model_name": "LayoutModel",
      "state": {
       "display": "inline-flex",
       "flex_flow": "row wrap",
       "width": "100%"
      }
     },
     "25d9f52155d545aaa29b59a26908b95d": {
      "model_module": "@jupyter-widgets/base",
      "model_module_version": "2.0.0",
      "model_name": "LayoutModel",
      "state": {
       "display": "inline-flex",
       "flex_flow": "row wrap",
       "width": "100%"
      }
     },
     "25f80d75087147f9bcb8409e2525692e": {
      "model_module": "@jupyter-widgets/controls",
      "model_module_version": "2.0.0",
      "model_name": "ProgressStyleModel",
      "state": {
       "description_width": ""
      }
     },
     "25fe482994b2498889218ff212a89b80": {
      "model_module": "@jupyter-widgets/controls",
      "model_module_version": "2.0.0",
      "model_name": "HTMLStyleModel",
      "state": {
       "description_width": "",
       "font_size": null,
       "text_color": null
      }
     },
     "2616708d82984cac97327b63d45538c3": {
      "model_module": "@jupyter-widgets/controls",
      "model_module_version": "2.0.0",
      "model_name": "HTMLStyleModel",
      "state": {
       "description_width": "",
       "font_size": null,
       "text_color": null
      }
     },
     "264e531c11b94303b45178698d3b867c": {
      "model_module": "@jupyter-widgets/base",
      "model_module_version": "2.0.0",
      "model_name": "LayoutModel",
      "state": {
       "display": "inline-flex",
       "flex_flow": "row wrap",
       "width": "100%"
      }
     },
     "26b45d29770f4ebf8c23f5a2ec4e1dbb": {
      "model_module": "@jupyter-widgets/base",
      "model_module_version": "2.0.0",
      "model_name": "LayoutModel",
      "state": {
       "flex": "2"
      }
     },
     "26ebaa1d143246509c955e5c5a6a150e": {
      "model_module": "@jupyter-widgets/base",
      "model_module_version": "2.0.0",
      "model_name": "LayoutModel",
      "state": {}
     },
     "27323e59955c4bc5b3feb3dacb551df3": {
      "model_module": "@jupyter-widgets/base",
      "model_module_version": "2.0.0",
      "model_name": "LayoutModel",
      "state": {}
     },
     "27717f43e4574f29a621cc4daec0ea20": {
      "model_module": "@jupyter-widgets/controls",
      "model_module_version": "2.0.0",
      "model_name": "HTMLModel",
      "state": {
       "layout": "IPY_MODEL_c9b5582a10d44ee1a3f3006e6c4d810e",
       "style": "IPY_MODEL_a12b014924a84346b61427036c4b421b",
       "value": "Predicting: 100%"
      }
     },
     "2777ebeddf8a4ac1b4775e0781bb3474": {
      "model_module": "@jupyter-widgets/controls",
      "model_module_version": "2.0.0",
      "model_name": "HTMLModel",
      "state": {
       "layout": "IPY_MODEL_e0bcf2d443994efbac84435e70435e50",
       "style": "IPY_MODEL_d9e7b6bf257b496ebd93a68c3b392551",
       "value": "Validating: 100%"
      }
     },
     "27ce5c4d62984d24b9e3c9e5f1385b96": {
      "model_module": "@jupyter-widgets/controls",
      "model_module_version": "2.0.0",
      "model_name": "FloatProgressModel",
      "state": {
       "layout": "IPY_MODEL_c34b0638ad754dd6a70b515b58681b2b",
       "max": 90,
       "style": "IPY_MODEL_b397048532e24d84880c684ef46e0eab",
       "value": 90
      }
     },
     "27db54259c074e108ccd2c5d8c524a38": {
      "model_module": "@jupyter-widgets/controls",
      "model_module_version": "2.0.0",
      "model_name": "HTMLStyleModel",
      "state": {
       "description_width": "",
       "font_size": null,
       "text_color": null
      }
     },
     "285c71da49e14c1d86828c4f248b8499": {
      "model_module": "@jupyter-widgets/controls",
      "model_module_version": "2.0.0",
      "model_name": "FloatProgressModel",
      "state": {
       "layout": "IPY_MODEL_1d95787642e54f20ab3a9a963e7197d2",
       "max": 90,
       "style": "IPY_MODEL_4ade9f0c30f0427690f88708725695aa",
       "value": 90
      }
     },
     "28ff5da59c9a4df08857104913c2f503": {
      "model_module": "@jupyter-widgets/controls",
      "model_module_version": "2.0.0",
      "model_name": "HTMLStyleModel",
      "state": {
       "description_width": "",
       "font_size": null,
       "text_color": null
      }
     },
     "2911431f192c41259ccab3ac50d6fd77": {
      "model_module": "@jupyter-widgets/controls",
      "model_module_version": "2.0.0",
      "model_name": "HTMLModel",
      "state": {
       "layout": "IPY_MODEL_a3877ea75aef417eafe1c333c76fc2f0",
       "style": "IPY_MODEL_31200db524954763bb3db4c73535d5c8",
       "value": " 3580/3580 [09:07&lt;00:00, 15.31it/s, loss=0.636, lr=0]"
      }
     },
     "2926d051f96d41f3869c184a5ae35c25": {
      "model_module": "@jupyter-widgets/controls",
      "model_module_version": "2.0.0",
      "model_name": "ProgressStyleModel",
      "state": {
       "description_width": ""
      }
     },
     "29440d5859bf497484cc9d70cffc1d55": {
      "model_module": "@jupyter-widgets/base",
      "model_module_version": "2.0.0",
      "model_name": "LayoutModel",
      "state": {
       "flex": "2"
      }
     },
     "2944feeaf07f448795c7fcf0fefebef1": {
      "model_module": "@jupyter-widgets/controls",
      "model_module_version": "2.0.0",
      "model_name": "HTMLModel",
      "state": {
       "layout": "IPY_MODEL_3338a5093e834966b0b1c43f0613405b",
       "style": "IPY_MODEL_ab6c74ebb5634c3c944e685777e55c4e",
       "value": "Validating: 100%"
      }
     },
     "298be97b5f3448b585150f06e2af6317": {
      "model_module": "@jupyter-widgets/controls",
      "model_module_version": "2.0.0",
      "model_name": "HTMLStyleModel",
      "state": {
       "description_width": "",
       "font_size": null,
       "text_color": null
      }
     },
     "2994faa46c7d471f8e2bfdde72b1f8d1": {
      "model_module": "@jupyter-widgets/base",
      "model_module_version": "2.0.0",
      "model_name": "LayoutModel",
      "state": {
       "display": "inline-flex",
       "flex_flow": "row wrap",
       "width": "100%"
      }
     },
     "29a132dc9f5a4257a64d7eab329493b8": {
      "model_module": "@jupyter-widgets/controls",
      "model_module_version": "2.0.0",
      "model_name": "FloatProgressModel",
      "state": {
       "layout": "IPY_MODEL_5befa6ec17e04dc1a4d709c81e28c61a",
       "max": 90,
       "style": "IPY_MODEL_8c110ad853644eff812b13b74fc5e21f",
       "value": 90
      }
     },
     "29f73e5cad67468ebbf43f115120e1a9": {
      "model_module": "@jupyter-widgets/base",
      "model_module_version": "2.0.0",
      "model_name": "LayoutModel",
      "state": {
       "flex": "2"
      }
     },
     "2a3050e7183946ca9afa27a7a06232b8": {
      "model_module": "@jupyter-widgets/controls",
      "model_module_version": "2.0.0",
      "model_name": "HTMLStyleModel",
      "state": {
       "description_width": "",
       "font_size": null,
       "text_color": null
      }
     },
     "2a3d752e9a5f4739ae9ad3ef8ea1a58d": {
      "model_module": "@jupyter-widgets/base",
      "model_module_version": "2.0.0",
      "model_name": "LayoutModel",
      "state": {
       "display": "inline-flex",
       "flex_flow": "row wrap",
       "width": "100%"
      }
     },
     "2a9163ebfe0a4c32870d75538b6f797b": {
      "model_module": "@jupyter-widgets/controls",
      "model_module_version": "2.0.0",
      "model_name": "HTMLStyleModel",
      "state": {
       "description_width": "",
       "font_size": null,
       "text_color": null
      }
     },
     "2aaa2cdaef0c4d2aa079d79a5f296059": {
      "model_module": "@jupyter-widgets/controls",
      "model_module_version": "2.0.0",
      "model_name": "HTMLModel",
      "state": {
       "layout": "IPY_MODEL_ab550c7729cc4e62879c637987f66daa",
       "style": "IPY_MODEL_a3901cb50b754ce4bdfba6590c9d81aa",
       "value": "Validating: 100%"
      }
     },
     "2acbb8d9baac4b16a2499df921a0206d": {
      "model_module": "@jupyter-widgets/controls",
      "model_module_version": "2.0.0",
      "model_name": "HTMLModel",
      "state": {
       "layout": "IPY_MODEL_72d4ef5d6aa34316887035398d4d8715",
       "style": "IPY_MODEL_83e29ccd2e9d4b75a0608722d3ce83c8",
       "value": " 90/90 [00:02&lt;00:00, 43.03it/s, loss=0.331, acc=67.6]"
      }
     },
     "2ae2838bf2384b8d8482dfa7a2cbf4b3": {
      "model_module": "@jupyter-widgets/base",
      "model_module_version": "2.0.0",
      "model_name": "LayoutModel",
      "state": {}
     },
     "2b1e6a9995094c70aa8418030187b203": {
      "model_module": "@jupyter-widgets/controls",
      "model_module_version": "2.0.0",
      "model_name": "HTMLModel",
      "state": {
       "layout": "IPY_MODEL_3cd4ac1ed7d647a0a9c97e4a39911184",
       "style": "IPY_MODEL_e82ea4e8e3bc4a6c8850f85f4d5e0126",
       "value": " 90/90 [00:30&lt;00:00, 39.98it/s, loss=0.267, acc=81.3]"
      }
     },
     "2b83d71f8eef44d4bcb38f0aeefb069f": {
      "model_module": "@jupyter-widgets/controls",
      "model_module_version": "2.0.0",
      "model_name": "HTMLStyleModel",
      "state": {
       "description_width": "",
       "font_size": null,
       "text_color": null
      }
     },
     "2be03ed52dbd49f4917fe4458fa9d9ce": {
      "model_module": "@jupyter-widgets/base",
      "model_module_version": "2.0.0",
      "model_name": "LayoutModel",
      "state": {
       "display": "inline-flex",
       "flex_flow": "row wrap",
       "width": "100%"
      }
     },
     "2c4c61960a0f4f7889754e24c309edde": {
      "model_module": "@jupyter-widgets/base",
      "model_module_version": "2.0.0",
      "model_name": "LayoutModel",
      "state": {}
     },
     "2c6655903d054212aa47c7a7a1cf9fc8": {
      "model_module": "@jupyter-widgets/base",
      "model_module_version": "2.0.0",
      "model_name": "LayoutModel",
      "state": {
       "flex": "2"
      }
     },
     "2cb4de04387d4c809d7fe1336a5d4656": {
      "model_module": "@jupyter-widgets/controls",
      "model_module_version": "2.0.0",
      "model_name": "HTMLStyleModel",
      "state": {
       "description_width": "",
       "font_size": null,
       "text_color": null
      }
     },
     "2ce95a7f807342df8ce7bd408ca8c8e5": {
      "model_module": "@jupyter-widgets/base",
      "model_module_version": "2.0.0",
      "model_name": "LayoutModel",
      "state": {
       "display": "inline-flex",
       "flex_flow": "row wrap",
       "width": "100%"
      }
     },
     "2d4343fbcca94b92aced6503ce4ed356": {
      "model_module": "@jupyter-widgets/base",
      "model_module_version": "2.0.0",
      "model_name": "LayoutModel",
      "state": {
       "display": "inline-flex",
       "flex_flow": "row wrap",
       "width": "100%"
      }
     },
     "2dbb3349f6c64cf3ad00867b523673c1": {
      "model_module": "@jupyter-widgets/controls",
      "model_module_version": "2.0.0",
      "model_name": "HTMLModel",
      "state": {
       "layout": "IPY_MODEL_26ebaa1d143246509c955e5c5a6a150e",
       "style": "IPY_MODEL_c2d934a2372b432093cf20f49578968d",
       "value": " 90/90 [00:16&lt;00:00, 43.32it/s, loss=0.278, acc=78.8]"
      }
     },
     "2dfcb624d2714942a53cee0dee402eac": {
      "model_module": "@jupyter-widgets/base",
      "model_module_version": "2.0.0",
      "model_name": "LayoutModel",
      "state": {
       "flex": "2"
      }
     },
     "2e22975626b94e86bdbeb59f92c66204": {
      "model_module": "@jupyter-widgets/controls",
      "model_module_version": "2.0.0",
      "model_name": "HTMLModel",
      "state": {
       "layout": "IPY_MODEL_85cd9135f8d14b508c968230711a61ce",
       "style": "IPY_MODEL_25fe482994b2498889218ff212a89b80",
       "value": "Validating: 100%"
      }
     },
     "2ebf194862234b8294b769917446caab": {
      "model_module": "@jupyter-widgets/controls",
      "model_module_version": "2.0.0",
      "model_name": "HTMLModel",
      "state": {
       "layout": "IPY_MODEL_034beb4a7ccb4589b57ac82a6c1a7989",
       "style": "IPY_MODEL_9e62c3360d4e4f32970591c96c8c9ea4",
       "value": "Validating: 100%"
      }
     },
     "2eed795c19c2477f84710aa42c9fe9d3": {
      "model_module": "@jupyter-widgets/controls",
      "model_module_version": "2.0.0",
      "model_name": "FloatProgressModel",
      "state": {
       "bar_style": "success",
       "layout": "IPY_MODEL_4678f0047746495ab667d4a1b28a763d",
       "max": 90,
       "style": "IPY_MODEL_b6cdc29d24024aba9076f1b3cd8e815e",
       "value": 90
      }
     },
     "2ef1da187f2d4c15bbfc24f07a6c5e2b": {
      "model_module": "@jupyter-widgets/controls",
      "model_module_version": "2.0.0",
      "model_name": "ProgressStyleModel",
      "state": {
       "description_width": ""
      }
     },
     "2f0ed3156af4456389448e04649503e3": {
      "model_module": "@jupyter-widgets/controls",
      "model_module_version": "2.0.0",
      "model_name": "HTMLStyleModel",
      "state": {
       "description_width": "",
       "font_size": null,
       "text_color": null
      }
     },
     "2f40ab60ee2f4a6c8db1b0057b29a6eb": {
      "model_module": "@jupyter-widgets/controls",
      "model_module_version": "2.0.0",
      "model_name": "HBoxModel",
      "state": {
       "children": [
        "IPY_MODEL_7585b0c8a0ec438787d994cd5dba1045",
        "IPY_MODEL_922839cbb1dc44f19432ddc59d7c4a00",
        "IPY_MODEL_57e04b6515ab474bbb3de0d251693c67"
       ],
       "layout": "IPY_MODEL_436f4f0500fb4363806821c1059b2abd"
      }
     },
     "2f577ca448ce4d59b16798f6e36dc157": {
      "model_module": "@jupyter-widgets/controls",
      "model_module_version": "2.0.0",
      "model_name": "HTMLModel",
      "state": {
       "layout": "IPY_MODEL_3604b54da33a42c6813fb26b36b2f986",
       "style": "IPY_MODEL_142127c1f0364f0fae79c0df89051a44",
       "value": "Validating: 100%"
      }
     },
     "2fd45dfe3d5a417b8eea8e560ae3cc75": {
      "model_module": "@jupyter-widgets/base",
      "model_module_version": "2.0.0",
      "model_name": "LayoutModel",
      "state": {}
     },
     "2ffc5d4d0968438083190d3b1d0dbe10": {
      "model_module": "@jupyter-widgets/base",
      "model_module_version": "2.0.0",
      "model_name": "LayoutModel",
      "state": {
       "display": "inline-flex",
       "flex_flow": "row wrap",
       "width": "100%"
      }
     },
     "309959e7d5ee4f1f99ab5e657a9c6fa8": {
      "model_module": "@jupyter-widgets/base",
      "model_module_version": "2.0.0",
      "model_name": "LayoutModel",
      "state": {
       "flex": "2"
      }
     },
     "30f904bb704e46858c29f8cab5550924": {
      "model_module": "@jupyter-widgets/controls",
      "model_module_version": "2.0.0",
      "model_name": "FloatProgressModel",
      "state": {
       "layout": "IPY_MODEL_956472bd2abb4dcfae8160805e8b9074",
       "max": 90,
       "style": "IPY_MODEL_b90fdca6578b45b181e4d050176b6429",
       "value": 90
      }
     },
     "30fd28dff89442ec8659f4016769a411": {
      "model_module": "@jupyter-widgets/base",
      "model_module_version": "2.0.0",
      "model_name": "LayoutModel",
      "state": {}
     },
     "31200db524954763bb3db4c73535d5c8": {
      "model_module": "@jupyter-widgets/controls",
      "model_module_version": "2.0.0",
      "model_name": "HTMLStyleModel",
      "state": {
       "description_width": "",
       "font_size": null,
       "text_color": null
      }
     },
     "31327edaf8be40b39171c1d45e84d7f8": {
      "model_module": "@jupyter-widgets/controls",
      "model_module_version": "2.0.0",
      "model_name": "HBoxModel",
      "state": {
       "children": [
        "IPY_MODEL_4e909bbfb91e4232a4c6b07362c459da",
        "IPY_MODEL_61b9dc02d88b497eb0d5b9422c0b5c21",
        "IPY_MODEL_035557e4ad384a9ea7edbd07292b9ddd"
       ],
       "layout": "IPY_MODEL_4307a8b3fad94472b30c02c5e4a5688e"
      }
     },
     "313c4f33efc14a5eb3998ff98e6e4413": {
      "model_module": "@jupyter-widgets/base",
      "model_module_version": "2.0.0",
      "model_name": "LayoutModel",
      "state": {}
     },
     "31b41769d5b84b30a3574717d66eaef5": {
      "model_module": "@jupyter-widgets/controls",
      "model_module_version": "2.0.0",
      "model_name": "HTMLStyleModel",
      "state": {
       "description_width": "",
       "font_size": null,
       "text_color": null
      }
     },
     "32107e46e6f943dcb7d2d5232572feae": {
      "model_module": "@jupyter-widgets/base",
      "model_module_version": "2.0.0",
      "model_name": "LayoutModel",
      "state": {
       "display": "inline-flex",
       "flex_flow": "row wrap",
       "width": "100%"
      }
     },
     "321660c22d664ced8188f6c0a710f62b": {
      "model_module": "@jupyter-widgets/controls",
      "model_module_version": "2.0.0",
      "model_name": "HTMLModel",
      "state": {
       "layout": "IPY_MODEL_5e495a8c73614aaab5e8537eb611f24b",
       "style": "IPY_MODEL_1a84a606f83f49a18d10dc9d1fa4f52c",
       "value": " 0/90 [28:18&lt;?, ?it/s]"
      }
     },
     "3271670a260f457fa946587c5b35a18a": {
      "model_module": "@jupyter-widgets/controls",
      "model_module_version": "2.0.0",
      "model_name": "HTMLModel",
      "state": {
       "layout": "IPY_MODEL_6e05369a480f48cca164ec990565ac49",
       "style": "IPY_MODEL_a09a00271c1f4d3f90627b1efd25b7e1",
       "value": "Validating: 100%"
      }
     },
     "32a7a64bdd0c46bf8e732052f5efbe03": {
      "model_module": "@jupyter-widgets/controls",
      "model_module_version": "2.0.0",
      "model_name": "HTMLStyleModel",
      "state": {
       "description_width": "",
       "font_size": null,
       "text_color": null
      }
     },
     "32ae804028094cb796833dbcdcb0e5b7": {
      "model_module": "@jupyter-widgets/base",
      "model_module_version": "2.0.0",
      "model_name": "LayoutModel",
      "state": {}
     },
     "32c2f13e2b2b4e6fbe785223dd226c7d": {
      "model_module": "@jupyter-widgets/controls",
      "model_module_version": "2.0.0",
      "model_name": "FloatProgressModel",
      "state": {
       "bar_style": "success",
       "layout": "IPY_MODEL_5153b1e071934dbea471351454e4e819",
       "max": 90,
       "style": "IPY_MODEL_d0e0aa34266341e1951ff70b19712e3f",
       "value": 90
      }
     },
     "32c830141ffa4a20a1b25b940e1fdfc5": {
      "model_module": "@jupyter-widgets/controls",
      "model_module_version": "2.0.0",
      "model_name": "ProgressStyleModel",
      "state": {
       "description_width": ""
      }
     },
     "330167409c3a4cb5975506217a3577e1": {
      "model_module": "@jupyter-widgets/controls",
      "model_module_version": "2.0.0",
      "model_name": "HTMLStyleModel",
      "state": {
       "description_width": "",
       "font_size": null,
       "text_color": null
      }
     },
     "3338a5093e834966b0b1c43f0613405b": {
      "model_module": "@jupyter-widgets/base",
      "model_module_version": "2.0.0",
      "model_name": "LayoutModel",
      "state": {}
     },
     "33652e1b5a574370926eaf6f4c54397d": {
      "model_module": "@jupyter-widgets/base",
      "model_module_version": "2.0.0",
      "model_name": "LayoutModel",
      "state": {}
     },
     "336ee95472714765bdfca091b7d24523": {
      "model_module": "@jupyter-widgets/base",
      "model_module_version": "2.0.0",
      "model_name": "LayoutModel",
      "state": {}
     },
     "33a61fcac4954c779147e488816d3cb0": {
      "model_module": "@jupyter-widgets/base",
      "model_module_version": "2.0.0",
      "model_name": "LayoutModel",
      "state": {
       "display": "inline-flex",
       "flex_flow": "row wrap",
       "width": "100%"
      }
     },
     "33c24177ca094af8b5120401304c38e9": {
      "model_module": "@jupyter-widgets/base",
      "model_module_version": "2.0.0",
      "model_name": "LayoutModel",
      "state": {
       "flex": "2"
      }
     },
     "343be2dc70dd4fa9b366a6e1ec87adf0": {
      "model_module": "@jupyter-widgets/base",
      "model_module_version": "2.0.0",
      "model_name": "LayoutModel",
      "state": {}
     },
     "347d0a17a5ef4119984055f9554f6190": {
      "model_module": "@jupyter-widgets/controls",
      "model_module_version": "2.0.0",
      "model_name": "HTMLStyleModel",
      "state": {
       "description_width": "",
       "font_size": null,
       "text_color": null
      }
     },
     "34d1f0de1169433c994785d1ff69a8fc": {
      "model_module": "@jupyter-widgets/controls",
      "model_module_version": "2.0.0",
      "model_name": "HTMLStyleModel",
      "state": {
       "description_width": "",
       "font_size": null,
       "text_color": null
      }
     },
     "34eb5c58a7f44e8b9dd23b7296246fe4": {
      "model_module": "@jupyter-widgets/base",
      "model_module_version": "2.0.0",
      "model_name": "LayoutModel",
      "state": {
       "flex": "2"
      }
     },
     "3547bc8416aa4c8ebb5d3f23c7cfa7a7": {
      "model_module": "@jupyter-widgets/controls",
      "model_module_version": "2.0.0",
      "model_name": "HTMLStyleModel",
      "state": {
       "description_width": "",
       "font_size": null,
       "text_color": null
      }
     },
     "354e1effe13e4317a909898c2a2a9703": {
      "model_module": "@jupyter-widgets/controls",
      "model_module_version": "2.0.0",
      "model_name": "HTMLModel",
      "state": {
       "layout": "IPY_MODEL_bab2c2693cde4f408b54ddd7d92a0095",
       "style": "IPY_MODEL_f2438ab859e241af9a89e6e297a0529b",
       "value": "Validating: 100%"
      }
     },
     "355a2832ec5b45d09ae5c3080adccc63": {
      "model_module": "@jupyter-widgets/controls",
      "model_module_version": "2.0.0",
      "model_name": "HTMLStyleModel",
      "state": {
       "description_width": "",
       "font_size": null,
       "text_color": null
      }
     },
     "35d388c554e94f8d9c99c1cfe3d9684f": {
      "model_module": "@jupyter-widgets/controls",
      "model_module_version": "2.0.0",
      "model_name": "HTMLModel",
      "state": {
       "layout": "IPY_MODEL_f41781c4b5ef43e7ade6126b5ef3b274",
       "style": "IPY_MODEL_1add6c39e34d4f0f99be80a420657975",
       "value": " 90/90 [00:02&lt;00:00, 43.37it/s, loss=0.357, acc=79.4]"
      }
     },
     "35d6ff3ee15540dfba4cb691b25a7bed": {
      "model_module": "@jupyter-widgets/base",
      "model_module_version": "2.0.0",
      "model_name": "LayoutModel",
      "state": {
       "flex": "2"
      }
     },
     "35ec17b75ca348e8a7b61a867b7fdb92": {
      "model_module": "@jupyter-widgets/base",
      "model_module_version": "2.0.0",
      "model_name": "LayoutModel",
      "state": {
       "display": "inline-flex",
       "flex_flow": "row wrap",
       "width": "100%"
      }
     },
     "35f4a755a8014bc7baa3e28c68a2f1e9": {
      "model_module": "@jupyter-widgets/controls",
      "model_module_version": "2.0.0",
      "model_name": "FloatProgressModel",
      "state": {
       "layout": "IPY_MODEL_08db9492bf77463e9bc8e2c0fcd2730f",
       "max": 90,
       "style": "IPY_MODEL_83af526bab8b4663bab945fdb2831440",
       "value": 90
      }
     },
     "3604b54da33a42c6813fb26b36b2f986": {
      "model_module": "@jupyter-widgets/base",
      "model_module_version": "2.0.0",
      "model_name": "LayoutModel",
      "state": {}
     },
     "368cc76d3d4044fe8ecdb64d723fefd6": {
      "model_module": "@jupyter-widgets/base",
      "model_module_version": "2.0.0",
      "model_name": "LayoutModel",
      "state": {}
     },
     "36cbba58c0eb420986fff48018cfbd84": {
      "model_module": "@jupyter-widgets/controls",
      "model_module_version": "2.0.0",
      "model_name": "HTMLModel",
      "state": {
       "layout": "IPY_MODEL_11f522797d874d35ad449ecd055aa9bc",
       "style": "IPY_MODEL_c9bf42457a08442b8b566c8c7a4558b4",
       "value": "Fold: 0  Epoch: 1/10:   0%"
      }
     },
     "36e3fc0f9af44b04bf16d0c1156678f6": {
      "model_module": "@jupyter-widgets/base",
      "model_module_version": "2.0.0",
      "model_name": "LayoutModel",
      "state": {}
     },
     "371a126c326c47b6ae1775e615ea01c5": {
      "model_module": "@jupyter-widgets/controls",
      "model_module_version": "2.0.0",
      "model_name": "HTMLModel",
      "state": {
       "layout": "IPY_MODEL_e8095818f9d644ccb18fb9a3baec320c",
       "style": "IPY_MODEL_20e15c365b434cf7a23a42bbb8b7adbb",
       "value": "Validating: 100%"
      }
     },
     "377ef0f0127e450c98c6e388a55591ec": {
      "model_module": "@jupyter-widgets/base",
      "model_module_version": "2.0.0",
      "model_name": "LayoutModel",
      "state": {}
     },
     "3789079a47ea42559eaa9e296aecbfb4": {
      "model_module": "@jupyter-widgets/controls",
      "model_module_version": "2.0.0",
      "model_name": "FloatProgressModel",
      "state": {
       "layout": "IPY_MODEL_5803a3d680c14aa28c0a534ec6b554f8",
       "max": 90,
       "style": "IPY_MODEL_1bc94aafd64a48e8893c79bc7cf0adf8",
       "value": 90
      }
     },
     "37fe4a45233a47168109d60690458ed5": {
      "model_module": "@jupyter-widgets/base",
      "model_module_version": "2.0.0",
      "model_name": "LayoutModel",
      "state": {
       "flex": "2"
      }
     },
     "38129413d6b84a44941e9a2c452043f1": {
      "model_module": "@jupyter-widgets/controls",
      "model_module_version": "2.0.0",
      "model_name": "HTMLStyleModel",
      "state": {
       "description_width": "",
       "font_size": null,
       "text_color": null
      }
     },
     "386c116d3a524186a85e550d85549d10": {
      "model_module": "@jupyter-widgets/base",
      "model_module_version": "2.0.0",
      "model_name": "LayoutModel",
      "state": {
       "display": "inline-flex",
       "flex_flow": "row wrap",
       "width": "100%"
      }
     },
     "38c9edb611654c7dbe3eec367e387cea": {
      "model_module": "@jupyter-widgets/controls",
      "model_module_version": "2.0.0",
      "model_name": "FloatProgressModel",
      "state": {
       "layout": "IPY_MODEL_78dc894ee8384057a92caae3ab28d415",
       "max": 90,
       "style": "IPY_MODEL_46d4707986bf44c39fae8abbeeae81ee",
       "value": 90
      }
     },
     "39429423dab848eaaea428a7f7052ff3": {
      "model_module": "@jupyter-widgets/controls",
      "model_module_version": "2.0.0",
      "model_name": "HTMLModel",
      "state": {
       "layout": "IPY_MODEL_3c50004fd1c04b22a01113d5f9f3fe0b",
       "style": "IPY_MODEL_f493aec229544df0a1e9eb3a0fc7cf15",
       "value": "Validating: 100%"
      }
     },
     "394e1a3d15f9449ab77621e1528c04e5": {
      "model_module": "@jupyter-widgets/controls",
      "model_module_version": "2.0.0",
      "model_name": "HTMLStyleModel",
      "state": {
       "description_width": "",
       "font_size": null,
       "text_color": null
      }
     },
     "397ddf60309546feaff0c4ab624cdb24": {
      "model_module": "@jupyter-widgets/base",
      "model_module_version": "2.0.0",
      "model_name": "LayoutModel",
      "state": {}
     },
     "39d81255f8c946c195bfc605fdcb1727": {
      "model_module": "@jupyter-widgets/controls",
      "model_module_version": "2.0.0",
      "model_name": "HTMLModel",
      "state": {
       "layout": "IPY_MODEL_979e503d0c1244af9f46e1d6aa41996d",
       "style": "IPY_MODEL_f418e7378b7b4a7da282301990462581",
       "value": " 90/90 [00:13&lt;00:00, 43.56it/s, loss=0.322, acc=69.6]"
      }
     },
     "39ebda2dd25941f59e9926dd7f7bf103": {
      "model_module": "@jupyter-widgets/base",
      "model_module_version": "2.0.0",
      "model_name": "LayoutModel",
      "state": {}
     },
     "39f97b75d9864b0592aef1829ad5ec87": {
      "model_module": "@jupyter-widgets/base",
      "model_module_version": "2.0.0",
      "model_name": "LayoutModel",
      "state": {
       "display": "inline-flex",
       "flex_flow": "row wrap",
       "width": "100%"
      }
     },
     "3a31813a0d154d388ca61f5aa304ae6d": {
      "model_module": "@jupyter-widgets/base",
      "model_module_version": "2.0.0",
      "model_name": "LayoutModel",
      "state": {}
     },
     "3a5dd859d7ee47529ef3309beef7096f": {
      "model_module": "@jupyter-widgets/controls",
      "model_module_version": "2.0.0",
      "model_name": "HTMLModel",
      "state": {
       "layout": "IPY_MODEL_940292e191f2489499d86a5aebe36293",
       "style": "IPY_MODEL_bb09434c426c4006b0c4e771a3a1d7d8",
       "value": " 90/90 [00:02&lt;00:00, 43.33it/s, loss=0.283, acc=77.8]"
      }
     },
     "3a608e35acfd44f187e67df95272ea17": {
      "model_module": "@jupyter-widgets/controls",
      "model_module_version": "2.0.0",
      "model_name": "HTMLStyleModel",
      "state": {
       "description_width": "",
       "font_size": null,
       "text_color": null
      }
     },
     "3ab70153a71446648a8b96368047f510": {
      "model_module": "@jupyter-widgets/controls",
      "model_module_version": "2.0.0",
      "model_name": "HBoxModel",
      "state": {
       "children": [
        "IPY_MODEL_14cfbef1df8348388ec04adb10779475",
        "IPY_MODEL_32c2f13e2b2b4e6fbe785223dd226c7d",
        "IPY_MODEL_aefed4ae91264c32a27d6ee730f1c8f5"
       ],
       "layout": "IPY_MODEL_a4bc65ceb15f4569a3762f1adb4e3657"
      }
     },
     "3ab91e6009dc40ed945d06b2e2b0a7b8": {
      "model_module": "@jupyter-widgets/base",
      "model_module_version": "2.0.0",
      "model_name": "LayoutModel",
      "state": {
       "display": "inline-flex",
       "flex_flow": "row wrap",
       "width": "100%"
      }
     },
     "3ae7a703aeee40129afe0da360a4331a": {
      "model_module": "@jupyter-widgets/base",
      "model_module_version": "2.0.0",
      "model_name": "LayoutModel",
      "state": {}
     },
     "3b7fe3ed26794117bba706ecdd40070e": {
      "model_module": "@jupyter-widgets/controls",
      "model_module_version": "2.0.0",
      "model_name": "HTMLStyleModel",
      "state": {
       "description_width": "",
       "font_size": null,
       "text_color": null
      }
     },
     "3bacaad5e23245b9a969b026face0be2": {
      "model_module": "@jupyter-widgets/controls",
      "model_module_version": "2.0.0",
      "model_name": "HTMLModel",
      "state": {
       "layout": "IPY_MODEL_1432cbf59f4f4c65818bc542d4ba6fa8",
       "style": "IPY_MODEL_3d310cf37ccc4207b7bb6e735f6e3fa0",
       "value": "Validating: 100%"
      }
     },
     "3bec2ef97cc14eeea2373a832a27faf9": {
      "model_module": "@jupyter-widgets/base",
      "model_module_version": "2.0.0",
      "model_name": "LayoutModel",
      "state": {}
     },
     "3bf277efa59b438693acf635ba39106b": {
      "model_module": "@jupyter-widgets/controls",
      "model_module_version": "2.0.0",
      "model_name": "HTMLStyleModel",
      "state": {
       "description_width": "",
       "font_size": null,
       "text_color": null
      }
     },
     "3c2686aa0c5743ecb7693bcf5ddebc1e": {
      "model_module": "@jupyter-widgets/controls",
      "model_module_version": "2.0.0",
      "model_name": "HTMLStyleModel",
      "state": {
       "description_width": "",
       "font_size": null,
       "text_color": null
      }
     },
     "3c50004fd1c04b22a01113d5f9f3fe0b": {
      "model_module": "@jupyter-widgets/base",
      "model_module_version": "2.0.0",
      "model_name": "LayoutModel",
      "state": {}
     },
     "3c5876607c9e4b65bccbc341c2daa7f0": {
      "model_module": "@jupyter-widgets/base",
      "model_module_version": "2.0.0",
      "model_name": "LayoutModel",
      "state": {
       "display": "inline-flex",
       "flex_flow": "row wrap",
       "width": "100%"
      }
     },
     "3cbe13615bb041029bb642aadd71b4b2": {
      "model_module": "@jupyter-widgets/base",
      "model_module_version": "2.0.0",
      "model_name": "LayoutModel",
      "state": {
       "display": "inline-flex",
       "flex_flow": "row wrap",
       "width": "100%"
      }
     },
     "3cd4ac1ed7d647a0a9c97e4a39911184": {
      "model_module": "@jupyter-widgets/base",
      "model_module_version": "2.0.0",
      "model_name": "LayoutModel",
      "state": {}
     },
     "3cd5e537c80b4c29b4392214de6a9101": {
      "model_module": "@jupyter-widgets/controls",
      "model_module_version": "2.0.0",
      "model_name": "HTMLStyleModel",
      "state": {
       "description_width": "",
       "font_size": null,
       "text_color": null
      }
     },
     "3cda8a90c1584c99b50bad949903d8f2": {
      "model_module": "@jupyter-widgets/controls",
      "model_module_version": "2.0.0",
      "model_name": "FloatProgressModel",
      "state": {
       "bar_style": "success",
       "layout": "IPY_MODEL_967ebc53379c49a787a2e164372d1e48",
       "max": 90,
       "style": "IPY_MODEL_9f926c4ee10747b686fff780d46776ea",
       "value": 90
      }
     },
     "3d310cf37ccc4207b7bb6e735f6e3fa0": {
      "model_module": "@jupyter-widgets/controls",
      "model_module_version": "2.0.0",
      "model_name": "HTMLStyleModel",
      "state": {
       "description_width": "",
       "font_size": null,
       "text_color": null
      }
     },
     "3db87ae86d564d0ba286e33d29566fcb": {
      "model_module": "@jupyter-widgets/base",
      "model_module_version": "2.0.0",
      "model_name": "LayoutModel",
      "state": {
       "flex": "2"
      }
     },
     "3dc532dd978a4a9ab11033bbd91916d0": {
      "model_module": "@jupyter-widgets/controls",
      "model_module_version": "2.0.0",
      "model_name": "HTMLModel",
      "state": {
       "layout": "IPY_MODEL_ca2aa3553cbf4dc5b3d6006c690cca58",
       "style": "IPY_MODEL_3547bc8416aa4c8ebb5d3f23c7cfa7a7",
       "value": " 90/90 [00:02&lt;00:00, 43.15it/s, loss=0.269, acc=80.9]"
      }
     },
     "3dc800ce25a240b1a020fd412ec947e3": {
      "model_module": "@jupyter-widgets/controls",
      "model_module_version": "2.0.0",
      "model_name": "ProgressStyleModel",
      "state": {
       "description_width": ""
      }
     },
     "3de9a8e129fe4be990c1da7e665fa541": {
      "model_module": "@jupyter-widgets/base",
      "model_module_version": "2.0.0",
      "model_name": "LayoutModel",
      "state": {}
     },
     "3e1d5cfa78ca4ea99961706b372ee7e0": {
      "model_module": "@jupyter-widgets/controls",
      "model_module_version": "2.0.0",
      "model_name": "ProgressStyleModel",
      "state": {
       "description_width": ""
      }
     },
     "3e437aa9cb5d4933987a1e640a0fcaed": {
      "model_module": "@jupyter-widgets/base",
      "model_module_version": "2.0.0",
      "model_name": "LayoutModel",
      "state": {
       "flex": "2"
      }
     },
     "3e4787f9801e4f28a670b6da782be920": {
      "model_module": "@jupyter-widgets/controls",
      "model_module_version": "2.0.0",
      "model_name": "HTMLStyleModel",
      "state": {
       "description_width": "",
       "font_size": null,
       "text_color": null
      }
     },
     "3e91b49057d849f59cd8c68725cf3142": {
      "model_module": "@jupyter-widgets/base",
      "model_module_version": "2.0.0",
      "model_name": "LayoutModel",
      "state": {
       "flex": "2"
      }
     },
     "3e9745aca7644f118821678c92726b0e": {
      "model_module": "@jupyter-widgets/base",
      "model_module_version": "2.0.0",
      "model_name": "LayoutModel",
      "state": {
       "display": "inline-flex",
       "flex_flow": "row wrap",
       "width": "100%"
      }
     },
     "3ee5576d9f3f483882279ff00182e644": {
      "model_module": "@jupyter-widgets/controls",
      "model_module_version": "2.0.0",
      "model_name": "FloatProgressModel",
      "state": {
       "layout": "IPY_MODEL_a8a498e726a5412f83364fd4f2594ec0",
       "max": 90,
       "style": "IPY_MODEL_620bc93514024fae97f7f8a4137f2e98",
       "value": 90
      }
     },
     "3f2fc8cb457c4ae192f3e15c3e059b8e": {
      "model_module": "@jupyter-widgets/controls",
      "model_module_version": "2.0.0",
      "model_name": "HTMLStyleModel",
      "state": {
       "description_width": "",
       "font_size": null,
       "text_color": null
      }
     },
     "3f33f77932d94d71a529a4fa0fe2b1aa": {
      "model_module": "@jupyter-widgets/controls",
      "model_module_version": "2.0.0",
      "model_name": "HTMLModel",
      "state": {
       "layout": "IPY_MODEL_c43bd752666147aeaa93b9ad309e6d1f",
       "style": "IPY_MODEL_806ffd5d200443d695f42715973e0b6f",
       "value": " 90/90 [00:02&lt;00:00, 43.45it/s, loss=0.414, acc=77.2]"
      }
     },
     "3f5735ce4e7d49d58a495fd5b82cf0d3": {
      "model_module": "@jupyter-widgets/base",
      "model_module_version": "2.0.0",
      "model_name": "LayoutModel",
      "state": {
       "display": "inline-flex",
       "flex_flow": "row wrap",
       "width": "100%"
      }
     },
     "3f72183390b5460295fb56f13ff6f7c3": {
      "model_module": "@jupyter-widgets/controls",
      "model_module_version": "2.0.0",
      "model_name": "ProgressStyleModel",
      "state": {
       "description_width": ""
      }
     },
     "3f7f4b64a59e4e5a9f742594609471ed": {
      "model_module": "@jupyter-widgets/controls",
      "model_module_version": "2.0.0",
      "model_name": "ProgressStyleModel",
      "state": {
       "description_width": ""
      }
     },
     "3f820e112951425391002c4707134792": {
      "model_module": "@jupyter-widgets/base",
      "model_module_version": "2.0.0",
      "model_name": "LayoutModel",
      "state": {
       "flex": "2"
      }
     },
     "3fc50c3cf3fa4378ac8dc2541b2ca980": {
      "model_module": "@jupyter-widgets/base",
      "model_module_version": "2.0.0",
      "model_name": "LayoutModel",
      "state": {
       "display": "inline-flex",
       "flex_flow": "row wrap",
       "width": "100%"
      }
     },
     "3feac5279d534036a49ecc959aaa6f93": {
      "model_module": "@jupyter-widgets/base",
      "model_module_version": "2.0.0",
      "model_name": "LayoutModel",
      "state": {
       "display": "inline-flex",
       "flex_flow": "row wrap",
       "width": "100%"
      }
     },
     "40380da8dcdb44ff883a48742ac1233c": {
      "model_module": "@jupyter-widgets/controls",
      "model_module_version": "2.0.0",
      "model_name": "HTMLStyleModel",
      "state": {
       "description_width": "",
       "font_size": null,
       "text_color": null
      }
     },
     "404b6ac3bb744b4ebf1cfe93b138d05f": {
      "model_module": "@jupyter-widgets/controls",
      "model_module_version": "2.0.0",
      "model_name": "HTMLStyleModel",
      "state": {
       "description_width": "",
       "font_size": null,
       "text_color": null
      }
     },
     "4082b62aaac34127bf7dae64d5950a85": {
      "model_module": "@jupyter-widgets/controls",
      "model_module_version": "2.0.0",
      "model_name": "HTMLModel",
      "state": {
       "layout": "IPY_MODEL_cfa79d55b0e340aa8b0feddfb77476b1",
       "style": "IPY_MODEL_99e57ffe7296447db0850939c3776094",
       "value": "Validating: 100%"
      }
     },
     "40e7331fb25e413ab821efa26c80b656": {
      "model_module": "@jupyter-widgets/controls",
      "model_module_version": "2.0.0",
      "model_name": "HTMLModel",
      "state": {
       "layout": "IPY_MODEL_e364319ebf4f4a0d9191ef8218fad221",
       "style": "IPY_MODEL_ac251e561ff74da68b4c289ac5145103",
       "value": " 90/90 [00:02&lt;00:00, 39.84it/s, loss=0.364, acc=79.6]"
      }
     },
     "40ec6a96cc5248e89f788be628e99a45": {
      "model_module": "@jupyter-widgets/controls",
      "model_module_version": "2.0.0",
      "model_name": "HTMLStyleModel",
      "state": {
       "description_width": "",
       "font_size": null,
       "text_color": null
      }
     },
     "4154c36cef4c4abe846ab096028d4d2d": {
      "model_module": "@jupyter-widgets/base",
      "model_module_version": "2.0.0",
      "model_name": "LayoutModel",
      "state": {
       "flex": "2"
      }
     },
     "4181f3ac0f404670bc5f71db239583f0": {
      "model_module": "@jupyter-widgets/controls",
      "model_module_version": "2.0.0",
      "model_name": "HBoxModel",
      "state": {
       "children": [
        "IPY_MODEL_b252073aeb1a4a8da4fbb11866576596",
        "IPY_MODEL_dddd9639e7ac43fdbfa794a98757f946",
        "IPY_MODEL_5b21d8347f39408fa0714a81fd79bb17"
       ],
       "layout": "IPY_MODEL_d0b83ea1a341414699e47c2725ae12fd"
      }
     },
     "41b37d85de514e968db2d8d5ec08b537": {
      "model_module": "@jupyter-widgets/base",
      "model_module_version": "2.0.0",
      "model_name": "LayoutModel",
      "state": {}
     },
     "420084e623df44bc9e9f0f78418161a2": {
      "model_module": "@jupyter-widgets/controls",
      "model_module_version": "2.0.0",
      "model_name": "ProgressStyleModel",
      "state": {
       "description_width": ""
      }
     },
     "42164e9c42114ad78730808ab59c3e8b": {
      "model_module": "@jupyter-widgets/controls",
      "model_module_version": "2.0.0",
      "model_name": "ProgressStyleModel",
      "state": {
       "description_width": ""
      }
     },
     "42380a4fefae42168897f0cd250c0786": {
      "model_module": "@jupyter-widgets/base",
      "model_module_version": "2.0.0",
      "model_name": "LayoutModel",
      "state": {}
     },
     "42484ddf4c0e4463be3e4de0272c4a46": {
      "model_module": "@jupyter-widgets/controls",
      "model_module_version": "2.0.0",
      "model_name": "HTMLStyleModel",
      "state": {
       "description_width": "",
       "font_size": null,
       "text_color": null
      }
     },
     "4268db03d9a044f1bda91af6cb1f33c8": {
      "model_module": "@jupyter-widgets/controls",
      "model_module_version": "2.0.0",
      "model_name": "HTMLStyleModel",
      "state": {
       "description_width": "",
       "font_size": null,
       "text_color": null
      }
     },
     "42a455b1689347dcb5e2241ea3d45a93": {
      "model_module": "@jupyter-widgets/base",
      "model_module_version": "2.0.0",
      "model_name": "LayoutModel",
      "state": {}
     },
     "42a8661fd1df4fa4821df3190bc8aef2": {
      "model_module": "@jupyter-widgets/controls",
      "model_module_version": "2.0.0",
      "model_name": "FloatProgressModel",
      "state": {
       "layout": "IPY_MODEL_ffde74ebfb34440f8c9f1af9bf26d8d5",
       "max": 90,
       "style": "IPY_MODEL_1e44fa9bd59b4f1b9e3a5dbeccb95561",
       "value": 90
      }
     },
     "42cce71894834bda945d4c244990d6fe": {
      "model_module": "@jupyter-widgets/base",
      "model_module_version": "2.0.0",
      "model_name": "LayoutModel",
      "state": {
       "flex": "2"
      }
     },
     "4307a8b3fad94472b30c02c5e4a5688e": {
      "model_module": "@jupyter-widgets/base",
      "model_module_version": "2.0.0",
      "model_name": "LayoutModel",
      "state": {
       "display": "inline-flex",
       "flex_flow": "row wrap",
       "width": "100%"
      }
     },
     "431ed63c6e4b4306a78aabb9aa5abaa6": {
      "model_module": "@jupyter-widgets/controls",
      "model_module_version": "2.0.0",
      "model_name": "ProgressStyleModel",
      "state": {
       "description_width": ""
      }
     },
     "432620fcdfad457fa9cdef688bb7d154": {
      "model_module": "@jupyter-widgets/base",
      "model_module_version": "2.0.0",
      "model_name": "LayoutModel",
      "state": {
       "flex": "2"
      }
     },
     "436f4f0500fb4363806821c1059b2abd": {
      "model_module": "@jupyter-widgets/base",
      "model_module_version": "2.0.0",
      "model_name": "LayoutModel",
      "state": {
       "display": "inline-flex",
       "flex_flow": "row wrap",
       "width": "100%"
      }
     },
     "43d4512df5714899853ada622e935ce4": {
      "model_module": "@jupyter-widgets/base",
      "model_module_version": "2.0.0",
      "model_name": "LayoutModel",
      "state": {
       "flex": "2"
      }
     },
     "4510809879824485920bc43bafc4e66b": {
      "model_module": "@jupyter-widgets/controls",
      "model_module_version": "2.0.0",
      "model_name": "HTMLStyleModel",
      "state": {
       "description_width": "",
       "font_size": null,
       "text_color": null
      }
     },
     "451b36ff73f84d8690102be8365798db": {
      "model_module": "@jupyter-widgets/base",
      "model_module_version": "2.0.0",
      "model_name": "LayoutModel",
      "state": {}
     },
     "453a3e640162416aa10a6da461981989": {
      "model_module": "@jupyter-widgets/controls",
      "model_module_version": "2.0.0",
      "model_name": "HTMLModel",
      "state": {
       "layout": "IPY_MODEL_6bbb78f957b04bef9227bb8d3c38c835",
       "style": "IPY_MODEL_6dd1ee0f9086457b84b0a1132e0a6ab9",
       "value": " 3580/3580 [09:07&lt;00:00, 15.31it/s, loss=0.634, lr=0]"
      }
     },
     "453a6998f9594a718a39dd8bb276062e": {
      "model_module": "@jupyter-widgets/base",
      "model_module_version": "2.0.0",
      "model_name": "LayoutModel",
      "state": {}
     },
     "45448f3a12804c958146cf8bbda39984": {
      "model_module": "@jupyter-widgets/controls",
      "model_module_version": "2.0.0",
      "model_name": "HTMLModel",
      "state": {
       "layout": "IPY_MODEL_33652e1b5a574370926eaf6f4c54397d",
       "style": "IPY_MODEL_90055832035548a2a81c4e42c280b0d0",
       "value": "Validating: 100%"
      }
     },
     "4554eb04ba7a43868bf888c2ff7c265e": {
      "model_module": "@jupyter-widgets/controls",
      "model_module_version": "2.0.0",
      "model_name": "HTMLStyleModel",
      "state": {
       "description_width": "",
       "font_size": null,
       "text_color": null
      }
     },
     "4582823531a441c6bdd335d039f182ff": {
      "model_module": "@jupyter-widgets/base",
      "model_module_version": "2.0.0",
      "model_name": "LayoutModel",
      "state": {}
     },
     "458dc26c77624a7a9e65074377ea5048": {
      "model_module": "@jupyter-widgets/base",
      "model_module_version": "2.0.0",
      "model_name": "LayoutModel",
      "state": {}
     },
     "45f15f00bb6143c79660ecd4ccf331e3": {
      "model_module": "@jupyter-widgets/controls",
      "model_module_version": "2.0.0",
      "model_name": "HTMLModel",
      "state": {
       "layout": "IPY_MODEL_aa4a463808094250b3984afe58cd629e",
       "style": "IPY_MODEL_8a3395e257944aaa970cb403c223292d",
       "value": "Validating: 100%"
      }
     },
     "45fadbca52d441b8849bef4eb18ec75c": {
      "model_module": "@jupyter-widgets/base",
      "model_module_version": "2.0.0",
      "model_name": "LayoutModel",
      "state": {}
     },
     "4678f0047746495ab667d4a1b28a763d": {
      "model_module": "@jupyter-widgets/base",
      "model_module_version": "2.0.0",
      "model_name": "LayoutModel",
      "state": {
       "flex": "2"
      }
     },
     "46d4707986bf44c39fae8abbeeae81ee": {
      "model_module": "@jupyter-widgets/controls",
      "model_module_version": "2.0.0",
      "model_name": "ProgressStyleModel",
      "state": {
       "description_width": ""
      }
     },
     "4716b41183de4dac898bd21e4ed92c8d": {
      "model_module": "@jupyter-widgets/controls",
      "model_module_version": "2.0.0",
      "model_name": "HTMLModel",
      "state": {
       "layout": "IPY_MODEL_42380a4fefae42168897f0cd250c0786",
       "style": "IPY_MODEL_4268db03d9a044f1bda91af6cb1f33c8",
       "value": "Validating: 100%"
      }
     },
     "4770eb1bc27f4fd8a9f1fc67a95cb271": {
      "model_module": "@jupyter-widgets/controls",
      "model_module_version": "2.0.0",
      "model_name": "HTMLStyleModel",
      "state": {
       "description_width": "",
       "font_size": null,
       "text_color": null
      }
     },
     "479c3a0a472442a38c630822a4496f3d": {
      "model_module": "@jupyter-widgets/controls",
      "model_module_version": "2.0.0",
      "model_name": "HTMLStyleModel",
      "state": {
       "description_width": "",
       "font_size": null,
       "text_color": null
      }
     },
     "47b73f9dd44440d1a5f2c14199acfd06": {
      "model_module": "@jupyter-widgets/base",
      "model_module_version": "2.0.0",
      "model_name": "LayoutModel",
      "state": {
       "display": "inline-flex",
       "flex_flow": "row wrap",
       "width": "100%"
      }
     },
     "47cee63b2b5c4faabc64ee695089cb29": {
      "model_module": "@jupyter-widgets/controls",
      "model_module_version": "2.0.0",
      "model_name": "HTMLStyleModel",
      "state": {
       "description_width": "",
       "font_size": null,
       "text_color": null
      }
     },
     "47d7da4e352047b79e02f74341d3c97a": {
      "model_module": "@jupyter-widgets/controls",
      "model_module_version": "2.0.0",
      "model_name": "HTMLModel",
      "state": {
       "layout": "IPY_MODEL_6ecd4febeff9477a82af07ae54fd159e",
       "style": "IPY_MODEL_2a9163ebfe0a4c32870d75538b6f797b",
       "value": "Validating: 100%"
      }
     },
     "47e6c82543284caeb178dbc0d1b6b0b4": {
      "model_module": "@jupyter-widgets/controls",
      "model_module_version": "2.0.0",
      "model_name": "HTMLModel",
      "state": {
       "layout": "IPY_MODEL_d379e7bdc3874394a0e71c0c94af0112",
       "style": "IPY_MODEL_a25a777e2744468c819c4cf7aa203629",
       "value": " 90/90 [00:02&lt;00:00, 43.34it/s, loss=0.342, acc=80]"
      }
     },
     "47f8fcb99a7046f4b807528cccc0ec45": {
      "model_module": "@jupyter-widgets/base",
      "model_module_version": "2.0.0",
      "model_name": "LayoutModel",
      "state": {
       "display": "inline-flex",
       "flex_flow": "row wrap",
       "width": "100%"
      }
     },
     "4844438e27eb4ba6877d16128960441e": {
      "model_module": "@jupyter-widgets/controls",
      "model_module_version": "2.0.0",
      "model_name": "ProgressStyleModel",
      "state": {
       "description_width": ""
      }
     },
     "484aebdeb780435c8d84a866f527f13f": {
      "model_module": "@jupyter-widgets/controls",
      "model_module_version": "2.0.0",
      "model_name": "FloatProgressModel",
      "state": {
       "layout": "IPY_MODEL_4d39856d7ad54f3d8cb1659db5da800f",
       "max": 90,
       "style": "IPY_MODEL_b76c46572909423e98dfb08b95e16555",
       "value": 90
      }
     },
     "485e6c0b21e542c38e05418c63505df2": {
      "model_module": "@jupyter-widgets/controls",
      "model_module_version": "2.0.0",
      "model_name": "HTMLStyleModel",
      "state": {
       "description_width": "",
       "font_size": null,
       "text_color": null
      }
     },
     "48763adae487475a9d244e0e4f3adfe8": {
      "model_module": "@jupyter-widgets/base",
      "model_module_version": "2.0.0",
      "model_name": "LayoutModel",
      "state": {}
     },
     "489587b9fb9741f7a27a6513bd2329c2": {
      "model_module": "@jupyter-widgets/controls",
      "model_module_version": "2.0.0",
      "model_name": "HTMLModel",
      "state": {
       "layout": "IPY_MODEL_4f2027a8509d453e97f4aaeed6210dc9",
       "style": "IPY_MODEL_fb2d708372ed4cfdadb46b3025574013",
       "value": " 90/90 [00:18&lt;00:00, 43.09it/s, loss=0.272, acc=80.1]"
      }
     },
     "4895dd35d07d4f4382b7b2480eceb7a5": {
      "model_module": "@jupyter-widgets/base",
      "model_module_version": "2.0.0",
      "model_name": "LayoutModel",
      "state": {}
     },
     "48fbd0f7a1f044548255b7b2aa381c36": {
      "model_module": "@jupyter-widgets/base",
      "model_module_version": "2.0.0",
      "model_name": "LayoutModel",
      "state": {
       "flex": "2"
      }
     },
     "4948739aa5fe4684ae2530066201b8d3": {
      "model_module": "@jupyter-widgets/controls",
      "model_module_version": "2.0.0",
      "model_name": "FloatProgressModel",
      "state": {
       "layout": "IPY_MODEL_d33ddcee19b34b1481534ca74da6c562",
       "max": 90,
       "style": "IPY_MODEL_5a0600fc993a4525adec868722d15a23",
       "value": 90
      }
     },
     "495862330c1e4445b6054a48155676e7": {
      "model_module": "@jupyter-widgets/controls",
      "model_module_version": "2.0.0",
      "model_name": "HTMLStyleModel",
      "state": {
       "description_width": "",
       "font_size": null,
       "text_color": null
      }
     },
     "4988739621874dbdaee8b7a4963aeaf3": {
      "model_module": "@jupyter-widgets/base",
      "model_module_version": "2.0.0",
      "model_name": "LayoutModel",
      "state": {
       "display": "inline-flex",
       "flex_flow": "row wrap",
       "width": "100%"
      }
     },
     "49acca95365445f88f430401037674d7": {
      "model_module": "@jupyter-widgets/controls",
      "model_module_version": "2.0.0",
      "model_name": "HTMLModel",
      "state": {
       "layout": "IPY_MODEL_07295906d26e4ac1b1ba5abd6127638e",
       "style": "IPY_MODEL_b54bde9cd7c240028de11720023e8be2",
       "value": " 90/90 [00:02&lt;00:00, 43.52it/s, loss=0.357, acc=79.5]"
      }
     },
     "49b9b7a7bda542d2b738e51e57bcd6a1": {
      "model_module": "@jupyter-widgets/base",
      "model_module_version": "2.0.0",
      "model_name": "LayoutModel",
      "state": {}
     },
     "49fa92d7bf1340ac90d437c6444a7cc7": {
      "model_module": "@jupyter-widgets/controls",
      "model_module_version": "2.0.0",
      "model_name": "FloatProgressModel",
      "state": {
       "layout": "IPY_MODEL_ae751b53b1fc4edbb950a2719fd00bec",
       "max": 90,
       "style": "IPY_MODEL_e71c92016a254faa91483381994ab9f4",
       "value": 90
      }
     },
     "4a03598cae5b4f17b550a3f2549bda01": {
      "model_module": "@jupyter-widgets/controls",
      "model_module_version": "2.0.0",
      "model_name": "FloatProgressModel",
      "state": {
       "layout": "IPY_MODEL_7029c28b7c1443f9a924773e23adeffc",
       "max": 90,
       "style": "IPY_MODEL_52ad0813c5f246a0b00d02c76ca19872",
       "value": 90
      }
     },
     "4a2affbf14fe42849e5383e11767375b": {
      "model_module": "@jupyter-widgets/controls",
      "model_module_version": "2.0.0",
      "model_name": "HTMLModel",
      "state": {
       "layout": "IPY_MODEL_9effc6f5d82c46dab64f2983a6fa5f91",
       "style": "IPY_MODEL_9a51c677a7a94befa7137413812a96ad",
       "value": " 90/90 [00:02&lt;00:00, 43.30it/s, loss=0.276, acc=79.5]"
      }
     },
     "4a510e0479b1429b97d833c72c4b6a4c": {
      "model_module": "@jupyter-widgets/controls",
      "model_module_version": "2.0.0",
      "model_name": "FloatProgressModel",
      "state": {
       "bar_style": "success",
       "layout": "IPY_MODEL_751283cbb49044518bae4981e8fadb71",
       "max": 3580,
       "style": "IPY_MODEL_ea4a9c93a0cf4ab8bcbab8d181cf598c",
       "value": 3580
      }
     },
     "4a7c3bec52cd47c0a88679821e2b6bc6": {
      "model_module": "@jupyter-widgets/base",
      "model_module_version": "2.0.0",
      "model_name": "LayoutModel",
      "state": {}
     },
     "4ab1f28a9bc84fd5912799b87320aa01": {
      "model_module": "@jupyter-widgets/controls",
      "model_module_version": "2.0.0",
      "model_name": "ProgressStyleModel",
      "state": {
       "description_width": ""
      }
     },
     "4adb61fa9fd640f3bce237845cf0e59b": {
      "model_module": "@jupyter-widgets/controls",
      "model_module_version": "2.0.0",
      "model_name": "FloatProgressModel",
      "state": {
       "layout": "IPY_MODEL_7bc5bf3be63645aa93258ee76cf57811",
       "max": 90,
       "style": "IPY_MODEL_1e954c5a84a54e8ea7fb5f2f376fd917"
      }
     },
     "4ade9f0c30f0427690f88708725695aa": {
      "model_module": "@jupyter-widgets/controls",
      "model_module_version": "2.0.0",
      "model_name": "ProgressStyleModel",
      "state": {
       "description_width": ""
      }
     },
     "4b06c3e5825443a0b564c9be05eee57a": {
      "model_module": "@jupyter-widgets/controls",
      "model_module_version": "2.0.0",
      "model_name": "HTMLStyleModel",
      "state": {
       "description_width": "",
       "font_size": null,
       "text_color": null
      }
     },
     "4b292ee4224d4c689b598a924955e3a2": {
      "model_module": "@jupyter-widgets/controls",
      "model_module_version": "2.0.0",
      "model_name": "HTMLModel",
      "state": {
       "layout": "IPY_MODEL_c529b3bbe9834607b6da7a2a809751cc",
       "style": "IPY_MODEL_4c01fea255e24aebaf3df05e286b326d",
       "value": "Validating: 100%"
      }
     },
     "4b2c52c6299948dd86bc9d71bde57e02": {
      "model_module": "@jupyter-widgets/base",
      "model_module_version": "2.0.0",
      "model_name": "LayoutModel",
      "state": {}
     },
     "4b3459b54eb64988b5a9719dfdb59bab": {
      "model_module": "@jupyter-widgets/controls",
      "model_module_version": "2.0.0",
      "model_name": "ProgressStyleModel",
      "state": {
       "description_width": ""
      }
     },
     "4bb86383fee74e92aacbefeb3eb9f46f": {
      "model_module": "@jupyter-widgets/controls",
      "model_module_version": "2.0.0",
      "model_name": "HTMLStyleModel",
      "state": {
       "description_width": "",
       "font_size": null,
       "text_color": null
      }
     },
     "4bdfa61a09834f87ba6c4b35ca627f6f": {
      "model_module": "@jupyter-widgets/controls",
      "model_module_version": "2.0.0",
      "model_name": "FloatProgressModel",
      "state": {
       "layout": "IPY_MODEL_b1b258f0e07945b6a52bd435d7805256",
       "max": 3580,
       "style": "IPY_MODEL_1da74cf279734d9ca2119cc08bec3751",
       "value": 2067
      }
     },
     "4c01fea255e24aebaf3df05e286b326d": {
      "model_module": "@jupyter-widgets/controls",
      "model_module_version": "2.0.0",
      "model_name": "HTMLStyleModel",
      "state": {
       "description_width": "",
       "font_size": null,
       "text_color": null
      }
     },
     "4c694d2544da4969a6b5437412da2fe1": {
      "model_module": "@jupyter-widgets/controls",
      "model_module_version": "2.0.0",
      "model_name": "HTMLModel",
      "state": {
       "layout": "IPY_MODEL_504b1aae1c27458f8dffd9c4f2e72625",
       "style": "IPY_MODEL_b1ff4a27f5834c7695cb935bfb6106ea",
       "value": "Validating: 100%"
      }
     },
     "4c6cc671eb7a42429660352b2ede8890": {
      "model_module": "@jupyter-widgets/base",
      "model_module_version": "2.0.0",
      "model_name": "LayoutModel",
      "state": {
       "flex": "2"
      }
     },
     "4d39856d7ad54f3d8cb1659db5da800f": {
      "model_module": "@jupyter-widgets/base",
      "model_module_version": "2.0.0",
      "model_name": "LayoutModel",
      "state": {
       "flex": "2"
      }
     },
     "4d5a58655c6344b590b8367ca619b285": {
      "model_module": "@jupyter-widgets/controls",
      "model_module_version": "2.0.0",
      "model_name": "FloatProgressModel",
      "state": {
       "layout": "IPY_MODEL_982596289e5046f2bfe8669b7da3d9ea",
       "max": 90,
       "style": "IPY_MODEL_587a271ec6d6419dac64e1124c0af3eb",
       "value": 90
      }
     },
     "4d84ac6a113f4b3da84d9a5d0f146640": {
      "model_module": "@jupyter-widgets/controls",
      "model_module_version": "2.0.0",
      "model_name": "FloatProgressModel",
      "state": {
       "layout": "IPY_MODEL_09d5bb197f794e43a534b556452af1d9",
       "max": 90,
       "style": "IPY_MODEL_6506425c0ef047a1b1a4b07b54bca4c3",
       "value": 90
      }
     },
     "4d86fd587ad14c1bb92e29f26d17b229": {
      "model_module": "@jupyter-widgets/base",
      "model_module_version": "2.0.0",
      "model_name": "LayoutModel",
      "state": {
       "display": "inline-flex",
       "flex_flow": "row wrap",
       "width": "100%"
      }
     },
     "4db750224853435291dc75c4ad06531b": {
      "model_module": "@jupyter-widgets/controls",
      "model_module_version": "2.0.0",
      "model_name": "HTMLModel",
      "state": {
       "layout": "IPY_MODEL_e96cc055dc5c488896a9e7c425e3d328",
       "style": "IPY_MODEL_3cd5e537c80b4c29b4392214de6a9101",
       "value": " 90/90 [00:02&lt;00:00, 43.36it/s, loss=0.27, acc=80.5]"
      }
     },
     "4dc73fa21e50478faffb930ad0f39f29": {
      "model_module": "@jupyter-widgets/controls",
      "model_module_version": "2.0.0",
      "model_name": "HTMLModel",
      "state": {
       "layout": "IPY_MODEL_4b2c52c6299948dd86bc9d71bde57e02",
       "style": "IPY_MODEL_27db54259c074e108ccd2c5d8c524a38",
       "value": " 90/90 [00:02&lt;00:00, 39.77it/s, loss=0.344, acc=79.4]"
      }
     },
     "4e0ab09d9b184122b0c46c3e3e76fc7f": {
      "model_module": "@jupyter-widgets/base",
      "model_module_version": "2.0.0",
      "model_name": "LayoutModel",
      "state": {
       "display": "inline-flex",
       "flex_flow": "row wrap",
       "width": "100%"
      }
     },
     "4e278a98d0574ce2940c48f0b6253266": {
      "model_module": "@jupyter-widgets/base",
      "model_module_version": "2.0.0",
      "model_name": "LayoutModel",
      "state": {}
     },
     "4e49a1a0650e40e9a1e4f54562247b27": {
      "model_module": "@jupyter-widgets/controls",
      "model_module_version": "2.0.0",
      "model_name": "FloatProgressModel",
      "state": {
       "layout": "IPY_MODEL_d1e303d0deae4c1198dec90e10cbb5e9",
       "max": 90,
       "style": "IPY_MODEL_4844438e27eb4ba6877d16128960441e",
       "value": 90
      }
     },
     "4e909bbfb91e4232a4c6b07362c459da": {
      "model_module": "@jupyter-widgets/controls",
      "model_module_version": "2.0.0",
      "model_name": "HTMLModel",
      "state": {
       "layout": "IPY_MODEL_c24b20db5bff4f638695f6f49c51f005",
       "style": "IPY_MODEL_574a08357a00426c9bc85c6c0e763751",
       "value": "Predicting: 100%"
      }
     },
     "4e90e0f30d23478da4ba952aeed35d18": {
      "model_module": "@jupyter-widgets/controls",
      "model_module_version": "2.0.0",
      "model_name": "HTMLModel",
      "state": {
       "layout": "IPY_MODEL_8ab63dec8c674fdba68378076516a93b",
       "style": "IPY_MODEL_a766d2a71e624b339aa6b2688cc26533",
       "value": "Fold: 4  Epoch: 10/10: 100%"
      }
     },
     "4eba07fbc5964bbb91392f5c19f1a515": {
      "model_module": "@jupyter-widgets/controls",
      "model_module_version": "2.0.0",
      "model_name": "HTMLModel",
      "state": {
       "layout": "IPY_MODEL_a93add438f2c4d15814694b053d7c4a5",
       "style": "IPY_MODEL_56d7da85b514419f989731f5a655f4b7",
       "value": "Validating: 100%"
      }
     },
     "4ec3ebb8871c454ca61b67af4736f6c9": {
      "model_module": "@jupyter-widgets/controls",
      "model_module_version": "2.0.0",
      "model_name": "ProgressStyleModel",
      "state": {
       "description_width": ""
      }
     },
     "4eca001e049f435598d5771ef691cf3f": {
      "model_module": "@jupyter-widgets/controls",
      "model_module_version": "2.0.0",
      "model_name": "HTMLModel",
      "state": {
       "layout": "IPY_MODEL_f50bc876e41147b580138c6dbeb9cb55",
       "style": "IPY_MODEL_c23f49978cb7423fb48ab8583301c686",
       "value": " 90/90 [00:02&lt;00:00, 43.33it/s, loss=0.292, acc=76.3]"
      }
     },
     "4edba82583b9475f98b292e13fc84ac9": {
      "model_module": "@jupyter-widgets/base",
      "model_module_version": "2.0.0",
      "model_name": "LayoutModel",
      "state": {
       "flex": "2"
      }
     },
     "4f2027a8509d453e97f4aaeed6210dc9": {
      "model_module": "@jupyter-widgets/base",
      "model_module_version": "2.0.0",
      "model_name": "LayoutModel",
      "state": {}
     },
     "4f36cf0de1604903a627e5672d602ada": {
      "model_module": "@jupyter-widgets/controls",
      "model_module_version": "2.0.0",
      "model_name": "HTMLStyleModel",
      "state": {
       "description_width": "",
       "font_size": null,
       "text_color": null
      }
     },
     "4f738f13496b4c8aaa50b7c9f0159462": {
      "model_module": "@jupyter-widgets/controls",
      "model_module_version": "2.0.0",
      "model_name": "ProgressStyleModel",
      "state": {
       "description_width": ""
      }
     },
     "4fbc467653d2478fb6e9b2ff61c3ea3d": {
      "model_module": "@jupyter-widgets/base",
      "model_module_version": "2.0.0",
      "model_name": "LayoutModel",
      "state": {
       "display": "inline-flex",
       "flex_flow": "row wrap",
       "width": "100%"
      }
     },
     "4fc84bf3b854473494b72533e570b510": {
      "model_module": "@jupyter-widgets/base",
      "model_module_version": "2.0.0",
      "model_name": "LayoutModel",
      "state": {
       "display": "inline-flex",
       "flex_flow": "row wrap",
       "width": "100%"
      }
     },
     "4fde6e820ac34c8d8d7b73fa9de6405e": {
      "model_module": "@jupyter-widgets/base",
      "model_module_version": "2.0.0",
      "model_name": "LayoutModel",
      "state": {}
     },
     "504b1aae1c27458f8dffd9c4f2e72625": {
      "model_module": "@jupyter-widgets/base",
      "model_module_version": "2.0.0",
      "model_name": "LayoutModel",
      "state": {}
     },
     "50787021f87340e8b979173fa33228da": {
      "model_module": "@jupyter-widgets/base",
      "model_module_version": "2.0.0",
      "model_name": "LayoutModel",
      "state": {
       "display": "inline-flex",
       "flex_flow": "row wrap",
       "width": "100%"
      }
     },
     "50b75df8696a40f48dd51ef805d5c379": {
      "model_module": "@jupyter-widgets/base",
      "model_module_version": "2.0.0",
      "model_name": "LayoutModel",
      "state": {
       "display": "inline-flex",
       "flex_flow": "row wrap",
       "width": "100%"
      }
     },
     "50cc2e8800d441499264a2100e755661": {
      "model_module": "@jupyter-widgets/controls",
      "model_module_version": "2.0.0",
      "model_name": "HTMLStyleModel",
      "state": {
       "description_width": "",
       "font_size": null,
       "text_color": null
      }
     },
     "50fb719e161a4404a724964c6daa3eb4": {
      "model_module": "@jupyter-widgets/base",
      "model_module_version": "2.0.0",
      "model_name": "LayoutModel",
      "state": {
       "flex": "2"
      }
     },
     "5113470e2ca74ff2bfe6adccb321a9f7": {
      "model_module": "@jupyter-widgets/controls",
      "model_module_version": "2.0.0",
      "model_name": "HTMLModel",
      "state": {
       "layout": "IPY_MODEL_1a35c7b229904ab1a0199df2ca293a1a",
       "style": "IPY_MODEL_68095b4a5c474af19651823444a0dc51",
       "value": "Validating: 100%"
      }
     },
     "5153b1e071934dbea471351454e4e819": {
      "model_module": "@jupyter-widgets/base",
      "model_module_version": "2.0.0",
      "model_name": "LayoutModel",
      "state": {
       "flex": "2"
      }
     },
     "51fc998b0def4006a928da3e4ff6d576": {
      "model_module": "@jupyter-widgets/controls",
      "model_module_version": "2.0.0",
      "model_name": "HTMLModel",
      "state": {
       "layout": "IPY_MODEL_3de9a8e129fe4be990c1da7e665fa541",
       "style": "IPY_MODEL_67463a9357dc485392dd731040b2b54d",
       "value": " 90/90 [00:02&lt;00:00, 43.18it/s, loss=0.351, acc=79.3]"
      }
     },
     "520a0671670d41a29f797e254172f21d": {
      "model_module": "@jupyter-widgets/controls",
      "model_module_version": "2.0.0",
      "model_name": "HTMLModel",
      "state": {
       "layout": "IPY_MODEL_90c8d6acd0e9494ab0ceae635445bd14",
       "style": "IPY_MODEL_ab55201a57804049b8e4b1b03bce0df5",
       "value": " 90/90 [02:47&lt;00:00, 39.48it/s, loss=0.289, acc=76.9]"
      }
     },
     "52197084a4f04dac9c444e325dc5fbd0": {
      "model_module": "@jupyter-widgets/controls",
      "model_module_version": "2.0.0",
      "model_name": "HTMLStyleModel",
      "state": {
       "description_width": "",
       "font_size": null,
       "text_color": null
      }
     },
     "522700a257f342498efe67a9b528386e": {
      "model_module": "@jupyter-widgets/base",
      "model_module_version": "2.0.0",
      "model_name": "LayoutModel",
      "state": {
       "display": "inline-flex",
       "flex_flow": "row wrap",
       "width": "100%"
      }
     },
     "5285cad157244547bed2908e0bd22f66": {
      "model_module": "@jupyter-widgets/base",
      "model_module_version": "2.0.0",
      "model_name": "LayoutModel",
      "state": {
       "flex": "2"
      }
     },
     "528a3b69e2d44a9baea1b8e5813cb14b": {
      "model_module": "@jupyter-widgets/base",
      "model_module_version": "2.0.0",
      "model_name": "LayoutModel",
      "state": {
       "display": "inline-flex",
       "flex_flow": "row wrap",
       "width": "100%"
      }
     },
     "52ad0813c5f246a0b00d02c76ca19872": {
      "model_module": "@jupyter-widgets/controls",
      "model_module_version": "2.0.0",
      "model_name": "ProgressStyleModel",
      "state": {
       "description_width": ""
      }
     },
     "5305561ed07c44a6a61c2f15fddbaee4": {
      "model_module": "@jupyter-widgets/controls",
      "model_module_version": "2.0.0",
      "model_name": "HTMLModel",
      "state": {
       "layout": "IPY_MODEL_6bbccded7aae411485b0b74d35562ec8",
       "style": "IPY_MODEL_dbdc8d3e1f304a9985d80861f24b7c1c",
       "value": "Validating: 100%"
      }
     },
     "53465197c0374feaa1aa34f1740c8e79": {
      "model_module": "@jupyter-widgets/controls",
      "model_module_version": "2.0.0",
      "model_name": "HTMLModel",
      "state": {
       "layout": "IPY_MODEL_f421e8f5461f4b19b6325afb9585b306",
       "style": "IPY_MODEL_0346a241c2dd41c5aaeb191cbab94d91",
       "value": " 90/90 [00:02&lt;00:00, 39.97it/s, loss=0.417, acc=76.2]"
      }
     },
     "5399746118ee42d6b512d79e17ad499d": {
      "model_module": "@jupyter-widgets/base",
      "model_module_version": "2.0.0",
      "model_name": "LayoutModel",
      "state": {
       "flex": "2"
      }
     },
     "53d83b17b49144b9b221238cf224613a": {
      "model_module": "@jupyter-widgets/controls",
      "model_module_version": "2.0.0",
      "model_name": "HBoxModel",
      "state": {
       "children": [
        "IPY_MODEL_6570e281ca12490191fd01f93fcecb72",
        "IPY_MODEL_b012f5c3d0c3411ebe966dad103dc9d4",
        "IPY_MODEL_df66ccae32e24a2a853cc637166d1192"
       ],
       "layout": "IPY_MODEL_47f8fcb99a7046f4b807528cccc0ec45"
      }
     },
     "53e1982517bc400fae35d6b626e7941a": {
      "model_module": "@jupyter-widgets/controls",
      "model_module_version": "2.0.0",
      "model_name": "HTMLStyleModel",
      "state": {
       "description_width": "",
       "font_size": null,
       "text_color": null
      }
     },
     "54106c2e8ce24dab90f66878d736d4e4": {
      "model_module": "@jupyter-widgets/base",
      "model_module_version": "2.0.0",
      "model_name": "LayoutModel",
      "state": {}
     },
     "5462c81b90e14a71b903aa9ab048f24d": {
      "model_module": "@jupyter-widgets/controls",
      "model_module_version": "2.0.0",
      "model_name": "HTMLStyleModel",
      "state": {
       "description_width": "",
       "font_size": null,
       "text_color": null
      }
     },
     "547d3d3dc9774d1bb69d6175dfcc6b47": {
      "model_module": "@jupyter-widgets/base",
      "model_module_version": "2.0.0",
      "model_name": "LayoutModel",
      "state": {
       "display": "inline-flex",
       "flex_flow": "row wrap",
       "width": "100%"
      }
     },
     "550be199c2574915819812392bf28626": {
      "model_module": "@jupyter-widgets/controls",
      "model_module_version": "2.0.0",
      "model_name": "HTMLModel",
      "state": {
       "layout": "IPY_MODEL_98be50712a634d6f8e876fc7a3084166",
       "style": "IPY_MODEL_e868b7abc5cc401e9adb60573a709b45",
       "value": "Validating: 100%"
      }
     },
     "55606916fb2f4211b7ac266a5404b1a2": {
      "model_module": "@jupyter-widgets/controls",
      "model_module_version": "2.0.0",
      "model_name": "HTMLModel",
      "state": {
       "layout": "IPY_MODEL_ed3a0b34c31f485aa9b8f167518750f1",
       "style": "IPY_MODEL_fe925e9f549f471aa884e4bdc7ef148a",
       "value": "Validating: 100%"
      }
     },
     "557c677ef7884133aca297cd94c01f8b": {
      "model_module": "@jupyter-widgets/controls",
      "model_module_version": "2.0.0",
      "model_name": "FloatProgressModel",
      "state": {
       "layout": "IPY_MODEL_29f73e5cad67468ebbf43f115120e1a9",
       "max": 90,
       "style": "IPY_MODEL_d82d78f87b1048b7bcc2cbb23e433c29",
       "value": 90
      }
     },
     "55b02eca68d942458f340d9f8a5924bb": {
      "model_module": "@jupyter-widgets/controls",
      "model_module_version": "2.0.0",
      "model_name": "HTMLModel",
      "state": {
       "layout": "IPY_MODEL_eddbf7e2dc614459aacfbd76400d89a3",
       "style": "IPY_MODEL_ec4002c1b0a24c17ac93395a0f7ea08c",
       "value": " 3580/3580 [04:57&lt;00:00, 15.31it/s, loss=0.628, lr=0]"
      }
     },
     "55d97f3b501043db8dc8381207018e7e": {
      "model_module": "@jupyter-widgets/controls",
      "model_module_version": "2.0.0",
      "model_name": "HTMLModel",
      "state": {
       "layout": "IPY_MODEL_d7158cce456a4e2994d63af7889a3c69",
       "style": "IPY_MODEL_cbc0edd3ed5c4596953238d6ead71429",
       "value": "Validating: 100%"
      }
     },
     "564eabbebd8c4936891ddafe8772ba6a": {
      "model_module": "@jupyter-widgets/controls",
      "model_module_version": "2.0.0",
      "model_name": "ProgressStyleModel",
      "state": {
       "description_width": ""
      }
     },
     "5670ec428546498bb0af0a22ece8699e": {
      "model_module": "@jupyter-widgets/base",
      "model_module_version": "2.0.0",
      "model_name": "LayoutModel",
      "state": {}
     },
     "5673acc3b0d94f0e8eea0b6508267b77": {
      "model_module": "@jupyter-widgets/controls",
      "model_module_version": "2.0.0",
      "model_name": "FloatProgressModel",
      "state": {
       "bar_style": "success",
       "layout": "IPY_MODEL_4154c36cef4c4abe846ab096028d4d2d",
       "max": 3580,
       "style": "IPY_MODEL_c493a3db76754273aca392dfbcda94e6",
       "value": 3580
      }
     },
     "56d7da85b514419f989731f5a655f4b7": {
      "model_module": "@jupyter-widgets/controls",
      "model_module_version": "2.0.0",
      "model_name": "HTMLStyleModel",
      "state": {
       "description_width": "",
       "font_size": null,
       "text_color": null
      }
     },
     "56dd2064dce84acbacc43dc9416210b2": {
      "model_module": "@jupyter-widgets/controls",
      "model_module_version": "2.0.0",
      "model_name": "HTMLModel",
      "state": {
       "layout": "IPY_MODEL_608d8e81e0be4c368d7f80c1940928f1",
       "style": "IPY_MODEL_24d8388a4e144d2ea2a71474490ec8bd",
       "value": "Validating: 100%"
      }
     },
     "573f2d38905c4cbe924f513b5c9eb297": {
      "model_module": "@jupyter-widgets/base",
      "model_module_version": "2.0.0",
      "model_name": "LayoutModel",
      "state": {
       "flex": "2"
      }
     },
     "574a08357a00426c9bc85c6c0e763751": {
      "model_module": "@jupyter-widgets/controls",
      "model_module_version": "2.0.0",
      "model_name": "HTMLStyleModel",
      "state": {
       "description_width": "",
       "font_size": null,
       "text_color": null
      }
     },
     "5780879104b643679b5b06fc3c7e4a2e": {
      "model_module": "@jupyter-widgets/controls",
      "model_module_version": "2.0.0",
      "model_name": "HBoxModel",
      "state": {
       "children": [
        "IPY_MODEL_b3fa1f848330476f95173e1832b402cc",
        "IPY_MODEL_7e1e890aedf14bab928bb333081bf16f",
        "IPY_MODEL_ad0a449c97044be6b0aad59214795548"
       ],
       "layout": "IPY_MODEL_7142f4bbe5334c959de04744aba74e21"
      }
     },
     "57a283784b5d4803a639f78ce362973a": {
      "model_module": "@jupyter-widgets/controls",
      "model_module_version": "2.0.0",
      "model_name": "ProgressStyleModel",
      "state": {
       "description_width": ""
      }
     },
     "57e04b6515ab474bbb3de0d251693c67": {
      "model_module": "@jupyter-widgets/controls",
      "model_module_version": "2.0.0",
      "model_name": "HTMLModel",
      "state": {
       "layout": "IPY_MODEL_0b5c6d0d506f408bb2284262b8c778a8",
       "style": "IPY_MODEL_34d1f0de1169433c994785d1ff69a8fc",
       "value": " 3580/3580 [09:06&lt;00:00, 15.26it/s, loss=0.637, lr=0]"
      }
     },
     "57e078f729134b64944c24e673d3a6d2": {
      "model_module": "@jupyter-widgets/base",
      "model_module_version": "2.0.0",
      "model_name": "LayoutModel",
      "state": {
       "display": "inline-flex",
       "flex_flow": "row wrap",
       "width": "100%"
      }
     },
     "57eec740db4c453a833c0605a9a9884f": {
      "model_module": "@jupyter-widgets/base",
      "model_module_version": "2.0.0",
      "model_name": "LayoutModel",
      "state": {
       "flex": "2"
      }
     },
     "57f3546aed2a4f4d8e0cd11a184e5e0f": {
      "model_module": "@jupyter-widgets/controls",
      "model_module_version": "2.0.0",
      "model_name": "FloatProgressModel",
      "state": {
       "bar_style": "success",
       "layout": "IPY_MODEL_c2c761c1fedc45168bde4aacc4848698",
       "max": 3580,
       "style": "IPY_MODEL_b850cdfdd00d4ebaa55ffdf718707ff3",
       "value": 3580
      }
     },
     "5803a3d680c14aa28c0a534ec6b554f8": {
      "model_module": "@jupyter-widgets/base",
      "model_module_version": "2.0.0",
      "model_name": "LayoutModel",
      "state": {
       "flex": "2"
      }
     },
     "5849ff2b645044c1980844107982825b": {
      "model_module": "@jupyter-widgets/controls",
      "model_module_version": "2.0.0",
      "model_name": "HTMLStyleModel",
      "state": {
       "description_width": "",
       "font_size": null,
       "text_color": null
      }
     },
     "587a271ec6d6419dac64e1124c0af3eb": {
      "model_module": "@jupyter-widgets/controls",
      "model_module_version": "2.0.0",
      "model_name": "ProgressStyleModel",
      "state": {
       "description_width": ""
      }
     },
     "58859127c4de4ec9ad71bdd28532b3c3": {
      "model_module": "@jupyter-widgets/controls",
      "model_module_version": "2.0.0",
      "model_name": "HTMLModel",
      "state": {
       "layout": "IPY_MODEL_906a47f0277948749e188709af7596d3",
       "style": "IPY_MODEL_bc6e3d3c7d94471e9b4c067a9194b326",
       "value": " 90/90 [00:16&lt;00:00, 43.60it/s, loss=0.289, acc=77]"
      }
     },
     "58e6d151df8f4e93a93faeb54bf57fa0": {
      "model_module": "@jupyter-widgets/base",
      "model_module_version": "2.0.0",
      "model_name": "LayoutModel",
      "state": {
       "flex": "2"
      }
     },
     "59040639bc4044f9a98ef84e0b1cab9e": {
      "model_module": "@jupyter-widgets/base",
      "model_module_version": "2.0.0",
      "model_name": "LayoutModel",
      "state": {}
     },
     "591da4e58a82452a958aa47e9bf48c6f": {
      "model_module": "@jupyter-widgets/base",
      "model_module_version": "2.0.0",
      "model_name": "LayoutModel",
      "state": {}
     },
     "592569ea520c441d93486ced47f85cbe": {
      "model_module": "@jupyter-widgets/base",
      "model_module_version": "2.0.0",
      "model_name": "LayoutModel",
      "state": {
       "flex": "2"
      }
     },
     "5a0600fc993a4525adec868722d15a23": {
      "model_module": "@jupyter-widgets/controls",
      "model_module_version": "2.0.0",
      "model_name": "ProgressStyleModel",
      "state": {
       "description_width": ""
      }
     },
     "5a569a7885dd4eaf962ffea2c27b2d3f": {
      "model_module": "@jupyter-widgets/base",
      "model_module_version": "2.0.0",
      "model_name": "LayoutModel",
      "state": {}
     },
     "5a57ad2e7ab34b0f8683daa13bd60f87": {
      "model_module": "@jupyter-widgets/controls",
      "model_module_version": "2.0.0",
      "model_name": "HTMLModel",
      "state": {
       "layout": "IPY_MODEL_f4eaf620842446518585cd4da24f46e0",
       "style": "IPY_MODEL_756bc7aafc3b4b5397da841d3532f702",
       "value": " 90/90 [00:30&lt;00:00, 39.91it/s, loss=0.27, acc=80.5]"
      }
     },
     "5a8c4ad8108041868070053480820365": {
      "model_module": "@jupyter-widgets/controls",
      "model_module_version": "2.0.0",
      "model_name": "HTMLStyleModel",
      "state": {
       "description_width": "",
       "font_size": null,
       "text_color": null
      }
     },
     "5a9b0daefe654ca3ac25150681bb49ba": {
      "model_module": "@jupyter-widgets/controls",
      "model_module_version": "2.0.0",
      "model_name": "FloatProgressModel",
      "state": {
       "layout": "IPY_MODEL_c0e25b27456a4be89ce8e4a82eb3b650",
       "max": 90,
       "style": "IPY_MODEL_9b9cc89f455949d7a9cd691b96f8eeb4",
       "value": 90
      }
     },
     "5b1f434126734582bf1b8c2d22e4dd6d": {
      "model_module": "@jupyter-widgets/base",
      "model_module_version": "2.0.0",
      "model_name": "LayoutModel",
      "state": {}
     },
     "5b21d8347f39408fa0714a81fd79bb17": {
      "model_module": "@jupyter-widgets/controls",
      "model_module_version": "2.0.0",
      "model_name": "HTMLModel",
      "state": {
       "layout": "IPY_MODEL_c190b51efdc6479fab9a5e94d5fa8256",
       "style": "IPY_MODEL_b88d27bbb1b641ffb78c7b72bad51b5e",
       "value": " 90/90 [00:05&lt;00:00, 18.43it/s]"
      }
     },
     "5b286b3657d743c98e33cb8acd0872bf": {
      "model_module": "@jupyter-widgets/controls",
      "model_module_version": "2.0.0",
      "model_name": "ProgressStyleModel",
      "state": {
       "description_width": ""
      }
     },
     "5bb9f189b9914109888f0def258cb156": {
      "model_module": "@jupyter-widgets/controls",
      "model_module_version": "2.0.0",
      "model_name": "HTMLModel",
      "state": {
       "layout": "IPY_MODEL_f1f0eea8fd3e4591b59fb71b5078e920",
       "style": "IPY_MODEL_225c6aa8cd6b4a4982ef396b22af89ba",
       "value": " 90/90 [00:02&lt;00:00, 43.22it/s, loss=0.332, acc=69]"
      }
     },
     "5bc43ffec967451bbc9963ac8ae66d22": {
      "model_module": "@jupyter-widgets/controls",
      "model_module_version": "2.0.0",
      "model_name": "HTMLModel",
      "state": {
       "layout": "IPY_MODEL_5d660ca10eba4ec891c97570f0bbb0d9",
       "style": "IPY_MODEL_7c25ea2f20174fa586e3b5269eec4e26",
       "value": "Validating: 100%"
      }
     },
     "5bde66b2b5704d5c83b118921c2fb03a": {
      "model_module": "@jupyter-widgets/controls",
      "model_module_version": "2.0.0",
      "model_name": "HTMLModel",
      "state": {
       "layout": "IPY_MODEL_12a3d844fdf34acc81038a5e1c466a80",
       "style": "IPY_MODEL_40380da8dcdb44ff883a48742ac1233c",
       "value": "Validating: 100%"
      }
     },
     "5bed1680e10341cea6f39b1048848cb0": {
      "model_module": "@jupyter-widgets/controls",
      "model_module_version": "2.0.0",
      "model_name": "HTMLModel",
      "state": {
       "layout": "IPY_MODEL_8ac281c6cda54f13a5c31882d6635225",
       "style": "IPY_MODEL_31b41769d5b84b30a3574717d66eaef5",
       "value": "Validating: 100%"
      }
     },
     "5befa6ec17e04dc1a4d709c81e28c61a": {
      "model_module": "@jupyter-widgets/base",
      "model_module_version": "2.0.0",
      "model_name": "LayoutModel",
      "state": {
       "flex": "2"
      }
     },
     "5cccf4079a0e47d695e8a1ca576de49a": {
      "model_module": "@jupyter-widgets/controls",
      "model_module_version": "2.0.0",
      "model_name": "HTMLModel",
      "state": {
       "layout": "IPY_MODEL_7f76b17db681433ca872ed616e85382f",
       "style": "IPY_MODEL_603d4826d92343f3acdba416a5abe33f",
       "value": "Predicting: 100%"
      }
     },
     "5d3299eac1f743b9a0169dee617d5288": {
      "model_module": "@jupyter-widgets/controls",
      "model_module_version": "2.0.0",
      "model_name": "FloatProgressModel",
      "state": {
       "layout": "IPY_MODEL_2dfcb624d2714942a53cee0dee402eac",
       "max": 90,
       "style": "IPY_MODEL_25f80d75087147f9bcb8409e2525692e",
       "value": 90
      }
     },
     "5d3c6210fc98455496bb84ade51eb180": {
      "model_module": "@jupyter-widgets/controls",
      "model_module_version": "2.0.0",
      "model_name": "ProgressStyleModel",
      "state": {
       "description_width": ""
      }
     },
     "5d4885aeb909477691e82c30d43b32a9": {
      "model_module": "@jupyter-widgets/base",
      "model_module_version": "2.0.0",
      "model_name": "LayoutModel",
      "state": {
       "flex": "2"
      }
     },
     "5d660ca10eba4ec891c97570f0bbb0d9": {
      "model_module": "@jupyter-widgets/base",
      "model_module_version": "2.0.0",
      "model_name": "LayoutModel",
      "state": {}
     },
     "5d6ee6b2591740158d7f20bf1b5d1de7": {
      "model_module": "@jupyter-widgets/controls",
      "model_module_version": "2.0.0",
      "model_name": "HTMLModel",
      "state": {
       "layout": "IPY_MODEL_e4aa9690a70045178f2f459a57617e57",
       "style": "IPY_MODEL_9189cf6f9cfc4255a5b0b74d2cd5b01b",
       "value": " 2067/3580 [26:41&lt;01:40, 15.02it/s, loss=0.286, lr=0.000136]"
      }
     },
     "5e495a8c73614aaab5e8537eb611f24b": {
      "model_module": "@jupyter-widgets/base",
      "model_module_version": "2.0.0",
      "model_name": "LayoutModel",
      "state": {}
     },
     "5e66715acdf042c3ba7bfe77ae37ac5c": {
      "model_module": "@jupyter-widgets/base",
      "model_module_version": "2.0.0",
      "model_name": "LayoutModel",
      "state": {
       "flex": "2"
      }
     },
     "5ed76f8bbe784915b2af5fd08f908b5f": {
      "model_module": "@jupyter-widgets/base",
      "model_module_version": "2.0.0",
      "model_name": "LayoutModel",
      "state": {}
     },
     "5f9a788a59ae4838a7e4f2c4e3a76366": {
      "model_module": "@jupyter-widgets/controls",
      "model_module_version": "2.0.0",
      "model_name": "HTMLModel",
      "state": {
       "layout": "IPY_MODEL_e427ae95de9f4f6cb94b3a228d028ccf",
       "style": "IPY_MODEL_9208701dc69f4441a13e5425b09f4166",
       "value": "Validating: 100%"
      }
     },
     "5fae96d301db407fb0ac632839f1ad00": {
      "model_module": "@jupyter-widgets/controls",
      "model_module_version": "2.0.0",
      "model_name": "ProgressStyleModel",
      "state": {
       "description_width": ""
      }
     },
     "5fb4cc7b393a468b9671e7cf6d5cb87e": {
      "model_module": "@jupyter-widgets/base",
      "model_module_version": "2.0.0",
      "model_name": "LayoutModel",
      "state": {}
     },
     "5fc98b81289a44ae844a65ae5b464dfe": {
      "model_module": "@jupyter-widgets/controls",
      "model_module_version": "2.0.0",
      "model_name": "HTMLModel",
      "state": {
       "layout": "IPY_MODEL_a607adaca25c44ad9546addc32e69adb",
       "style": "IPY_MODEL_2b83d71f8eef44d4bcb38f0aeefb069f",
       "value": " 90/90 [00:13&lt;00:00, 43.51it/s, loss=0.307, acc=72.5]"
      }
     },
     "6005f6494f7f452c89974e9a2c214185": {
      "model_module": "@jupyter-widgets/base",
      "model_module_version": "2.0.0",
      "model_name": "LayoutModel",
      "state": {
       "display": "inline-flex",
       "flex_flow": "row wrap",
       "width": "100%"
      }
     },
     "6015a136967e44b88b660ed87e146602": {
      "model_module": "@jupyter-widgets/base",
      "model_module_version": "2.0.0",
      "model_name": "LayoutModel",
      "state": {}
     },
     "603d4826d92343f3acdba416a5abe33f": {
      "model_module": "@jupyter-widgets/controls",
      "model_module_version": "2.0.0",
      "model_name": "HTMLStyleModel",
      "state": {
       "description_width": "",
       "font_size": null,
       "text_color": null
      }
     },
     "608d8e81e0be4c368d7f80c1940928f1": {
      "model_module": "@jupyter-widgets/base",
      "model_module_version": "2.0.0",
      "model_name": "LayoutModel",
      "state": {}
     },
     "616507c676584a23b7349a79b7520dc0": {
      "model_module": "@jupyter-widgets/controls",
      "model_module_version": "2.0.0",
      "model_name": "HTMLStyleModel",
      "state": {
       "description_width": "",
       "font_size": null,
       "text_color": null
      }
     },
     "61b9dc02d88b497eb0d5b9422c0b5c21": {
      "model_module": "@jupyter-widgets/controls",
      "model_module_version": "2.0.0",
      "model_name": "FloatProgressModel",
      "state": {
       "bar_style": "success",
       "layout": "IPY_MODEL_69f73b3ddb404432bcb19ca3e357c456",
       "max": 90,
       "style": "IPY_MODEL_763d8daaf69a4b9d87e300f37ae83a7c",
       "value": 90
      }
     },
     "61f29953fd774c488b3f726d5629bf0a": {
      "model_module": "@jupyter-widgets/base",
      "model_module_version": "2.0.0",
      "model_name": "LayoutModel",
      "state": {}
     },
     "620bc93514024fae97f7f8a4137f2e98": {
      "model_module": "@jupyter-widgets/controls",
      "model_module_version": "2.0.0",
      "model_name": "ProgressStyleModel",
      "state": {
       "description_width": ""
      }
     },
     "621b957cad5e4a2db75045d977de2893": {
      "model_module": "@jupyter-widgets/controls",
      "model_module_version": "2.0.0",
      "model_name": "HTMLStyleModel",
      "state": {
       "description_width": "",
       "font_size": null,
       "text_color": null
      }
     },
     "622979999cf74612b3fc02d24076bb91": {
      "model_module": "@jupyter-widgets/controls",
      "model_module_version": "2.0.0",
      "model_name": "FloatProgressModel",
      "state": {
       "bar_style": "success",
       "layout": "IPY_MODEL_8cd3a00c95d74b8db8a0e69e0c55ca48",
       "max": 90,
       "style": "IPY_MODEL_6f0dbaadcd5d436194b5b97cef1f41f0",
       "value": 90
      }
     },
     "62358525184b4238ae28ca781953e3e2": {
      "model_module": "@jupyter-widgets/base",
      "model_module_version": "2.0.0",
      "model_name": "LayoutModel",
      "state": {}
     },
     "625d54cc4a2a4b92a64c9addd31e9027": {
      "model_module": "@jupyter-widgets/base",
      "model_module_version": "2.0.0",
      "model_name": "LayoutModel",
      "state": {
       "flex": "2"
      }
     },
     "625db4989d334572a54562b3f9bb9ef5": {
      "model_module": "@jupyter-widgets/base",
      "model_module_version": "2.0.0",
      "model_name": "LayoutModel",
      "state": {
       "flex": "2"
      }
     },
     "629e7af62da94049b50562f84648b933": {
      "model_module": "@jupyter-widgets/base",
      "model_module_version": "2.0.0",
      "model_name": "LayoutModel",
      "state": {}
     },
     "62bfc6fe6803403db0a2c8b55507fba5": {
      "model_module": "@jupyter-widgets/base",
      "model_module_version": "2.0.0",
      "model_name": "LayoutModel",
      "state": {}
     },
     "62d2ae8968d24dd3844a7f46983f58f0": {
      "model_module": "@jupyter-widgets/controls",
      "model_module_version": "2.0.0",
      "model_name": "FloatProgressModel",
      "state": {
       "layout": "IPY_MODEL_573f2d38905c4cbe924f513b5c9eb297",
       "max": 90,
       "style": "IPY_MODEL_05b0805d468345bba5aedc4ea4e00525",
       "value": 90
      }
     },
     "62e063016b2e48bfb184a32972c8360e": {
      "model_module": "@jupyter-widgets/controls",
      "model_module_version": "2.0.0",
      "model_name": "HBoxModel",
      "state": {
       "children": [
        "IPY_MODEL_6db624f56f324f129828db67b1d8f5f2",
        "IPY_MODEL_e660116aa29446748c7e7ff2c21db83d",
        "IPY_MODEL_838bf96f15494796b6056ddd0a85c370"
       ],
       "layout": "IPY_MODEL_093da05900d44cf1b9f18c71ae45029c"
      }
     },
     "62ebb0b47c6946f7b8f545fa706f3778": {
      "model_module": "@jupyter-widgets/base",
      "model_module_version": "2.0.0",
      "model_name": "LayoutModel",
      "state": {
       "display": "inline-flex",
       "flex_flow": "row wrap",
       "width": "100%"
      }
     },
     "6306887ce0d945c8b0139e46bb9315d2": {
      "model_module": "@jupyter-widgets/controls",
      "model_module_version": "2.0.0",
      "model_name": "FloatProgressModel",
      "state": {
       "layout": "IPY_MODEL_e1ae9f5f85c74f3e9b2f62910def7582",
       "max": 90,
       "style": "IPY_MODEL_d1271f404b6f4c6a98576065f512c2dc",
       "value": 90
      }
     },
     "6321c200c5564c1a9f2c3ab767930a2c": {
      "model_module": "@jupyter-widgets/controls",
      "model_module_version": "2.0.0",
      "model_name": "HTMLStyleModel",
      "state": {
       "description_width": "",
       "font_size": null,
       "text_color": null
      }
     },
     "634db306f4a84e75933ee02ab6d291fb": {
      "model_module": "@jupyter-widgets/controls",
      "model_module_version": "2.0.0",
      "model_name": "FloatProgressModel",
      "state": {
       "layout": "IPY_MODEL_1dacd69d028e48b3891895ec319883dd",
       "max": 90,
       "style": "IPY_MODEL_87d8eaf7b30a455b893bbf8c9b205af1",
       "value": 90
      }
     },
     "64a20973ac7247739edd607aad8736a4": {
      "model_module": "@jupyter-widgets/controls",
      "model_module_version": "2.0.0",
      "model_name": "FloatProgressModel",
      "state": {
       "layout": "IPY_MODEL_e23deadef91346689242d13cf04caec4",
       "max": 90,
       "style": "IPY_MODEL_6febe65b116b441592ab4001d62d8b66",
       "value": 90
      }
     },
     "64a9be3e63c148f2bfd452853fe7f610": {
      "model_module": "@jupyter-widgets/controls",
      "model_module_version": "2.0.0",
      "model_name": "HTMLStyleModel",
      "state": {
       "description_width": "",
       "font_size": null,
       "text_color": null
      }
     },
     "64fddfbd9dc64610a3276fd1da7e6ebe": {
      "model_module": "@jupyter-widgets/base",
      "model_module_version": "2.0.0",
      "model_name": "LayoutModel",
      "state": {}
     },
     "6506425c0ef047a1b1a4b07b54bca4c3": {
      "model_module": "@jupyter-widgets/controls",
      "model_module_version": "2.0.0",
      "model_name": "ProgressStyleModel",
      "state": {
       "description_width": ""
      }
     },
     "65113093123f4f2fa0b28a7296bf2726": {
      "model_module": "@jupyter-widgets/controls",
      "model_module_version": "2.0.0",
      "model_name": "HTMLStyleModel",
      "state": {
       "description_width": "",
       "font_size": null,
       "text_color": null
      }
     },
     "6558473a790e423f83592dba46f5aaee": {
      "model_module": "@jupyter-widgets/controls",
      "model_module_version": "2.0.0",
      "model_name": "ProgressStyleModel",
      "state": {
       "description_width": ""
      }
     },
     "6570e281ca12490191fd01f93fcecb72": {
      "model_module": "@jupyter-widgets/controls",
      "model_module_version": "2.0.0",
      "model_name": "HTMLModel",
      "state": {
       "layout": "IPY_MODEL_d1dde5909209442ebc91aa6da1f091ca",
       "style": "IPY_MODEL_074d7693a6484fa082d89e95c9187e94",
       "value": "Fold: 1  Epoch: 10/10: 100%"
      }
     },
     "65833487bfb14a0d9c012352a85b726d": {
      "model_module": "@jupyter-widgets/base",
      "model_module_version": "2.0.0",
      "model_name": "LayoutModel",
      "state": {
       "flex": "2"
      }
     },
     "659bb4f05a9a4cfda0cabaa36a4dbc90": {
      "model_module": "@jupyter-widgets/controls",
      "model_module_version": "2.0.0",
      "model_name": "HTMLStyleModel",
      "state": {
       "description_width": "",
       "font_size": null,
       "text_color": null
      }
     },
     "65c2513b2ba4468092ffa20345c38148": {
      "model_module": "@jupyter-widgets/base",
      "model_module_version": "2.0.0",
      "model_name": "LayoutModel",
      "state": {}
     },
     "65d9168fba484cd9910a9ab68f898fc3": {
      "model_module": "@jupyter-widgets/base",
      "model_module_version": "2.0.0",
      "model_name": "LayoutModel",
      "state": {
       "display": "inline-flex",
       "flex_flow": "row wrap",
       "width": "100%"
      }
     },
     "666fde83b7c84265a7e1f3f6834c37e4": {
      "model_module": "@jupyter-widgets/base",
      "model_module_version": "2.0.0",
      "model_name": "LayoutModel",
      "state": {}
     },
     "667d51c301894097bfb6af978f1db42a": {
      "model_module": "@jupyter-widgets/controls",
      "model_module_version": "2.0.0",
      "model_name": "ProgressStyleModel",
      "state": {
       "description_width": ""
      }
     },
     "669eebd2a50f43f9b5845a468e5bf668": {
      "model_module": "@jupyter-widgets/controls",
      "model_module_version": "2.0.0",
      "model_name": "HTMLStyleModel",
      "state": {
       "description_width": "",
       "font_size": null,
       "text_color": null
      }
     },
     "66a7380c2c7f49f59f4aa31035991db9": {
      "model_module": "@jupyter-widgets/base",
      "model_module_version": "2.0.0",
      "model_name": "LayoutModel",
      "state": {}
     },
     "66c62b55994e4c92b5268570b9163ae5": {
      "model_module": "@jupyter-widgets/controls",
      "model_module_version": "2.0.0",
      "model_name": "HTMLModel",
      "state": {
       "layout": "IPY_MODEL_2c4c61960a0f4f7889754e24c309edde",
       "style": "IPY_MODEL_0c93caea38b04264a27ababc4d355c2a",
       "value": " 90/90 [00:02&lt;00:00, 43.13it/s, loss=0.423, acc=76]"
      }
     },
     "66d70ac0e8a04c938cc412583458e1f1": {
      "model_module": "@jupyter-widgets/controls",
      "model_module_version": "2.0.0",
      "model_name": "HTMLStyleModel",
      "state": {
       "description_width": "",
       "font_size": null,
       "text_color": null
      }
     },
     "66e3eb7244474c61b237033fa381bded": {
      "model_module": "@jupyter-widgets/base",
      "model_module_version": "2.0.0",
      "model_name": "LayoutModel",
      "state": {}
     },
     "66f1b5a13ba9415d8a6a0a93b2adceeb": {
      "model_module": "@jupyter-widgets/controls",
      "model_module_version": "2.0.0",
      "model_name": "HTMLStyleModel",
      "state": {
       "description_width": "",
       "font_size": null,
       "text_color": null
      }
     },
     "6730f3842ffb4d9e99f3a3c3f43535d6": {
      "model_module": "@jupyter-widgets/controls",
      "model_module_version": "2.0.0",
      "model_name": "HTMLStyleModel",
      "state": {
       "description_width": "",
       "font_size": null,
       "text_color": null
      }
     },
     "67463a9357dc485392dd731040b2b54d": {
      "model_module": "@jupyter-widgets/controls",
      "model_module_version": "2.0.0",
      "model_name": "HTMLStyleModel",
      "state": {
       "description_width": "",
       "font_size": null,
       "text_color": null
      }
     },
     "674812fa98994bff8bd374536b072afb": {
      "model_module": "@jupyter-widgets/base",
      "model_module_version": "2.0.0",
      "model_name": "LayoutModel",
      "state": {
       "display": "inline-flex",
       "flex_flow": "row wrap",
       "width": "100%"
      }
     },
     "675d2b3d955a4f81baa0f57c46126961": {
      "model_module": "@jupyter-widgets/base",
      "model_module_version": "2.0.0",
      "model_name": "LayoutModel",
      "state": {
       "flex": "2"
      }
     },
     "679c852f12794097b34524a9fc210982": {
      "model_module": "@jupyter-widgets/controls",
      "model_module_version": "2.0.0",
      "model_name": "HTMLModel",
      "state": {
       "layout": "IPY_MODEL_eda2f2363e5e404e85130cc99a833173",
       "style": "IPY_MODEL_4554eb04ba7a43868bf888c2ff7c265e",
       "value": " 90/90 [00:30&lt;00:00, 43.30it/s, loss=0.285, acc=77.7]"
      }
     },
     "68095b4a5c474af19651823444a0dc51": {
      "model_module": "@jupyter-widgets/controls",
      "model_module_version": "2.0.0",
      "model_name": "HTMLStyleModel",
      "state": {
       "description_width": "",
       "font_size": null,
       "text_color": null
      }
     },
     "682d84bff55844918e00680ce4fd3473": {
      "model_module": "@jupyter-widgets/controls",
      "model_module_version": "2.0.0",
      "model_name": "HBoxModel",
      "state": {
       "children": [
        "IPY_MODEL_27717f43e4574f29a621cc4daec0ea20",
        "IPY_MODEL_622979999cf74612b3fc02d24076bb91",
        "IPY_MODEL_d700dca867da47c28fefb32c1b847088"
       ],
       "layout": "IPY_MODEL_075602bc7af442a6abfd7c1668fe9c80"
      }
     },
     "689ea4042e7b4797ada441f700b10fd7": {
      "model_module": "@jupyter-widgets/controls",
      "model_module_version": "2.0.0",
      "model_name": "HTMLStyleModel",
      "state": {
       "description_width": "",
       "font_size": null,
       "text_color": null
      }
     },
     "68fd171a9387446fb9ddcec0b416e60a": {
      "model_module": "@jupyter-widgets/controls",
      "model_module_version": "2.0.0",
      "model_name": "HTMLModel",
      "state": {
       "layout": "IPY_MODEL_8f0d3da9dbcf4259856a455d1d4bce95",
       "style": "IPY_MODEL_07a37208b5fe449096b6daefd6f7db69",
       "value": "Validating: 100%"
      }
     },
     "690f9e9c278b423087bb1d9ab0798e8b": {
      "model_module": "@jupyter-widgets/controls",
      "model_module_version": "2.0.0",
      "model_name": "FloatProgressModel",
      "state": {
       "layout": "IPY_MODEL_0ab54be52f5d42339034164e72455d78",
       "max": 90,
       "style": "IPY_MODEL_900d34e1cd2241e1a4b7b0760fb5de5d",
       "value": 90
      }
     },
     "6928a84f44a7464bad09d579c0408119": {
      "model_module": "@jupyter-widgets/base",
      "model_module_version": "2.0.0",
      "model_name": "LayoutModel",
      "state": {}
     },
     "696ebe249d624eb6aa3527916aae727d": {
      "model_module": "@jupyter-widgets/base",
      "model_module_version": "2.0.0",
      "model_name": "LayoutModel",
      "state": {}
     },
     "69731ef0eed34ba887b3d056ef2160a6": {
      "model_module": "@jupyter-widgets/controls",
      "model_module_version": "2.0.0",
      "model_name": "FloatProgressModel",
      "state": {
       "layout": "IPY_MODEL_c10073fbbde647aeb733e619e4d5958c",
       "max": 90,
       "style": "IPY_MODEL_991e4ad4a31a4c7db48bc300a718ffe3",
       "value": 90
      }
     },
     "69b3984b49294736addeed45bcbe9392": {
      "model_module": "@jupyter-widgets/controls",
      "model_module_version": "2.0.0",
      "model_name": "HTMLModel",
      "state": {
       "layout": "IPY_MODEL_2fd45dfe3d5a417b8eea8e560ae3cc75",
       "style": "IPY_MODEL_a5a8f466401a465e96fd740e122679ed",
       "value": " 90/90 [03:42&lt;00:00, 43.33it/s, loss=0.304, acc=72.8]"
      }
     },
     "69ecd3e9110f46408a9816b3f63d58d2": {
      "model_module": "@jupyter-widgets/controls",
      "model_module_version": "2.0.0",
      "model_name": "HTMLStyleModel",
      "state": {
       "description_width": "",
       "font_size": null,
       "text_color": null
      }
     },
     "69f73b3ddb404432bcb19ca3e357c456": {
      "model_module": "@jupyter-widgets/base",
      "model_module_version": "2.0.0",
      "model_name": "LayoutModel",
      "state": {
       "flex": "2"
      }
     },
     "6a24016338d4487ea1121e5dd25ec7d7": {
      "model_module": "@jupyter-widgets/base",
      "model_module_version": "2.0.0",
      "model_name": "LayoutModel",
      "state": {}
     },
     "6a48593e8bc14d508d43683747fa396d": {
      "model_module": "@jupyter-widgets/controls",
      "model_module_version": "2.0.0",
      "model_name": "HTMLStyleModel",
      "state": {
       "description_width": "",
       "font_size": null,
       "text_color": null
      }
     },
     "6a6460049a024da8a5f4a0933d19e4bc": {
      "model_module": "@jupyter-widgets/controls",
      "model_module_version": "2.0.0",
      "model_name": "HTMLStyleModel",
      "state": {
       "description_width": "",
       "font_size": null,
       "text_color": null
      }
     },
     "6a97500a1fe146fd8bc982dda46e1543": {
      "model_module": "@jupyter-widgets/controls",
      "model_module_version": "2.0.0",
      "model_name": "HTMLStyleModel",
      "state": {
       "description_width": "",
       "font_size": null,
       "text_color": null
      }
     },
     "6aa32d0426ed4115b283bf15a202416c": {
      "model_module": "@jupyter-widgets/controls",
      "model_module_version": "2.0.0",
      "model_name": "HTMLStyleModel",
      "state": {
       "description_width": "",
       "font_size": null,
       "text_color": null
      }
     },
     "6acbbb082e3c4fd8901953a3003d1372": {
      "model_module": "@jupyter-widgets/controls",
      "model_module_version": "2.0.0",
      "model_name": "HTMLModel",
      "state": {
       "layout": "IPY_MODEL_bd6264efc9744bb9b4aa9b0000e53f51",
       "style": "IPY_MODEL_eb6a3c44edbe4074a297948254cb7bd6",
       "value": " 90/90 [00:02&lt;00:00, 43.17it/s, loss=0.467, acc=73.9]"
      }
     },
     "6af3cc7849214005981e29ff49711084": {
      "model_module": "@jupyter-widgets/controls",
      "model_module_version": "2.0.0",
      "model_name": "HTMLStyleModel",
      "state": {
       "description_width": "",
       "font_size": null,
       "text_color": null
      }
     },
     "6afef8e2e827494f8e20031ab4679f86": {
      "model_module": "@jupyter-widgets/controls",
      "model_module_version": "2.0.0",
      "model_name": "ProgressStyleModel",
      "state": {
       "description_width": ""
      }
     },
     "6bbb78f957b04bef9227bb8d3c38c835": {
      "model_module": "@jupyter-widgets/base",
      "model_module_version": "2.0.0",
      "model_name": "LayoutModel",
      "state": {}
     },
     "6bbccded7aae411485b0b74d35562ec8": {
      "model_module": "@jupyter-widgets/base",
      "model_module_version": "2.0.0",
      "model_name": "LayoutModel",
      "state": {}
     },
     "6bd04682c1454570aa5ad2ca24bdbdbb": {
      "model_module": "@jupyter-widgets/base",
      "model_module_version": "2.0.0",
      "model_name": "LayoutModel",
      "state": {}
     },
     "6cb1eb38abdd4546ab1260b0031876df": {
      "model_module": "@jupyter-widgets/controls",
      "model_module_version": "2.0.0",
      "model_name": "HTMLStyleModel",
      "state": {
       "description_width": "",
       "font_size": null,
       "text_color": null
      }
     },
     "6d454a3f2f994a4eac94128f12b6ef82": {
      "model_module": "@jupyter-widgets/base",
      "model_module_version": "2.0.0",
      "model_name": "LayoutModel",
      "state": {
       "display": "inline-flex",
       "flex_flow": "row wrap",
       "width": "100%"
      }
     },
     "6db624f56f324f129828db67b1d8f5f2": {
      "model_module": "@jupyter-widgets/controls",
      "model_module_version": "2.0.0",
      "model_name": "HTMLModel",
      "state": {
       "layout": "IPY_MODEL_9dd17cc73bef4d08b1fdad86cf344555",
       "style": "IPY_MODEL_d4ef13fa31814c7993df1677104e82e3",
       "value": "Predicting: 100%"
      }
     },
     "6dd1ee0f9086457b84b0a1132e0a6ab9": {
      "model_module": "@jupyter-widgets/controls",
      "model_module_version": "2.0.0",
      "model_name": "HTMLStyleModel",
      "state": {
       "description_width": "",
       "font_size": null,
       "text_color": null
      }
     },
     "6de5ba622a234301a1988c8a409c552e": {
      "model_module": "@jupyter-widgets/controls",
      "model_module_version": "2.0.0",
      "model_name": "FloatProgressModel",
      "state": {
       "layout": "IPY_MODEL_1cf4e724923040caaa712bbb4d595ee5",
       "max": 90,
       "style": "IPY_MODEL_76da521fc6d64ad2b2be87143d4524aa",
       "value": 90
      }
     },
     "6e05369a480f48cca164ec990565ac49": {
      "model_module": "@jupyter-widgets/base",
      "model_module_version": "2.0.0",
      "model_name": "LayoutModel",
      "state": {}
     },
     "6e8eb0429dff4074b0e120dbb5d21b51": {
      "model_module": "@jupyter-widgets/controls",
      "model_module_version": "2.0.0",
      "model_name": "HTMLModel",
      "state": {
       "layout": "IPY_MODEL_bb2f7ceb90ca4997b0b2b306bf7a949f",
       "style": "IPY_MODEL_9f12919fd7f14a0fa0e222a6925096f3",
       "value": "Validating: 100%"
      }
     },
     "6e9a27ae02ad4438bb4687b2ea41a4f6": {
      "model_module": "@jupyter-widgets/controls",
      "model_module_version": "2.0.0",
      "model_name": "HTMLModel",
      "state": {
       "layout": "IPY_MODEL_6a24016338d4487ea1121e5dd25ec7d7",
       "style": "IPY_MODEL_32a7a64bdd0c46bf8e732052f5efbe03",
       "value": " 90/90 [00:02&lt;00:00, 42.99it/s, loss=0.339, acc=80]"
      }
     },
     "6ecd4febeff9477a82af07ae54fd159e": {
      "model_module": "@jupyter-widgets/base",
      "model_module_version": "2.0.0",
      "model_name": "LayoutModel",
      "state": {}
     },
     "6ee885e0433f438dac13f083317d150f": {
      "model_module": "@jupyter-widgets/controls",
      "model_module_version": "2.0.0",
      "model_name": "HTMLStyleModel",
      "state": {
       "description_width": "",
       "font_size": null,
       "text_color": null
      }
     },
     "6f0dbaadcd5d436194b5b97cef1f41f0": {
      "model_module": "@jupyter-widgets/controls",
      "model_module_version": "2.0.0",
      "model_name": "ProgressStyleModel",
      "state": {
       "description_width": ""
      }
     },
     "6f1f7578e91e4fa081818b86de928a42": {
      "model_module": "@jupyter-widgets/controls",
      "model_module_version": "2.0.0",
      "model_name": "ProgressStyleModel",
      "state": {
       "description_width": ""
      }
     },
     "6f2a1c7a6a2d4504919b8216093e2bf4": {
      "model_module": "@jupyter-widgets/controls",
      "model_module_version": "2.0.0",
      "model_name": "HTMLModel",
      "state": {
       "layout": "IPY_MODEL_ea05ff32d999426fa2d27ec0cbfaa39d",
       "style": "IPY_MODEL_f9b0821c0b3b46ce9822c7718c938044",
       "value": " 90/90 [00:02&lt;00:00, 43.04it/s, loss=0.286, acc=77.8]"
      }
     },
     "6f2c1c8e91f648168262508e9c49ea89": {
      "model_module": "@jupyter-widgets/base",
      "model_module_version": "2.0.0",
      "model_name": "LayoutModel",
      "state": {
       "display": "inline-flex",
       "flex_flow": "row wrap",
       "width": "100%"
      }
     },
     "6f4efb95b4a14ee9b9b8cd8e2ce25a0a": {
      "model_module": "@jupyter-widgets/base",
      "model_module_version": "2.0.0",
      "model_name": "LayoutModel",
      "state": {
       "display": "inline-flex",
       "flex_flow": "row wrap",
       "width": "100%"
      }
     },
     "6fa04ddd2da040c68bfc1c9b15fea904": {
      "model_module": "@jupyter-widgets/controls",
      "model_module_version": "2.0.0",
      "model_name": "HTMLStyleModel",
      "state": {
       "description_width": "",
       "font_size": null,
       "text_color": null
      }
     },
     "6fdc69b28b9d4a8d94dc144a3a56d008": {
      "model_module": "@jupyter-widgets/controls",
      "model_module_version": "2.0.0",
      "model_name": "HTMLModel",
      "state": {
       "layout": "IPY_MODEL_a763bad8df214ad6a22a296f85fc0bbb",
       "style": "IPY_MODEL_c3b28ca14c89458497ac90f074baf108",
       "value": " 90/90 [00:29&lt;00:00, 43.12it/s, loss=0.282, acc=77.9]"
      }
     },
     "6febe65b116b441592ab4001d62d8b66": {
      "model_module": "@jupyter-widgets/controls",
      "model_module_version": "2.0.0",
      "model_name": "ProgressStyleModel",
      "state": {
       "description_width": ""
      }
     },
     "7029c28b7c1443f9a924773e23adeffc": {
      "model_module": "@jupyter-widgets/base",
      "model_module_version": "2.0.0",
      "model_name": "LayoutModel",
      "state": {
       "flex": "2"
      }
     },
     "7036859a052e4f029a337c0ba2764b6e": {
      "model_module": "@jupyter-widgets/controls",
      "model_module_version": "2.0.0",
      "model_name": "FloatProgressModel",
      "state": {
       "layout": "IPY_MODEL_211639f0fb204ad5b80e9ed4c7e9630b",
       "max": 90,
       "style": "IPY_MODEL_4ec3ebb8871c454ca61b67af4736f6c9",
       "value": 90
      }
     },
     "706771d045ef47e1b7ca7561da716162": {
      "model_module": "@jupyter-widgets/controls",
      "model_module_version": "2.0.0",
      "model_name": "ProgressStyleModel",
      "state": {
       "description_width": ""
      }
     },
     "708056db0cf040e78b2d75b31115bfd6": {
      "model_module": "@jupyter-widgets/controls",
      "model_module_version": "2.0.0",
      "model_name": "HBoxModel",
      "state": {
       "children": [
        "IPY_MODEL_1f489de6c0884c5085c642edf009e543",
        "IPY_MODEL_b35a1f5375714cbcb81f2f616d4a7a59",
        "IPY_MODEL_cfde0b45faf04cc6ac09913d0109f1a5"
       ],
       "layout": "IPY_MODEL_25d9f52155d545aaa29b59a26908b95d"
      }
     },
     "70ea6ac7e59941bfb1e3734c268d42eb": {
      "model_module": "@jupyter-widgets/base",
      "model_module_version": "2.0.0",
      "model_name": "LayoutModel",
      "state": {
       "display": "inline-flex",
       "flex_flow": "row wrap",
       "width": "100%"
      }
     },
     "70ee0a12f9be4c9f8a88280531725339": {
      "model_module": "@jupyter-widgets/controls",
      "model_module_version": "2.0.0",
      "model_name": "HTMLModel",
      "state": {
       "layout": "IPY_MODEL_e9b6eba6da3d49b491aefa177a90aff4",
       "style": "IPY_MODEL_6730f3842ffb4d9e99f3a3c3f43535d6",
       "value": "Validating: 100%"
      }
     },
     "7122ae4be42d4f0f8c7b943948eddc68": {
      "model_module": "@jupyter-widgets/controls",
      "model_module_version": "2.0.0",
      "model_name": "ProgressStyleModel",
      "state": {
       "description_width": ""
      }
     },
     "7142f4bbe5334c959de04744aba74e21": {
      "model_module": "@jupyter-widgets/base",
      "model_module_version": "2.0.0",
      "model_name": "LayoutModel",
      "state": {
       "display": "inline-flex",
       "flex_flow": "row wrap",
       "width": "100%"
      }
     },
     "71a1003daa54471abf685413dbbf7fef": {
      "model_module": "@jupyter-widgets/base",
      "model_module_version": "2.0.0",
      "model_name": "LayoutModel",
      "state": {
       "display": "inline-flex",
       "flex_flow": "row wrap",
       "width": "100%"
      }
     },
     "71bd6b2f636f4dbfb480697fb2464afa": {
      "model_module": "@jupyter-widgets/controls",
      "model_module_version": "2.0.0",
      "model_name": "HBoxModel",
      "state": {
       "children": [
        "IPY_MODEL_fc57b21dbf704bda91898bee937eb284",
        "IPY_MODEL_3cda8a90c1584c99b50bad949903d8f2",
        "IPY_MODEL_f3fa11d3e8e94765938137238194d972"
       ],
       "layout": "IPY_MODEL_e69e5a0ca4884ecebb8b7a412b22a697"
      }
     },
     "71f0f0ba3a0b4f4aa123f8c17450db7a": {
      "model_module": "@jupyter-widgets/base",
      "model_module_version": "2.0.0",
      "model_name": "LayoutModel",
      "state": {
       "display": "inline-flex",
       "flex_flow": "row wrap",
       "width": "100%"
      }
     },
     "71fcf05b43bb47adb31405b22e90b958": {
      "model_module": "@jupyter-widgets/base",
      "model_module_version": "2.0.0",
      "model_name": "LayoutModel",
      "state": {
       "display": "inline-flex",
       "flex_flow": "row wrap",
       "width": "100%"
      }
     },
     "726b203c2e42437b8842c2314fb5eead": {
      "model_module": "@jupyter-widgets/controls",
      "model_module_version": "2.0.0",
      "model_name": "ProgressStyleModel",
      "state": {
       "description_width": ""
      }
     },
     "72d4ef5d6aa34316887035398d4d8715": {
      "model_module": "@jupyter-widgets/base",
      "model_module_version": "2.0.0",
      "model_name": "LayoutModel",
      "state": {}
     },
     "72d64ce0aeed4c7ea24851d0a88d2790": {
      "model_module": "@jupyter-widgets/controls",
      "model_module_version": "2.0.0",
      "model_name": "ProgressStyleModel",
      "state": {
       "description_width": ""
      }
     },
     "7370cf64353f4ff5b694c3a0f56db908": {
      "model_module": "@jupyter-widgets/controls",
      "model_module_version": "2.0.0",
      "model_name": "HTMLModel",
      "state": {
       "layout": "IPY_MODEL_fbe53743f7584bf7be4f0dd15a3ab819",
       "style": "IPY_MODEL_00154aad1f1b4832a2b4d994eafe1572",
       "value": "Validating: 100%"
      }
     },
     "73743a1a68e540a5bc28a40d792ceb73": {
      "model_module": "@jupyter-widgets/base",
      "model_module_version": "2.0.0",
      "model_name": "LayoutModel",
      "state": {}
     },
     "73b5d0dbeaf04f7d9c7f9b3f1184df7c": {
      "model_module": "@jupyter-widgets/base",
      "model_module_version": "2.0.0",
      "model_name": "LayoutModel",
      "state": {
       "flex": "2"
      }
     },
     "73ccfcf5045a4cafae08d98fd7bf68e6": {
      "model_module": "@jupyter-widgets/controls",
      "model_module_version": "2.0.0",
      "model_name": "HTMLStyleModel",
      "state": {
       "description_width": "",
       "font_size": null,
       "text_color": null
      }
     },
     "741a029f6be449f99a2401716b22b2fb": {
      "model_module": "@jupyter-widgets/controls",
      "model_module_version": "2.0.0",
      "model_name": "HTMLModel",
      "state": {
       "layout": "IPY_MODEL_e40cb408b52345e595b994108ec0b164",
       "style": "IPY_MODEL_ade5c90e1a6b4405b2af96afd975d335",
       "value": " 90/90 [00:02&lt;00:00, 43.08it/s, loss=0.362, acc=79.7]"
      }
     },
     "743c3f5a8d4244c195a33cc893cc436a": {
      "model_module": "@jupyter-widgets/controls",
      "model_module_version": "2.0.0",
      "model_name": "FloatProgressModel",
      "state": {
       "layout": "IPY_MODEL_432620fcdfad457fa9cdef688bb7d154",
       "max": 90,
       "style": "IPY_MODEL_ba2b78fb66e1415dbc95def4feb3d892",
       "value": 90
      }
     },
     "747081ff70d64cf68afc7a9bf59bcea1": {
      "model_module": "@jupyter-widgets/controls",
      "model_module_version": "2.0.0",
      "model_name": "HTMLStyleModel",
      "state": {
       "description_width": "",
       "font_size": null,
       "text_color": null
      }
     },
     "7482a7f0168143cba692318c03bb85ed": {
      "model_module": "@jupyter-widgets/base",
      "model_module_version": "2.0.0",
      "model_name": "LayoutModel",
      "state": {
       "display": "inline-flex",
       "flex_flow": "row wrap",
       "width": "100%"
      }
     },
     "7488790d0c4240db9548011c8c3a4451": {
      "model_module": "@jupyter-widgets/controls",
      "model_module_version": "2.0.0",
      "model_name": "HTMLModel",
      "state": {
       "layout": "IPY_MODEL_769e9fbbcf41463eb94694165a7a4fec",
       "style": "IPY_MODEL_a76cdd25215841bd82117e9d4a98dfc9",
       "value": " 90/90 [00:02&lt;00:00, 43.29it/s, loss=0.361, acc=78.7]"
      }
     },
     "750f487810934f1fa262665e3f307361": {
      "model_module": "@jupyter-widgets/controls",
      "model_module_version": "2.0.0",
      "model_name": "HTMLModel",
      "state": {
       "layout": "IPY_MODEL_4fde6e820ac34c8d8d7b73fa9de6405e",
       "style": "IPY_MODEL_7f8a623f4fdc4a6e9b9a9b54c2a3a118",
       "value": " 90/90 [00:02&lt;00:00, 39.84it/s, loss=0.343, acc=80.3]"
      }
     },
     "751283cbb49044518bae4981e8fadb71": {
      "model_module": "@jupyter-widgets/base",
      "model_module_version": "2.0.0",
      "model_name": "LayoutModel",
      "state": {
       "flex": "2"
      }
     },
     "75230e3ac4404809a85f914a2892b2db": {
      "model_module": "@jupyter-widgets/controls",
      "model_module_version": "2.0.0",
      "model_name": "FloatProgressModel",
      "state": {
       "layout": "IPY_MODEL_5399746118ee42d6b512d79e17ad499d",
       "max": 90,
       "style": "IPY_MODEL_14c647bd0c8f449692147fc69db29c80",
       "value": 90
      }
     },
     "756bc7aafc3b4b5397da841d3532f702": {
      "model_module": "@jupyter-widgets/controls",
      "model_module_version": "2.0.0",
      "model_name": "HTMLStyleModel",
      "state": {
       "description_width": "",
       "font_size": null,
       "text_color": null
      }
     },
     "7585b0c8a0ec438787d994cd5dba1045": {
      "model_module": "@jupyter-widgets/controls",
      "model_module_version": "2.0.0",
      "model_name": "HTMLModel",
      "state": {
       "layout": "IPY_MODEL_c3ee729f37144439a4aa841dc73e2629",
       "style": "IPY_MODEL_16d61f4ab7cb4d208236e96656efffe2",
       "value": "Fold: 3  Epoch: 10/10: 100%"
      }
     },
     "76163241d97b49eeb15a48e2b076404d": {
      "model_module": "@jupyter-widgets/controls",
      "model_module_version": "2.0.0",
      "model_name": "ProgressStyleModel",
      "state": {
       "description_width": ""
      }
     },
     "763d8daaf69a4b9d87e300f37ae83a7c": {
      "model_module": "@jupyter-widgets/controls",
      "model_module_version": "2.0.0",
      "model_name": "ProgressStyleModel",
      "state": {
       "description_width": ""
      }
     },
     "76593348e64c486fac609dcbbf18d0e3": {
      "model_module": "@jupyter-widgets/base",
      "model_module_version": "2.0.0",
      "model_name": "LayoutModel",
      "state": {
       "flex": "2"
      }
     },
     "76728b33cb4245cb999aeaefdd229689": {
      "model_module": "@jupyter-widgets/controls",
      "model_module_version": "2.0.0",
      "model_name": "HTMLStyleModel",
      "state": {
       "description_width": "",
       "font_size": null,
       "text_color": null
      }
     },
     "769e9fbbcf41463eb94694165a7a4fec": {
      "model_module": "@jupyter-widgets/base",
      "model_module_version": "2.0.0",
      "model_name": "LayoutModel",
      "state": {}
     },
     "76bcf17167a34d76a344638504030975": {
      "model_module": "@jupyter-widgets/controls",
      "model_module_version": "2.0.0",
      "model_name": "HTMLStyleModel",
      "state": {
       "description_width": "",
       "font_size": null,
       "text_color": null
      }
     },
     "76cbb9dcbdf547f18e127a258d932396": {
      "model_module": "@jupyter-widgets/base",
      "model_module_version": "2.0.0",
      "model_name": "LayoutModel",
      "state": {}
     },
     "76da521fc6d64ad2b2be87143d4524aa": {
      "model_module": "@jupyter-widgets/controls",
      "model_module_version": "2.0.0",
      "model_name": "ProgressStyleModel",
      "state": {
       "description_width": ""
      }
     },
     "76f15f7405e9441197cb5de4230c4b06": {
      "model_module": "@jupyter-widgets/controls",
      "model_module_version": "2.0.0",
      "model_name": "HTMLModel",
      "state": {
       "layout": "IPY_MODEL_25355fb00a524012925996479c67f17b",
       "style": "IPY_MODEL_5a8c4ad8108041868070053480820365",
       "value": " 90/90 [00:21&lt;00:00, 43.00it/s, loss=0.299, acc=75.3]"
      }
     },
     "7712c51f7b1d47da9fc8581b56cd965b": {
      "model_module": "@jupyter-widgets/controls",
      "model_module_version": "2.0.0",
      "model_name": "HTMLModel",
      "state": {
       "layout": "IPY_MODEL_4895dd35d07d4f4382b7b2480eceb7a5",
       "style": "IPY_MODEL_7cf9be8f1b74450786895fd425beee64",
       "value": "Validating: 100%"
      }
     },
     "77d0c3e5a802429a9f81a6582b8860b3": {
      "model_module": "@jupyter-widgets/base",
      "model_module_version": "2.0.0",
      "model_name": "LayoutModel",
      "state": {}
     },
     "781d0c90e4a04e0786a950775689be0c": {
      "model_module": "@jupyter-widgets/controls",
      "model_module_version": "2.0.0",
      "model_name": "HTMLModel",
      "state": {
       "layout": "IPY_MODEL_ffd98a04c2d94806b7b4f920692a31cc",
       "style": "IPY_MODEL_4b06c3e5825443a0b564c9be05eee57a",
       "value": "Validating: 100%"
      }
     },
     "7827d2eeb9a349fbbd3acbf97b30abed": {
      "model_module": "@jupyter-widgets/base",
      "model_module_version": "2.0.0",
      "model_name": "LayoutModel",
      "state": {
       "flex": "2"
      }
     },
     "788f9f31264a44939b306c76c982bf85": {
      "model_module": "@jupyter-widgets/controls",
      "model_module_version": "2.0.0",
      "model_name": "HTMLModel",
      "state": {
       "layout": "IPY_MODEL_85a65a7212ef43ef86daf30003d4799c",
       "style": "IPY_MODEL_de377fda7b684e3ab5b185ed371a4611",
       "value": " 90/90 [00:02&lt;00:00, 39.90it/s, loss=0.449, acc=74.8]"
      }
     },
     "78a291050d1740ae82b05d7d2abb1708": {
      "model_module": "@jupyter-widgets/base",
      "model_module_version": "2.0.0",
      "model_name": "LayoutModel",
      "state": {}
     },
     "78dc894ee8384057a92caae3ab28d415": {
      "model_module": "@jupyter-widgets/base",
      "model_module_version": "2.0.0",
      "model_name": "LayoutModel",
      "state": {
       "flex": "2"
      }
     },
     "78e69d28379342e9886e56e07cbab37e": {
      "model_module": "@jupyter-widgets/controls",
      "model_module_version": "2.0.0",
      "model_name": "FloatProgressModel",
      "state": {
       "layout": "IPY_MODEL_e57a91eb025b455b8efaf9c4847a564b",
       "max": 90,
       "style": "IPY_MODEL_188e094420bb4315b2518ed0847fc4f8",
       "value": 90
      }
     },
     "78f822c0df6849a8a1d3c056ee7620ee": {
      "model_module": "@jupyter-widgets/base",
      "model_module_version": "2.0.0",
      "model_name": "LayoutModel",
      "state": {}
     },
     "79219ffffe5d4d4d946ff4c19f148d14": {
      "model_module": "@jupyter-widgets/base",
      "model_module_version": "2.0.0",
      "model_name": "LayoutModel",
      "state": {}
     },
     "793e5d6faf134a0ea8a0c4d100b673e3": {
      "model_module": "@jupyter-widgets/controls",
      "model_module_version": "2.0.0",
      "model_name": "HTMLModel",
      "state": {
       "layout": "IPY_MODEL_189729b7b0f2416d80e48e0392f6fe62",
       "style": "IPY_MODEL_c20acc4126b145868fae6fc9385d602c",
       "value": " 90/90 [00:15&lt;00:00, 43.28it/s, loss=0.293, acc=76.7]"
      }
     },
     "79d59fef995045b98a8892644b9109b8": {
      "model_module": "@jupyter-widgets/base",
      "model_module_version": "2.0.0",
      "model_name": "LayoutModel",
      "state": {}
     },
     "7a7fca23da7f4d1b86a9ba297f6ef56f": {
      "model_module": "@jupyter-widgets/controls",
      "model_module_version": "2.0.0",
      "model_name": "HTMLModel",
      "state": {
       "layout": "IPY_MODEL_b68e75bc01cb408897718e26659b632f",
       "style": "IPY_MODEL_06bac3f1af034b4c8977229ca8f640d9",
       "value": "Validating: 100%"
      }
     },
     "7b527e33721d42099997543d1319294f": {
      "model_module": "@jupyter-widgets/base",
      "model_module_version": "2.0.0",
      "model_name": "LayoutModel",
      "state": {
       "display": "inline-flex",
       "flex_flow": "row wrap",
       "width": "100%"
      }
     },
     "7b543c45d72649c1a3a11ae662d5a5f9": {
      "model_module": "@jupyter-widgets/controls",
      "model_module_version": "2.0.0",
      "model_name": "ProgressStyleModel",
      "state": {
       "description_width": ""
      }
     },
     "7b7111d54f9d425da64a324f0aa0a704": {
      "model_module": "@jupyter-widgets/controls",
      "model_module_version": "2.0.0",
      "model_name": "ProgressStyleModel",
      "state": {
       "description_width": ""
      }
     },
     "7b88901f89d7427094d0d73826209fc4": {
      "model_module": "@jupyter-widgets/controls",
      "model_module_version": "2.0.0",
      "model_name": "ProgressStyleModel",
      "state": {
       "description_width": ""
      }
     },
     "7b8d0016b0884ee8a50f14bfbea640c1": {
      "model_module": "@jupyter-widgets/controls",
      "model_module_version": "2.0.0",
      "model_name": "HTMLStyleModel",
      "state": {
       "description_width": "",
       "font_size": null,
       "text_color": null
      }
     },
     "7bacb595b1cf45d8b194ca7663cb4a93": {
      "model_module": "@jupyter-widgets/controls",
      "model_module_version": "2.0.0",
      "model_name": "FloatProgressModel",
      "state": {
       "layout": "IPY_MODEL_faa2240697b94d44951444b56f3dafa6",
       "max": 90,
       "style": "IPY_MODEL_4b3459b54eb64988b5a9719dfdb59bab",
       "value": 90
      }
     },
     "7bc5bf3be63645aa93258ee76cf57811": {
      "model_module": "@jupyter-widgets/base",
      "model_module_version": "2.0.0",
      "model_name": "LayoutModel",
      "state": {
       "flex": "2"
      }
     },
     "7c0bf81bcb71405eafb64baa3239984e": {
      "model_module": "@jupyter-widgets/controls",
      "model_module_version": "2.0.0",
      "model_name": "ProgressStyleModel",
      "state": {
       "description_width": ""
      }
     },
     "7c25228138f748168589c5cb6560d3ef": {
      "model_module": "@jupyter-widgets/controls",
      "model_module_version": "2.0.0",
      "model_name": "HTMLModel",
      "state": {
       "layout": "IPY_MODEL_01c1cd1d53fc4c0e968ad29e7def3d27",
       "style": "IPY_MODEL_3bf277efa59b438693acf635ba39106b",
       "value": " 90/90 [00:02&lt;00:00, 39.92it/s, loss=0.378, acc=77.9]"
      }
     },
     "7c25ea2f20174fa586e3b5269eec4e26": {
      "model_module": "@jupyter-widgets/controls",
      "model_module_version": "2.0.0",
      "model_name": "HTMLStyleModel",
      "state": {
       "description_width": "",
       "font_size": null,
       "text_color": null
      }
     },
     "7c278c0b9cef41c58c8ede4d777af5b4": {
      "model_module": "@jupyter-widgets/controls",
      "model_module_version": "2.0.0",
      "model_name": "HTMLStyleModel",
      "state": {
       "description_width": "",
       "font_size": null,
       "text_color": null
      }
     },
     "7c89d8dd27424d1095c9a02589cfda7f": {
      "model_module": "@jupyter-widgets/controls",
      "model_module_version": "2.0.0",
      "model_name": "HTMLModel",
      "state": {
       "layout": "IPY_MODEL_860c15bd081446f19f12813a536d40c1",
       "style": "IPY_MODEL_3e4787f9801e4f28a670b6da782be920",
       "value": " 90/90 [00:02&lt;00:00, 42.88it/s, loss=0.408, acc=77.2]"
      }
     },
     "7cf9be8f1b74450786895fd425beee64": {
      "model_module": "@jupyter-widgets/controls",
      "model_module_version": "2.0.0",
      "model_name": "HTMLStyleModel",
      "state": {
       "description_width": "",
       "font_size": null,
       "text_color": null
      }
     },
     "7d229d4c47844578918f5742d019ea9a": {
      "model_module": "@jupyter-widgets/controls",
      "model_module_version": "2.0.0",
      "model_name": "HTMLStyleModel",
      "state": {
       "description_width": "",
       "font_size": null,
       "text_color": null
      }
     },
     "7d6144811db34c028640069248513e7d": {
      "model_module": "@jupyter-widgets/controls",
      "model_module_version": "2.0.0",
      "model_name": "ProgressStyleModel",
      "state": {
       "description_width": ""
      }
     },
     "7d74ff1926c8412aa86861b1ab9014b7": {
      "model_module": "@jupyter-widgets/controls",
      "model_module_version": "2.0.0",
      "model_name": "HTMLModel",
      "state": {
       "layout": "IPY_MODEL_d96ed2269a9f42b0806191879ae3fa0f",
       "style": "IPY_MODEL_1950c68e6e7f4da1923002f87abce798",
       "value": "Predicting: 100%"
      }
     },
     "7d84db93781d40068b3a9aa7ef583a23": {
      "model_module": "@jupyter-widgets/controls",
      "model_module_version": "2.0.0",
      "model_name": "HTMLStyleModel",
      "state": {
       "description_width": "",
       "font_size": null,
       "text_color": null
      }
     },
     "7e1e890aedf14bab928bb333081bf16f": {
      "model_module": "@jupyter-widgets/controls",
      "model_module_version": "2.0.0",
      "model_name": "FloatProgressModel",
      "state": {
       "layout": "IPY_MODEL_b1f707e565224a91b4951b7e973d8714",
       "max": 3580,
       "style": "IPY_MODEL_864fa695fdc74096aff1f467204e45bf",
       "value": 358
      }
     },
     "7e77048092794c78a1bc84659f711d4a": {
      "model_module": "@jupyter-widgets/base",
      "model_module_version": "2.0.0",
      "model_name": "LayoutModel",
      "state": {}
     },
     "7ed4a0637a4a49a68b786ead54cea327": {
      "model_module": "@jupyter-widgets/base",
      "model_module_version": "2.0.0",
      "model_name": "LayoutModel",
      "state": {
       "flex": "2"
      }
     },
     "7ef997c6d435472da20f413cd659da19": {
      "model_module": "@jupyter-widgets/controls",
      "model_module_version": "2.0.0",
      "model_name": "FloatProgressModel",
      "state": {
       "layout": "IPY_MODEL_b83c766186b44f288fd99224ebe96fec",
       "max": 90,
       "style": "IPY_MODEL_8d9b055bf8654de7b3fbff60c1c146f8",
       "value": 90
      }
     },
     "7f204f996b6d4bcfb32399f41abf8791": {
      "model_module": "@jupyter-widgets/base",
      "model_module_version": "2.0.0",
      "model_name": "LayoutModel",
      "state": {
       "flex": "2"
      }
     },
     "7f4a38e99c06466996902ae8cda2b92a": {
      "model_module": "@jupyter-widgets/base",
      "model_module_version": "2.0.0",
      "model_name": "LayoutModel",
      "state": {
       "display": "inline-flex",
       "flex_flow": "row wrap",
       "width": "100%"
      }
     },
     "7f76b17db681433ca872ed616e85382f": {
      "model_module": "@jupyter-widgets/base",
      "model_module_version": "2.0.0",
      "model_name": "LayoutModel",
      "state": {}
     },
     "7f89436423a84cdabe65c82297481572": {
      "model_module": "@jupyter-widgets/base",
      "model_module_version": "2.0.0",
      "model_name": "LayoutModel",
      "state": {}
     },
     "7f8a623f4fdc4a6e9b9a9b54c2a3a118": {
      "model_module": "@jupyter-widgets/controls",
      "model_module_version": "2.0.0",
      "model_name": "HTMLStyleModel",
      "state": {
       "description_width": "",
       "font_size": null,
       "text_color": null
      }
     },
     "80151812505548bab6b3799e116bcb97": {
      "model_module": "@jupyter-widgets/controls",
      "model_module_version": "2.0.0",
      "model_name": "FloatProgressModel",
      "state": {
       "bar_style": "success",
       "layout": "IPY_MODEL_58e6d151df8f4e93a93faeb54bf57fa0",
       "max": 3580,
       "style": "IPY_MODEL_9827ba7bd05e49bcae866410f10724df",
       "value": 3580
      }
     },
     "8046995f547c424f935da1e775645198": {
      "model_module": "@jupyter-widgets/controls",
      "model_module_version": "2.0.0",
      "model_name": "HTMLModel",
      "state": {
       "layout": "IPY_MODEL_25182f16156e4c6ab51344bd76e41996",
       "style": "IPY_MODEL_ad24118fe67c49e3a0b979ef0f9fde5c",
       "value": "Validating: 100%"
      }
     },
     "806ffd5d200443d695f42715973e0b6f": {
      "model_module": "@jupyter-widgets/controls",
      "model_module_version": "2.0.0",
      "model_name": "HTMLStyleModel",
      "state": {
       "description_width": "",
       "font_size": null,
       "text_color": null
      }
     },
     "80eadedf5c084056b3aaf814d15f742d": {
      "model_module": "@jupyter-widgets/controls",
      "model_module_version": "2.0.0",
      "model_name": "ProgressStyleModel",
      "state": {
       "description_width": ""
      }
     },
     "8137fe6cc4ca4501a058002a1d842797": {
      "model_module": "@jupyter-widgets/base",
      "model_module_version": "2.0.0",
      "model_name": "LayoutModel",
      "state": {
       "display": "inline-flex",
       "flex_flow": "row wrap",
       "width": "100%"
      }
     },
     "81822519fd3e4ba6a76a8de279e43c1e": {
      "model_module": "@jupyter-widgets/controls",
      "model_module_version": "2.0.0",
      "model_name": "FloatProgressModel",
      "state": {
       "layout": "IPY_MODEL_fb0b4f08d8324e46a5f37dc76a9937b6",
       "max": 90,
       "style": "IPY_MODEL_57a283784b5d4803a639f78ce362973a",
       "value": 90
      }
     },
     "81d0ecba0a0a4bcab99d5fe36ba5c86e": {
      "model_module": "@jupyter-widgets/controls",
      "model_module_version": "2.0.0",
      "model_name": "HTMLModel",
      "state": {
       "layout": "IPY_MODEL_0dda5e7dc3f148d0ba6d974324193c67",
       "style": "IPY_MODEL_1b4eb4f272da423c9103fa647a58bf34",
       "value": "Validating: 100%"
      }
     },
     "820fabce2eff4e128a73e3d7fbe2feb2": {
      "model_module": "@jupyter-widgets/controls",
      "model_module_version": "2.0.0",
      "model_name": "HTMLStyleModel",
      "state": {
       "description_width": "",
       "font_size": null,
       "text_color": null
      }
     },
     "82523c212fe941db9ecff55167a8af20": {
      "model_module": "@jupyter-widgets/controls",
      "model_module_version": "2.0.0",
      "model_name": "HTMLModel",
      "state": {
       "layout": "IPY_MODEL_c0597e773360493bb3808f0f31240954",
       "style": "IPY_MODEL_e62a9c81eb1a4cf5941a9b636a0d1ea4",
       "value": "Fold: 3  Epoch: 10/10: 100%"
      }
     },
     "82a2125fdfd848a889d58586b91dbb0e": {
      "model_module": "@jupyter-widgets/base",
      "model_module_version": "2.0.0",
      "model_name": "LayoutModel",
      "state": {
       "display": "inline-flex",
       "flex_flow": "row wrap",
       "width": "100%"
      }
     },
     "82a98e37c27646ce965bef1ebf2a1f9d": {
      "model_module": "@jupyter-widgets/controls",
      "model_module_version": "2.0.0",
      "model_name": "HTMLModel",
      "state": {
       "layout": "IPY_MODEL_21611e46bea041e28a1aaeef0c0f7c9d",
       "style": "IPY_MODEL_1b38a7d054284a6a9ffd0fb9dba0a713",
       "value": " 90/90 [00:05&lt;00:00, 18.36it/s]"
      }
     },
     "8342355f657145289d4382985e77befd": {
      "model_module": "@jupyter-widgets/base",
      "model_module_version": "2.0.0",
      "model_name": "LayoutModel",
      "state": {
       "display": "inline-flex",
       "flex_flow": "row wrap",
       "width": "100%"
      }
     },
     "83571aa7a8f94e1b8a220a573aa47047": {
      "model_module": "@jupyter-widgets/controls",
      "model_module_version": "2.0.0",
      "model_name": "HTMLModel",
      "state": {
       "layout": "IPY_MODEL_8e3ce08e8fee4bbe9cb7b1a71e13c937",
       "style": "IPY_MODEL_4bb86383fee74e92aacbefeb3eb9f46f",
       "value": "Fold: 0  Epoch: 10/10: 100%"
      }
     },
     "838bf96f15494796b6056ddd0a85c370": {
      "model_module": "@jupyter-widgets/controls",
      "model_module_version": "2.0.0",
      "model_name": "HTMLModel",
      "state": {
       "layout": "IPY_MODEL_ba87e741ce5a4fc5938e604e6ccca4e1",
       "style": "IPY_MODEL_76bcf17167a34d76a344638504030975",
       "value": " 90/90 [00:05&lt;00:00, 18.43it/s]"
      }
     },
     "83af526bab8b4663bab945fdb2831440": {
      "model_module": "@jupyter-widgets/controls",
      "model_module_version": "2.0.0",
      "model_name": "ProgressStyleModel",
      "state": {
       "description_width": ""
      }
     },
     "83e29ccd2e9d4b75a0608722d3ce83c8": {
      "model_module": "@jupyter-widgets/controls",
      "model_module_version": "2.0.0",
      "model_name": "HTMLStyleModel",
      "state": {
       "description_width": "",
       "font_size": null,
       "text_color": null
      }
     },
     "841bb0964ef5465e882310b8b8413ef7": {
      "model_module": "@jupyter-widgets/controls",
      "model_module_version": "2.0.0",
      "model_name": "HTMLStyleModel",
      "state": {
       "description_width": "",
       "font_size": null,
       "text_color": null
      }
     },
     "846c7b5d5f54476ba50928d8abe7e8d1": {
      "model_module": "@jupyter-widgets/base",
      "model_module_version": "2.0.0",
      "model_name": "LayoutModel",
      "state": {}
     },
     "849320d3263b48aa8f6e85d2c4072162": {
      "model_module": "@jupyter-widgets/base",
      "model_module_version": "2.0.0",
      "model_name": "LayoutModel",
      "state": {
       "display": "inline-flex",
       "flex_flow": "row wrap",
       "width": "100%"
      }
     },
     "84ef9d83f2f14946bf18ecb06e4e85db": {
      "model_module": "@jupyter-widgets/base",
      "model_module_version": "2.0.0",
      "model_name": "LayoutModel",
      "state": {}
     },
     "850c5dc337c14f1fb7797e57582891b8": {
      "model_module": "@jupyter-widgets/base",
      "model_module_version": "2.0.0",
      "model_name": "LayoutModel",
      "state": {}
     },
     "851c86525d16442391e21967e21b3fcd": {
      "model_module": "@jupyter-widgets/base",
      "model_module_version": "2.0.0",
      "model_name": "LayoutModel",
      "state": {
       "display": "inline-flex",
       "flex_flow": "row wrap",
       "width": "100%"
      }
     },
     "85a65a7212ef43ef86daf30003d4799c": {
      "model_module": "@jupyter-widgets/base",
      "model_module_version": "2.0.0",
      "model_name": "LayoutModel",
      "state": {}
     },
     "85c4290c5eee45938a5f4ba30c97224b": {
      "model_module": "@jupyter-widgets/controls",
      "model_module_version": "2.0.0",
      "model_name": "FloatProgressModel",
      "state": {
       "layout": "IPY_MODEL_b9bdc9c385e14dc8873bea84df2835cf",
       "max": 90,
       "style": "IPY_MODEL_c0bdafabeea24e298f9b62c25df107c0",
       "value": 90
      }
     },
     "85cd9135f8d14b508c968230711a61ce": {
      "model_module": "@jupyter-widgets/base",
      "model_module_version": "2.0.0",
      "model_name": "LayoutModel",
      "state": {}
     },
     "8606f69277854615a705356afd5e0b00": {
      "model_module": "@jupyter-widgets/controls",
      "model_module_version": "2.0.0",
      "model_name": "HTMLStyleModel",
      "state": {
       "description_width": "",
       "font_size": null,
       "text_color": null
      }
     },
     "860c15bd081446f19f12813a536d40c1": {
      "model_module": "@jupyter-widgets/base",
      "model_module_version": "2.0.0",
      "model_name": "LayoutModel",
      "state": {}
     },
     "864fa695fdc74096aff1f467204e45bf": {
      "model_module": "@jupyter-widgets/controls",
      "model_module_version": "2.0.0",
      "model_name": "ProgressStyleModel",
      "state": {
       "description_width": ""
      }
     },
     "86e9f3abd2cb4460956aa48326196fa2": {
      "model_module": "@jupyter-widgets/base",
      "model_module_version": "2.0.0",
      "model_name": "LayoutModel",
      "state": {}
     },
     "8750b57d74c74cefa4d08d71fd54d689": {
      "model_module": "@jupyter-widgets/base",
      "model_module_version": "2.0.0",
      "model_name": "LayoutModel",
      "state": {}
     },
     "8793bd0a0f5143759336427f074f6ab2": {
      "model_module": "@jupyter-widgets/base",
      "model_module_version": "2.0.0",
      "model_name": "LayoutModel",
      "state": {
       "flex": "2"
      }
     },
     "87a5ffc38f0d466ca510b5e57731aec2": {
      "model_module": "@jupyter-widgets/controls",
      "model_module_version": "2.0.0",
      "model_name": "ProgressStyleModel",
      "state": {
       "description_width": ""
      }
     },
     "87c06fcb8f95419aac88316c675f89fb": {
      "model_module": "@jupyter-widgets/controls",
      "model_module_version": "2.0.0",
      "model_name": "FloatProgressModel",
      "state": {
       "layout": "IPY_MODEL_1262f11423e9463dbba60602bc218a8f",
       "max": 90,
       "style": "IPY_MODEL_2ef1da187f2d4c15bbfc24f07a6c5e2b",
       "value": 90
      }
     },
     "87d8eaf7b30a455b893bbf8c9b205af1": {
      "model_module": "@jupyter-widgets/controls",
      "model_module_version": "2.0.0",
      "model_name": "ProgressStyleModel",
      "state": {
       "description_width": ""
      }
     },
     "883e406d65a7498ca629b3ea57263563": {
      "model_module": "@jupyter-widgets/base",
      "model_module_version": "2.0.0",
      "model_name": "LayoutModel",
      "state": {}
     },
     "883f17b5b703417bbfb1940d5f0575cb": {
      "model_module": "@jupyter-widgets/base",
      "model_module_version": "2.0.0",
      "model_name": "LayoutModel",
      "state": {}
     },
     "884665d5a4634352935e8ef601f7eb17": {
      "model_module": "@jupyter-widgets/controls",
      "model_module_version": "2.0.0",
      "model_name": "HTMLModel",
      "state": {
       "layout": "IPY_MODEL_c9e589a29cdd4f5ba7d21d7ed5f63a0d",
       "style": "IPY_MODEL_0691ffdeb3574de6ac80241426c7973f",
       "value": "Validating: 100%"
      }
     },
     "885d52a279294ddd919ae36a4e4beb00": {
      "model_module": "@jupyter-widgets/controls",
      "model_module_version": "2.0.0",
      "model_name": "HTMLStyleModel",
      "state": {
       "description_width": "",
       "font_size": null,
       "text_color": null
      }
     },
     "88ea90cae8ff4e9fafcc9b02e0e9f8da": {
      "model_module": "@jupyter-widgets/controls",
      "model_module_version": "2.0.0",
      "model_name": "HBoxModel",
      "state": {
       "children": [
        "IPY_MODEL_5cccf4079a0e47d695e8a1ca576de49a",
        "IPY_MODEL_bcedb0e8a1fc4217a814525f07499438",
        "IPY_MODEL_dad634a1b9fb4e7f8cf37d7ce92453bb"
       ],
       "layout": "IPY_MODEL_70ea6ac7e59941bfb1e3734c268d42eb"
      }
     },
     "88f6d3fb06894b728c7315979e7a3511": {
      "model_module": "@jupyter-widgets/controls",
      "model_module_version": "2.0.0",
      "model_name": "HTMLModel",
      "state": {
       "layout": "IPY_MODEL_d1f6b759d9724ef597d2351ca03b4389",
       "style": "IPY_MODEL_c63e4e3a512340b9948e4664af53e0a6",
       "value": " 90/90 [00:02&lt;00:00, 43.20it/s, loss=0.275, acc=79.9]"
      }
     },
     "895cd2d42ca74c61a184c53acc9fc222": {
      "model_module": "@jupyter-widgets/controls",
      "model_module_version": "2.0.0",
      "model_name": "HTMLModel",
      "state": {
       "layout": "IPY_MODEL_a5d27d5afcb9441ebac52402a4a77d88",
       "style": "IPY_MODEL_cd9f9232272140c390162157feb735ce",
       "value": "Validating: 100%"
      }
     },
     "8990fa4a7e564d7796b8931a9aff0652": {
      "model_module": "@jupyter-widgets/controls",
      "model_module_version": "2.0.0",
      "model_name": "HTMLModel",
      "state": {
       "layout": "IPY_MODEL_42a455b1689347dcb5e2241ea3d45a93",
       "style": "IPY_MODEL_0c57ca797fc842629307e0148c0da417",
       "value": "Validating: 100%"
      }
     },
     "899c8914640949f2b42c9049f1049e92": {
      "model_module": "@jupyter-widgets/controls",
      "model_module_version": "2.0.0",
      "model_name": "HTMLModel",
      "state": {
       "layout": "IPY_MODEL_ce905cb1c5244593840059bf3e4682c2",
       "style": "IPY_MODEL_9b55d6207a6d4337b4e3141332537774",
       "value": " 3580/3580 [09:07&lt;00:00, 15.21it/s, loss=0.257, lr=0]"
      }
     },
     "89a7c94d2f4a4f3fbce65acdd09b1469": {
      "model_module": "@jupyter-widgets/controls",
      "model_module_version": "2.0.0",
      "model_name": "HTMLModel",
      "state": {
       "layout": "IPY_MODEL_8cad9d8e2ac446629d6f7ca5706c816c",
       "style": "IPY_MODEL_99a7081e885a4ff19854fe64868de933",
       "value": "Validating: 100%"
      }
     },
     "89b9942eb4cb442fbf28927facc15bc1": {
      "model_module": "@jupyter-widgets/controls",
      "model_module_version": "2.0.0",
      "model_name": "HTMLModel",
      "state": {
       "layout": "IPY_MODEL_0047d5ab4c2f44a6b650f57f14589c2b",
       "style": "IPY_MODEL_9face8a1a2624441a4e0c8bb143528b1",
       "value": " 90/90 [00:02&lt;00:00, 42.97it/s, loss=0.458, acc=73.4]"
      }
     },
     "8a0764f02a2945c1969cd70a810e8ff2": {
      "model_module": "@jupyter-widgets/controls",
      "model_module_version": "2.0.0",
      "model_name": "HBoxModel",
      "state": {
       "children": [
        "IPY_MODEL_83571aa7a8f94e1b8a220a573aa47047",
        "IPY_MODEL_b6fe648aa31c479da209ffd72b29a239",
        "IPY_MODEL_899c8914640949f2b42c9049f1049e92"
       ],
       "layout": "IPY_MODEL_04c51d36554645e5b3600f670f6d2770"
      }
     },
     "8a2fe31be4f84599b406be68b94ab7c5": {
      "model_module": "@jupyter-widgets/controls",
      "model_module_version": "2.0.0",
      "model_name": "FloatProgressModel",
      "state": {
       "layout": "IPY_MODEL_8b7356a75a554d7997b1e994c816a534",
       "max": 90,
       "style": "IPY_MODEL_7b543c45d72649c1a3a11ae662d5a5f9",
       "value": 90
      }
     },
     "8a3395e257944aaa970cb403c223292d": {
      "model_module": "@jupyter-widgets/controls",
      "model_module_version": "2.0.0",
      "model_name": "HTMLStyleModel",
      "state": {
       "description_width": "",
       "font_size": null,
       "text_color": null
      }
     },
     "8aa3437acccd4c14ae762c4f56099937": {
      "model_module": "@jupyter-widgets/base",
      "model_module_version": "2.0.0",
      "model_name": "LayoutModel",
      "state": {}
     },
     "8ab63dec8c674fdba68378076516a93b": {
      "model_module": "@jupyter-widgets/base",
      "model_module_version": "2.0.0",
      "model_name": "LayoutModel",
      "state": {}
     },
     "8ac281c6cda54f13a5c31882d6635225": {
      "model_module": "@jupyter-widgets/base",
      "model_module_version": "2.0.0",
      "model_name": "LayoutModel",
      "state": {}
     },
     "8aea002d8f9d4dd9aa3c41ddd4bcbdb0": {
      "model_module": "@jupyter-widgets/base",
      "model_module_version": "2.0.0",
      "model_name": "LayoutModel",
      "state": {
       "flex": "2"
      }
     },
     "8af4651c047e4b0396fcb5786a4fdb11": {
      "model_module": "@jupyter-widgets/controls",
      "model_module_version": "2.0.0",
      "model_name": "HTMLModel",
      "state": {
       "layout": "IPY_MODEL_62358525184b4238ae28ca781953e3e2",
       "style": "IPY_MODEL_d84a684d5b00453f9ac5ebbbb07b687a",
       "value": "Validating: 100%"
      }
     },
     "8b7356a75a554d7997b1e994c816a534": {
      "model_module": "@jupyter-widgets/base",
      "model_module_version": "2.0.0",
      "model_name": "LayoutModel",
      "state": {
       "flex": "2"
      }
     },
     "8c110ad853644eff812b13b74fc5e21f": {
      "model_module": "@jupyter-widgets/controls",
      "model_module_version": "2.0.0",
      "model_name": "ProgressStyleModel",
      "state": {
       "description_width": ""
      }
     },
     "8cad9d8e2ac446629d6f7ca5706c816c": {
      "model_module": "@jupyter-widgets/base",
      "model_module_version": "2.0.0",
      "model_name": "LayoutModel",
      "state": {}
     },
     "8cc184c4faba4b829f7620d2395c9ef5": {
      "model_module": "@jupyter-widgets/controls",
      "model_module_version": "2.0.0",
      "model_name": "HTMLStyleModel",
      "state": {
       "description_width": "",
       "font_size": null,
       "text_color": null
      }
     },
     "8cd3a00c95d74b8db8a0e69e0c55ca48": {
      "model_module": "@jupyter-widgets/base",
      "model_module_version": "2.0.0",
      "model_name": "LayoutModel",
      "state": {
       "flex": "2"
      }
     },
     "8cec9dba868d4a89b8488a051dfa3367": {
      "model_module": "@jupyter-widgets/base",
      "model_module_version": "2.0.0",
      "model_name": "LayoutModel",
      "state": {
       "display": "inline-flex",
       "flex_flow": "row wrap",
       "width": "100%"
      }
     },
     "8cf773a146ed4ab1bfe30c69125c785a": {
      "model_module": "@jupyter-widgets/controls",
      "model_module_version": "2.0.0",
      "model_name": "HTMLStyleModel",
      "state": {
       "description_width": "",
       "font_size": null,
       "text_color": null
      }
     },
     "8d101d18a9604d42b35ccc28f37b0b1e": {
      "model_module": "@jupyter-widgets/controls",
      "model_module_version": "2.0.0",
      "model_name": "FloatProgressModel",
      "state": {
       "layout": "IPY_MODEL_2100da79895b4ce98b882d648e1a3378",
       "max": 90,
       "style": "IPY_MODEL_564eabbebd8c4936891ddafe8772ba6a",
       "value": 90
      }
     },
     "8d35f365474341f7bf188c1759c51cef": {
      "model_module": "@jupyter-widgets/controls",
      "model_module_version": "2.0.0",
      "model_name": "HTMLModel",
      "state": {
       "layout": "IPY_MODEL_ce338f1b806c497e8055fd9949666881",
       "style": "IPY_MODEL_394e1a3d15f9449ab77621e1528c04e5",
       "value": " 90/90 [00:02&lt;00:00, 39.90it/s, loss=0.355, acc=79.3]"
      }
     },
     "8d3a0433eaff4d1db5d72373fefe127d": {
      "model_module": "@jupyter-widgets/controls",
      "model_module_version": "2.0.0",
      "model_name": "HTMLStyleModel",
      "state": {
       "description_width": "",
       "font_size": null,
       "text_color": null
      }
     },
     "8d6cd86ab4c940ff942b96d36995f403": {
      "model_module": "@jupyter-widgets/controls",
      "model_module_version": "2.0.0",
      "model_name": "HTMLModel",
      "state": {
       "layout": "IPY_MODEL_9382fb14ab3045dabfbff3220b03bdc6",
       "style": "IPY_MODEL_ffb4ca62c1b04d16965bc695a3e2e046",
       "value": " 90/90 [00:20&lt;00:00, 39.66it/s, loss=0.298, acc=75.3]"
      }
     },
     "8d7813e0a009450bbadb81ef79d30740": {
      "model_module": "@jupyter-widgets/controls",
      "model_module_version": "2.0.0",
      "model_name": "FloatProgressModel",
      "state": {
       "layout": "IPY_MODEL_f9f48cad008944fa9085a6a0a482db63",
       "max": 90,
       "style": "IPY_MODEL_0ca24984472446d6b66ff57caad5720b",
       "value": 90
      }
     },
     "8d9b055bf8654de7b3fbff60c1c146f8": {
      "model_module": "@jupyter-widgets/controls",
      "model_module_version": "2.0.0",
      "model_name": "ProgressStyleModel",
      "state": {
       "description_width": ""
      }
     },
     "8de17cf08e9f4cf8bfc83539df0243aa": {
      "model_module": "@jupyter-widgets/controls",
      "model_module_version": "2.0.0",
      "model_name": "FloatProgressModel",
      "state": {
       "layout": "IPY_MODEL_b58b818a161046c8bbe9ed6a5bbaaea0",
       "max": 90,
       "style": "IPY_MODEL_f8904c4647fa41d192470bdf9a2f88bf",
       "value": 90
      }
     },
     "8e3ce08e8fee4bbe9cb7b1a71e13c937": {
      "model_module": "@jupyter-widgets/base",
      "model_module_version": "2.0.0",
      "model_name": "LayoutModel",
      "state": {}
     },
     "8f0d3da9dbcf4259856a455d1d4bce95": {
      "model_module": "@jupyter-widgets/base",
      "model_module_version": "2.0.0",
      "model_name": "LayoutModel",
      "state": {}
     },
     "8f4c418e0e034a8da2eb878e3e0f45f4": {
      "model_module": "@jupyter-widgets/controls",
      "model_module_version": "2.0.0",
      "model_name": "HTMLModel",
      "state": {
       "layout": "IPY_MODEL_afa7d3471d9745e2a4a68b942785a800",
       "style": "IPY_MODEL_6a97500a1fe146fd8bc982dda46e1543",
       "value": " 90/90 [00:02&lt;00:00, 43.03it/s, loss=0.422, acc=75.7]"
      }
     },
     "8f599b0767404851a82ec589278b13db": {
      "model_module": "@jupyter-widgets/base",
      "model_module_version": "2.0.0",
      "model_name": "LayoutModel",
      "state": {
       "display": "inline-flex",
       "flex_flow": "row wrap",
       "width": "100%"
      }
     },
     "8f5eeb3dd433402eb2f5156bfbfa4e7c": {
      "model_module": "@jupyter-widgets/controls",
      "model_module_version": "2.0.0",
      "model_name": "HTMLModel",
      "state": {
       "layout": "IPY_MODEL_696ebe249d624eb6aa3527916aae727d",
       "style": "IPY_MODEL_a544da3cd49f44c3ba4b2a1a28ef9e3e",
       "value": " 3580/3580 [04:43&lt;00:00, 15.08it/s, loss=0.258, lr=0]"
      }
     },
     "8ff371e3f8b046dbacc51f0a3d881e65": {
      "model_module": "@jupyter-widgets/base",
      "model_module_version": "2.0.0",
      "model_name": "LayoutModel",
      "state": {}
     },
     "90055832035548a2a81c4e42c280b0d0": {
      "model_module": "@jupyter-widgets/controls",
      "model_module_version": "2.0.0",
      "model_name": "HTMLStyleModel",
      "state": {
       "description_width": "",
       "font_size": null,
       "text_color": null
      }
     },
     "900d34e1cd2241e1a4b7b0760fb5de5d": {
      "model_module": "@jupyter-widgets/controls",
      "model_module_version": "2.0.0",
      "model_name": "ProgressStyleModel",
      "state": {
       "description_width": ""
      }
     },
     "9018dcad606e4f879901dd17b82ad920": {
      "model_module": "@jupyter-widgets/controls",
      "model_module_version": "2.0.0",
      "model_name": "FloatProgressModel",
      "state": {
       "layout": "IPY_MODEL_a1a87296e3d947a691f14e5a5b959ed6",
       "max": 90,
       "style": "IPY_MODEL_bba8d9709f9f41cc9b0b264c89790ff8",
       "value": 90
      }
     },
     "906a47f0277948749e188709af7596d3": {
      "model_module": "@jupyter-widgets/base",
      "model_module_version": "2.0.0",
      "model_name": "LayoutModel",
      "state": {}
     },
     "90bf4506f5f34b44a8a40aeeb39137be": {
      "model_module": "@jupyter-widgets/controls",
      "model_module_version": "2.0.0",
      "model_name": "HTMLModel",
      "state": {
       "layout": "IPY_MODEL_f6a71df025e344af9ed12c5045ba6d3b",
       "style": "IPY_MODEL_f9a04bc0c4b14b28abef730bfb27954b",
       "value": " 90/90 [00:02&lt;00:00, 43.12it/s, loss=0.394, acc=77.5]"
      }
     },
     "90c8d6acd0e9494ab0ceae635445bd14": {
      "model_module": "@jupyter-widgets/base",
      "model_module_version": "2.0.0",
      "model_name": "LayoutModel",
      "state": {}
     },
     "90cb81f1146b48fd842f4cb3e8386220": {
      "model_module": "@jupyter-widgets/base",
      "model_module_version": "2.0.0",
      "model_name": "LayoutModel",
      "state": {}
     },
     "90cc1e3dbfa548809f917f3bee1f2e4a": {
      "model_module": "@jupyter-widgets/controls",
      "model_module_version": "2.0.0",
      "model_name": "HTMLStyleModel",
      "state": {
       "description_width": "",
       "font_size": null,
       "text_color": null
      }
     },
     "90facf83e030468ebf65f6d9bf876c4d": {
      "model_module": "@jupyter-widgets/controls",
      "model_module_version": "2.0.0",
      "model_name": "FloatProgressModel",
      "state": {
       "layout": "IPY_MODEL_2c6655903d054212aa47c7a7a1cf9fc8",
       "max": 90,
       "style": "IPY_MODEL_bf1fab02187b4c4dba92dd084104dadc",
       "value": 90
      }
     },
     "912b43599d154bd1a9ae0a4d48b7ddfa": {
      "model_module": "@jupyter-widgets/controls",
      "model_module_version": "2.0.0",
      "model_name": "HTMLModel",
      "state": {
       "layout": "IPY_MODEL_5670ec428546498bb0af0a22ece8699e",
       "style": "IPY_MODEL_9d08faa7ec894c1687555b74e7a2ffd2",
       "value": " 90/90 [00:02&lt;00:00, 43.36it/s, loss=0.41, acc=78.1]"
      }
     },
     "91621e2857234656a956cfe86e9a5b22": {
      "model_module": "@jupyter-widgets/controls",
      "model_module_version": "2.0.0",
      "model_name": "HTMLModel",
      "state": {
       "layout": "IPY_MODEL_5fb4cc7b393a468b9671e7cf6d5cb87e",
       "style": "IPY_MODEL_1660e3eeffdd4f24b1b0813a2668e0f6",
       "value": " 90/90 [00:02&lt;00:00, 43.53it/s, loss=0.323, acc=68.7]"
      }
     },
     "917206b68a17459581eb1de5c8164c2a": {
      "model_module": "@jupyter-widgets/base",
      "model_module_version": "2.0.0",
      "model_name": "LayoutModel",
      "state": {
       "display": "inline-flex",
       "flex_flow": "row wrap",
       "width": "100%"
      }
     },
     "9189cf6f9cfc4255a5b0b74d2cd5b01b": {
      "model_module": "@jupyter-widgets/controls",
      "model_module_version": "2.0.0",
      "model_name": "HTMLStyleModel",
      "state": {
       "description_width": "",
       "font_size": null,
       "text_color": null
      }
     },
     "91923dc905cc4fa3a954ca58710cf10b": {
      "model_module": "@jupyter-widgets/controls",
      "model_module_version": "2.0.0",
      "model_name": "ProgressStyleModel",
      "state": {
       "description_width": ""
      }
     },
     "91b5eecbb60f4fca8e7a3d2f6974527c": {
      "model_module": "@jupyter-widgets/controls",
      "model_module_version": "2.0.0",
      "model_name": "HTMLStyleModel",
      "state": {
       "description_width": "",
       "font_size": null,
       "text_color": null
      }
     },
     "91bcd5856b774669bf3f504a6fd12a14": {
      "model_module": "@jupyter-widgets/base",
      "model_module_version": "2.0.0",
      "model_name": "LayoutModel",
      "state": {}
     },
     "91c2c2caa1bb40209a7c915e26042a4a": {
      "model_module": "@jupyter-widgets/controls",
      "model_module_version": "2.0.0",
      "model_name": "ProgressStyleModel",
      "state": {
       "description_width": ""
      }
     },
     "91d8fcb2d1974319acbe53242668e3f0": {
      "model_module": "@jupyter-widgets/base",
      "model_module_version": "2.0.0",
      "model_name": "LayoutModel",
      "state": {
       "display": "inline-flex",
       "flex_flow": "row wrap",
       "width": "100%"
      }
     },
     "91eb3655e6b64bfe984ee2209e356afc": {
      "model_module": "@jupyter-widgets/base",
      "model_module_version": "2.0.0",
      "model_name": "LayoutModel",
      "state": {}
     },
     "9208701dc69f4441a13e5425b09f4166": {
      "model_module": "@jupyter-widgets/controls",
      "model_module_version": "2.0.0",
      "model_name": "HTMLStyleModel",
      "state": {
       "description_width": "",
       "font_size": null,
       "text_color": null
      }
     },
     "922839cbb1dc44f19432ddc59d7c4a00": {
      "model_module": "@jupyter-widgets/controls",
      "model_module_version": "2.0.0",
      "model_name": "FloatProgressModel",
      "state": {
       "bar_style": "success",
       "layout": "IPY_MODEL_02367b3379f74174b5d8262249d5d3bf",
       "max": 3580,
       "style": "IPY_MODEL_667d51c301894097bfb6af978f1db42a",
       "value": 3580
      }
     },
     "926495e3874a4c23bcc8228a6fc6d672": {
      "model_module": "@jupyter-widgets/base",
      "model_module_version": "2.0.0",
      "model_name": "LayoutModel",
      "state": {
       "display": "inline-flex",
       "flex_flow": "row wrap",
       "width": "100%"
      }
     },
     "92b2c35f8da9443b8be718af3a4739c4": {
      "model_module": "@jupyter-widgets/controls",
      "model_module_version": "2.0.0",
      "model_name": "HTMLModel",
      "state": {
       "layout": "IPY_MODEL_f74b78acea9a4c2cb556db4c20aefa96",
       "style": "IPY_MODEL_9935fcd7f19a457f9a3dbb7a3b6487ef",
       "value": "Validating: 100%"
      }
     },
     "92ce5c9d17284f91a4dacc3e03ca6342": {
      "model_module": "@jupyter-widgets/controls",
      "model_module_version": "2.0.0",
      "model_name": "HTMLModel",
      "state": {
       "layout": "IPY_MODEL_45fadbca52d441b8849bef4eb18ec75c",
       "style": "IPY_MODEL_6aa32d0426ed4115b283bf15a202416c",
       "value": " 90/90 [00:02&lt;00:00, 43.26it/s, loss=0.611, acc=63.9]"
      }
     },
     "9315e05562dd4bee9ab5ca7783e7c24d": {
      "model_module": "@jupyter-widgets/base",
      "model_module_version": "2.0.0",
      "model_name": "LayoutModel",
      "state": {
       "display": "inline-flex",
       "flex_flow": "row wrap",
       "width": "100%"
      }
     },
     "93492447f66e4880b18e2c381ea7bdf9": {
      "model_module": "@jupyter-widgets/controls",
      "model_module_version": "2.0.0",
      "model_name": "FloatProgressModel",
      "state": {
       "bar_style": "success",
       "layout": "IPY_MODEL_e1ffb46fac7a4c9fbc54ca7d0f7fc906",
       "max": 90,
       "style": "IPY_MODEL_fc63c9cb8d3b46e6ac1204b6308c3534",
       "value": 90
      }
     },
     "9354270471904d068ae9e9f944ad465f": {
      "model_module": "@jupyter-widgets/controls",
      "model_module_version": "2.0.0",
      "model_name": "ProgressStyleModel",
      "state": {
       "description_width": ""
      }
     },
     "936533765aa446ee9680c8eda08d1d55": {
      "model_module": "@jupyter-widgets/base",
      "model_module_version": "2.0.0",
      "model_name": "LayoutModel",
      "state": {
       "flex": "2"
      }
     },
     "9382fb14ab3045dabfbff3220b03bdc6": {
      "model_module": "@jupyter-widgets/base",
      "model_module_version": "2.0.0",
      "model_name": "LayoutModel",
      "state": {}
     },
     "940292e191f2489499d86a5aebe36293": {
      "model_module": "@jupyter-widgets/base",
      "model_module_version": "2.0.0",
      "model_name": "LayoutModel",
      "state": {}
     },
     "945a7f91c8f94ca4a9ae2bf53debd9c8": {
      "model_module": "@jupyter-widgets/controls",
      "model_module_version": "2.0.0",
      "model_name": "HTMLModel",
      "state": {
       "layout": "IPY_MODEL_48763adae487475a9d244e0e4f3adfe8",
       "style": "IPY_MODEL_a13feabdc71743ada1c43644d88d23f0",
       "value": " 90/90 [00:02&lt;00:00, 39.97it/s, loss=0.402, acc=77.8]"
      }
     },
     "94812cd39b9c46cb9a558d25a64a4a05": {
      "model_module": "@jupyter-widgets/controls",
      "model_module_version": "2.0.0",
      "model_name": "HBoxModel",
      "state": {
       "children": [
        "IPY_MODEL_c43a560fa4b94281b25af495024e9973",
        "IPY_MODEL_4a510e0479b1429b97d833c72c4b6a4c",
        "IPY_MODEL_2911431f192c41259ccab3ac50d6fd77"
       ],
       "layout": "IPY_MODEL_0b7548c22ea642f89de6f9c2012f4a0b"
      }
     },
     "94afd24c131543c4bfb379fe9d0e8b84": {
      "model_module": "@jupyter-widgets/controls",
      "model_module_version": "2.0.0",
      "model_name": "ProgressStyleModel",
      "state": {
       "description_width": ""
      }
     },
     "94b7b7c916904309acd9b8d930814b34": {
      "model_module": "@jupyter-widgets/base",
      "model_module_version": "2.0.0",
      "model_name": "LayoutModel",
      "state": {
       "flex": "2"
      }
     },
     "94bd41da09f84752913d9b796d453b19": {
      "model_module": "@jupyter-widgets/base",
      "model_module_version": "2.0.0",
      "model_name": "LayoutModel",
      "state": {}
     },
     "95150624ff0e4556b61b23bfd8ec493b": {
      "model_module": "@jupyter-widgets/controls",
      "model_module_version": "2.0.0",
      "model_name": "HTMLStyleModel",
      "state": {
       "description_width": "",
       "font_size": null,
       "text_color": null
      }
     },
     "9564118480ec4734b36d9cf48e932a96": {
      "model_module": "@jupyter-widgets/controls",
      "model_module_version": "2.0.0",
      "model_name": "HTMLModel",
      "state": {
       "layout": "IPY_MODEL_d8a98e675e1c4cd3a98abe3473a1e1d8",
       "style": "IPY_MODEL_21f7177cba3f4859af2abb23176ea990",
       "value": "Validating: 100%"
      }
     },
     "956472bd2abb4dcfae8160805e8b9074": {
      "model_module": "@jupyter-widgets/base",
      "model_module_version": "2.0.0",
      "model_name": "LayoutModel",
      "state": {
       "flex": "2"
      }
     },
     "9616b4899e94456b8c0d456a7c0948d5": {
      "model_module": "@jupyter-widgets/controls",
      "model_module_version": "2.0.0",
      "model_name": "HTMLModel",
      "state": {
       "layout": "IPY_MODEL_2ae2838bf2384b8d8482dfa7a2cbf4b3",
       "style": "IPY_MODEL_f4993ed3a823432a8b41bb5a37f8e619",
       "value": "Fold: 0  Epoch: 10/10: 100%"
      }
     },
     "963412184b554d82988e571d37adf804": {
      "model_module": "@jupyter-widgets/controls",
      "model_module_version": "2.0.0",
      "model_name": "HTMLModel",
      "state": {
       "layout": "IPY_MODEL_79219ffffe5d4d4d946ff4c19f148d14",
       "style": "IPY_MODEL_91b5eecbb60f4fca8e7a3d2f6974527c",
       "value": "Validating: 100%"
      }
     },
     "963d3dcbd7144265b751612dcc467987": {
      "model_module": "@jupyter-widgets/base",
      "model_module_version": "2.0.0",
      "model_name": "LayoutModel",
      "state": {}
     },
     "967ebc53379c49a787a2e164372d1e48": {
      "model_module": "@jupyter-widgets/base",
      "model_module_version": "2.0.0",
      "model_name": "LayoutModel",
      "state": {
       "flex": "2"
      }
     },
     "96bcfdda47e84992ba2d42827956d012": {
      "model_module": "@jupyter-widgets/base",
      "model_module_version": "2.0.0",
      "model_name": "LayoutModel",
      "state": {
       "display": "inline-flex",
       "flex_flow": "row wrap",
       "width": "100%"
      }
     },
     "96be30a14e40454bb7eff5fe2813cbbd": {
      "model_module": "@jupyter-widgets/controls",
      "model_module_version": "2.0.0",
      "model_name": "HTMLModel",
      "state": {
       "layout": "IPY_MODEL_ba92dd6f04464146819e71051b1b43ff",
       "style": "IPY_MODEL_bfd78a6537e34b2ba8ddc5c791c65fd6",
       "value": "Validating: 100%"
      }
     },
     "971a43b4804a4efc86d7a72f43a375b0": {
      "model_module": "@jupyter-widgets/base",
      "model_module_version": "2.0.0",
      "model_name": "LayoutModel",
      "state": {
       "display": "inline-flex",
       "flex_flow": "row wrap",
       "width": "100%"
      }
     },
     "979e503d0c1244af9f46e1d6aa41996d": {
      "model_module": "@jupyter-widgets/base",
      "model_module_version": "2.0.0",
      "model_name": "LayoutModel",
      "state": {}
     },
     "97e9ed6fd0b846549160909fabccdae3": {
      "model_module": "@jupyter-widgets/controls",
      "model_module_version": "2.0.0",
      "model_name": "HTMLStyleModel",
      "state": {
       "description_width": "",
       "font_size": null,
       "text_color": null
      }
     },
     "9800785ffa664b1d85386f289aa28823": {
      "model_module": "@jupyter-widgets/controls",
      "model_module_version": "2.0.0",
      "model_name": "HBoxModel",
      "state": {
       "children": [
        "IPY_MODEL_36cbba58c0eb420986fff48018cfbd84",
        "IPY_MODEL_f4355f3528df435594c4a2f70cf81368",
        "IPY_MODEL_ceaf53472cdf41b28cc565d892ac8c2b"
       ],
       "layout": "IPY_MODEL_6005f6494f7f452c89974e9a2c214185"
      }
     },
     "980a3e56d09d4a2ab2fc792e35340a57": {
      "model_module": "@jupyter-widgets/controls",
      "model_module_version": "2.0.0",
      "model_name": "HTMLModel",
      "state": {
       "layout": "IPY_MODEL_a732d9a5199a4092b3a0a3dccd69f128",
       "style": "IPY_MODEL_53e1982517bc400fae35d6b626e7941a",
       "value": "Validating: 100%"
      }
     },
     "98164e70f47646f68ce50ccc95c75fef": {
      "model_module": "@jupyter-widgets/controls",
      "model_module_version": "2.0.0",
      "model_name": "HTMLStyleModel",
      "state": {
       "description_width": "",
       "font_size": null,
       "text_color": null
      }
     },
     "982596289e5046f2bfe8669b7da3d9ea": {
      "model_module": "@jupyter-widgets/base",
      "model_module_version": "2.0.0",
      "model_name": "LayoutModel",
      "state": {
       "flex": "2"
      }
     },
     "9827ba7bd05e49bcae866410f10724df": {
      "model_module": "@jupyter-widgets/controls",
      "model_module_version": "2.0.0",
      "model_name": "ProgressStyleModel",
      "state": {
       "description_width": ""
      }
     },
     "98499617c0544f2bb929354122601a9f": {
      "model_module": "@jupyter-widgets/base",
      "model_module_version": "2.0.0",
      "model_name": "LayoutModel",
      "state": {}
     },
     "9896b2a333f040efa0b4cb0af16d0b66": {
      "model_module": "@jupyter-widgets/controls",
      "model_module_version": "2.0.0",
      "model_name": "HTMLModel",
      "state": {
       "layout": "IPY_MODEL_39ebda2dd25941f59e9926dd7f7bf103",
       "style": "IPY_MODEL_a0d25e9553c84d36873baa20de23ea1e",
       "value": " 90/90 [00:02&lt;00:00, 43.12it/s, loss=0.368, acc=79]"
      }
     },
     "98be50712a634d6f8e876fc7a3084166": {
      "model_module": "@jupyter-widgets/base",
      "model_module_version": "2.0.0",
      "model_name": "LayoutModel",
      "state": {}
     },
     "98c5aa8b3a1e4114ac4ab625b9c2c08e": {
      "model_module": "@jupyter-widgets/base",
      "model_module_version": "2.0.0",
      "model_name": "LayoutModel",
      "state": {}
     },
     "991844847e934f2daa3a60f9afaaa74f": {
      "model_module": "@jupyter-widgets/controls",
      "model_module_version": "2.0.0",
      "model_name": "HTMLModel",
      "state": {
       "layout": "IPY_MODEL_aa67ddb0364542b3ac7e30a5c23d8a8a",
       "style": "IPY_MODEL_6a6460049a024da8a5f4a0933d19e4bc",
       "value": " 90/90 [00:02&lt;00:00, 43.25it/s, loss=0.626, acc=63.1]"
      }
     },
     "9918cbd305e447668b7e75e7b63f0733": {
      "model_module": "@jupyter-widgets/base",
      "model_module_version": "2.0.0",
      "model_name": "LayoutModel",
      "state": {}
     },
     "991e4ad4a31a4c7db48bc300a718ffe3": {
      "model_module": "@jupyter-widgets/controls",
      "model_module_version": "2.0.0",
      "model_name": "ProgressStyleModel",
      "state": {
       "description_width": ""
      }
     },
     "99204131c53e4baaaa6a1dea135715f3": {
      "model_module": "@jupyter-widgets/controls",
      "model_module_version": "2.0.0",
      "model_name": "HTMLStyleModel",
      "state": {
       "description_width": "",
       "font_size": null,
       "text_color": null
      }
     },
     "9935fcd7f19a457f9a3dbb7a3b6487ef": {
      "model_module": "@jupyter-widgets/controls",
      "model_module_version": "2.0.0",
      "model_name": "HTMLStyleModel",
      "state": {
       "description_width": "",
       "font_size": null,
       "text_color": null
      }
     },
     "9936daf913e84a939945d4bf11e4acf9": {
      "model_module": "@jupyter-widgets/controls",
      "model_module_version": "2.0.0",
      "model_name": "ProgressStyleModel",
      "state": {
       "description_width": ""
      }
     },
     "99a7081e885a4ff19854fe64868de933": {
      "model_module": "@jupyter-widgets/controls",
      "model_module_version": "2.0.0",
      "model_name": "HTMLStyleModel",
      "state": {
       "description_width": "",
       "font_size": null,
       "text_color": null
      }
     },
     "99c1d65b46f14af1a188dd8c40154193": {
      "model_module": "@jupyter-widgets/controls",
      "model_module_version": "2.0.0",
      "model_name": "HTMLModel",
      "state": {
       "layout": "IPY_MODEL_451b36ff73f84d8690102be8365798db",
       "style": "IPY_MODEL_347d0a17a5ef4119984055f9554f6190",
       "value": "Validating: 100%"
      }
     },
     "99e45c9c1ca24a90971ab93c623ec4ab": {
      "model_module": "@jupyter-widgets/controls",
      "model_module_version": "2.0.0",
      "model_name": "HTMLModel",
      "state": {
       "layout": "IPY_MODEL_17e74a18edb04bf0b4b0fb574095f0ef",
       "style": "IPY_MODEL_747081ff70d64cf68afc7a9bf59bcea1",
       "value": "Validating: 100%"
      }
     },
     "99e57ffe7296447db0850939c3776094": {
      "model_module": "@jupyter-widgets/controls",
      "model_module_version": "2.0.0",
      "model_name": "HTMLStyleModel",
      "state": {
       "description_width": "",
       "font_size": null,
       "text_color": null
      }
     },
     "9a0aad334b634a8a979805ed5aa7ccde": {
      "model_module": "@jupyter-widgets/controls",
      "model_module_version": "2.0.0",
      "model_name": "HTMLStyleModel",
      "state": {
       "description_width": "",
       "font_size": null,
       "text_color": null
      }
     },
     "9a507fa4ef204128ba945d3239831d3f": {
      "model_module": "@jupyter-widgets/base",
      "model_module_version": "2.0.0",
      "model_name": "LayoutModel",
      "state": {
       "display": "inline-flex",
       "flex_flow": "row wrap",
       "width": "100%"
      }
     },
     "9a51c677a7a94befa7137413812a96ad": {
      "model_module": "@jupyter-widgets/controls",
      "model_module_version": "2.0.0",
      "model_name": "HTMLStyleModel",
      "state": {
       "description_width": "",
       "font_size": null,
       "text_color": null
      }
     },
     "9ab4b1b5f6f04fafbb4b9fa17edc13c8": {
      "model_module": "@jupyter-widgets/base",
      "model_module_version": "2.0.0",
      "model_name": "LayoutModel",
      "state": {}
     },
     "9b1fad3447bd462a881fbb9a78db545b": {
      "model_module": "@jupyter-widgets/controls",
      "model_module_version": "2.0.0",
      "model_name": "HTMLStyleModel",
      "state": {
       "description_width": "",
       "font_size": null,
       "text_color": null
      }
     },
     "9b3f35b594574e239278cc79fc3d2c6b": {
      "model_module": "@jupyter-widgets/base",
      "model_module_version": "2.0.0",
      "model_name": "LayoutModel",
      "state": {
       "display": "inline-flex",
       "flex_flow": "row wrap",
       "width": "100%"
      }
     },
     "9b55d6207a6d4337b4e3141332537774": {
      "model_module": "@jupyter-widgets/controls",
      "model_module_version": "2.0.0",
      "model_name": "HTMLStyleModel",
      "state": {
       "description_width": "",
       "font_size": null,
       "text_color": null
      }
     },
     "9b9cc89f455949d7a9cd691b96f8eeb4": {
      "model_module": "@jupyter-widgets/controls",
      "model_module_version": "2.0.0",
      "model_name": "ProgressStyleModel",
      "state": {
       "description_width": ""
      }
     },
     "9ca7366a91de43ce8029f8252f90f63f": {
      "model_module": "@jupyter-widgets/controls",
      "model_module_version": "2.0.0",
      "model_name": "HBoxModel",
      "state": {
       "children": [
        "IPY_MODEL_82523c212fe941db9ecff55167a8af20",
        "IPY_MODEL_eb3514080f964ea1b41ca716ac6db445",
        "IPY_MODEL_04ae738e77b0436ba95d21626217e0ed"
       ],
       "layout": "IPY_MODEL_386c116d3a524186a85e550d85549d10"
      }
     },
     "9cbb1de9a08145dab7d0b10e9d15917a": {
      "model_module": "@jupyter-widgets/base",
      "model_module_version": "2.0.0",
      "model_name": "LayoutModel",
      "state": {
       "display": "inline-flex",
       "flex_flow": "row wrap",
       "width": "100%"
      }
     },
     "9cf3f4e748834c33a0adaaa3ff34bc41": {
      "model_module": "@jupyter-widgets/controls",
      "model_module_version": "2.0.0",
      "model_name": "ProgressStyleModel",
      "state": {
       "description_width": ""
      }
     },
     "9d05adf1616041b291829bfacbf0e9dc": {
      "model_module": "@jupyter-widgets/controls",
      "model_module_version": "2.0.0",
      "model_name": "HTMLModel",
      "state": {
       "layout": "IPY_MODEL_ede6a8576cfe4ff880942a6d47d85002",
       "style": "IPY_MODEL_64a9be3e63c148f2bfd452853fe7f610",
       "value": " 90/90 [00:02&lt;00:00, 40.32it/s, loss=0.278, acc=78.7]"
      }
     },
     "9d08faa7ec894c1687555b74e7a2ffd2": {
      "model_module": "@jupyter-widgets/controls",
      "model_module_version": "2.0.0",
      "model_name": "HTMLStyleModel",
      "state": {
       "description_width": "",
       "font_size": null,
       "text_color": null
      }
     },
     "9d0fb7ea9dc34cd7a2fe98094f5cd518": {
      "model_module": "@jupyter-widgets/base",
      "model_module_version": "2.0.0",
      "model_name": "LayoutModel",
      "state": {
       "display": "inline-flex",
       "flex_flow": "row wrap",
       "width": "100%"
      }
     },
     "9da3a373f9c4416a8659201a82b5a759": {
      "model_module": "@jupyter-widgets/controls",
      "model_module_version": "2.0.0",
      "model_name": "FloatProgressModel",
      "state": {
       "layout": "IPY_MODEL_65833487bfb14a0d9c012352a85b726d",
       "max": 90,
       "style": "IPY_MODEL_e11fffe2c52a4299ba24f39bf04b3e3a",
       "value": 90
      }
     },
     "9da9ac3c698841eca8125bcc42907fbe": {
      "model_module": "@jupyter-widgets/controls",
      "model_module_version": "2.0.0",
      "model_name": "HTMLStyleModel",
      "state": {
       "description_width": "",
       "font_size": null,
       "text_color": null
      }
     },
     "9dbbb6ebe8a947a6b95f44f42402881d": {
      "model_module": "@jupyter-widgets/controls",
      "model_module_version": "2.0.0",
      "model_name": "ProgressStyleModel",
      "state": {
       "description_width": ""
      }
     },
     "9dd17cc73bef4d08b1fdad86cf344555": {
      "model_module": "@jupyter-widgets/base",
      "model_module_version": "2.0.0",
      "model_name": "LayoutModel",
      "state": {}
     },
     "9e054172c8484b63985f638b6321b6af": {
      "model_module": "@jupyter-widgets/base",
      "model_module_version": "2.0.0",
      "model_name": "LayoutModel",
      "state": {}
     },
     "9e0c3931fba547e0b6556da054bccaac": {
      "model_module": "@jupyter-widgets/base",
      "model_module_version": "2.0.0",
      "model_name": "LayoutModel",
      "state": {}
     },
     "9e352abc419b4cbeb30f5e0baf81c2aa": {
      "model_module": "@jupyter-widgets/controls",
      "model_module_version": "2.0.0",
      "model_name": "HTMLModel",
      "state": {
       "layout": "IPY_MODEL_397ddf60309546feaff0c4ab624cdb24",
       "style": "IPY_MODEL_8606f69277854615a705356afd5e0b00",
       "value": " 90/90 [00:30&lt;00:00, 43.14it/s, loss=0.281, acc=78.9]"
      }
     },
     "9e62c3360d4e4f32970591c96c8c9ea4": {
      "model_module": "@jupyter-widgets/controls",
      "model_module_version": "2.0.0",
      "model_name": "HTMLStyleModel",
      "state": {
       "description_width": "",
       "font_size": null,
       "text_color": null
      }
     },
     "9eba29576cab4461aebc890055c76be6": {
      "model_module": "@jupyter-widgets/controls",
      "model_module_version": "2.0.0",
      "model_name": "FloatProgressModel",
      "state": {
       "layout": "IPY_MODEL_4c6cc671eb7a42429660352b2ede8890",
       "max": 90,
       "style": "IPY_MODEL_d2d3eca8a5184716a3b58c9e41286b01",
       "value": 90
      }
     },
     "9ec73adcc43a479f990f17264a607245": {
      "model_module": "@jupyter-widgets/controls",
      "model_module_version": "2.0.0",
      "model_name": "FloatProgressModel",
      "state": {
       "layout": "IPY_MODEL_b589d45e6f174707ada6a09974a04923",
       "max": 90,
       "style": "IPY_MODEL_9936daf913e84a939945d4bf11e4acf9",
       "value": 90
      }
     },
     "9ee5e546364f4f96922a224cd224b6cf": {
      "model_module": "@jupyter-widgets/controls",
      "model_module_version": "2.0.0",
      "model_name": "FloatProgressModel",
      "state": {
       "layout": "IPY_MODEL_bfcb1b81ea384dc2b6bd38566d3bfe06",
       "max": 90,
       "style": "IPY_MODEL_c38abae6b84e4cb5a01760fc011cf813",
       "value": 90
      }
     },
     "9ef082bef5ab4e12b29142f7642d442d": {
      "model_module": "@jupyter-widgets/controls",
      "model_module_version": "2.0.0",
      "model_name": "HTMLStyleModel",
      "state": {
       "description_width": "",
       "font_size": null,
       "text_color": null
      }
     },
     "9effc6f5d82c46dab64f2983a6fa5f91": {
      "model_module": "@jupyter-widgets/base",
      "model_module_version": "2.0.0",
      "model_name": "LayoutModel",
      "state": {}
     },
     "9f0c9f508487426fae1c5c855b581e27": {
      "model_module": "@jupyter-widgets/controls",
      "model_module_version": "2.0.0",
      "model_name": "HTMLModel",
      "state": {
       "layout": "IPY_MODEL_22b6f233a0c24cfd88729473c48b5fe3",
       "style": "IPY_MODEL_cd146d4e370e4da49279f9757e23cd27",
       "value": "Validating: 100%"
      }
     },
     "9f12919fd7f14a0fa0e222a6925096f3": {
      "model_module": "@jupyter-widgets/controls",
      "model_module_version": "2.0.0",
      "model_name": "HTMLStyleModel",
      "state": {
       "description_width": "",
       "font_size": null,
       "text_color": null
      }
     },
     "9f18f351285241bb9d81a4dd1d17d7b9": {
      "model_module": "@jupyter-widgets/controls",
      "model_module_version": "2.0.0",
      "model_name": "HTMLStyleModel",
      "state": {
       "description_width": "",
       "font_size": null,
       "text_color": null
      }
     },
     "9f32a57e359b4055a42f26b651bad29f": {
      "model_module": "@jupyter-widgets/controls",
      "model_module_version": "2.0.0",
      "model_name": "HTMLModel",
      "state": {
       "layout": "IPY_MODEL_cfec70f4d78f4e75bd0936cdeddc11c7",
       "style": "IPY_MODEL_5849ff2b645044c1980844107982825b",
       "value": " 3580/3580 [09:08&lt;00:00, 15.14it/s, loss=0.257, lr=0]"
      }
     },
     "9f6b8e0536404b6d910942e46dd37275": {
      "model_module": "@jupyter-widgets/controls",
      "model_module_version": "2.0.0",
      "model_name": "FloatProgressModel",
      "state": {
       "layout": "IPY_MODEL_29440d5859bf497484cc9d70cffc1d55",
       "max": 90,
       "style": "IPY_MODEL_258c078941754e29b39a3681deb41552",
       "value": 90
      }
     },
     "9f926c4ee10747b686fff780d46776ea": {
      "model_module": "@jupyter-widgets/controls",
      "model_module_version": "2.0.0",
      "model_name": "ProgressStyleModel",
      "state": {
       "description_width": ""
      }
     },
     "9face8a1a2624441a4e0c8bb143528b1": {
      "model_module": "@jupyter-widgets/controls",
      "model_module_version": "2.0.0",
      "model_name": "HTMLStyleModel",
      "state": {
       "description_width": "",
       "font_size": null,
       "text_color": null
      }
     },
     "a0949e9869574b91920493a65d0dd4d0": {
      "model_module": "@jupyter-widgets/base",
      "model_module_version": "2.0.0",
      "model_name": "LayoutModel",
      "state": {
       "display": "inline-flex",
       "flex_flow": "row wrap",
       "width": "100%"
      }
     },
     "a09a00271c1f4d3f90627b1efd25b7e1": {
      "model_module": "@jupyter-widgets/controls",
      "model_module_version": "2.0.0",
      "model_name": "HTMLStyleModel",
      "state": {
       "description_width": "",
       "font_size": null,
       "text_color": null
      }
     },
     "a0a75c922d8443ac96cf8306af34e563": {
      "model_module": "@jupyter-widgets/base",
      "model_module_version": "2.0.0",
      "model_name": "LayoutModel",
      "state": {
       "display": "inline-flex",
       "flex_flow": "row wrap",
       "width": "100%"
      }
     },
     "a0ab889e4e044f479f28f6ca122c71bf": {
      "model_module": "@jupyter-widgets/controls",
      "model_module_version": "2.0.0",
      "model_name": "ProgressStyleModel",
      "state": {
       "description_width": ""
      }
     },
     "a0d25e9553c84d36873baa20de23ea1e": {
      "model_module": "@jupyter-widgets/controls",
      "model_module_version": "2.0.0",
      "model_name": "HTMLStyleModel",
      "state": {
       "description_width": "",
       "font_size": null,
       "text_color": null
      }
     },
     "a0d7fd032b6540a2ac932432d488f8f4": {
      "model_module": "@jupyter-widgets/controls",
      "model_module_version": "2.0.0",
      "model_name": "HTMLModel",
      "state": {
       "layout": "IPY_MODEL_027bf52800884557b5c64247109a6b18",
       "style": "IPY_MODEL_a9b1d0aee5f640d1a7ceb01724f694a8",
       "value": "Validating: 100%"
      }
     },
     "a0e5a6c0481643debb816d9817922913": {
      "model_module": "@jupyter-widgets/controls",
      "model_module_version": "2.0.0",
      "model_name": "FloatProgressModel",
      "state": {
       "layout": "IPY_MODEL_35d6ff3ee15540dfba4cb691b25a7bed",
       "max": 90,
       "style": "IPY_MODEL_f52673b96edc430ea52e548b29e854f4",
       "value": 90
      }
     },
     "a0fdd34cf06e4a3bbde771a461745d31": {
      "model_module": "@jupyter-widgets/controls",
      "model_module_version": "2.0.0",
      "model_name": "HTMLModel",
      "state": {
       "layout": "IPY_MODEL_1b1b0c8c9bc1472db83fc4dd59d6f8e9",
       "style": "IPY_MODEL_97e9ed6fd0b846549160909fabccdae3",
       "value": "Validating: 100%"
      }
     },
     "a1075db435364406974e35c6224341e9": {
      "model_module": "@jupyter-widgets/controls",
      "model_module_version": "2.0.0",
      "model_name": "FloatProgressModel",
      "state": {
       "bar_style": "success",
       "layout": "IPY_MODEL_c0be5bba597749e9b57b4556a7f4f044",
       "max": 3580,
       "style": "IPY_MODEL_91c2c2caa1bb40209a7c915e26042a4a",
       "value": 3580
      }
     },
     "a12365e0eede46098028f9684a8ab493": {
      "model_module": "@jupyter-widgets/base",
      "model_module_version": "2.0.0",
      "model_name": "LayoutModel",
      "state": {
       "display": "inline-flex",
       "flex_flow": "row wrap",
       "width": "100%"
      }
     },
     "a12b014924a84346b61427036c4b421b": {
      "model_module": "@jupyter-widgets/controls",
      "model_module_version": "2.0.0",
      "model_name": "HTMLStyleModel",
      "state": {
       "description_width": "",
       "font_size": null,
       "text_color": null
      }
     },
     "a13feabdc71743ada1c43644d88d23f0": {
      "model_module": "@jupyter-widgets/controls",
      "model_module_version": "2.0.0",
      "model_name": "HTMLStyleModel",
      "state": {
       "description_width": "",
       "font_size": null,
       "text_color": null
      }
     },
     "a1416e7aaeb14c689968d41546b3a8c1": {
      "model_module": "@jupyter-widgets/controls",
      "model_module_version": "2.0.0",
      "model_name": "HTMLModel",
      "state": {
       "layout": "IPY_MODEL_20b296bb037b40489746daf08dea7192",
       "style": "IPY_MODEL_c4cb66c58dde45648313ca9eedb9d75f",
       "value": " 90/90 [00:02&lt;00:00, 43.03it/s, loss=0.268, acc=81.5]"
      }
     },
     "a18b0e116c224b839825987d46ac5aed": {
      "model_module": "@jupyter-widgets/controls",
      "model_module_version": "2.0.0",
      "model_name": "HTMLStyleModel",
      "state": {
       "description_width": "",
       "font_size": null,
       "text_color": null
      }
     },
     "a1a44629fc084e65a783470c8d6737a3": {
      "model_module": "@jupyter-widgets/base",
      "model_module_version": "2.0.0",
      "model_name": "LayoutModel",
      "state": {}
     },
     "a1a87296e3d947a691f14e5a5b959ed6": {
      "model_module": "@jupyter-widgets/base",
      "model_module_version": "2.0.0",
      "model_name": "LayoutModel",
      "state": {
       "flex": "2"
      }
     },
     "a1da555108934cd982d63185be370c8c": {
      "model_module": "@jupyter-widgets/controls",
      "model_module_version": "2.0.0",
      "model_name": "HTMLModel",
      "state": {
       "layout": "IPY_MODEL_a20fa73bfac0404fbce473d01dcf504c",
       "style": "IPY_MODEL_bf3993c0c33c4db5bd0f78acb9da7613",
       "value": "Validating: 100%"
      }
     },
     "a20fa73bfac0404fbce473d01dcf504c": {
      "model_module": "@jupyter-widgets/base",
      "model_module_version": "2.0.0",
      "model_name": "LayoutModel",
      "state": {}
     },
     "a25a777e2744468c819c4cf7aa203629": {
      "model_module": "@jupyter-widgets/controls",
      "model_module_version": "2.0.0",
      "model_name": "HTMLStyleModel",
      "state": {
       "description_width": "",
       "font_size": null,
       "text_color": null
      }
     },
     "a25f76aa245f46f19000bf2949f2cbaa": {
      "model_module": "@jupyter-widgets/base",
      "model_module_version": "2.0.0",
      "model_name": "LayoutModel",
      "state": {
       "flex": "2"
      }
     },
     "a2797427fb9b464fbf34d9e347af7676": {
      "model_module": "@jupyter-widgets/controls",
      "model_module_version": "2.0.0",
      "model_name": "HTMLStyleModel",
      "state": {
       "description_width": "",
       "font_size": null,
       "text_color": null
      }
     },
     "a2c038df6d794d9daf63ea0c2928dd10": {
      "model_module": "@jupyter-widgets/controls",
      "model_module_version": "2.0.0",
      "model_name": "ProgressStyleModel",
      "state": {
       "description_width": ""
      }
     },
     "a32f200c99df49088a10b356ced9eaab": {
      "model_module": "@jupyter-widgets/controls",
      "model_module_version": "2.0.0",
      "model_name": "FloatProgressModel",
      "state": {
       "layout": "IPY_MODEL_f19cfa7519bb456dbdfd3dcd302c2131",
       "max": 90,
       "style": "IPY_MODEL_cb5ae903a43546cfbc0af9413507e06d",
       "value": 90
      }
     },
     "a36690d4b5cd4928bbbf90c8272f23e5": {
      "model_module": "@jupyter-widgets/base",
      "model_module_version": "2.0.0",
      "model_name": "LayoutModel",
      "state": {
       "flex": "2"
      }
     },
     "a3877ea75aef417eafe1c333c76fc2f0": {
      "model_module": "@jupyter-widgets/base",
      "model_module_version": "2.0.0",
      "model_name": "LayoutModel",
      "state": {}
     },
     "a3901cb50b754ce4bdfba6590c9d81aa": {
      "model_module": "@jupyter-widgets/controls",
      "model_module_version": "2.0.0",
      "model_name": "HTMLStyleModel",
      "state": {
       "description_width": "",
       "font_size": null,
       "text_color": null
      }
     },
     "a3b9b011916c4153a35745de6b3020b5": {
      "model_module": "@jupyter-widgets/base",
      "model_module_version": "2.0.0",
      "model_name": "LayoutModel",
      "state": {
       "display": "inline-flex",
       "flex_flow": "row wrap",
       "width": "100%"
      }
     },
     "a3cc90ce359a4cf28edd8f3cb7a74a65": {
      "model_module": "@jupyter-widgets/base",
      "model_module_version": "2.0.0",
      "model_name": "LayoutModel",
      "state": {}
     },
     "a42b7cf54ebd4d0398a84ae9601fd9e4": {
      "model_module": "@jupyter-widgets/base",
      "model_module_version": "2.0.0",
      "model_name": "LayoutModel",
      "state": {
       "flex": "2"
      }
     },
     "a45834a4f234409eb9f5e66fe37511b5": {
      "model_module": "@jupyter-widgets/controls",
      "model_module_version": "2.0.0",
      "model_name": "HTMLStyleModel",
      "state": {
       "description_width": "",
       "font_size": null,
       "text_color": null
      }
     },
     "a4bc65ceb15f4569a3762f1adb4e3657": {
      "model_module": "@jupyter-widgets/base",
      "model_module_version": "2.0.0",
      "model_name": "LayoutModel",
      "state": {
       "display": "inline-flex",
       "flex_flow": "row wrap",
       "width": "100%"
      }
     },
     "a544da3cd49f44c3ba4b2a1a28ef9e3e": {
      "model_module": "@jupyter-widgets/controls",
      "model_module_version": "2.0.0",
      "model_name": "HTMLStyleModel",
      "state": {
       "description_width": "",
       "font_size": null,
       "text_color": null
      }
     },
     "a55ff9454c6b4f3b81474daa6dd62de1": {
      "model_module": "@jupyter-widgets/base",
      "model_module_version": "2.0.0",
      "model_name": "LayoutModel",
      "state": {
       "flex": "2"
      }
     },
     "a592286338e648e99ffe2be38eb0131d": {
      "model_module": "@jupyter-widgets/controls",
      "model_module_version": "2.0.0",
      "model_name": "ProgressStyleModel",
      "state": {
       "description_width": ""
      }
     },
     "a5a8f466401a465e96fd740e122679ed": {
      "model_module": "@jupyter-widgets/controls",
      "model_module_version": "2.0.0",
      "model_name": "HTMLStyleModel",
      "state": {
       "description_width": "",
       "font_size": null,
       "text_color": null
      }
     },
     "a5d27d5afcb9441ebac52402a4a77d88": {
      "model_module": "@jupyter-widgets/base",
      "model_module_version": "2.0.0",
      "model_name": "LayoutModel",
      "state": {}
     },
     "a5ec5aaaad774e1080bda1ed586e360d": {
      "model_module": "@jupyter-widgets/controls",
      "model_module_version": "2.0.0",
      "model_name": "HTMLModel",
      "state": {
       "layout": "IPY_MODEL_1ef22ab5ecc8464ab3651831a4070e89",
       "style": "IPY_MODEL_1325915d56ea4fe8a0a26537077cfa92",
       "value": "Validating: 100%"
      }
     },
     "a607adaca25c44ad9546addc32e69adb": {
      "model_module": "@jupyter-widgets/base",
      "model_module_version": "2.0.0",
      "model_name": "LayoutModel",
      "state": {}
     },
     "a62e295dc1c14c85acdc9c56c522e388": {
      "model_module": "@jupyter-widgets/base",
      "model_module_version": "2.0.0",
      "model_name": "LayoutModel",
      "state": {}
     },
     "a732d9a5199a4092b3a0a3dccd69f128": {
      "model_module": "@jupyter-widgets/base",
      "model_module_version": "2.0.0",
      "model_name": "LayoutModel",
      "state": {}
     },
     "a763bad8df214ad6a22a296f85fc0bbb": {
      "model_module": "@jupyter-widgets/base",
      "model_module_version": "2.0.0",
      "model_name": "LayoutModel",
      "state": {}
     },
     "a766d2a71e624b339aa6b2688cc26533": {
      "model_module": "@jupyter-widgets/controls",
      "model_module_version": "2.0.0",
      "model_name": "HTMLStyleModel",
      "state": {
       "description_width": "",
       "font_size": null,
       "text_color": null
      }
     },
     "a76cdd25215841bd82117e9d4a98dfc9": {
      "model_module": "@jupyter-widgets/controls",
      "model_module_version": "2.0.0",
      "model_name": "HTMLStyleModel",
      "state": {
       "description_width": "",
       "font_size": null,
       "text_color": null
      }
     },
     "a7b37c449e4745dc9c9fff45a627c9e5": {
      "model_module": "@jupyter-widgets/controls",
      "model_module_version": "2.0.0",
      "model_name": "HTMLModel",
      "state": {
       "layout": "IPY_MODEL_e853d85f538a4753ae391a4723bb8b3d",
       "style": "IPY_MODEL_95150624ff0e4556b61b23bfd8ec493b",
       "value": "Validating: 100%"
      }
     },
     "a7df9507eb55465eb7388938c7797cb2": {
      "model_module": "@jupyter-widgets/controls",
      "model_module_version": "2.0.0",
      "model_name": "HTMLModel",
      "state": {
       "layout": "IPY_MODEL_e405280db3da43edb45922dbc642045d",
       "style": "IPY_MODEL_885d52a279294ddd919ae36a4e4beb00",
       "value": " 90/90 [00:18&lt;00:00, 43.26it/s, loss=0.304, acc=74.9]"
      }
     },
     "a82f577c2b394d9092cc4af9b4297800": {
      "model_module": "@jupyter-widgets/base",
      "model_module_version": "2.0.0",
      "model_name": "LayoutModel",
      "state": {
       "display": "inline-flex",
       "flex_flow": "row wrap",
       "width": "100%"
      }
     },
     "a843156fc06248819c1e06166b0f55e9": {
      "model_module": "@jupyter-widgets/controls",
      "model_module_version": "2.0.0",
      "model_name": "HTMLStyleModel",
      "state": {
       "description_width": "",
       "font_size": null,
       "text_color": null
      }
     },
     "a8a498e726a5412f83364fd4f2594ec0": {
      "model_module": "@jupyter-widgets/base",
      "model_module_version": "2.0.0",
      "model_name": "LayoutModel",
      "state": {
       "flex": "2"
      }
     },
     "a92c1d304797417eb07968d12fa8ccfe": {
      "model_module": "@jupyter-widgets/controls",
      "model_module_version": "2.0.0",
      "model_name": "HTMLModel",
      "state": {
       "layout": "IPY_MODEL_c6282e50c017446d9ae71c9b6af727a6",
       "style": "IPY_MODEL_01a1fa6b75834d5d88fbc33569ee38de",
       "value": "Validating: 100%"
      }
     },
     "a934c6566df34f53a5e71f5f8f81222c": {
      "model_module": "@jupyter-widgets/base",
      "model_module_version": "2.0.0",
      "model_name": "LayoutModel",
      "state": {
       "display": "inline-flex",
       "flex_flow": "row wrap",
       "width": "100%"
      }
     },
     "a93add438f2c4d15814694b053d7c4a5": {
      "model_module": "@jupyter-widgets/base",
      "model_module_version": "2.0.0",
      "model_name": "LayoutModel",
      "state": {}
     },
     "a94d1418d2e544a0a3d2cc2a257719a3": {
      "model_module": "@jupyter-widgets/controls",
      "model_module_version": "2.0.0",
      "model_name": "FloatProgressModel",
      "state": {
       "layout": "IPY_MODEL_b91112e771ed4798abf292e594b8dc6a",
       "max": 90,
       "style": "IPY_MODEL_5fae96d301db407fb0ac632839f1ad00",
       "value": 90
      }
     },
     "a95ccf26b80940f7a5b9996f87ab2616": {
      "model_module": "@jupyter-widgets/controls",
      "model_module_version": "2.0.0",
      "model_name": "ProgressStyleModel",
      "state": {
       "description_width": ""
      }
     },
     "a9653c9ea3ce4ff8bef95e3340fa8b02": {
      "model_module": "@jupyter-widgets/base",
      "model_module_version": "2.0.0",
      "model_name": "LayoutModel",
      "state": {
       "display": "inline-flex",
       "flex_flow": "row wrap",
       "width": "100%"
      }
     },
     "a9b1d0aee5f640d1a7ceb01724f694a8": {
      "model_module": "@jupyter-widgets/controls",
      "model_module_version": "2.0.0",
      "model_name": "HTMLStyleModel",
      "state": {
       "description_width": "",
       "font_size": null,
       "text_color": null
      }
     },
     "aa318c28bfb6473d8ae2dc800beed09b": {
      "model_module": "@jupyter-widgets/controls",
      "model_module_version": "2.0.0",
      "model_name": "HTMLModel",
      "state": {
       "layout": "IPY_MODEL_c865fa7704a742b3b96a2797a5a381c0",
       "style": "IPY_MODEL_7c278c0b9cef41c58c8ede4d777af5b4",
       "value": "Validating: 100%"
      }
     },
     "aa32f45eb4c74c28aae6746ffdab65f4": {
      "model_module": "@jupyter-widgets/controls",
      "model_module_version": "2.0.0",
      "model_name": "HTMLModel",
      "state": {
       "layout": "IPY_MODEL_30fd28dff89442ec8659f4016769a411",
       "style": "IPY_MODEL_027099e0d5914af398216f4856eda60e",
       "value": " 90/90 [00:02&lt;00:00, 43.06it/s, loss=0.281, acc=78.4]"
      }
     },
     "aa4a463808094250b3984afe58cd629e": {
      "model_module": "@jupyter-widgets/base",
      "model_module_version": "2.0.0",
      "model_name": "LayoutModel",
      "state": {}
     },
     "aa67ddb0364542b3ac7e30a5c23d8a8a": {
      "model_module": "@jupyter-widgets/base",
      "model_module_version": "2.0.0",
      "model_name": "LayoutModel",
      "state": {}
     },
     "aa7e53f8b25047cabba62ca3c7358268": {
      "model_module": "@jupyter-widgets/base",
      "model_module_version": "2.0.0",
      "model_name": "LayoutModel",
      "state": {
       "flex": "2"
      }
     },
     "aac0e480a38d45899e2d422cf8a9aa5c": {
      "model_module": "@jupyter-widgets/controls",
      "model_module_version": "2.0.0",
      "model_name": "HTMLModel",
      "state": {
       "layout": "IPY_MODEL_cd4d29be691d4bbda0175db5c4a56cf5",
       "style": "IPY_MODEL_689ea4042e7b4797ada441f700b10fd7",
       "value": " 90/90 [00:14&lt;00:00, 43.00it/s, loss=0.28, acc=78.6]"
      }
     },
     "ab1a1905bc62444c8ec5496bea61ab21": {
      "model_module": "@jupyter-widgets/controls",
      "model_module_version": "2.0.0",
      "model_name": "HTMLModel",
      "state": {
       "layout": "IPY_MODEL_c269576d75c340fb857b9710898a002a",
       "style": "IPY_MODEL_355a2832ec5b45d09ae5c3080adccc63",
       "value": " 90/90 [00:02&lt;00:00, 43.08it/s, loss=0.278, acc=78.8]"
      }
     },
     "ab2592b3626349ea856ac6b1e61a1aaa": {
      "model_module": "@jupyter-widgets/base",
      "model_module_version": "2.0.0",
      "model_name": "LayoutModel",
      "state": {}
     },
     "ab3ec19a269241768418b748cee8c07b": {
      "model_module": "@jupyter-widgets/controls",
      "model_module_version": "2.0.0",
      "model_name": "FloatProgressModel",
      "state": {
       "layout": "IPY_MODEL_0a9387fc35cd4dc194196f877f8f5deb",
       "max": 90,
       "style": "IPY_MODEL_4ab1f28a9bc84fd5912799b87320aa01",
       "value": 90
      }
     },
     "ab550c7729cc4e62879c637987f66daa": {
      "model_module": "@jupyter-widgets/base",
      "model_module_version": "2.0.0",
      "model_name": "LayoutModel",
      "state": {}
     },
     "ab55201a57804049b8e4b1b03bce0df5": {
      "model_module": "@jupyter-widgets/controls",
      "model_module_version": "2.0.0",
      "model_name": "HTMLStyleModel",
      "state": {
       "description_width": "",
       "font_size": null,
       "text_color": null
      }
     },
     "ab65c4242a5c4e67a545157bdd83be19": {
      "model_module": "@jupyter-widgets/controls",
      "model_module_version": "2.0.0",
      "model_name": "HTMLStyleModel",
      "state": {
       "description_width": "",
       "font_size": null,
       "text_color": null
      }
     },
     "ab6c74ebb5634c3c944e685777e55c4e": {
      "model_module": "@jupyter-widgets/controls",
      "model_module_version": "2.0.0",
      "model_name": "HTMLStyleModel",
      "state": {
       "description_width": "",
       "font_size": null,
       "text_color": null
      }
     },
     "ac251e561ff74da68b4c289ac5145103": {
      "model_module": "@jupyter-widgets/controls",
      "model_module_version": "2.0.0",
      "model_name": "HTMLStyleModel",
      "state": {
       "description_width": "",
       "font_size": null,
       "text_color": null
      }
     },
     "ac3fb645e44e446bb17a824da94599dd": {
      "model_module": "@jupyter-widgets/base",
      "model_module_version": "2.0.0",
      "model_name": "LayoutModel",
      "state": {}
     },
     "ac674c489df148feb44c6b6ff3211ac5": {
      "model_module": "@jupyter-widgets/controls",
      "model_module_version": "2.0.0",
      "model_name": "HTMLStyleModel",
      "state": {
       "description_width": "",
       "font_size": null,
       "text_color": null
      }
     },
     "ac8c8fa0b1754bf59cf7bd95d5fb58b0": {
      "model_module": "@jupyter-widgets/controls",
      "model_module_version": "2.0.0",
      "model_name": "ProgressStyleModel",
      "state": {
       "description_width": ""
      }
     },
     "ac90d68c839a48e7af4c491aad092012": {
      "model_module": "@jupyter-widgets/base",
      "model_module_version": "2.0.0",
      "model_name": "LayoutModel",
      "state": {
       "display": "inline-flex",
       "flex_flow": "row wrap",
       "width": "100%"
      }
     },
     "acb7a2a273c14be883edf18c9efb4822": {
      "model_module": "@jupyter-widgets/controls",
      "model_module_version": "2.0.0",
      "model_name": "FloatProgressModel",
      "state": {
       "layout": "IPY_MODEL_1df9e960337342b6bf75a483bb6b8538",
       "max": 90,
       "style": "IPY_MODEL_a2c038df6d794d9daf63ea0c2928dd10",
       "value": 90
      }
     },
     "acf93089a5804b1cacc5951c526d3768": {
      "model_module": "@jupyter-widgets/controls",
      "model_module_version": "2.0.0",
      "model_name": "HTMLModel",
      "state": {
       "layout": "IPY_MODEL_adaa58cd534c472582dbb7cd0afad887",
       "style": "IPY_MODEL_ee6c746e0390414390554b0ff9dc0fec",
       "value": "Validating: 100%"
      }
     },
     "ad0a449c97044be6b0aad59214795548": {
      "model_module": "@jupyter-widgets/controls",
      "model_module_version": "2.0.0",
      "model_name": "HTMLModel",
      "state": {
       "layout": "IPY_MODEL_32ae804028094cb796833dbcdcb0e5b7",
       "style": "IPY_MODEL_e4155f4bcf134a8498e4ec9f226ad5d1",
       "value": " 358/3580 [28:43&lt;03:28, 15.47it/s, loss=1.39, lr=0.0003]"
      }
     },
     "ad24118fe67c49e3a0b979ef0f9fde5c": {
      "model_module": "@jupyter-widgets/controls",
      "model_module_version": "2.0.0",
      "model_name": "HTMLStyleModel",
      "state": {
       "description_width": "",
       "font_size": null,
       "text_color": null
      }
     },
     "ad5e7d35c6b6485aa6e6bf798764ac30": {
      "model_module": "@jupyter-widgets/controls",
      "model_module_version": "2.0.0",
      "model_name": "HTMLStyleModel",
      "state": {
       "description_width": "",
       "font_size": null,
       "text_color": null
      }
     },
     "adaa58cd534c472582dbb7cd0afad887": {
      "model_module": "@jupyter-widgets/base",
      "model_module_version": "2.0.0",
      "model_name": "LayoutModel",
      "state": {}
     },
     "add0677f26604ee394ba02efc0c5d241": {
      "model_module": "@jupyter-widgets/controls",
      "model_module_version": "2.0.0",
      "model_name": "HTMLModel",
      "state": {
       "layout": "IPY_MODEL_084264e6f30e405ea9afd3f7b6b5a645",
       "style": "IPY_MODEL_1761f8c338e5450296d36f49a074f08e",
       "value": "Validating: 100%"
      }
     },
     "ade5c90e1a6b4405b2af96afd975d335": {
      "model_module": "@jupyter-widgets/controls",
      "model_module_version": "2.0.0",
      "model_name": "HTMLStyleModel",
      "state": {
       "description_width": "",
       "font_size": null,
       "text_color": null
      }
     },
     "ae751b53b1fc4edbb950a2719fd00bec": {
      "model_module": "@jupyter-widgets/base",
      "model_module_version": "2.0.0",
      "model_name": "LayoutModel",
      "state": {
       "flex": "2"
      }
     },
     "aea26395e06d4d8882892f1bc2c31dfb": {
      "model_module": "@jupyter-widgets/controls",
      "model_module_version": "2.0.0",
      "model_name": "HTMLModel",
      "state": {
       "layout": "IPY_MODEL_6015a136967e44b88b660ed87e146602",
       "style": "IPY_MODEL_ac674c489df148feb44c6b6ff3211ac5",
       "value": "Validating: 100%"
      }
     },
     "aeabf1604e3443179ebdec766b9db479": {
      "model_module": "@jupyter-widgets/base",
      "model_module_version": "2.0.0",
      "model_name": "LayoutModel",
      "state": {
       "display": "inline-flex",
       "flex_flow": "row wrap",
       "width": "100%"
      }
     },
     "aefed4ae91264c32a27d6ee730f1c8f5": {
      "model_module": "@jupyter-widgets/controls",
      "model_module_version": "2.0.0",
      "model_name": "HTMLModel",
      "state": {
       "layout": "IPY_MODEL_3a31813a0d154d388ca61f5aa304ae6d",
       "style": "IPY_MODEL_7d229d4c47844578918f5742d019ea9a",
       "value": " 90/90 [00:05&lt;00:00, 18.50it/s]"
      }
     },
     "afa7d3471d9745e2a4a68b942785a800": {
      "model_module": "@jupyter-widgets/base",
      "model_module_version": "2.0.0",
      "model_name": "LayoutModel",
      "state": {}
     },
     "afe21894fb294e68bcc3362a4a7c5793": {
      "model_module": "@jupyter-widgets/controls",
      "model_module_version": "2.0.0",
      "model_name": "FloatProgressModel",
      "state": {
       "layout": "IPY_MODEL_33c24177ca094af8b5120401304c38e9",
       "max": 90,
       "style": "IPY_MODEL_cf9487d08a094d0ab877a68aab6235c0",
       "value": 90
      }
     },
     "b012f5c3d0c3411ebe966dad103dc9d4": {
      "model_module": "@jupyter-widgets/controls",
      "model_module_version": "2.0.0",
      "model_name": "FloatProgressModel",
      "state": {
       "bar_style": "success",
       "layout": "IPY_MODEL_50fb719e161a4404a724964c6daa3eb4",
       "max": 3580,
       "style": "IPY_MODEL_94afd24c131543c4bfb379fe9d0e8b84",
       "value": 3580
      }
     },
     "b08746042c58429ea8776f76f1c454dd": {
      "model_module": "@jupyter-widgets/controls",
      "model_module_version": "2.0.0",
      "model_name": "HTMLModel",
      "state": {
       "layout": "IPY_MODEL_591da4e58a82452a958aa47e9bf48c6f",
       "style": "IPY_MODEL_a45834a4f234409eb9f5e66fe37511b5",
       "value": " 90/90 [00:02&lt;00:00, 43.52it/s, loss=0.476, acc=72.6]"
      }
     },
     "b0ea1d15ff774e22a166715773400857": {
      "model_module": "@jupyter-widgets/base",
      "model_module_version": "2.0.0",
      "model_name": "LayoutModel",
      "state": {}
     },
     "b15690f7385f4706b4007c5f2fa84e8a": {
      "model_module": "@jupyter-widgets/controls",
      "model_module_version": "2.0.0",
      "model_name": "HTMLStyleModel",
      "state": {
       "description_width": "",
       "font_size": null,
       "text_color": null
      }
     },
     "b186738515d74fd6b629733aaef4d7b1": {
      "model_module": "@jupyter-widgets/controls",
      "model_module_version": "2.0.0",
      "model_name": "HTMLStyleModel",
      "state": {
       "description_width": "",
       "font_size": null,
       "text_color": null
      }
     },
     "b1b258f0e07945b6a52bd435d7805256": {
      "model_module": "@jupyter-widgets/base",
      "model_module_version": "2.0.0",
      "model_name": "LayoutModel",
      "state": {
       "flex": "2"
      }
     },
     "b1f707e565224a91b4951b7e973d8714": {
      "model_module": "@jupyter-widgets/base",
      "model_module_version": "2.0.0",
      "model_name": "LayoutModel",
      "state": {
       "flex": "2"
      }
     },
     "b1fd0a7be8e946f8a292d5fcb1d9a596": {
      "model_module": "@jupyter-widgets/controls",
      "model_module_version": "2.0.0",
      "model_name": "FloatProgressModel",
      "state": {
       "layout": "IPY_MODEL_42cce71894834bda945d4c244990d6fe",
       "max": 90,
       "style": "IPY_MODEL_87a5ffc38f0d466ca510b5e57731aec2",
       "value": 90
      }
     },
     "b1ff4a27f5834c7695cb935bfb6106ea": {
      "model_module": "@jupyter-widgets/controls",
      "model_module_version": "2.0.0",
      "model_name": "HTMLStyleModel",
      "state": {
       "description_width": "",
       "font_size": null,
       "text_color": null
      }
     },
     "b252073aeb1a4a8da4fbb11866576596": {
      "model_module": "@jupyter-widgets/controls",
      "model_module_version": "2.0.0",
      "model_name": "HTMLModel",
      "state": {
       "layout": "IPY_MODEL_343be2dc70dd4fa9b366a6e1ec87adf0",
       "style": "IPY_MODEL_66f1b5a13ba9415d8a6a0a93b2adceeb",
       "value": "Predicting: 100%"
      }
     },
     "b2e7557bc3bf42c0879f010ba04cbde6": {
      "model_module": "@jupyter-widgets/controls",
      "model_module_version": "2.0.0",
      "model_name": "HTMLModel",
      "state": {
       "layout": "IPY_MODEL_54106c2e8ce24dab90f66878d736d4e4",
       "style": "IPY_MODEL_7d84db93781d40068b3a9aa7ef583a23",
       "value": "Validating: 100%"
      }
     },
     "b327a2b5fb724a599cf7f65edd1221ee": {
      "model_module": "@jupyter-widgets/controls",
      "model_module_version": "2.0.0",
      "model_name": "HBoxModel",
      "state": {
       "children": [
        "IPY_MODEL_7d74ff1926c8412aa86861b1ab9014b7",
        "IPY_MODEL_93492447f66e4880b18e2c381ea7bdf9",
        "IPY_MODEL_82a98e37c27646ce965bef1ebf2a1f9d"
       ],
       "layout": "IPY_MODEL_32107e46e6f943dcb7d2d5232572feae"
      }
     },
     "b35a1f5375714cbcb81f2f616d4a7a59": {
      "model_module": "@jupyter-widgets/controls",
      "model_module_version": "2.0.0",
      "model_name": "FloatProgressModel",
      "state": {
       "bar_style": "success",
       "layout": "IPY_MODEL_e2f8c3d481ac4733a5ff1b4ad0ede3fc",
       "max": 90,
       "style": "IPY_MODEL_a95ccf26b80940f7a5b9996f87ab2616",
       "value": 90
      }
     },
     "b397048532e24d84880c684ef46e0eab": {
      "model_module": "@jupyter-widgets/controls",
      "model_module_version": "2.0.0",
      "model_name": "ProgressStyleModel",
      "state": {
       "description_width": ""
      }
     },
     "b398c00b78c44b66a9eb0a15a11ca462": {
      "model_module": "@jupyter-widgets/controls",
      "model_module_version": "2.0.0",
      "model_name": "HTMLModel",
      "state": {
       "layout": "IPY_MODEL_883f17b5b703417bbfb1940d5f0575cb",
       "style": "IPY_MODEL_404b6ac3bb744b4ebf1cfe93b138d05f",
       "value": " 90/90 [00:02&lt;00:00, 43.70it/s, loss=0.369, acc=78.9]"
      }
     },
     "b3e725cd02824087bf88298e1e148644": {
      "model_module": "@jupyter-widgets/controls",
      "model_module_version": "2.0.0",
      "model_name": "FloatProgressModel",
      "state": {
       "layout": "IPY_MODEL_5e66715acdf042c3ba7bfe77ae37ac5c",
       "max": 90,
       "style": "IPY_MODEL_c31337be1efe40a6bb55bcef94b3e51d",
       "value": 90
      }
     },
     "b3fa1f848330476f95173e1832b402cc": {
      "model_module": "@jupyter-widgets/controls",
      "model_module_version": "2.0.0",
      "model_name": "HTMLModel",
      "state": {
       "layout": "IPY_MODEL_bc92c5eeef09493ea00cd64450eb7ea5",
       "style": "IPY_MODEL_38129413d6b84a44941e9a2c452043f1",
       "value": "Fold: 0  Epoch: 1/10:  10%"
      }
     },
     "b4066afefa774f0a91b9d49ab39e5bfe": {
      "model_module": "@jupyter-widgets/controls",
      "model_module_version": "2.0.0",
      "model_name": "HTMLModel",
      "state": {
       "layout": "IPY_MODEL_59040639bc4044f9a98ef84e0b1cab9e",
       "style": "IPY_MODEL_ee2fe5d373f84c2998b32f88536ea068",
       "value": " 90/90 [00:02&lt;00:00, 39.67it/s, loss=0.572, acc=68.7]"
      }
     },
     "b433501b38fc42a3987bc310775e1918": {
      "model_module": "@jupyter-widgets/base",
      "model_module_version": "2.0.0",
      "model_name": "LayoutModel",
      "state": {}
     },
     "b4f0252ca98d4e6abaa173ba59085afa": {
      "model_module": "@jupyter-widgets/base",
      "model_module_version": "2.0.0",
      "model_name": "LayoutModel",
      "state": {
       "flex": "2"
      }
     },
     "b50d0888184d42f496a28ca6c72d1f0c": {
      "model_module": "@jupyter-widgets/controls",
      "model_module_version": "2.0.0",
      "model_name": "FloatProgressModel",
      "state": {
       "layout": "IPY_MODEL_dfd92f51fe784703beedd65196c334fd",
       "max": 90,
       "style": "IPY_MODEL_d9211a6274a74fb894443d5a8cee9acc",
       "value": 90
      }
     },
     "b54bde9cd7c240028de11720023e8be2": {
      "model_module": "@jupyter-widgets/controls",
      "model_module_version": "2.0.0",
      "model_name": "HTMLStyleModel",
      "state": {
       "description_width": "",
       "font_size": null,
       "text_color": null
      }
     },
     "b55dad32c64b4102bb5855160cfb4a44": {
      "model_module": "@jupyter-widgets/base",
      "model_module_version": "2.0.0",
      "model_name": "LayoutModel",
      "state": {
       "display": "inline-flex",
       "flex_flow": "row wrap",
       "width": "100%"
      }
     },
     "b56a90c43c844719b87686c6a21d067f": {
      "model_module": "@jupyter-widgets/controls",
      "model_module_version": "2.0.0",
      "model_name": "HTMLStyleModel",
      "state": {
       "description_width": "",
       "font_size": null,
       "text_color": null
      }
     },
     "b579bd45b088456a804c3310357fb8da": {
      "model_module": "@jupyter-widgets/controls",
      "model_module_version": "2.0.0",
      "model_name": "HTMLModel",
      "state": {
       "layout": "IPY_MODEL_f8bee661f8ff4cdb8c4cbccf63d17136",
       "style": "IPY_MODEL_efe3269c5cb94d52b05dffa1a4ded327",
       "value": "Validating:   0%"
      }
     },
     "b5885921c1d04d0ab903252025ea098c": {
      "model_module": "@jupyter-widgets/controls",
      "model_module_version": "2.0.0",
      "model_name": "FloatProgressModel",
      "state": {
       "layout": "IPY_MODEL_c85dfa95a2704e85a1d8a9f95c0de9a9",
       "max": 90,
       "style": "IPY_MODEL_e0854302489c450f96ff3f22f7494779",
       "value": 90
      }
     },
     "b589d45e6f174707ada6a09974a04923": {
      "model_module": "@jupyter-widgets/base",
      "model_module_version": "2.0.0",
      "model_name": "LayoutModel",
      "state": {
       "flex": "2"
      }
     },
     "b58b818a161046c8bbe9ed6a5bbaaea0": {
      "model_module": "@jupyter-widgets/base",
      "model_module_version": "2.0.0",
      "model_name": "LayoutModel",
      "state": {
       "flex": "2"
      }
     },
     "b6522baea9ce4fb8a129a33b4ec4bbfa": {
      "model_module": "@jupyter-widgets/base",
      "model_module_version": "2.0.0",
      "model_name": "LayoutModel",
      "state": {
       "display": "inline-flex",
       "flex_flow": "row wrap",
       "width": "100%"
      }
     },
     "b68e75bc01cb408897718e26659b632f": {
      "model_module": "@jupyter-widgets/base",
      "model_module_version": "2.0.0",
      "model_name": "LayoutModel",
      "state": {}
     },
     "b6cdc29d24024aba9076f1b3cd8e815e": {
      "model_module": "@jupyter-widgets/controls",
      "model_module_version": "2.0.0",
      "model_name": "ProgressStyleModel",
      "state": {
       "description_width": ""
      }
     },
     "b6e359fe0a4a410a9843deb4746d2377": {
      "model_module": "@jupyter-widgets/base",
      "model_module_version": "2.0.0",
      "model_name": "LayoutModel",
      "state": {
       "display": "inline-flex",
       "flex_flow": "row wrap",
       "width": "100%"
      }
     },
     "b6fe648aa31c479da209ffd72b29a239": {
      "model_module": "@jupyter-widgets/controls",
      "model_module_version": "2.0.0",
      "model_name": "FloatProgressModel",
      "state": {
       "bar_style": "success",
       "layout": "IPY_MODEL_0f27f4e7ce87409e8e7837d9efa8aa6c",
       "max": 3580,
       "style": "IPY_MODEL_24ba94c1ecb34b0b93a2123cfa04496e",
       "value": 3580
      }
     },
     "b76c46572909423e98dfb08b95e16555": {
      "model_module": "@jupyter-widgets/controls",
      "model_module_version": "2.0.0",
      "model_name": "ProgressStyleModel",
      "state": {
       "description_width": ""
      }
     },
     "b77625bc838e49a1b8ae80a022645406": {
      "model_module": "@jupyter-widgets/controls",
      "model_module_version": "2.0.0",
      "model_name": "HTMLStyleModel",
      "state": {
       "description_width": "",
       "font_size": null,
       "text_color": null
      }
     },
     "b78185b43bb540859d6f7fc498c7f62d": {
      "model_module": "@jupyter-widgets/controls",
      "model_module_version": "2.0.0",
      "model_name": "FloatProgressModel",
      "state": {
       "layout": "IPY_MODEL_26b45d29770f4ebf8c23f5a2ec4e1dbb",
       "max": 90,
       "style": "IPY_MODEL_1e34b12f14a24294984501a116495c3a",
       "value": 90
      }
     },
     "b798c95b475e4a7bbc2367c0dd208437": {
      "model_module": "@jupyter-widgets/controls",
      "model_module_version": "2.0.0",
      "model_name": "FloatProgressModel",
      "state": {
       "layout": "IPY_MODEL_34eb5c58a7f44e8b9dd23b7296246fe4",
       "max": 90,
       "style": "IPY_MODEL_d73b2b8a44ce4dd38359cd38a892246b",
       "value": 90
      }
     },
     "b79d380a1b954f55adb73ab2d3ca0594": {
      "model_module": "@jupyter-widgets/base",
      "model_module_version": "2.0.0",
      "model_name": "LayoutModel",
      "state": {
       "display": "inline-flex",
       "flex_flow": "row wrap",
       "width": "100%"
      }
     },
     "b7a5dc6ae24c4a5481368e58ae766672": {
      "model_module": "@jupyter-widgets/controls",
      "model_module_version": "2.0.0",
      "model_name": "FloatProgressModel",
      "state": {
       "layout": "IPY_MODEL_f6520edc1ab147798f51d7a21bee91eb",
       "max": 90,
       "style": "IPY_MODEL_76163241d97b49eeb15a48e2b076404d",
       "value": 90
      }
     },
     "b7e389a3a89044df9cda30ed658a575d": {
      "model_module": "@jupyter-widgets/controls",
      "model_module_version": "2.0.0",
      "model_name": "HTMLModel",
      "state": {
       "layout": "IPY_MODEL_79d59fef995045b98a8892644b9109b8",
       "style": "IPY_MODEL_4f36cf0de1604903a627e5672d602ada",
       "value": "Validating: 100%"
      }
     },
     "b83c766186b44f288fd99224ebe96fec": {
      "model_module": "@jupyter-widgets/base",
      "model_module_version": "2.0.0",
      "model_name": "LayoutModel",
      "state": {
       "flex": "2"
      }
     },
     "b850cdfdd00d4ebaa55ffdf718707ff3": {
      "model_module": "@jupyter-widgets/controls",
      "model_module_version": "2.0.0",
      "model_name": "ProgressStyleModel",
      "state": {
       "description_width": ""
      }
     },
     "b854661563174158a2945458096f1f28": {
      "model_module": "@jupyter-widgets/base",
      "model_module_version": "2.0.0",
      "model_name": "LayoutModel",
      "state": {}
     },
     "b88d27bbb1b641ffb78c7b72bad51b5e": {
      "model_module": "@jupyter-widgets/controls",
      "model_module_version": "2.0.0",
      "model_name": "HTMLStyleModel",
      "state": {
       "description_width": "",
       "font_size": null,
       "text_color": null
      }
     },
     "b90fdca6578b45b181e4d050176b6429": {
      "model_module": "@jupyter-widgets/controls",
      "model_module_version": "2.0.0",
      "model_name": "ProgressStyleModel",
      "state": {
       "description_width": ""
      }
     },
     "b91112e771ed4798abf292e594b8dc6a": {
      "model_module": "@jupyter-widgets/base",
      "model_module_version": "2.0.0",
      "model_name": "LayoutModel",
      "state": {
       "flex": "2"
      }
     },
     "b98418103e3f4ed38098e0213736dfe2": {
      "model_module": "@jupyter-widgets/controls",
      "model_module_version": "2.0.0",
      "model_name": "HTMLModel",
      "state": {
       "layout": "IPY_MODEL_c2df51928102438a9b503684f5e985b9",
       "style": "IPY_MODEL_1e8d9db886f44634b16f02ebfdb53895",
       "value": " 90/90 [00:02&lt;00:00, 39.77it/s, loss=0.356, acc=79.6]"
      }
     },
     "b98f98b6ea47439db647ac0e0ca4fdfc": {
      "model_module": "@jupyter-widgets/controls",
      "model_module_version": "2.0.0",
      "model_name": "FloatProgressModel",
      "state": {
       "layout": "IPY_MODEL_73b5d0dbeaf04f7d9c7f9b3f1184df7c",
       "max": 90,
       "style": "IPY_MODEL_db12645cfdea4005855f2c5822dd3c8c",
       "value": 90
      }
     },
     "b9bdc9c385e14dc8873bea84df2835cf": {
      "model_module": "@jupyter-widgets/base",
      "model_module_version": "2.0.0",
      "model_name": "LayoutModel",
      "state": {
       "flex": "2"
      }
     },
     "b9c6e3916b4f4b888ce6c03d68cd65e3": {
      "model_module": "@jupyter-widgets/controls",
      "model_module_version": "2.0.0",
      "model_name": "HTMLModel",
      "state": {
       "layout": "IPY_MODEL_b854661563174158a2945458096f1f28",
       "style": "IPY_MODEL_0ef45166085e4761a0af7403155e11ec",
       "value": "Validating: 100%"
      }
     },
     "b9f5155f6b404922a6887e9e0d30d477": {
      "model_module": "@jupyter-widgets/base",
      "model_module_version": "2.0.0",
      "model_name": "LayoutModel",
      "state": {
       "flex": "2"
      }
     },
     "ba2b78fb66e1415dbc95def4feb3d892": {
      "model_module": "@jupyter-widgets/controls",
      "model_module_version": "2.0.0",
      "model_name": "ProgressStyleModel",
      "state": {
       "description_width": ""
      }
     },
     "ba6d6f371fe646d49ff8856fc1c5142e": {
      "model_module": "@jupyter-widgets/base",
      "model_module_version": "2.0.0",
      "model_name": "LayoutModel",
      "state": {}
     },
     "ba87e741ce5a4fc5938e604e6ccca4e1": {
      "model_module": "@jupyter-widgets/base",
      "model_module_version": "2.0.0",
      "model_name": "LayoutModel",
      "state": {}
     },
     "ba92dd6f04464146819e71051b1b43ff": {
      "model_module": "@jupyter-widgets/base",
      "model_module_version": "2.0.0",
      "model_name": "LayoutModel",
      "state": {}
     },
     "ba93cca5d3bc4770b91af2a4167e0958": {
      "model_module": "@jupyter-widgets/controls",
      "model_module_version": "2.0.0",
      "model_name": "HTMLStyleModel",
      "state": {
       "description_width": "",
       "font_size": null,
       "text_color": null
      }
     },
     "baa6c91a70df4e4b9211ed9054fed0b8": {
      "model_module": "@jupyter-widgets/controls",
      "model_module_version": "2.0.0",
      "model_name": "HTMLModel",
      "state": {
       "layout": "IPY_MODEL_78f822c0df6849a8a1d3c056ee7620ee",
       "style": "IPY_MODEL_13b67f263cc944b6a43ce731c761f0d2",
       "value": "Validating: 100%"
      }
     },
     "bab2c2693cde4f408b54ddd7d92a0095": {
      "model_module": "@jupyter-widgets/base",
      "model_module_version": "2.0.0",
      "model_name": "LayoutModel",
      "state": {}
     },
     "bad3740d0459434d974915f325630c73": {
      "model_module": "@jupyter-widgets/controls",
      "model_module_version": "2.0.0",
      "model_name": "HTMLModel",
      "state": {
       "layout": "IPY_MODEL_cef2492e1128483ebfe49c8339fb9b33",
       "style": "IPY_MODEL_659bb4f05a9a4cfda0cabaa36a4dbc90",
       "value": " 90/90 [00:02&lt;00:00, 43.56it/s, loss=0.491, acc=73.9]"
      }
     },
     "bada3d3af0bd4f848ae2d8f532a026f3": {
      "model_module": "@jupyter-widgets/base",
      "model_module_version": "2.0.0",
      "model_name": "LayoutModel",
      "state": {}
     },
     "baff3499557c4ce7a4283fd48eba4e8f": {
      "model_module": "@jupyter-widgets/controls",
      "model_module_version": "2.0.0",
      "model_name": "HTMLModel",
      "state": {
       "layout": "IPY_MODEL_94bd41da09f84752913d9b796d453b19",
       "style": "IPY_MODEL_1f4a404ff8af42819f3e0eb6ae155fd6",
       "value": " 90/90 [00:02&lt;00:00, 42.92it/s, loss=0.584, acc=66.9]"
      }
     },
     "bb09434c426c4006b0c4e771a3a1d7d8": {
      "model_module": "@jupyter-widgets/controls",
      "model_module_version": "2.0.0",
      "model_name": "HTMLStyleModel",
      "state": {
       "description_width": "",
       "font_size": null,
       "text_color": null
      }
     },
     "bb0db4c0ec1644b19f05f9857ad7f458": {
      "model_module": "@jupyter-widgets/base",
      "model_module_version": "2.0.0",
      "model_name": "LayoutModel",
      "state": {}
     },
     "bb2f7ceb90ca4997b0b2b306bf7a949f": {
      "model_module": "@jupyter-widgets/base",
      "model_module_version": "2.0.0",
      "model_name": "LayoutModel",
      "state": {}
     },
     "bb510ab43b1648f48c3c1a16137b2eff": {
      "model_module": "@jupyter-widgets/controls",
      "model_module_version": "2.0.0",
      "model_name": "HTMLModel",
      "state": {
       "layout": "IPY_MODEL_64fddfbd9dc64610a3276fd1da7e6ebe",
       "style": "IPY_MODEL_01410fe523034c7eb259afb1836e4f02",
       "value": "Validating: 100%"
      }
     },
     "bb75d5207e7a4ee09742ff9a3f2fa963": {
      "model_module": "@jupyter-widgets/controls",
      "model_module_version": "2.0.0",
      "model_name": "HTMLModel",
      "state": {
       "layout": "IPY_MODEL_6928a84f44a7464bad09d579c0408119",
       "style": "IPY_MODEL_f98511d68f234885b773436dd61d17ea",
       "value": "Validating: 100%"
      }
     },
     "bba8d9709f9f41cc9b0b264c89790ff8": {
      "model_module": "@jupyter-widgets/controls",
      "model_module_version": "2.0.0",
      "model_name": "ProgressStyleModel",
      "state": {
       "description_width": ""
      }
     },
     "bc0cd089f10c41228471bde8650c4c0e": {
      "model_module": "@jupyter-widgets/controls",
      "model_module_version": "2.0.0",
      "model_name": "HTMLModel",
      "state": {
       "layout": "IPY_MODEL_846c7b5d5f54476ba50928d8abe7e8d1",
       "style": "IPY_MODEL_9a0aad334b634a8a979805ed5aa7ccde",
       "value": "Validating: 100%"
      }
     },
     "bc593cd12c3643cfbc041d30a6e81e6e": {
      "model_module": "@jupyter-widgets/controls",
      "model_module_version": "2.0.0",
      "model_name": "HTMLModel",
      "state": {
       "layout": "IPY_MODEL_76cbb9dcbdf547f18e127a258d932396",
       "style": "IPY_MODEL_479c3a0a472442a38c630822a4496f3d",
       "value": "Fold: 2  Epoch: 10/10: 100%"
      }
     },
     "bc5e3cb570404b89948378c18e94c68c": {
      "model_module": "@jupyter-widgets/controls",
      "model_module_version": "2.0.0",
      "model_name": "HTMLStyleModel",
      "state": {
       "description_width": "",
       "font_size": null,
       "text_color": null
      }
     },
     "bc6e3d3c7d94471e9b4c067a9194b326": {
      "model_module": "@jupyter-widgets/controls",
      "model_module_version": "2.0.0",
      "model_name": "HTMLStyleModel",
      "state": {
       "description_width": "",
       "font_size": null,
       "text_color": null
      }
     },
     "bc88ff19844a4f76b37933773f2a70b3": {
      "model_module": "@jupyter-widgets/base",
      "model_module_version": "2.0.0",
      "model_name": "LayoutModel",
      "state": {
       "display": "inline-flex",
       "flex_flow": "row wrap",
       "width": "100%"
      }
     },
     "bc92c5eeef09493ea00cd64450eb7ea5": {
      "model_module": "@jupyter-widgets/base",
      "model_module_version": "2.0.0",
      "model_name": "LayoutModel",
      "state": {}
     },
     "bcedb0e8a1fc4217a814525f07499438": {
      "model_module": "@jupyter-widgets/controls",
      "model_module_version": "2.0.0",
      "model_name": "FloatProgressModel",
      "state": {
       "bar_style": "success",
       "layout": "IPY_MODEL_0e31f5d6d74c486ebecc8264a640fb59",
       "max": 90,
       "style": "IPY_MODEL_a592286338e648e99ffe2be38eb0131d",
       "value": 90
      }
     },
     "bd037326c67a471bab0b41c97cc624c3": {
      "model_module": "@jupyter-widgets/controls",
      "model_module_version": "2.0.0",
      "model_name": "ProgressStyleModel",
      "state": {
       "description_width": ""
      }
     },
     "bd505c50ae6c4998b08651a2d73d49b7": {
      "model_module": "@jupyter-widgets/controls",
      "model_module_version": "2.0.0",
      "model_name": "HTMLStyleModel",
      "state": {
       "description_width": "",
       "font_size": null,
       "text_color": null
      }
     },
     "bd6264efc9744bb9b4aa9b0000e53f51": {
      "model_module": "@jupyter-widgets/base",
      "model_module_version": "2.0.0",
      "model_name": "LayoutModel",
      "state": {}
     },
     "be00e071d5394a93a80773a5354e142f": {
      "model_module": "@jupyter-widgets/controls",
      "model_module_version": "2.0.0",
      "model_name": "FloatProgressModel",
      "state": {
       "layout": "IPY_MODEL_94b7b7c916904309acd9b8d930814b34",
       "max": 90,
       "style": "IPY_MODEL_2926d051f96d41f3869c184a5ae35c25",
       "value": 90
      }
     },
     "be1af377f5df457daaad24354f72721b": {
      "model_module": "@jupyter-widgets/controls",
      "model_module_version": "2.0.0",
      "model_name": "HTMLModel",
      "state": {
       "layout": "IPY_MODEL_ec63f9a05ae54eecb998bc434e2f4d1b",
       "style": "IPY_MODEL_5462c81b90e14a71b903aa9ab048f24d",
       "value": " 90/90 [00:02&lt;00:00, 39.91it/s, loss=0.372, acc=78.4]"
      }
     },
     "be243945c33e4977962add7666d1b895": {
      "model_module": "@jupyter-widgets/controls",
      "model_module_version": "2.0.0",
      "model_name": "FloatProgressModel",
      "state": {
       "layout": "IPY_MODEL_de71dabf578043da86d253317d8dd8ff",
       "max": 90,
       "style": "IPY_MODEL_3e1d5cfa78ca4ea99961706b372ee7e0",
       "value": 90
      }
     },
     "bea3836fbc304f718311be0bdd4fd9e8": {
      "model_module": "@jupyter-widgets/base",
      "model_module_version": "2.0.0",
      "model_name": "LayoutModel",
      "state": {
       "display": "inline-flex",
       "flex_flow": "row wrap",
       "width": "100%"
      }
     },
     "bedd718e4c9a4814928d01cdf2e07343": {
      "model_module": "@jupyter-widgets/base",
      "model_module_version": "2.0.0",
      "model_name": "LayoutModel",
      "state": {
       "display": "inline-flex",
       "flex_flow": "row wrap",
       "width": "100%"
      }
     },
     "bf1fab02187b4c4dba92dd084104dadc": {
      "model_module": "@jupyter-widgets/controls",
      "model_module_version": "2.0.0",
      "model_name": "ProgressStyleModel",
      "state": {
       "description_width": ""
      }
     },
     "bf2610a4ed074cea97c86743304f770d": {
      "model_module": "@jupyter-widgets/controls",
      "model_module_version": "2.0.0",
      "model_name": "FloatProgressModel",
      "state": {
       "layout": "IPY_MODEL_4edba82583b9475f98b292e13fc84ac9",
       "max": 90,
       "style": "IPY_MODEL_144d5dcb383f4683bdf727b267f00d02",
       "value": 90
      }
     },
     "bf3993c0c33c4db5bd0f78acb9da7613": {
      "model_module": "@jupyter-widgets/controls",
      "model_module_version": "2.0.0",
      "model_name": "HTMLStyleModel",
      "state": {
       "description_width": "",
       "font_size": null,
       "text_color": null
      }
     },
     "bf497e8cda134823a09841570cafb1d7": {
      "model_module": "@jupyter-widgets/base",
      "model_module_version": "2.0.0",
      "model_name": "LayoutModel",
      "state": {
       "flex": "2"
      }
     },
     "bfcb1b81ea384dc2b6bd38566d3bfe06": {
      "model_module": "@jupyter-widgets/base",
      "model_module_version": "2.0.0",
      "model_name": "LayoutModel",
      "state": {
       "flex": "2"
      }
     },
     "bfd78a6537e34b2ba8ddc5c791c65fd6": {
      "model_module": "@jupyter-widgets/controls",
      "model_module_version": "2.0.0",
      "model_name": "HTMLStyleModel",
      "state": {
       "description_width": "",
       "font_size": null,
       "text_color": null
      }
     },
     "bff1b269c29143afa45999c2dbdc8b33": {
      "model_module": "@jupyter-widgets/controls",
      "model_module_version": "2.0.0",
      "model_name": "HBoxModel",
      "state": {
       "children": [
        "IPY_MODEL_4e90e0f30d23478da4ba952aeed35d18",
        "IPY_MODEL_5673acc3b0d94f0e8eea0b6508267b77",
        "IPY_MODEL_55b02eca68d942458f340d9f8a5924bb"
       ],
       "layout": "IPY_MODEL_d547a7195e5241cfaae0e7c2925800be"
      }
     },
     "c0597e773360493bb3808f0f31240954": {
      "model_module": "@jupyter-widgets/base",
      "model_module_version": "2.0.0",
      "model_name": "LayoutModel",
      "state": {}
     },
     "c0bdafabeea24e298f9b62c25df107c0": {
      "model_module": "@jupyter-widgets/controls",
      "model_module_version": "2.0.0",
      "model_name": "ProgressStyleModel",
      "state": {
       "description_width": ""
      }
     },
     "c0be5bba597749e9b57b4556a7f4f044": {
      "model_module": "@jupyter-widgets/base",
      "model_module_version": "2.0.0",
      "model_name": "LayoutModel",
      "state": {
       "flex": "2"
      }
     },
     "c0e25b27456a4be89ce8e4a82eb3b650": {
      "model_module": "@jupyter-widgets/base",
      "model_module_version": "2.0.0",
      "model_name": "LayoutModel",
      "state": {
       "flex": "2"
      }
     },
     "c0f37d2fc718465bb6ff0e17632a9469": {
      "model_module": "@jupyter-widgets/controls",
      "model_module_version": "2.0.0",
      "model_name": "HTMLStyleModel",
      "state": {
       "description_width": "",
       "font_size": null,
       "text_color": null
      }
     },
     "c10073fbbde647aeb733e619e4d5958c": {
      "model_module": "@jupyter-widgets/base",
      "model_module_version": "2.0.0",
      "model_name": "LayoutModel",
      "state": {
       "flex": "2"
      }
     },
     "c1713207fa0f4453b4dd880b0440ff80": {
      "model_module": "@jupyter-widgets/controls",
      "model_module_version": "2.0.0",
      "model_name": "HTMLStyleModel",
      "state": {
       "description_width": "",
       "font_size": null,
       "text_color": null
      }
     },
     "c1726113a7f84dae91af47a0387a0fe3": {
      "model_module": "@jupyter-widgets/controls",
      "model_module_version": "2.0.0",
      "model_name": "HTMLModel",
      "state": {
       "layout": "IPY_MODEL_5a569a7885dd4eaf962ffea2c27b2d3f",
       "style": "IPY_MODEL_c1713207fa0f4453b4dd880b0440ff80",
       "value": " 90/90 [00:02&lt;00:00, 39.80it/s, loss=0.335, acc=80.9]"
      }
     },
     "c190b51efdc6479fab9a5e94d5fa8256": {
      "model_module": "@jupyter-widgets/base",
      "model_module_version": "2.0.0",
      "model_name": "LayoutModel",
      "state": {}
     },
     "c1f6e8b355114b51bed21b5bc71ca97a": {
      "model_module": "@jupyter-widgets/controls",
      "model_module_version": "2.0.0",
      "model_name": "FloatProgressModel",
      "state": {
       "bar_style": "success",
       "layout": "IPY_MODEL_a55ff9454c6b4f3b81474daa6dd62de1",
       "max": 3580,
       "style": "IPY_MODEL_220518b002604b07ab0c1de1107d7fda",
       "value": 3580
      }
     },
     "c20acc4126b145868fae6fc9385d602c": {
      "model_module": "@jupyter-widgets/controls",
      "model_module_version": "2.0.0",
      "model_name": "HTMLStyleModel",
      "state": {
       "description_width": "",
       "font_size": null,
       "text_color": null
      }
     },
     "c23f49978cb7423fb48ab8583301c686": {
      "model_module": "@jupyter-widgets/controls",
      "model_module_version": "2.0.0",
      "model_name": "HTMLStyleModel",
      "state": {
       "description_width": "",
       "font_size": null,
       "text_color": null
      }
     },
     "c24b20db5bff4f638695f6f49c51f005": {
      "model_module": "@jupyter-widgets/base",
      "model_module_version": "2.0.0",
      "model_name": "LayoutModel",
      "state": {}
     },
     "c269576d75c340fb857b9710898a002a": {
      "model_module": "@jupyter-widgets/base",
      "model_module_version": "2.0.0",
      "model_name": "LayoutModel",
      "state": {}
     },
     "c274ea4184914d41919d7f7575205ecf": {
      "model_module": "@jupyter-widgets/controls",
      "model_module_version": "2.0.0",
      "model_name": "HTMLModel",
      "state": {
       "layout": "IPY_MODEL_a1a44629fc084e65a783470c8d6737a3",
       "style": "IPY_MODEL_495862330c1e4445b6054a48155676e7",
       "value": " 90/90 [00:02&lt;00:00, 43.12it/s, loss=0.274, acc=79.2]"
      }
     },
     "c2a630dee1974fa69ac7386876956f79": {
      "model_module": "@jupyter-widgets/base",
      "model_module_version": "2.0.0",
      "model_name": "LayoutModel",
      "state": {}
     },
     "c2c761c1fedc45168bde4aacc4848698": {
      "model_module": "@jupyter-widgets/base",
      "model_module_version": "2.0.0",
      "model_name": "LayoutModel",
      "state": {
       "flex": "2"
      }
     },
     "c2d934a2372b432093cf20f49578968d": {
      "model_module": "@jupyter-widgets/controls",
      "model_module_version": "2.0.0",
      "model_name": "HTMLStyleModel",
      "state": {
       "description_width": "",
       "font_size": null,
       "text_color": null
      }
     },
     "c2df51928102438a9b503684f5e985b9": {
      "model_module": "@jupyter-widgets/base",
      "model_module_version": "2.0.0",
      "model_name": "LayoutModel",
      "state": {}
     },
     "c31337be1efe40a6bb55bcef94b3e51d": {
      "model_module": "@jupyter-widgets/controls",
      "model_module_version": "2.0.0",
      "model_name": "ProgressStyleModel",
      "state": {
       "description_width": ""
      }
     },
     "c34b0638ad754dd6a70b515b58681b2b": {
      "model_module": "@jupyter-widgets/base",
      "model_module_version": "2.0.0",
      "model_name": "LayoutModel",
      "state": {
       "flex": "2"
      }
     },
     "c38abae6b84e4cb5a01760fc011cf813": {
      "model_module": "@jupyter-widgets/controls",
      "model_module_version": "2.0.0",
      "model_name": "ProgressStyleModel",
      "state": {
       "description_width": ""
      }
     },
     "c3b28ca14c89458497ac90f074baf108": {
      "model_module": "@jupyter-widgets/controls",
      "model_module_version": "2.0.0",
      "model_name": "HTMLStyleModel",
      "state": {
       "description_width": "",
       "font_size": null,
       "text_color": null
      }
     },
     "c3cae77456e844d493929aa2b5be48dc": {
      "model_module": "@jupyter-widgets/controls",
      "model_module_version": "2.0.0",
      "model_name": "FloatProgressModel",
      "state": {
       "layout": "IPY_MODEL_7f204f996b6d4bcfb32399f41abf8791",
       "max": 90,
       "style": "IPY_MODEL_6558473a790e423f83592dba46f5aaee",
       "value": 90
      }
     },
     "c3edd6ff2ca747c9893bb6f276498eac": {
      "model_module": "@jupyter-widgets/controls",
      "model_module_version": "2.0.0",
      "model_name": "FloatProgressModel",
      "state": {
       "layout": "IPY_MODEL_3db87ae86d564d0ba286e33d29566fcb",
       "max": 90,
       "style": "IPY_MODEL_21eb0dc309124f6d8f9b7cf2a20c85ac",
       "value": 90
      }
     },
     "c3ee729f37144439a4aa841dc73e2629": {
      "model_module": "@jupyter-widgets/base",
      "model_module_version": "2.0.0",
      "model_name": "LayoutModel",
      "state": {}
     },
     "c3f67a4b7a61480a968643ea8a703e68": {
      "model_module": "@jupyter-widgets/controls",
      "model_module_version": "2.0.0",
      "model_name": "HTMLModel",
      "state": {
       "layout": "IPY_MODEL_453a6998f9594a718a39dd8bb276062e",
       "style": "IPY_MODEL_18cc1df94df84614b23ed2db2488b8c6",
       "value": " 90/90 [00:02&lt;00:00, 42.74it/s, loss=0.276, acc=79]"
      }
     },
     "c43a560fa4b94281b25af495024e9973": {
      "model_module": "@jupyter-widgets/controls",
      "model_module_version": "2.0.0",
      "model_name": "HTMLModel",
      "state": {
       "layout": "IPY_MODEL_c941710e3f8943b8a8ee148875af3607",
       "style": "IPY_MODEL_e577fd41f5354019baa2e11a14ad8890",
       "value": "Fold: 2  Epoch: 10/10: 100%"
      }
     },
     "c43bd752666147aeaa93b9ad309e6d1f": {
      "model_module": "@jupyter-widgets/base",
      "model_module_version": "2.0.0",
      "model_name": "LayoutModel",
      "state": {}
     },
     "c458bcc22e4b49c59f46a9110211dbc1": {
      "model_module": "@jupyter-widgets/controls",
      "model_module_version": "2.0.0",
      "model_name": "HTMLModel",
      "state": {
       "layout": "IPY_MODEL_91bcd5856b774669bf3f504a6fd12a14",
       "style": "IPY_MODEL_b56a90c43c844719b87686c6a21d067f",
       "value": "Validating: 100%"
      }
     },
     "c46a337a7db94a1a9d52710d9c45fce8": {
      "model_module": "@jupyter-widgets/base",
      "model_module_version": "2.0.0",
      "model_name": "LayoutModel",
      "state": {
       "display": "inline-flex",
       "flex_flow": "row wrap",
       "width": "100%"
      }
     },
     "c493a3db76754273aca392dfbcda94e6": {
      "model_module": "@jupyter-widgets/controls",
      "model_module_version": "2.0.0",
      "model_name": "ProgressStyleModel",
      "state": {
       "description_width": ""
      }
     },
     "c4cb66c58dde45648313ca9eedb9d75f": {
      "model_module": "@jupyter-widgets/controls",
      "model_module_version": "2.0.0",
      "model_name": "HTMLStyleModel",
      "state": {
       "description_width": "",
       "font_size": null,
       "text_color": null
      }
     },
     "c529b3bbe9834607b6da7a2a809751cc": {
      "model_module": "@jupyter-widgets/base",
      "model_module_version": "2.0.0",
      "model_name": "LayoutModel",
      "state": {}
     },
     "c53bd89dc5a64ea2b1e57683e9458acf": {
      "model_module": "@jupyter-widgets/controls",
      "model_module_version": "2.0.0",
      "model_name": "HTMLModel",
      "state": {
       "layout": "IPY_MODEL_7f89436423a84cdabe65c82297481572",
       "style": "IPY_MODEL_ba93cca5d3bc4770b91af2a4167e0958",
       "value": " 90/90 [00:02&lt;00:00, 40.08it/s, loss=0.362, acc=79]"
      }
     },
     "c54836479bd5436cacc6b89dd31955a7": {
      "model_module": "@jupyter-widgets/base",
      "model_module_version": "2.0.0",
      "model_name": "LayoutModel",
      "state": {
       "display": "inline-flex",
       "flex_flow": "row wrap",
       "width": "100%"
      }
     },
     "c5e7d5f903714447a93825003918ab5f": {
      "model_module": "@jupyter-widgets/controls",
      "model_module_version": "2.0.0",
      "model_name": "HTMLModel",
      "state": {
       "layout": "IPY_MODEL_65c2513b2ba4468092ffa20345c38148",
       "style": "IPY_MODEL_e48ec6235a3b46e8ab88446d1a3f779e",
       "value": "Validating: 100%"
      }
     },
     "c6282e50c017446d9ae71c9b6af727a6": {
      "model_module": "@jupyter-widgets/base",
      "model_module_version": "2.0.0",
      "model_name": "LayoutModel",
      "state": {}
     },
     "c63e4e3a512340b9948e4664af53e0a6": {
      "model_module": "@jupyter-widgets/controls",
      "model_module_version": "2.0.0",
      "model_name": "HTMLStyleModel",
      "state": {
       "description_width": "",
       "font_size": null,
       "text_color": null
      }
     },
     "c66a20bb9b4741a9a80e39332d63ff3b": {
      "model_module": "@jupyter-widgets/base",
      "model_module_version": "2.0.0",
      "model_name": "LayoutModel",
      "state": {
       "display": "inline-flex",
       "flex_flow": "row wrap",
       "width": "100%"
      }
     },
     "c690bb20ed704370b1aa18ed4074aed5": {
      "model_module": "@jupyter-widgets/controls",
      "model_module_version": "2.0.0",
      "model_name": "ProgressStyleModel",
      "state": {
       "description_width": ""
      }
     },
     "c6acdd144610453ba9994d2241b9e75e": {
      "model_module": "@jupyter-widgets/controls",
      "model_module_version": "2.0.0",
      "model_name": "HTMLStyleModel",
      "state": {
       "description_width": "",
       "font_size": null,
       "text_color": null
      }
     },
     "c6ef206856534e94ba7d35e029b44496": {
      "model_module": "@jupyter-widgets/base",
      "model_module_version": "2.0.0",
      "model_name": "LayoutModel",
      "state": {
       "flex": "2"
      }
     },
     "c6f17f56f0f54c87a26ea50413c24bb5": {
      "model_module": "@jupyter-widgets/controls",
      "model_module_version": "2.0.0",
      "model_name": "ProgressStyleModel",
      "state": {
       "description_width": ""
      }
     },
     "c785f779a93c4d93b100059deee1947e": {
      "model_module": "@jupyter-widgets/controls",
      "model_module_version": "2.0.0",
      "model_name": "HTMLModel",
      "state": {
       "layout": "IPY_MODEL_b433501b38fc42a3987bc310775e1918",
       "style": "IPY_MODEL_9da9ac3c698841eca8125bcc42907fbe",
       "value": "Validating: 100%"
      }
     },
     "c79852d102cb40aa8b0dbcd3021e6dcd": {
      "model_module": "@jupyter-widgets/base",
      "model_module_version": "2.0.0",
      "model_name": "LayoutModel",
      "state": {
       "flex": "2"
      }
     },
     "c7a6397be1654f5eb3d09d002f4785c6": {
      "model_module": "@jupyter-widgets/controls",
      "model_module_version": "2.0.0",
      "model_name": "HTMLModel",
      "state": {
       "layout": "IPY_MODEL_91eb3655e6b64bfe984ee2209e356afc",
       "style": "IPY_MODEL_98164e70f47646f68ce50ccc95c75fef",
       "value": "Validating: 100%"
      }
     },
     "c7b6daa36ede4f50bc1af4e0a22ae38b": {
      "model_module": "@jupyter-widgets/base",
      "model_module_version": "2.0.0",
      "model_name": "LayoutModel",
      "state": {}
     },
     "c7d3d2ec892842b598cd1352660ba180": {
      "model_module": "@jupyter-widgets/controls",
      "model_module_version": "2.0.0",
      "model_name": "HTMLModel",
      "state": {
       "layout": "IPY_MODEL_d5e9911985574a038e710d22e03f4b93",
       "style": "IPY_MODEL_118ed8c8fe8d42f78eb10dd53e65686f",
       "value": " 90/90 [00:02&lt;00:00, 40.00it/s, loss=0.424, acc=76.4]"
      }
     },
     "c85dfa95a2704e85a1d8a9f95c0de9a9": {
      "model_module": "@jupyter-widgets/base",
      "model_module_version": "2.0.0",
      "model_name": "LayoutModel",
      "state": {
       "flex": "2"
      }
     },
     "c865fa7704a742b3b96a2797a5a381c0": {
      "model_module": "@jupyter-widgets/base",
      "model_module_version": "2.0.0",
      "model_name": "LayoutModel",
      "state": {}
     },
     "c90f6afa05e0415aab614c72edb9db61": {
      "model_module": "@jupyter-widgets/controls",
      "model_module_version": "2.0.0",
      "model_name": "FloatProgressModel",
      "state": {
       "layout": "IPY_MODEL_5285cad157244547bed2908e0bd22f66",
       "max": 90,
       "style": "IPY_MODEL_9cf3f4e748834c33a0adaaa3ff34bc41",
       "value": 90
      }
     },
     "c9318c978e154eb29f0d33e65509dcfc": {
      "model_module": "@jupyter-widgets/base",
      "model_module_version": "2.0.0",
      "model_name": "LayoutModel",
      "state": {
       "display": "inline-flex",
       "flex_flow": "row wrap",
       "width": "100%"
      }
     },
     "c941710e3f8943b8a8ee148875af3607": {
      "model_module": "@jupyter-widgets/base",
      "model_module_version": "2.0.0",
      "model_name": "LayoutModel",
      "state": {}
     },
     "c9823cfd0b414e8cb4b4346b9f2eba52": {
      "model_module": "@jupyter-widgets/controls",
      "model_module_version": "2.0.0",
      "model_name": "HTMLModel",
      "state": {
       "layout": "IPY_MODEL_ba6d6f371fe646d49ff8856fc1c5142e",
       "style": "IPY_MODEL_df1a6865ff994189898dc789b6d22356",
       "value": "Validating: 100%"
      }
     },
     "c9b5582a10d44ee1a3f3006e6c4d810e": {
      "model_module": "@jupyter-widgets/base",
      "model_module_version": "2.0.0",
      "model_name": "LayoutModel",
      "state": {}
     },
     "c9bf42457a08442b8b566c8c7a4558b4": {
      "model_module": "@jupyter-widgets/controls",
      "model_module_version": "2.0.0",
      "model_name": "HTMLStyleModel",
      "state": {
       "description_width": "",
       "font_size": null,
       "text_color": null
      }
     },
     "c9e589a29cdd4f5ba7d21d7ed5f63a0d": {
      "model_module": "@jupyter-widgets/base",
      "model_module_version": "2.0.0",
      "model_name": "LayoutModel",
      "state": {}
     },
     "ca2aa3553cbf4dc5b3d6006c690cca58": {
      "model_module": "@jupyter-widgets/base",
      "model_module_version": "2.0.0",
      "model_name": "LayoutModel",
      "state": {}
     },
     "ca8d9a2080704260820c3736757a69c0": {
      "model_module": "@jupyter-widgets/controls",
      "model_module_version": "2.0.0",
      "model_name": "HTMLModel",
      "state": {
       "layout": "IPY_MODEL_f93db7ad5c0f491f88a15af73bce15da",
       "style": "IPY_MODEL_42484ddf4c0e4463be3e4de0272c4a46",
       "value": " 90/90 [00:19&lt;00:00, 43.18it/s, loss=0.308, acc=74]"
      }
     },
     "ca9d65c415224969bfdaadeec2769059": {
      "model_module": "@jupyter-widgets/base",
      "model_module_version": "2.0.0",
      "model_name": "LayoutModel",
      "state": {}
     },
     "cb5ae903a43546cfbc0af9413507e06d": {
      "model_module": "@jupyter-widgets/controls",
      "model_module_version": "2.0.0",
      "model_name": "ProgressStyleModel",
      "state": {
       "description_width": ""
      }
     },
     "cbc0edd3ed5c4596953238d6ead71429": {
      "model_module": "@jupyter-widgets/controls",
      "model_module_version": "2.0.0",
      "model_name": "HTMLStyleModel",
      "state": {
       "description_width": "",
       "font_size": null,
       "text_color": null
      }
     },
     "cbf0e58d50ea4facac4a3a44c7184e1a": {
      "model_module": "@jupyter-widgets/base",
      "model_module_version": "2.0.0",
      "model_name": "LayoutModel",
      "state": {
       "display": "inline-flex",
       "flex_flow": "row wrap",
       "width": "100%"
      }
     },
     "cbf7089547b4499bb7619f5c189f4f9c": {
      "model_module": "@jupyter-widgets/controls",
      "model_module_version": "2.0.0",
      "model_name": "HTMLModel",
      "state": {
       "layout": "IPY_MODEL_458dc26c77624a7a9e65074377ea5048",
       "style": "IPY_MODEL_2616708d82984cac97327b63d45538c3",
       "value": " 3580/3580 [10:36&lt;00:00, 15.35it/s, loss=0.634, lr=0]"
      }
     },
     "ccc82a24af204fa2a1dbff76ec4f1114": {
      "model_module": "@jupyter-widgets/controls",
      "model_module_version": "2.0.0",
      "model_name": "HTMLModel",
      "state": {
       "layout": "IPY_MODEL_a3cc90ce359a4cf28edd8f3cb7a74a65",
       "style": "IPY_MODEL_d8979df797004425a64f03ab92aacaf9",
       "value": " 90/90 [00:02&lt;00:00, 40.09it/s, loss=0.276, acc=79.6]"
      }
     },
     "cd146d4e370e4da49279f9757e23cd27": {
      "model_module": "@jupyter-widgets/controls",
      "model_module_version": "2.0.0",
      "model_name": "HTMLStyleModel",
      "state": {
       "description_width": "",
       "font_size": null,
       "text_color": null
      }
     },
     "cd2da171bab3418fbffce6d25ed06597": {
      "model_module": "@jupyter-widgets/controls",
      "model_module_version": "2.0.0",
      "model_name": "FloatProgressModel",
      "state": {
       "layout": "IPY_MODEL_3e91b49057d849f59cd8c68725cf3142",
       "max": 90,
       "style": "IPY_MODEL_91923dc905cc4fa3a954ca58710cf10b",
       "value": 90
      }
     },
     "cd4c59b8f41344418c7b7de989f6315b": {
      "model_module": "@jupyter-widgets/controls",
      "model_module_version": "2.0.0",
      "model_name": "HTMLModel",
      "state": {
       "layout": "IPY_MODEL_ab2592b3626349ea856ac6b1e61a1aaa",
       "style": "IPY_MODEL_6a48593e8bc14d508d43683747fa396d",
       "value": " 90/90 [00:14&lt;00:00, 39.93it/s, loss=0.276, acc=80.2]"
      }
     },
     "cd4d29be691d4bbda0175db5c4a56cf5": {
      "model_module": "@jupyter-widgets/base",
      "model_module_version": "2.0.0",
      "model_name": "LayoutModel",
      "state": {}
     },
     "cd9f9232272140c390162157feb735ce": {
      "model_module": "@jupyter-widgets/controls",
      "model_module_version": "2.0.0",
      "model_name": "HTMLStyleModel",
      "state": {
       "description_width": "",
       "font_size": null,
       "text_color": null
      }
     },
     "ce309d5770f54e999ee7e92c1a9dc452": {
      "model_module": "@jupyter-widgets/controls",
      "model_module_version": "2.0.0",
      "model_name": "HTMLModel",
      "state": {
       "layout": "IPY_MODEL_36e3fc0f9af44b04bf16d0c1156678f6",
       "style": "IPY_MODEL_69ecd3e9110f46408a9816b3f63d58d2",
       "value": " 90/90 [00:02&lt;00:00, 39.72it/s, loss=0.279, acc=79.3]"
      }
     },
     "ce338f1b806c497e8055fd9949666881": {
      "model_module": "@jupyter-widgets/base",
      "model_module_version": "2.0.0",
      "model_name": "LayoutModel",
      "state": {}
     },
     "ce59696492ee43e68021afc39fdc1f9f": {
      "model_module": "@jupyter-widgets/controls",
      "model_module_version": "2.0.0",
      "model_name": "FloatProgressModel",
      "state": {
       "layout": "IPY_MODEL_5d4885aeb909477691e82c30d43b32a9",
       "max": 90,
       "style": "IPY_MODEL_e244540c7bad44d68d717e76f06a1a11",
       "value": 90
      }
     },
     "ce8165adb6e0464e86fe99e2c74f5bea": {
      "model_module": "@jupyter-widgets/controls",
      "model_module_version": "2.0.0",
      "model_name": "HBoxModel",
      "state": {
       "children": [
        "IPY_MODEL_bc593cd12c3643cfbc041d30a6e81e6e",
        "IPY_MODEL_57f3546aed2a4f4d8e0cd11a184e5e0f",
        "IPY_MODEL_9f32a57e359b4055a42f26b651bad29f"
       ],
       "layout": "IPY_MODEL_bedd718e4c9a4814928d01cdf2e07343"
      }
     },
     "ce905cb1c5244593840059bf3e4682c2": {
      "model_module": "@jupyter-widgets/base",
      "model_module_version": "2.0.0",
      "model_name": "LayoutModel",
      "state": {}
     },
     "ceaf53472cdf41b28cc565d892ac8c2b": {
      "model_module": "@jupyter-widgets/controls",
      "model_module_version": "2.0.0",
      "model_name": "HTMLModel",
      "state": {
       "layout": "IPY_MODEL_f3bec5ac707f4c01b9b0182addaec378",
       "style": "IPY_MODEL_cfc4e39211b843be8165d511031c3aa8",
       "value": " 0/3580 [02:15&lt;?, ?it/s]"
      }
     },
     "ceb217898b2a4b9a8e87edf7914ca9a7": {
      "model_module": "@jupyter-widgets/controls",
      "model_module_version": "2.0.0",
      "model_name": "FloatProgressModel",
      "state": {
       "layout": "IPY_MODEL_fe4bb155cc7c4a2d98e626e1b3633ac5",
       "max": 90,
       "style": "IPY_MODEL_32c830141ffa4a20a1b25b940e1fdfc5",
       "value": 90
      }
     },
     "cef2492e1128483ebfe49c8339fb9b33": {
      "model_module": "@jupyter-widgets/base",
      "model_module_version": "2.0.0",
      "model_name": "LayoutModel",
      "state": {}
     },
     "cf657eeeef94460dba51f5b810ec39b9": {
      "model_module": "@jupyter-widgets/controls",
      "model_module_version": "2.0.0",
      "model_name": "HTMLStyleModel",
      "state": {
       "description_width": "",
       "font_size": null,
       "text_color": null
      }
     },
     "cf8a7037ef404a7e83c924959e85f085": {
      "model_module": "@jupyter-widgets/base",
      "model_module_version": "2.0.0",
      "model_name": "LayoutModel",
      "state": {
       "display": "inline-flex",
       "flex_flow": "row wrap",
       "width": "100%"
      }
     },
     "cf9487d08a094d0ab877a68aab6235c0": {
      "model_module": "@jupyter-widgets/controls",
      "model_module_version": "2.0.0",
      "model_name": "ProgressStyleModel",
      "state": {
       "description_width": ""
      }
     },
     "cfa79d55b0e340aa8b0feddfb77476b1": {
      "model_module": "@jupyter-widgets/base",
      "model_module_version": "2.0.0",
      "model_name": "LayoutModel",
      "state": {}
     },
     "cfc4e39211b843be8165d511031c3aa8": {
      "model_module": "@jupyter-widgets/controls",
      "model_module_version": "2.0.0",
      "model_name": "HTMLStyleModel",
      "state": {
       "description_width": "",
       "font_size": null,
       "text_color": null
      }
     },
     "cfde0b45faf04cc6ac09913d0109f1a5": {
      "model_module": "@jupyter-widgets/controls",
      "model_module_version": "2.0.0",
      "model_name": "HTMLModel",
      "state": {
       "layout": "IPY_MODEL_5b1f434126734582bf1b8c2d22e4dd6d",
       "style": "IPY_MODEL_6ee885e0433f438dac13f083317d150f",
       "value": " 90/90 [00:05&lt;00:00, 18.48it/s]"
      }
     },
     "cfea7a26698c45fa8e3444376eaeaaeb": {
      "model_module": "@jupyter-widgets/controls",
      "model_module_version": "2.0.0",
      "model_name": "HTMLModel",
      "state": {
       "layout": "IPY_MODEL_0dd7a9d756bc438e816779e23f95656b",
       "style": "IPY_MODEL_820fabce2eff4e128a73e3d7fbe2feb2",
       "value": "Validating: 100%"
      }
     },
     "cfec70f4d78f4e75bd0936cdeddc11c7": {
      "model_module": "@jupyter-widgets/base",
      "model_module_version": "2.0.0",
      "model_name": "LayoutModel",
      "state": {}
     },
     "d01b4feeb4064ac692c40bbe2cd47dbe": {
      "model_module": "@jupyter-widgets/controls",
      "model_module_version": "2.0.0",
      "model_name": "FloatProgressModel",
      "state": {
       "layout": "IPY_MODEL_a25f76aa245f46f19000bf2949f2cbaa",
       "max": 90,
       "style": "IPY_MODEL_420084e623df44bc9e9f0f78418161a2",
       "value": 90
      }
     },
     "d089146686e343cd93119f824302aa1f": {
      "model_module": "@jupyter-widgets/controls",
      "model_module_version": "2.0.0",
      "model_name": "HTMLModel",
      "state": {
       "layout": "IPY_MODEL_86e9f3abd2cb4460956aa48326196fa2",
       "style": "IPY_MODEL_9f18f351285241bb9d81a4dd1d17d7b9",
       "value": " 90/90 [00:14&lt;00:00, 39.87it/s, loss=0.288, acc=77]"
      }
     },
     "d08e60416346443d87313809fdeebad5": {
      "model_module": "@jupyter-widgets/controls",
      "model_module_version": "2.0.0",
      "model_name": "FloatProgressModel",
      "state": {
       "layout": "IPY_MODEL_2173751a12fa47e7acd5899ed6a3316b",
       "max": 90,
       "style": "IPY_MODEL_06c58ced32f14d3cb57878b5f9ace397",
       "value": 90
      }
     },
     "d0b83ea1a341414699e47c2725ae12fd": {
      "model_module": "@jupyter-widgets/base",
      "model_module_version": "2.0.0",
      "model_name": "LayoutModel",
      "state": {
       "display": "inline-flex",
       "flex_flow": "row wrap",
       "width": "100%"
      }
     },
     "d0e0aa34266341e1951ff70b19712e3f": {
      "model_module": "@jupyter-widgets/controls",
      "model_module_version": "2.0.0",
      "model_name": "ProgressStyleModel",
      "state": {
       "description_width": ""
      }
     },
     "d120e1c08fb543df8cefb4a305b6f2f7": {
      "model_module": "@jupyter-widgets/base",
      "model_module_version": "2.0.0",
      "model_name": "LayoutModel",
      "state": {}
     },
     "d1271f404b6f4c6a98576065f512c2dc": {
      "model_module": "@jupyter-widgets/controls",
      "model_module_version": "2.0.0",
      "model_name": "ProgressStyleModel",
      "state": {
       "description_width": ""
      }
     },
     "d175600d45eb4614be398d0782ecd695": {
      "model_module": "@jupyter-widgets/base",
      "model_module_version": "2.0.0",
      "model_name": "LayoutModel",
      "state": {}
     },
     "d1dde5909209442ebc91aa6da1f091ca": {
      "model_module": "@jupyter-widgets/base",
      "model_module_version": "2.0.0",
      "model_name": "LayoutModel",
      "state": {}
     },
     "d1e303d0deae4c1198dec90e10cbb5e9": {
      "model_module": "@jupyter-widgets/base",
      "model_module_version": "2.0.0",
      "model_name": "LayoutModel",
      "state": {
       "flex": "2"
      }
     },
     "d1f6b759d9724ef597d2351ca03b4389": {
      "model_module": "@jupyter-widgets/base",
      "model_module_version": "2.0.0",
      "model_name": "LayoutModel",
      "state": {}
     },
     "d23444b837cb4c7ba0df8bbcc2319585": {
      "model_module": "@jupyter-widgets/controls",
      "model_module_version": "2.0.0",
      "model_name": "HTMLStyleModel",
      "state": {
       "description_width": "",
       "font_size": null,
       "text_color": null
      }
     },
     "d2891eef841246ddbe83d77505f949bc": {
      "model_module": "@jupyter-widgets/controls",
      "model_module_version": "2.0.0",
      "model_name": "HTMLStyleModel",
      "state": {
       "description_width": "",
       "font_size": null,
       "text_color": null
      }
     },
     "d2cf4ac7dacb48f2a3a97fa0eaeadde1": {
      "model_module": "@jupyter-widgets/base",
      "model_module_version": "2.0.0",
      "model_name": "LayoutModel",
      "state": {}
     },
     "d2d2bd634a27412cad547b5ff9520b05": {
      "model_module": "@jupyter-widgets/controls",
      "model_module_version": "2.0.0",
      "model_name": "FloatProgressModel",
      "state": {
       "layout": "IPY_MODEL_ed4e005aee1b4f6ab7493d4018dd810c",
       "max": 90,
       "style": "IPY_MODEL_ac8c8fa0b1754bf59cf7bd95d5fb58b0",
       "value": 90
      }
     },
     "d2d3eca8a5184716a3b58c9e41286b01": {
      "model_module": "@jupyter-widgets/controls",
      "model_module_version": "2.0.0",
      "model_name": "ProgressStyleModel",
      "state": {
       "description_width": ""
      }
     },
     "d33ddcee19b34b1481534ca74da6c562": {
      "model_module": "@jupyter-widgets/base",
      "model_module_version": "2.0.0",
      "model_name": "LayoutModel",
      "state": {
       "flex": "2"
      }
     },
     "d34e5ab815cb4e439bcd39fd6675d35d": {
      "model_module": "@jupyter-widgets/controls",
      "model_module_version": "2.0.0",
      "model_name": "HTMLStyleModel",
      "state": {
       "description_width": "",
       "font_size": null,
       "text_color": null
      }
     },
     "d379e7bdc3874394a0e71c0c94af0112": {
      "model_module": "@jupyter-widgets/base",
      "model_module_version": "2.0.0",
      "model_name": "LayoutModel",
      "state": {}
     },
     "d3801706846749abae88a23d69fc6cdd": {
      "model_module": "@jupyter-widgets/base",
      "model_module_version": "2.0.0",
      "model_name": "LayoutModel",
      "state": {
       "flex": "2"
      }
     },
     "d3bc9ec5f228459583f66d14e3920e5b": {
      "model_module": "@jupyter-widgets/controls",
      "model_module_version": "2.0.0",
      "model_name": "HTMLModel",
      "state": {
       "layout": "IPY_MODEL_41b37d85de514e968db2d8d5ec08b537",
       "style": "IPY_MODEL_76728b33cb4245cb999aeaefdd229689",
       "value": "Validating: 100%"
      }
     },
     "d4e0f47920564c3481561325b3081fde": {
      "model_module": "@jupyter-widgets/controls",
      "model_module_version": "2.0.0",
      "model_name": "FloatProgressModel",
      "state": {
       "layout": "IPY_MODEL_ee0bd44828f54cf9b957c060f9f3ae2f",
       "max": 90,
       "style": "IPY_MODEL_a0ab889e4e044f479f28f6ca122c71bf",
       "value": 90
      }
     },
     "d4ef13fa31814c7993df1677104e82e3": {
      "model_module": "@jupyter-widgets/controls",
      "model_module_version": "2.0.0",
      "model_name": "HTMLStyleModel",
      "state": {
       "description_width": "",
       "font_size": null,
       "text_color": null
      }
     },
     "d511c23e41a64c969c0dd6bf84894081": {
      "model_module": "@jupyter-widgets/controls",
      "model_module_version": "2.0.0",
      "model_name": "HTMLModel",
      "state": {
       "layout": "IPY_MODEL_1bba24c2e8d541a6a24cc8b684f952c2",
       "style": "IPY_MODEL_b15690f7385f4706b4007c5f2fa84e8a",
       "value": " 90/90 [00:02&lt;00:00, 43.02it/s, loss=0.332, acc=67.9]"
      }
     },
     "d547a7195e5241cfaae0e7c2925800be": {
      "model_module": "@jupyter-widgets/base",
      "model_module_version": "2.0.0",
      "model_name": "LayoutModel",
      "state": {
       "display": "inline-flex",
       "flex_flow": "row wrap",
       "width": "100%"
      }
     },
     "d576e496a25d4634a7ecfae3a62d07bc": {
      "model_module": "@jupyter-widgets/controls",
      "model_module_version": "2.0.0",
      "model_name": "HTMLModel",
      "state": {
       "layout": "IPY_MODEL_ca9d65c415224969bfdaadeec2769059",
       "style": "IPY_MODEL_7b8d0016b0884ee8a50f14bfbea640c1",
       "value": " 90/90 [00:29&lt;00:00, 43.02it/s, loss=0.284, acc=78.3]"
      }
     },
     "d5e9911985574a038e710d22e03f4b93": {
      "model_module": "@jupyter-widgets/base",
      "model_module_version": "2.0.0",
      "model_name": "LayoutModel",
      "state": {}
     },
     "d6269a1744d44230acf0645f28bd151d": {
      "model_module": "@jupyter-widgets/controls",
      "model_module_version": "2.0.0",
      "model_name": "FloatProgressModel",
      "state": {
       "layout": "IPY_MODEL_b4f0252ca98d4e6abaa173ba59085afa",
       "max": 90,
       "style": "IPY_MODEL_3dc800ce25a240b1a020fd412ec947e3",
       "value": 90
      }
     },
     "d6531bae11d7417d986be03d28c7736b": {
      "model_module": "@jupyter-widgets/base",
      "model_module_version": "2.0.0",
      "model_name": "LayoutModel",
      "state": {}
     },
     "d6bccd53b2614c2aa0904b51cee67926": {
      "model_module": "@jupyter-widgets/controls",
      "model_module_version": "2.0.0",
      "model_name": "HTMLStyleModel",
      "state": {
       "description_width": "",
       "font_size": null,
       "text_color": null
      }
     },
     "d6f7ecc64fbf433894d0a26a4b591c92": {
      "model_module": "@jupyter-widgets/base",
      "model_module_version": "2.0.0",
      "model_name": "LayoutModel",
      "state": {
       "flex": "2"
      }
     },
     "d700dca867da47c28fefb32c1b847088": {
      "model_module": "@jupyter-widgets/controls",
      "model_module_version": "2.0.0",
      "model_name": "HTMLModel",
      "state": {
       "layout": "IPY_MODEL_98499617c0544f2bb929354122601a9f",
       "style": "IPY_MODEL_1d3b8d0bd52c461a86c459d405066098",
       "value": " 90/90 [00:05&lt;00:00, 18.42it/s]"
      }
     },
     "d7158cce456a4e2994d63af7889a3c69": {
      "model_module": "@jupyter-widgets/base",
      "model_module_version": "2.0.0",
      "model_name": "LayoutModel",
      "state": {}
     },
     "d73b2b8a44ce4dd38359cd38a892246b": {
      "model_module": "@jupyter-widgets/controls",
      "model_module_version": "2.0.0",
      "model_name": "ProgressStyleModel",
      "state": {
       "description_width": ""
      }
     },
     "d79295a9dc98424b8d1bd14bfb516fc1": {
      "model_module": "@jupyter-widgets/controls",
      "model_module_version": "2.0.0",
      "model_name": "HTMLModel",
      "state": {
       "layout": "IPY_MODEL_f121dcbb1639429ba36dbbd91932928e",
       "style": "IPY_MODEL_3a608e35acfd44f187e67df95272ea17",
       "value": " 90/90 [00:05&lt;00:00, 18.45it/s]"
      }
     },
     "d7fc4f6094f84d98a08f9a2fe73a5705": {
      "model_module": "@jupyter-widgets/controls",
      "model_module_version": "2.0.0",
      "model_name": "FloatProgressModel",
      "state": {
       "layout": "IPY_MODEL_7ed4a0637a4a49a68b786ead54cea327",
       "max": 90,
       "style": "IPY_MODEL_225c3b0c5c41488faccc7abd352568ca",
       "value": 90
      }
     },
     "d812ea09ee9f492ea349e409c21c097e": {
      "model_module": "@jupyter-widgets/controls",
      "model_module_version": "2.0.0",
      "model_name": "HTMLStyleModel",
      "state": {
       "description_width": "",
       "font_size": null,
       "text_color": null
      }
     },
     "d813491b0b3f420993870f4e0c44687c": {
      "model_module": "@jupyter-widgets/controls",
      "model_module_version": "2.0.0",
      "model_name": "HTMLModel",
      "state": {
       "layout": "IPY_MODEL_66a7380c2c7f49f59f4aa31035991db9",
       "style": "IPY_MODEL_65113093123f4f2fa0b28a7296bf2726",
       "value": "Validating: 100%"
      }
     },
     "d817c09cbc074668914b530965a31fdc": {
      "model_module": "@jupyter-widgets/base",
      "model_module_version": "2.0.0",
      "model_name": "LayoutModel",
      "state": {}
     },
     "d82d78f87b1048b7bcc2cbb23e433c29": {
      "model_module": "@jupyter-widgets/controls",
      "model_module_version": "2.0.0",
      "model_name": "ProgressStyleModel",
      "state": {
       "description_width": ""
      }
     },
     "d84a684d5b00453f9ac5ebbbb07b687a": {
      "model_module": "@jupyter-widgets/controls",
      "model_module_version": "2.0.0",
      "model_name": "HTMLStyleModel",
      "state": {
       "description_width": "",
       "font_size": null,
       "text_color": null
      }
     },
     "d87291ba0cfa477191d8992d98f029ee": {
      "model_module": "@jupyter-widgets/base",
      "model_module_version": "2.0.0",
      "model_name": "LayoutModel",
      "state": {
       "display": "inline-flex",
       "flex_flow": "row wrap",
       "width": "100%"
      }
     },
     "d8979df797004425a64f03ab92aacaf9": {
      "model_module": "@jupyter-widgets/controls",
      "model_module_version": "2.0.0",
      "model_name": "HTMLStyleModel",
      "state": {
       "description_width": "",
       "font_size": null,
       "text_color": null
      }
     },
     "d8a98e675e1c4cd3a98abe3473a1e1d8": {
      "model_module": "@jupyter-widgets/base",
      "model_module_version": "2.0.0",
      "model_name": "LayoutModel",
      "state": {}
     },
     "d8d25d924e0b4147be189881cace2d7e": {
      "model_module": "@jupyter-widgets/base",
      "model_module_version": "2.0.0",
      "model_name": "LayoutModel",
      "state": {}
     },
     "d8fa2e81f2764a40a6a68a5720253168": {
      "model_module": "@jupyter-widgets/base",
      "model_module_version": "2.0.0",
      "model_name": "LayoutModel",
      "state": {}
     },
     "d900850238a844cca9cc28508681d652": {
      "model_module": "@jupyter-widgets/controls",
      "model_module_version": "2.0.0",
      "model_name": "HTMLStyleModel",
      "state": {
       "description_width": "",
       "font_size": null,
       "text_color": null
      }
     },
     "d9211a6274a74fb894443d5a8cee9acc": {
      "model_module": "@jupyter-widgets/controls",
      "model_module_version": "2.0.0",
      "model_name": "ProgressStyleModel",
      "state": {
       "description_width": ""
      }
     },
     "d9547b93958e40d897496bb4c0a5ccfe": {
      "model_module": "@jupyter-widgets/base",
      "model_module_version": "2.0.0",
      "model_name": "LayoutModel",
      "state": {
       "display": "inline-flex",
       "flex_flow": "row wrap",
       "width": "100%"
      }
     },
     "d96ed2269a9f42b0806191879ae3fa0f": {
      "model_module": "@jupyter-widgets/base",
      "model_module_version": "2.0.0",
      "model_name": "LayoutModel",
      "state": {}
     },
     "d9da83721aa94ec9898033a95ccee883": {
      "model_module": "@jupyter-widgets/base",
      "model_module_version": "2.0.0",
      "model_name": "LayoutModel",
      "state": {}
     },
     "d9e7b6bf257b496ebd93a68c3b392551": {
      "model_module": "@jupyter-widgets/controls",
      "model_module_version": "2.0.0",
      "model_name": "HTMLStyleModel",
      "state": {
       "description_width": "",
       "font_size": null,
       "text_color": null
      }
     },
     "da2606e722e14430bdadbf4496179ecc": {
      "model_module": "@jupyter-widgets/controls",
      "model_module_version": "2.0.0",
      "model_name": "HTMLStyleModel",
      "state": {
       "description_width": "",
       "font_size": null,
       "text_color": null
      }
     },
     "da36061af892463abce67eeaa4c83d79": {
      "model_module": "@jupyter-widgets/base",
      "model_module_version": "2.0.0",
      "model_name": "LayoutModel",
      "state": {
       "display": "inline-flex",
       "flex_flow": "row wrap",
       "width": "100%"
      }
     },
     "dac9265b84bb485bb9b7a11730308f62": {
      "model_module": "@jupyter-widgets/controls",
      "model_module_version": "2.0.0",
      "model_name": "HTMLModel",
      "state": {
       "layout": "IPY_MODEL_e91b3ae6c83947b9b58f21a9c2b9cae6",
       "style": "IPY_MODEL_e1e0f26510874464863b25e86cb28b11",
       "value": "Predicting: 100%"
      }
     },
     "dad634a1b9fb4e7f8cf37d7ce92453bb": {
      "model_module": "@jupyter-widgets/controls",
      "model_module_version": "2.0.0",
      "model_name": "HTMLModel",
      "state": {
       "layout": "IPY_MODEL_666fde83b7c84265a7e1f3f6834c37e4",
       "style": "IPY_MODEL_485e6c0b21e542c38e05418c63505df2",
       "value": " 90/90 [00:05&lt;00:00, 18.43it/s]"
      }
     },
     "dad7a4d9160c429fb23b1861f7c96e74": {
      "model_module": "@jupyter-widgets/base",
      "model_module_version": "2.0.0",
      "model_name": "LayoutModel",
      "state": {
       "display": "inline-flex",
       "flex_flow": "row wrap",
       "width": "100%"
      }
     },
     "dade654f71d1412da567d70bb94d10ed": {
      "model_module": "@jupyter-widgets/controls",
      "model_module_version": "2.0.0",
      "model_name": "HTMLModel",
      "state": {
       "layout": "IPY_MODEL_0f191f7eb77847b893f639f53933ca0d",
       "style": "IPY_MODEL_b186738515d74fd6b629733aaef4d7b1",
       "value": " 90/90 [00:02&lt;00:00, 43.31it/s, loss=0.405, acc=78.5]"
      }
     },
     "db12645cfdea4005855f2c5822dd3c8c": {
      "model_module": "@jupyter-widgets/controls",
      "model_module_version": "2.0.0",
      "model_name": "ProgressStyleModel",
      "state": {
       "description_width": ""
      }
     },
     "dbdc8d3e1f304a9985d80861f24b7c1c": {
      "model_module": "@jupyter-widgets/controls",
      "model_module_version": "2.0.0",
      "model_name": "HTMLStyleModel",
      "state": {
       "description_width": "",
       "font_size": null,
       "text_color": null
      }
     },
     "dd35f94d776c402c8a8fc007310ddfc1": {
      "model_module": "@jupyter-widgets/base",
      "model_module_version": "2.0.0",
      "model_name": "LayoutModel",
      "state": {
       "flex": "2"
      }
     },
     "dd81b50218814745b61358af3031679b": {
      "model_module": "@jupyter-widgets/controls",
      "model_module_version": "2.0.0",
      "model_name": "HTMLModel",
      "state": {
       "layout": "IPY_MODEL_d8d25d924e0b4147be189881cace2d7e",
       "style": "IPY_MODEL_8cc184c4faba4b829f7620d2395c9ef5",
       "value": "Validating: 100%"
      }
     },
     "dd8e0107cd2a451eb9095f38c93d8788": {
      "model_module": "@jupyter-widgets/controls",
      "model_module_version": "2.0.0",
      "model_name": "HTMLModel",
      "state": {
       "layout": "IPY_MODEL_98c5aa8b3a1e4114ac4ab625b9c2c08e",
       "style": "IPY_MODEL_12f2ac1f5ea84ae7b89c8a55bb369694",
       "value": "Validating: 100%"
      }
     },
     "dddd9639e7ac43fdbfa794a98757f946": {
      "model_module": "@jupyter-widgets/controls",
      "model_module_version": "2.0.0",
      "model_name": "FloatProgressModel",
      "state": {
       "bar_style": "success",
       "layout": "IPY_MODEL_bf497e8cda134823a09841570cafb1d7",
       "max": 90,
       "style": "IPY_MODEL_18ace77ea2b445768f9a6866cd15ef31",
       "value": 90
      }
     },
     "de377fda7b684e3ab5b185ed371a4611": {
      "model_module": "@jupyter-widgets/controls",
      "model_module_version": "2.0.0",
      "model_name": "HTMLStyleModel",
      "state": {
       "description_width": "",
       "font_size": null,
       "text_color": null
      }
     },
     "de71dabf578043da86d253317d8dd8ff": {
      "model_module": "@jupyter-widgets/base",
      "model_module_version": "2.0.0",
      "model_name": "LayoutModel",
      "state": {
       "flex": "2"
      }
     },
     "df087fa843e64502b96b02e4239ea62c": {
      "model_module": "@jupyter-widgets/controls",
      "model_module_version": "2.0.0",
      "model_name": "HTMLStyleModel",
      "state": {
       "description_width": "",
       "font_size": null,
       "text_color": null
      }
     },
     "df1a6865ff994189898dc789b6d22356": {
      "model_module": "@jupyter-widgets/controls",
      "model_module_version": "2.0.0",
      "model_name": "HTMLStyleModel",
      "state": {
       "description_width": "",
       "font_size": null,
       "text_color": null
      }
     },
     "df66ccae32e24a2a853cc637166d1192": {
      "model_module": "@jupyter-widgets/controls",
      "model_module_version": "2.0.0",
      "model_name": "HTMLModel",
      "state": {
       "layout": "IPY_MODEL_27323e59955c4bc5b3feb3dacb551df3",
       "style": "IPY_MODEL_50cc2e8800d441499264a2100e755661",
       "value": " 3580/3580 [09:08&lt;00:00, 15.22it/s, loss=0.257, lr=0]"
      }
     },
     "dfad3200e4864febaf5f5fc25f7c7b70": {
      "model_module": "@jupyter-widgets/controls",
      "model_module_version": "2.0.0",
      "model_name": "HTMLModel",
      "state": {
       "layout": "IPY_MODEL_0ca76fd7533c4f8f9780724307bbd9a8",
       "style": "IPY_MODEL_841bb0964ef5465e882310b8b8413ef7",
       "value": " 90/90 [00:13&lt;00:00, 43.05it/s, loss=0.29, acc=77.8]"
      }
     },
     "dfd92f51fe784703beedd65196c334fd": {
      "model_module": "@jupyter-widgets/base",
      "model_module_version": "2.0.0",
      "model_name": "LayoutModel",
      "state": {
       "flex": "2"
      }
     },
     "e0676fe008104723ae032e651cd5236b": {
      "model_module": "@jupyter-widgets/controls",
      "model_module_version": "2.0.0",
      "model_name": "HTMLStyleModel",
      "state": {
       "description_width": "",
       "font_size": null,
       "text_color": null
      }
     },
     "e0854302489c450f96ff3f22f7494779": {
      "model_module": "@jupyter-widgets/controls",
      "model_module_version": "2.0.0",
      "model_name": "ProgressStyleModel",
      "state": {
       "description_width": ""
      }
     },
     "e0b2adc24a954db6b3f3386990d4f32d": {
      "model_module": "@jupyter-widgets/controls",
      "model_module_version": "2.0.0",
      "model_name": "HTMLModel",
      "state": {
       "layout": "IPY_MODEL_f7a614b0cafe46669485ba31d98a10da",
       "style": "IPY_MODEL_d2891eef841246ddbe83d77505f949bc",
       "value": "Validating: 100%"
      }
     },
     "e0b727f93de945fab4be8356527975c5": {
      "model_module": "@jupyter-widgets/controls",
      "model_module_version": "2.0.0",
      "model_name": "HTMLModel",
      "state": {
       "layout": "IPY_MODEL_336ee95472714765bdfca091b7d24523",
       "style": "IPY_MODEL_c0f37d2fc718465bb6ff0e17632a9469",
       "value": " 90/90 [00:02&lt;00:00, 43.15it/s, loss=0.357, acc=79.7]"
      }
     },
     "e0bcf2d443994efbac84435e70435e50": {
      "model_module": "@jupyter-widgets/base",
      "model_module_version": "2.0.0",
      "model_name": "LayoutModel",
      "state": {}
     },
     "e0f2f8a54db7406394171c42d3750c48": {
      "model_module": "@jupyter-widgets/base",
      "model_module_version": "2.0.0",
      "model_name": "LayoutModel",
      "state": {}
     },
     "e11fffe2c52a4299ba24f39bf04b3e3a": {
      "model_module": "@jupyter-widgets/controls",
      "model_module_version": "2.0.0",
      "model_name": "ProgressStyleModel",
      "state": {
       "description_width": ""
      }
     },
     "e13189cb35f64100921c6d7d6a379ae3": {
      "model_module": "@jupyter-widgets/controls",
      "model_module_version": "2.0.0",
      "model_name": "HTMLStyleModel",
      "state": {
       "description_width": "",
       "font_size": null,
       "text_color": null
      }
     },
     "e132f4d5b73641d8a1a1c0506b90acc3": {
      "model_module": "@jupyter-widgets/base",
      "model_module_version": "2.0.0",
      "model_name": "LayoutModel",
      "state": {}
     },
     "e1691dfed57b4256b23a5e652f4bcba6": {
      "model_module": "@jupyter-widgets/base",
      "model_module_version": "2.0.0",
      "model_name": "LayoutModel",
      "state": {
       "display": "inline-flex",
       "flex_flow": "row wrap",
       "width": "100%"
      }
     },
     "e1ae9f5f85c74f3e9b2f62910def7582": {
      "model_module": "@jupyter-widgets/base",
      "model_module_version": "2.0.0",
      "model_name": "LayoutModel",
      "state": {
       "flex": "2"
      }
     },
     "e1c2e727eb7141d88f184e85665e5f78": {
      "model_module": "@jupyter-widgets/base",
      "model_module_version": "2.0.0",
      "model_name": "LayoutModel",
      "state": {
       "display": "inline-flex",
       "flex_flow": "row wrap",
       "width": "100%"
      }
     },
     "e1e0f26510874464863b25e86cb28b11": {
      "model_module": "@jupyter-widgets/controls",
      "model_module_version": "2.0.0",
      "model_name": "HTMLStyleModel",
      "state": {
       "description_width": "",
       "font_size": null,
       "text_color": null
      }
     },
     "e1e8962bf93d43398b6a274f1f30a483": {
      "model_module": "@jupyter-widgets/controls",
      "model_module_version": "2.0.0",
      "model_name": "HTMLStyleModel",
      "state": {
       "description_width": "",
       "font_size": null,
       "text_color": null
      }
     },
     "e1fdbf19bf4a4add960bbd35e8ba6028": {
      "model_module": "@jupyter-widgets/base",
      "model_module_version": "2.0.0",
      "model_name": "LayoutModel",
      "state": {
       "flex": "2"
      }
     },
     "e1ffb46fac7a4c9fbc54ca7d0f7fc906": {
      "model_module": "@jupyter-widgets/base",
      "model_module_version": "2.0.0",
      "model_name": "LayoutModel",
      "state": {
       "flex": "2"
      }
     },
     "e23deadef91346689242d13cf04caec4": {
      "model_module": "@jupyter-widgets/base",
      "model_module_version": "2.0.0",
      "model_name": "LayoutModel",
      "state": {
       "flex": "2"
      }
     },
     "e244540c7bad44d68d717e76f06a1a11": {
      "model_module": "@jupyter-widgets/controls",
      "model_module_version": "2.0.0",
      "model_name": "ProgressStyleModel",
      "state": {
       "description_width": ""
      }
     },
     "e2ade4d0288042a49c4feb521f62ca34": {
      "model_module": "@jupyter-widgets/base",
      "model_module_version": "2.0.0",
      "model_name": "LayoutModel",
      "state": {
       "display": "inline-flex",
       "flex_flow": "row wrap",
       "width": "100%"
      }
     },
     "e2ba0de6300246128b318da9c908ca7e": {
      "model_module": "@jupyter-widgets/controls",
      "model_module_version": "2.0.0",
      "model_name": "HTMLStyleModel",
      "state": {
       "description_width": "",
       "font_size": null,
       "text_color": null
      }
     },
     "e2f8c3d481ac4733a5ff1b4ad0ede3fc": {
      "model_module": "@jupyter-widgets/base",
      "model_module_version": "2.0.0",
      "model_name": "LayoutModel",
      "state": {
       "flex": "2"
      }
     },
     "e317d7db7e694249952d3671cd47fbf5": {
      "model_module": "@jupyter-widgets/controls",
      "model_module_version": "2.0.0",
      "model_name": "HTMLModel",
      "state": {
       "layout": "IPY_MODEL_9e0c3931fba547e0b6556da054bccaac",
       "style": "IPY_MODEL_d23444b837cb4c7ba0df8bbcc2319585",
       "value": "Validating: 100%"
      }
     },
     "e31ec95aa35644399f4a66cb3680bfaf": {
      "model_module": "@jupyter-widgets/controls",
      "model_module_version": "2.0.0",
      "model_name": "HTMLModel",
      "state": {
       "layout": "IPY_MODEL_313c4f33efc14a5eb3998ff98e6e4413",
       "style": "IPY_MODEL_90cc1e3dbfa548809f917f3bee1f2e4a",
       "value": "Validating: 100%"
      }
     },
     "e364319ebf4f4a0d9191ef8218fad221": {
      "model_module": "@jupyter-widgets/base",
      "model_module_version": "2.0.0",
      "model_name": "LayoutModel",
      "state": {}
     },
     "e3abec7e5da0436496664fa8fb5ade8c": {
      "model_module": "@jupyter-widgets/controls",
      "model_module_version": "2.0.0",
      "model_name": "HTMLModel",
      "state": {
       "layout": "IPY_MODEL_ac3fb645e44e446bb17a824da94599dd",
       "style": "IPY_MODEL_616507c676584a23b7349a79b7520dc0",
       "value": " 90/90 [00:14&lt;00:00, 43.23it/s, loss=0.274, acc=80.9]"
      }
     },
     "e405280db3da43edb45922dbc642045d": {
      "model_module": "@jupyter-widgets/base",
      "model_module_version": "2.0.0",
      "model_name": "LayoutModel",
      "state": {}
     },
     "e40cb408b52345e595b994108ec0b164": {
      "model_module": "@jupyter-widgets/base",
      "model_module_version": "2.0.0",
      "model_name": "LayoutModel",
      "state": {}
     },
     "e4155f4bcf134a8498e4ec9f226ad5d1": {
      "model_module": "@jupyter-widgets/controls",
      "model_module_version": "2.0.0",
      "model_name": "HTMLStyleModel",
      "state": {
       "description_width": "",
       "font_size": null,
       "text_color": null
      }
     },
     "e427ae95de9f4f6cb94b3a228d028ccf": {
      "model_module": "@jupyter-widgets/base",
      "model_module_version": "2.0.0",
      "model_name": "LayoutModel",
      "state": {}
     },
     "e48ec6235a3b46e8ab88446d1a3f779e": {
      "model_module": "@jupyter-widgets/controls",
      "model_module_version": "2.0.0",
      "model_name": "HTMLStyleModel",
      "state": {
       "description_width": "",
       "font_size": null,
       "text_color": null
      }
     },
     "e4aa9690a70045178f2f459a57617e57": {
      "model_module": "@jupyter-widgets/base",
      "model_module_version": "2.0.0",
      "model_name": "LayoutModel",
      "state": {}
     },
     "e4deefcdc7de43e7bfb33e614a2a996b": {
      "model_module": "@jupyter-widgets/base",
      "model_module_version": "2.0.0",
      "model_name": "LayoutModel",
      "state": {
       "display": "inline-flex",
       "flex_flow": "row wrap",
       "width": "100%"
      }
     },
     "e4ffc4eb5ff6413e84a3dd6a59593248": {
      "model_module": "@jupyter-widgets/base",
      "model_module_version": "2.0.0",
      "model_name": "LayoutModel",
      "state": {}
     },
     "e552e23fcb3646179e700fa32e98fb2a": {
      "model_module": "@jupyter-widgets/controls",
      "model_module_version": "2.0.0",
      "model_name": "HTMLModel",
      "state": {
       "layout": "IPY_MODEL_d175600d45eb4614be398d0782ecd695",
       "style": "IPY_MODEL_d812ea09ee9f492ea349e409c21c097e",
       "value": " 90/90 [00:02&lt;00:00, 43.06it/s, loss=0.44, acc=74.9]"
      }
     },
     "e577fd41f5354019baa2e11a14ad8890": {
      "model_module": "@jupyter-widgets/controls",
      "model_module_version": "2.0.0",
      "model_name": "HTMLStyleModel",
      "state": {
       "description_width": "",
       "font_size": null,
       "text_color": null
      }
     },
     "e57a91eb025b455b8efaf9c4847a564b": {
      "model_module": "@jupyter-widgets/base",
      "model_module_version": "2.0.0",
      "model_name": "LayoutModel",
      "state": {
       "flex": "2"
      }
     },
     "e5bd346816bb40c19c393708231568f1": {
      "model_module": "@jupyter-widgets/controls",
      "model_module_version": "2.0.0",
      "model_name": "FloatProgressModel",
      "state": {
       "layout": "IPY_MODEL_675d2b3d955a4f81baa0f57c46126961",
       "max": 90,
       "style": "IPY_MODEL_4f738f13496b4c8aaa50b7c9f0159462",
       "value": 90
      }
     },
     "e5ea1900cafd4718873eb4b944ed8951": {
      "model_module": "@jupyter-widgets/base",
      "model_module_version": "2.0.0",
      "model_name": "LayoutModel",
      "state": {}
     },
     "e5fbbd65cead42c594ead0b26bee0eb1": {
      "model_module": "@jupyter-widgets/controls",
      "model_module_version": "2.0.0",
      "model_name": "HTMLModel",
      "state": {
       "layout": "IPY_MODEL_78a291050d1740ae82b05d7d2abb1708",
       "style": "IPY_MODEL_ab65c4242a5c4e67a545157bdd83be19",
       "value": " 90/90 [00:02&lt;00:00, 43.36it/s, loss=0.288, acc=76.8]"
      }
     },
     "e62a9c81eb1a4cf5941a9b636a0d1ea4": {
      "model_module": "@jupyter-widgets/controls",
      "model_module_version": "2.0.0",
      "model_name": "HTMLStyleModel",
      "state": {
       "description_width": "",
       "font_size": null,
       "text_color": null
      }
     },
     "e660116aa29446748c7e7ff2c21db83d": {
      "model_module": "@jupyter-widgets/controls",
      "model_module_version": "2.0.0",
      "model_name": "FloatProgressModel",
      "state": {
       "bar_style": "success",
       "layout": "IPY_MODEL_48fbd0f7a1f044548255b7b2aa381c36",
       "max": 90,
       "style": "IPY_MODEL_1eec01a9befe41328690a830a714adab",
       "value": 90
      }
     },
     "e69e5a0ca4884ecebb8b7a412b22a697": {
      "model_module": "@jupyter-widgets/base",
      "model_module_version": "2.0.0",
      "model_name": "LayoutModel",
      "state": {
       "display": "inline-flex",
       "flex_flow": "row wrap",
       "width": "100%"
      }
     },
     "e6a71b60f1c146cbb0439f0b96377911": {
      "model_module": "@jupyter-widgets/controls",
      "model_module_version": "2.0.0",
      "model_name": "HTMLStyleModel",
      "state": {
       "description_width": "",
       "font_size": null,
       "text_color": null
      }
     },
     "e6b6bc234715412fb93b2cc6a17e66db": {
      "model_module": "@jupyter-widgets/controls",
      "model_module_version": "2.0.0",
      "model_name": "HTMLModel",
      "state": {
       "layout": "IPY_MODEL_d817c09cbc074668914b530965a31fdc",
       "style": "IPY_MODEL_40ec6a96cc5248e89f788be628e99a45",
       "value": " 90/90 [00:02&lt;00:00, 43.07it/s, loss=0.273, acc=81.2]"
      }
     },
     "e71405589bf74b2792540ecc4f38112e": {
      "model_module": "@jupyter-widgets/controls",
      "model_module_version": "2.0.0",
      "model_name": "FloatProgressModel",
      "state": {
       "layout": "IPY_MODEL_625db4989d334572a54562b3f9bb9ef5",
       "max": 90,
       "style": "IPY_MODEL_5d3c6210fc98455496bb84ade51eb180",
       "value": 90
      }
     },
     "e71c92016a254faa91483381994ab9f4": {
      "model_module": "@jupyter-widgets/controls",
      "model_module_version": "2.0.0",
      "model_name": "ProgressStyleModel",
      "state": {
       "description_width": ""
      }
     },
     "e8095818f9d644ccb18fb9a3baec320c": {
      "model_module": "@jupyter-widgets/base",
      "model_module_version": "2.0.0",
      "model_name": "LayoutModel",
      "state": {}
     },
     "e81eb444fb5843ec9b0daf1c9d2f81ac": {
      "model_module": "@jupyter-widgets/controls",
      "model_module_version": "2.0.0",
      "model_name": "HTMLModel",
      "state": {
       "layout": "IPY_MODEL_d9da83721aa94ec9898033a95ccee883",
       "style": "IPY_MODEL_4510809879824485920bc43bafc4e66b",
       "value": " 90/90 [00:02&lt;00:00, 43.25it/s, loss=0.334, acc=80.9]"
      }
     },
     "e82ea4e8e3bc4a6c8850f85f4d5e0126": {
      "model_module": "@jupyter-widgets/controls",
      "model_module_version": "2.0.0",
      "model_name": "HTMLStyleModel",
      "state": {
       "description_width": "",
       "font_size": null,
       "text_color": null
      }
     },
     "e853d85f538a4753ae391a4723bb8b3d": {
      "model_module": "@jupyter-widgets/base",
      "model_module_version": "2.0.0",
      "model_name": "LayoutModel",
      "state": {}
     },
     "e868b7abc5cc401e9adb60573a709b45": {
      "model_module": "@jupyter-widgets/controls",
      "model_module_version": "2.0.0",
      "model_name": "HTMLStyleModel",
      "state": {
       "description_width": "",
       "font_size": null,
       "text_color": null
      }
     },
     "e86d1132192b492bb7b4945e1d6221ea": {
      "model_module": "@jupyter-widgets/controls",
      "model_module_version": "2.0.0",
      "model_name": "ProgressStyleModel",
      "state": {
       "description_width": ""
      }
     },
     "e90175251490470ca5eff81d76245a7a": {
      "model_module": "@jupyter-widgets/base",
      "model_module_version": "2.0.0",
      "model_name": "LayoutModel",
      "state": {
       "display": "inline-flex",
       "flex_flow": "row wrap",
       "width": "100%"
      }
     },
     "e913dda52d6f49efbd56c7a8e8d3e0a6": {
      "model_module": "@jupyter-widgets/controls",
      "model_module_version": "2.0.0",
      "model_name": "FloatProgressModel",
      "state": {
       "layout": "IPY_MODEL_e1fdbf19bf4a4add960bbd35e8ba6028",
       "max": 90,
       "style": "IPY_MODEL_7122ae4be42d4f0f8c7b943948eddc68",
       "value": 90
      }
     },
     "e91b3ae6c83947b9b58f21a9c2b9cae6": {
      "model_module": "@jupyter-widgets/base",
      "model_module_version": "2.0.0",
      "model_name": "LayoutModel",
      "state": {}
     },
     "e96cc055dc5c488896a9e7c425e3d328": {
      "model_module": "@jupyter-widgets/base",
      "model_module_version": "2.0.0",
      "model_name": "LayoutModel",
      "state": {}
     },
     "e9a2f8b16d0f477787663979eada8f9a": {
      "model_module": "@jupyter-widgets/controls",
      "model_module_version": "2.0.0",
      "model_name": "HTMLModel",
      "state": {
       "layout": "IPY_MODEL_9ab4b1b5f6f04fafbb4b9fa17edc13c8",
       "style": "IPY_MODEL_e0676fe008104723ae032e651cd5236b",
       "value": " 90/90 [00:16&lt;00:00, 42.94it/s, loss=0.272, acc=80.6]"
      }
     },
     "e9b6eba6da3d49b491aefa177a90aff4": {
      "model_module": "@jupyter-widgets/base",
      "model_module_version": "2.0.0",
      "model_name": "LayoutModel",
      "state": {}
     },
     "ea05ff32d999426fa2d27ec0cbfaa39d": {
      "model_module": "@jupyter-widgets/base",
      "model_module_version": "2.0.0",
      "model_name": "LayoutModel",
      "state": {}
     },
     "ea27d88289ed429b9733277e74193d20": {
      "model_module": "@jupyter-widgets/base",
      "model_module_version": "2.0.0",
      "model_name": "LayoutModel",
      "state": {
       "display": "inline-flex",
       "flex_flow": "row wrap",
       "width": "100%"
      }
     },
     "ea2bc4f257a74ca7b0f8b8382308337e": {
      "model_module": "@jupyter-widgets/base",
      "model_module_version": "2.0.0",
      "model_name": "LayoutModel",
      "state": {
       "flex": "2"
      }
     },
     "ea4a9c93a0cf4ab8bcbab8d181cf598c": {
      "model_module": "@jupyter-widgets/controls",
      "model_module_version": "2.0.0",
      "model_name": "ProgressStyleModel",
      "state": {
       "description_width": ""
      }
     },
     "ea6482e227f54abd8248463779dc7ab6": {
      "model_module": "@jupyter-widgets/controls",
      "model_module_version": "2.0.0",
      "model_name": "FloatProgressModel",
      "state": {
       "layout": "IPY_MODEL_aa7e53f8b25047cabba62ca3c7358268",
       "max": 90,
       "style": "IPY_MODEL_3f72183390b5460295fb56f13ff6f7c3",
       "value": 90
      }
     },
     "eaa34cb68aa54627bf431e6d0392a86c": {
      "model_module": "@jupyter-widgets/base",
      "model_module_version": "2.0.0",
      "model_name": "LayoutModel",
      "state": {
       "display": "inline-flex",
       "flex_flow": "row wrap",
       "width": "100%"
      }
     },
     "eb2cd76a5ce04ad49420f7ef6d08c1d4": {
      "model_module": "@jupyter-widgets/base",
      "model_module_version": "2.0.0",
      "model_name": "LayoutModel",
      "state": {
       "display": "inline-flex",
       "flex_flow": "row wrap",
       "width": "100%"
      }
     },
     "eb3514080f964ea1b41ca716ac6db445": {
      "model_module": "@jupyter-widgets/controls",
      "model_module_version": "2.0.0",
      "model_name": "FloatProgressModel",
      "state": {
       "bar_style": "success",
       "layout": "IPY_MODEL_57eec740db4c453a833c0605a9a9884f",
       "max": 3580,
       "style": "IPY_MODEL_9354270471904d068ae9e9f944ad465f",
       "value": 3580
      }
     },
     "eb3dbf166f664b59bbb9b9193d10b1ca": {
      "model_module": "@jupyter-widgets/controls",
      "model_module_version": "2.0.0",
      "model_name": "HBoxModel",
      "state": {
       "children": [
        "IPY_MODEL_9616b4899e94456b8c0d456a7c0948d5",
        "IPY_MODEL_c1f6e8b355114b51bed21b5bc71ca97a",
        "IPY_MODEL_cbf7089547b4499bb7619f5c189f4f9c"
       ],
       "layout": "IPY_MODEL_9d0fb7ea9dc34cd7a2fe98094f5cd518"
      }
     },
     "eb6a3c44edbe4074a297948254cb7bd6": {
      "model_module": "@jupyter-widgets/controls",
      "model_module_version": "2.0.0",
      "model_name": "HTMLStyleModel",
      "state": {
       "description_width": "",
       "font_size": null,
       "text_color": null
      }
     },
     "ec4002c1b0a24c17ac93395a0f7ea08c": {
      "model_module": "@jupyter-widgets/controls",
      "model_module_version": "2.0.0",
      "model_name": "HTMLStyleModel",
      "state": {
       "description_width": "",
       "font_size": null,
       "text_color": null
      }
     },
     "ec63f9a05ae54eecb998bc434e2f4d1b": {
      "model_module": "@jupyter-widgets/base",
      "model_module_version": "2.0.0",
      "model_name": "LayoutModel",
      "state": {}
     },
     "ec9a63bfe5a04a3a90036d61bddc4527": {
      "model_module": "@jupyter-widgets/controls",
      "model_module_version": "2.0.0",
      "model_name": "HTMLStyleModel",
      "state": {
       "description_width": "",
       "font_size": null,
       "text_color": null
      }
     },
     "ecbe448141574e6fbcc15c3bd2b43435": {
      "model_module": "@jupyter-widgets/base",
      "model_module_version": "2.0.0",
      "model_name": "LayoutModel",
      "state": {
       "flex": "2"
      }
     },
     "ed3a0b34c31f485aa9b8f167518750f1": {
      "model_module": "@jupyter-widgets/base",
      "model_module_version": "2.0.0",
      "model_name": "LayoutModel",
      "state": {}
     },
     "ed48e0d6366a4571adec0d167ea7baa5": {
      "model_module": "@jupyter-widgets/controls",
      "model_module_version": "2.0.0",
      "model_name": "ProgressStyleModel",
      "state": {
       "description_width": ""
      }
     },
     "ed4e005aee1b4f6ab7493d4018dd810c": {
      "model_module": "@jupyter-widgets/base",
      "model_module_version": "2.0.0",
      "model_name": "LayoutModel",
      "state": {
       "flex": "2"
      }
     },
     "eda2f2363e5e404e85130cc99a833173": {
      "model_module": "@jupyter-widgets/base",
      "model_module_version": "2.0.0",
      "model_name": "LayoutModel",
      "state": {}
     },
     "edd162fdec7c4834908f73dcbd0d04c7": {
      "model_module": "@jupyter-widgets/base",
      "model_module_version": "2.0.0",
      "model_name": "LayoutModel",
      "state": {
       "display": "inline-flex",
       "flex_flow": "row wrap",
       "width": "100%"
      }
     },
     "eddbf7e2dc614459aacfbd76400d89a3": {
      "model_module": "@jupyter-widgets/base",
      "model_module_version": "2.0.0",
      "model_name": "LayoutModel",
      "state": {}
     },
     "ede6a8576cfe4ff880942a6d47d85002": {
      "model_module": "@jupyter-widgets/base",
      "model_module_version": "2.0.0",
      "model_name": "LayoutModel",
      "state": {}
     },
     "ee0bd44828f54cf9b957c060f9f3ae2f": {
      "model_module": "@jupyter-widgets/base",
      "model_module_version": "2.0.0",
      "model_name": "LayoutModel",
      "state": {
       "flex": "2"
      }
     },
     "ee2fe5d373f84c2998b32f88536ea068": {
      "model_module": "@jupyter-widgets/controls",
      "model_module_version": "2.0.0",
      "model_name": "HTMLStyleModel",
      "state": {
       "description_width": "",
       "font_size": null,
       "text_color": null
      }
     },
     "ee6c746e0390414390554b0ff9dc0fec": {
      "model_module": "@jupyter-widgets/controls",
      "model_module_version": "2.0.0",
      "model_name": "HTMLStyleModel",
      "state": {
       "description_width": "",
       "font_size": null,
       "text_color": null
      }
     },
     "ef0feb9223a14c3597e77dc6fd1902a8": {
      "model_module": "@jupyter-widgets/controls",
      "model_module_version": "2.0.0",
      "model_name": "HTMLStyleModel",
      "state": {
       "description_width": "",
       "font_size": null,
       "text_color": null
      }
     },
     "ef9eea40599b451aa9ae1699a43f8ec1": {
      "model_module": "@jupyter-widgets/controls",
      "model_module_version": "2.0.0",
      "model_name": "FloatProgressModel",
      "state": {
       "layout": "IPY_MODEL_0225cbf00fbb4022a119f2e7193bad1b",
       "max": 90,
       "style": "IPY_MODEL_72d64ce0aeed4c7ea24851d0a88d2790",
       "value": 90
      }
     },
     "efca7dfc9fc44570ba969504d14f0aef": {
      "model_module": "@jupyter-widgets/controls",
      "model_module_version": "2.0.0",
      "model_name": "ProgressStyleModel",
      "state": {
       "description_width": ""
      }
     },
     "efe3269c5cb94d52b05dffa1a4ded327": {
      "model_module": "@jupyter-widgets/controls",
      "model_module_version": "2.0.0",
      "model_name": "HTMLStyleModel",
      "state": {
       "description_width": "",
       "font_size": null,
       "text_color": null
      }
     },
     "f0e4b5eba65e4a109f1ec7fa695a7b20": {
      "model_module": "@jupyter-widgets/controls",
      "model_module_version": "2.0.0",
      "model_name": "HTMLModel",
      "state": {
       "layout": "IPY_MODEL_23018d6fd2d948a38aa1b98ef1496ec5",
       "style": "IPY_MODEL_28ff5da59c9a4df08857104913c2f503",
       "value": " 90/90 [06:36&lt;00:00, 43.33it/s, loss=0.293, acc=75.8]"
      }
     },
     "f115a56197d04f83a200f381a9bb3aa2": {
      "model_module": "@jupyter-widgets/controls",
      "model_module_version": "2.0.0",
      "model_name": "FloatProgressModel",
      "state": {
       "layout": "IPY_MODEL_dd35f94d776c402c8a8fc007310ddfc1",
       "max": 90,
       "style": "IPY_MODEL_7b7111d54f9d425da64a324f0aa0a704",
       "value": 90
      }
     },
     "f121dcbb1639429ba36dbbd91932928e": {
      "model_module": "@jupyter-widgets/base",
      "model_module_version": "2.0.0",
      "model_name": "LayoutModel",
      "state": {}
     },
     "f153412a46134f3c8292c391b882b778": {
      "model_module": "@jupyter-widgets/controls",
      "model_module_version": "2.0.0",
      "model_name": "HTMLModel",
      "state": {
       "layout": "IPY_MODEL_377ef0f0127e450c98c6e388a55591ec",
       "style": "IPY_MODEL_f4a7a188d94447c087501403a8b86cc4",
       "value": " 90/90 [00:15&lt;00:00, 43.04it/s, loss=0.277, acc=78.7]"
      }
     },
     "f17035be66864e919c2173a587a1f585": {
      "model_module": "@jupyter-widgets/controls",
      "model_module_version": "2.0.0",
      "model_name": "HTMLModel",
      "state": {
       "layout": "IPY_MODEL_62bfc6fe6803403db0a2c8b55507fba5",
       "style": "IPY_MODEL_23d2f5b81e644c2698aec465e6495c8f",
       "value": "Fold: 4  Epoch: 10/10: 100%"
      }
     },
     "f1711578f71b4d8ebe6567d79aa8a1aa": {
      "model_module": "@jupyter-widgets/base",
      "model_module_version": "2.0.0",
      "model_name": "LayoutModel",
      "state": {
       "display": "inline-flex",
       "flex_flow": "row wrap",
       "width": "100%"
      }
     },
     "f19cfa7519bb456dbdfd3dcd302c2131": {
      "model_module": "@jupyter-widgets/base",
      "model_module_version": "2.0.0",
      "model_name": "LayoutModel",
      "state": {
       "flex": "2"
      }
     },
     "f1f0eea8fd3e4591b59fb71b5078e920": {
      "model_module": "@jupyter-widgets/base",
      "model_module_version": "2.0.0",
      "model_name": "LayoutModel",
      "state": {}
     },
     "f239fe5321a04e6dbd1d95f2cf6dc8f1": {
      "model_module": "@jupyter-widgets/controls",
      "model_module_version": "2.0.0",
      "model_name": "HTMLModel",
      "state": {
       "layout": "IPY_MODEL_e0f2f8a54db7406394171c42d3750c48",
       "style": "IPY_MODEL_bc5e3cb570404b89948378c18e94c68c",
       "value": "Validating: 100%"
      }
     },
     "f2438ab859e241af9a89e6e297a0529b": {
      "model_module": "@jupyter-widgets/controls",
      "model_module_version": "2.0.0",
      "model_name": "HTMLStyleModel",
      "state": {
       "description_width": "",
       "font_size": null,
       "text_color": null
      }
     },
     "f2ab15d5038e45f6bae8beaa9b870375": {
      "model_module": "@jupyter-widgets/controls",
      "model_module_version": "2.0.0",
      "model_name": "HTMLModel",
      "state": {
       "layout": "IPY_MODEL_66e3eb7244474c61b237033fa381bded",
       "style": "IPY_MODEL_ef0feb9223a14c3597e77dc6fd1902a8",
       "value": " 90/90 [00:02&lt;00:00, 39.67it/s, loss=0.34, acc=80.3]"
      }
     },
     "f39ca3729eea4f7c9c9a691a527ac1e9": {
      "model_module": "@jupyter-widgets/base",
      "model_module_version": "2.0.0",
      "model_name": "LayoutModel",
      "state": {
       "display": "inline-flex",
       "flex_flow": "row wrap",
       "width": "100%"
      }
     },
     "f3bec5ac707f4c01b9b0182addaec378": {
      "model_module": "@jupyter-widgets/base",
      "model_module_version": "2.0.0",
      "model_name": "LayoutModel",
      "state": {}
     },
     "f3fa11d3e8e94765938137238194d972": {
      "model_module": "@jupyter-widgets/controls",
      "model_module_version": "2.0.0",
      "model_name": "HTMLModel",
      "state": {
       "layout": "IPY_MODEL_1092d932c5f24800a242fef604f01f66",
       "style": "IPY_MODEL_da2606e722e14430bdadbf4496179ecc",
       "value": " 90/90 [00:05&lt;00:00, 18.51it/s]"
      }
     },
     "f41781c4b5ef43e7ade6126b5ef3b274": {
      "model_module": "@jupyter-widgets/base",
      "model_module_version": "2.0.0",
      "model_name": "LayoutModel",
      "state": {}
     },
     "f418e7378b7b4a7da282301990462581": {
      "model_module": "@jupyter-widgets/controls",
      "model_module_version": "2.0.0",
      "model_name": "HTMLStyleModel",
      "state": {
       "description_width": "",
       "font_size": null,
       "text_color": null
      }
     },
     "f421e8f5461f4b19b6325afb9585b306": {
      "model_module": "@jupyter-widgets/base",
      "model_module_version": "2.0.0",
      "model_name": "LayoutModel",
      "state": {}
     },
     "f4355f3528df435594c4a2f70cf81368": {
      "model_module": "@jupyter-widgets/controls",
      "model_module_version": "2.0.0",
      "model_name": "FloatProgressModel",
      "state": {
       "bar_style": "danger",
       "layout": "IPY_MODEL_37fe4a45233a47168109d60690458ed5",
       "max": 3580,
       "style": "IPY_MODEL_f8a373eeb36447f3973a20a3cd86857c"
      }
     },
     "f493aec229544df0a1e9eb3a0fc7cf15": {
      "model_module": "@jupyter-widgets/controls",
      "model_module_version": "2.0.0",
      "model_name": "HTMLStyleModel",
      "state": {
       "description_width": "",
       "font_size": null,
       "text_color": null
      }
     },
     "f4993ed3a823432a8b41bb5a37f8e619": {
      "model_module": "@jupyter-widgets/controls",
      "model_module_version": "2.0.0",
      "model_name": "HTMLStyleModel",
      "state": {
       "description_width": "",
       "font_size": null,
       "text_color": null
      }
     },
     "f4a7a188d94447c087501403a8b86cc4": {
      "model_module": "@jupyter-widgets/controls",
      "model_module_version": "2.0.0",
      "model_name": "HTMLStyleModel",
      "state": {
       "description_width": "",
       "font_size": null,
       "text_color": null
      }
     },
     "f4c77845707b4a7cad87484fc73f0576": {
      "model_module": "@jupyter-widgets/controls",
      "model_module_version": "2.0.0",
      "model_name": "HTMLModel",
      "state": {
       "layout": "IPY_MODEL_7e77048092794c78a1bc84659f711d4a",
       "style": "IPY_MODEL_6fa04ddd2da040c68bfc1c9b15fea904",
       "value": "Validating: 100%"
      }
     },
     "f4eaf620842446518585cd4da24f46e0": {
      "model_module": "@jupyter-widgets/base",
      "model_module_version": "2.0.0",
      "model_name": "LayoutModel",
      "state": {}
     },
     "f50bc876e41147b580138c6dbeb9cb55": {
      "model_module": "@jupyter-widgets/base",
      "model_module_version": "2.0.0",
      "model_name": "LayoutModel",
      "state": {}
     },
     "f52673b96edc430ea52e548b29e854f4": {
      "model_module": "@jupyter-widgets/controls",
      "model_module_version": "2.0.0",
      "model_name": "ProgressStyleModel",
      "state": {
       "description_width": ""
      }
     },
     "f543865b6a47435e8cb63c7f81417f5c": {
      "model_module": "@jupyter-widgets/controls",
      "model_module_version": "2.0.0",
      "model_name": "FloatProgressModel",
      "state": {
       "layout": "IPY_MODEL_20cafce0dda54712b0a7f36c90cf3e40",
       "max": 90,
       "style": "IPY_MODEL_1410079e9fe14779ad909d0e3b628410",
       "value": 90
      }
     },
     "f5830efa619a4e01b49bb3c34928fe56": {
      "model_module": "@jupyter-widgets/controls",
      "model_module_version": "2.0.0",
      "model_name": "HBoxModel",
      "state": {
       "children": [
        "IPY_MODEL_f17035be66864e919c2173a587a1f585",
        "IPY_MODEL_a1075db435364406974e35c6224341e9",
        "IPY_MODEL_8f5eeb3dd433402eb2f5156bfbfa4e7c"
       ],
       "layout": "IPY_MODEL_b6e359fe0a4a410a9843deb4746d2377"
      }
     },
     "f58e56c537d041c9aeb315efc1015e24": {
      "model_module": "@jupyter-widgets/controls",
      "model_module_version": "2.0.0",
      "model_name": "HTMLStyleModel",
      "state": {
       "description_width": "",
       "font_size": null,
       "text_color": null
      }
     },
     "f5b886bb09964d769c7ba960a416e84f": {
      "model_module": "@jupyter-widgets/controls",
      "model_module_version": "2.0.0",
      "model_name": "FloatProgressModel",
      "state": {
       "layout": "IPY_MODEL_c6ef206856534e94ba7d35e029b44496",
       "max": 90,
       "style": "IPY_MODEL_3f7f4b64a59e4e5a9f742594609471ed",
       "value": 90
      }
     },
     "f6520edc1ab147798f51d7a21bee91eb": {
      "model_module": "@jupyter-widgets/base",
      "model_module_version": "2.0.0",
      "model_name": "LayoutModel",
      "state": {
       "flex": "2"
      }
     },
     "f677d18f07294473a4266e7753ec43fd": {
      "model_module": "@jupyter-widgets/controls",
      "model_module_version": "2.0.0",
      "model_name": "FloatProgressModel",
      "state": {
       "layout": "IPY_MODEL_8aea002d8f9d4dd9aa3c41ddd4bcbdb0",
       "max": 90,
       "style": "IPY_MODEL_5b286b3657d743c98e33cb8acd0872bf",
       "value": 90
      }
     },
     "f67a63f1ee3341b5aabb4dc3ebe5b96a": {
      "model_module": "@jupyter-widgets/controls",
      "model_module_version": "2.0.0",
      "model_name": "HTMLModel",
      "state": {
       "layout": "IPY_MODEL_107238d7f8c5426c9490be86cfbef0f8",
       "style": "IPY_MODEL_4770eb1bc27f4fd8a9f1fc67a95cb271",
       "value": " 90/90 [00:02&lt;00:00, 43.52it/s, loss=0.608, acc=66.3]"
      }
     },
     "f6a71df025e344af9ed12c5045ba6d3b": {
      "model_module": "@jupyter-widgets/base",
      "model_module_version": "2.0.0",
      "model_name": "LayoutModel",
      "state": {}
     },
     "f6c49b0440194edf977fb6bc26e5251b": {
      "model_module": "@jupyter-widgets/base",
      "model_module_version": "2.0.0",
      "model_name": "LayoutModel",
      "state": {
       "flex": "2"
      }
     },
     "f7088c986b664caf82ee7e30d5d8d1ff": {
      "model_module": "@jupyter-widgets/controls",
      "model_module_version": "2.0.0",
      "model_name": "HTMLModel",
      "state": {
       "layout": "IPY_MODEL_086c44a41dbb4859bb9e58b72f372019",
       "style": "IPY_MODEL_99204131c53e4baaaa6a1dea135715f3",
       "value": "Validating: 100%"
      }
     },
     "f74b78acea9a4c2cb556db4c20aefa96": {
      "model_module": "@jupyter-widgets/base",
      "model_module_version": "2.0.0",
      "model_name": "LayoutModel",
      "state": {}
     },
     "f780e3b9efe246658032bd689601b55b": {
      "model_module": "@jupyter-widgets/controls",
      "model_module_version": "2.0.0",
      "model_name": "ProgressStyleModel",
      "state": {
       "description_width": ""
      }
     },
     "f79545621f05466c9a11f5d5c7d64e98": {
      "model_module": "@jupyter-widgets/controls",
      "model_module_version": "2.0.0",
      "model_name": "FloatProgressModel",
      "state": {
       "layout": "IPY_MODEL_936533765aa446ee9680c8eda08d1d55",
       "max": 90,
       "style": "IPY_MODEL_0cc24313ca5044b5b99aeacbde7562a1",
       "value": 90
      }
     },
     "f7a614b0cafe46669485ba31d98a10da": {
      "model_module": "@jupyter-widgets/base",
      "model_module_version": "2.0.0",
      "model_name": "LayoutModel",
      "state": {}
     },
     "f7cb685c3ec7451f90444f563e740ce3": {
      "model_module": "@jupyter-widgets/base",
      "model_module_version": "2.0.0",
      "model_name": "LayoutModel",
      "state": {
       "display": "inline-flex",
       "flex_flow": "row wrap",
       "width": "100%"
      }
     },
     "f84cb1c510734370a7217bf63c09b5e4": {
      "model_module": "@jupyter-widgets/controls",
      "model_module_version": "2.0.0",
      "model_name": "FloatProgressModel",
      "state": {
       "layout": "IPY_MODEL_8793bd0a0f5143759336427f074f6ab2",
       "max": 90,
       "style": "IPY_MODEL_706771d045ef47e1b7ca7561da716162",
       "value": 90
      }
     },
     "f87a6c6d901f49e1a379ebc7ceb34af8": {
      "model_module": "@jupyter-widgets/controls",
      "model_module_version": "2.0.0",
      "model_name": "ProgressStyleModel",
      "state": {
       "description_width": ""
      }
     },
     "f8904c4647fa41d192470bdf9a2f88bf": {
      "model_module": "@jupyter-widgets/controls",
      "model_module_version": "2.0.0",
      "model_name": "ProgressStyleModel",
      "state": {
       "description_width": ""
      }
     },
     "f89570b1ba1b49b795dc6aca4a7072cc": {
      "model_module": "@jupyter-widgets/controls",
      "model_module_version": "2.0.0",
      "model_name": "FloatProgressModel",
      "state": {
       "layout": "IPY_MODEL_7827d2eeb9a349fbbd3acbf97b30abed",
       "max": 90,
       "style": "IPY_MODEL_7d6144811db34c028640069248513e7d",
       "value": 90
      }
     },
     "f8a373eeb36447f3973a20a3cd86857c": {
      "model_module": "@jupyter-widgets/controls",
      "model_module_version": "2.0.0",
      "model_name": "ProgressStyleModel",
      "state": {
       "description_width": ""
      }
     },
     "f8bb2327d5ec474faf3567bc2217a9e1": {
      "model_module": "@jupyter-widgets/controls",
      "model_module_version": "2.0.0",
      "model_name": "HTMLStyleModel",
      "state": {
       "description_width": "",
       "font_size": null,
       "text_color": null
      }
     },
     "f8bee661f8ff4cdb8c4cbccf63d17136": {
      "model_module": "@jupyter-widgets/base",
      "model_module_version": "2.0.0",
      "model_name": "LayoutModel",
      "state": {}
     },
     "f93c8ac2f8724c5b9473dac7b888b1c9": {
      "model_module": "@jupyter-widgets/controls",
      "model_module_version": "2.0.0",
      "model_name": "HTMLModel",
      "state": {
       "layout": "IPY_MODEL_9918cbd305e447668b7e75e7b63f0733",
       "style": "IPY_MODEL_d900850238a844cca9cc28508681d652",
       "value": " 90/90 [00:02&lt;00:00, 40.15it/s, loss=0.605, acc=65.6]"
      }
     },
     "f93db7ad5c0f491f88a15af73bce15da": {
      "model_module": "@jupyter-widgets/base",
      "model_module_version": "2.0.0",
      "model_name": "LayoutModel",
      "state": {}
     },
     "f98511d68f234885b773436dd61d17ea": {
      "model_module": "@jupyter-widgets/controls",
      "model_module_version": "2.0.0",
      "model_name": "HTMLStyleModel",
      "state": {
       "description_width": "",
       "font_size": null,
       "text_color": null
      }
     },
     "f9a04bc0c4b14b28abef730bfb27954b": {
      "model_module": "@jupyter-widgets/controls",
      "model_module_version": "2.0.0",
      "model_name": "HTMLStyleModel",
      "state": {
       "description_width": "",
       "font_size": null,
       "text_color": null
      }
     },
     "f9b0821c0b3b46ce9822c7718c938044": {
      "model_module": "@jupyter-widgets/controls",
      "model_module_version": "2.0.0",
      "model_name": "HTMLStyleModel",
      "state": {
       "description_width": "",
       "font_size": null,
       "text_color": null
      }
     },
     "f9cd69e5746e4c96afa715a4eb659ef6": {
      "model_module": "@jupyter-widgets/controls",
      "model_module_version": "2.0.0",
      "model_name": "FloatProgressModel",
      "state": {
       "layout": "IPY_MODEL_a42b7cf54ebd4d0398a84ae9601fd9e4",
       "max": 90,
       "style": "IPY_MODEL_431ed63c6e4b4306a78aabb9aa5abaa6",
       "value": 90
      }
     },
     "f9f13f9e08f841558603a18b183fe2b7": {
      "model_module": "@jupyter-widgets/controls",
      "model_module_version": "2.0.0",
      "model_name": "HTMLModel",
      "state": {
       "layout": "IPY_MODEL_c2a630dee1974fa69ac7386876956f79",
       "style": "IPY_MODEL_6321c200c5564c1a9f2c3ab767930a2c",
       "value": " 90/90 [00:02&lt;00:00, 43.33it/s, loss=0.367, acc=79.4]"
      }
     },
     "f9f48cad008944fa9085a6a0a482db63": {
      "model_module": "@jupyter-widgets/base",
      "model_module_version": "2.0.0",
      "model_name": "LayoutModel",
      "state": {
       "flex": "2"
      }
     },
     "fa1e4e46f39f403087c6d87f58d0aaaa": {
      "model_module": "@jupyter-widgets/controls",
      "model_module_version": "2.0.0",
      "model_name": "FloatProgressModel",
      "state": {
       "layout": "IPY_MODEL_b9f5155f6b404922a6887e9e0d30d477",
       "max": 90,
       "style": "IPY_MODEL_80eadedf5c084056b3aaf814d15f742d",
       "value": 90
      }
     },
     "faa2240697b94d44951444b56f3dafa6": {
      "model_module": "@jupyter-widgets/base",
      "model_module_version": "2.0.0",
      "model_name": "LayoutModel",
      "state": {
       "flex": "2"
      }
     },
     "fb0b4f08d8324e46a5f37dc76a9937b6": {
      "model_module": "@jupyter-widgets/base",
      "model_module_version": "2.0.0",
      "model_name": "LayoutModel",
      "state": {
       "flex": "2"
      }
     },
     "fb2d708372ed4cfdadb46b3025574013": {
      "model_module": "@jupyter-widgets/controls",
      "model_module_version": "2.0.0",
      "model_name": "HTMLStyleModel",
      "state": {
       "description_width": "",
       "font_size": null,
       "text_color": null
      }
     },
     "fb50d17bde444051a6f681e66b87fe40": {
      "model_module": "@jupyter-widgets/controls",
      "model_module_version": "2.0.0",
      "model_name": "FloatProgressModel",
      "state": {
       "layout": "IPY_MODEL_ecbe448141574e6fbcc15c3bd2b43435",
       "max": 90,
       "style": "IPY_MODEL_6f1f7578e91e4fa081818b86de928a42",
       "value": 90
      }
     },
     "fb6352b274e04d799695401dc1d707d0": {
      "model_module": "@jupyter-widgets/controls",
      "model_module_version": "2.0.0",
      "model_name": "HTMLModel",
      "state": {
       "layout": "IPY_MODEL_6bd04682c1454570aa5ad2ca24bdbdbb",
       "style": "IPY_MODEL_f58e56c537d041c9aeb315efc1015e24",
       "value": "Validating: 100%"
      }
     },
     "fb6a2f5d643c49bc8b2a53ec17d04162": {
      "model_module": "@jupyter-widgets/controls",
      "model_module_version": "2.0.0",
      "model_name": "FloatProgressModel",
      "state": {
       "layout": "IPY_MODEL_76593348e64c486fac609dcbbf18d0e3",
       "max": 90,
       "style": "IPY_MODEL_efca7dfc9fc44570ba969504d14f0aef",
       "value": 90
      }
     },
     "fbe53743f7584bf7be4f0dd15a3ab819": {
      "model_module": "@jupyter-widgets/base",
      "model_module_version": "2.0.0",
      "model_name": "LayoutModel",
      "state": {}
     },
     "fc57b21dbf704bda91898bee937eb284": {
      "model_module": "@jupyter-widgets/controls",
      "model_module_version": "2.0.0",
      "model_name": "HTMLModel",
      "state": {
       "layout": "IPY_MODEL_bb0db4c0ec1644b19f05f9857ad7f458",
       "style": "IPY_MODEL_d34e5ab815cb4e439bcd39fd6675d35d",
       "value": "Predicting: 100%"
      }
     },
     "fc63c9cb8d3b46e6ac1204b6308c3534": {
      "model_module": "@jupyter-widgets/controls",
      "model_module_version": "2.0.0",
      "model_name": "ProgressStyleModel",
      "state": {
       "description_width": ""
      }
     },
     "fcaaf25b179f40e6abc2b7ce43f210fe": {
      "model_module": "@jupyter-widgets/controls",
      "model_module_version": "2.0.0",
      "model_name": "HBoxModel",
      "state": {
       "children": [
        "IPY_MODEL_092a587da5124f9ebb68774eab4ca129",
        "IPY_MODEL_80151812505548bab6b3799e116bcb97",
        "IPY_MODEL_453a3e640162416aa10a6da461981989"
       ],
       "layout": "IPY_MODEL_851c86525d16442391e21967e21b3fcd"
      }
     },
     "fcebed92f0b64936be1129df0eaef797": {
      "model_module": "@jupyter-widgets/controls",
      "model_module_version": "2.0.0",
      "model_name": "HTMLModel",
      "state": {
       "layout": "IPY_MODEL_4a7c3bec52cd47c0a88679821e2b6bc6",
       "style": "IPY_MODEL_52197084a4f04dac9c444e325dc5fbd0",
       "value": " 90/90 [00:03&lt;00:00, 39.96it/s, loss=0.274, acc=79.4]"
      }
     },
     "fdcc4bd7b8404b9e8a8cc5b5712d66c2": {
      "model_module": "@jupyter-widgets/base",
      "model_module_version": "2.0.0",
      "model_name": "LayoutModel",
      "state": {
       "display": "inline-flex",
       "flex_flow": "row wrap",
       "width": "100%"
      }
     },
     "fdd9831607324b0bb9abc6f454697f9f": {
      "model_module": "@jupyter-widgets/controls",
      "model_module_version": "2.0.0",
      "model_name": "ProgressStyleModel",
      "state": {
       "description_width": ""
      }
     },
     "fe4bb155cc7c4a2d98e626e1b3633ac5": {
      "model_module": "@jupyter-widgets/base",
      "model_module_version": "2.0.0",
      "model_name": "LayoutModel",
      "state": {
       "flex": "2"
      }
     },
     "fe925e9f549f471aa884e4bdc7ef148a": {
      "model_module": "@jupyter-widgets/controls",
      "model_module_version": "2.0.0",
      "model_name": "HTMLStyleModel",
      "state": {
       "description_width": "",
       "font_size": null,
       "text_color": null
      }
     },
     "ff0c36c963b345e99320d17decf55644": {
      "model_module": "@jupyter-widgets/controls",
      "model_module_version": "2.0.0",
      "model_name": "HTMLModel",
      "state": {
       "layout": "IPY_MODEL_629e7af62da94049b50562f84648b933",
       "style": "IPY_MODEL_ffd4774e51e64c4ea0439e60de2bf9c1",
       "value": "Validating: 100%"
      }
     },
     "ffb4ca62c1b04d16965bc695a3e2e046": {
      "model_module": "@jupyter-widgets/controls",
      "model_module_version": "2.0.0",
      "model_name": "HTMLStyleModel",
      "state": {
       "description_width": "",
       "font_size": null,
       "text_color": null
      }
     },
     "ffd12dba6e1b4187a3d91ce16205742a": {
      "model_module": "@jupyter-widgets/base",
      "model_module_version": "2.0.0",
      "model_name": "LayoutModel",
      "state": {
       "display": "inline-flex",
       "flex_flow": "row wrap",
       "width": "100%"
      }
     },
     "ffd4774e51e64c4ea0439e60de2bf9c1": {
      "model_module": "@jupyter-widgets/controls",
      "model_module_version": "2.0.0",
      "model_name": "HTMLStyleModel",
      "state": {
       "description_width": "",
       "font_size": null,
       "text_color": null
      }
     },
     "ffd98a04c2d94806b7b4f920692a31cc": {
      "model_module": "@jupyter-widgets/base",
      "model_module_version": "2.0.0",
      "model_name": "LayoutModel",
      "state": {}
     },
     "ffde74ebfb34440f8c9f1af9bf26d8d5": {
      "model_module": "@jupyter-widgets/base",
      "model_module_version": "2.0.0",
      "model_name": "LayoutModel",
      "state": {
       "flex": "2"
      }
     }
    },
    "version_major": 2,
    "version_minor": 0
   }
  }
 },
 "nbformat": 4,
 "nbformat_minor": 5
}
