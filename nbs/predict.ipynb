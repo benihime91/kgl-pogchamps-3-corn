{
 "cells": [
  {
   "cell_type": "code",
   "execution_count": null,
   "id": "fbdbf127-8a42-48a3-84f8-b32028008c3a",
   "metadata": {},
   "outputs": [],
   "source": []
  }
 ],
 "metadata": {
  "kernelspec": {
   "display_name": "",
   "name": ""
  },
  "language_info": {
   "name": ""
  },
  "widgets": {
   "application/vnd.jupyter.widget-state+json": {
    "state": {},
    "version_major": 2,
    "version_minor": 0
   }
  }
 },
 "nbformat": 4,
 "nbformat_minor": 5
}
